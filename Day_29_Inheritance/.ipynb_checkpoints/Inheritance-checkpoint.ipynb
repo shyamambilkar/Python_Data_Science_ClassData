{
 "cells": [
  {
   "cell_type": "markdown",
   "metadata": {},
   "source": [
    "# Inheritance\n",
    "Inheritance is the capability of one class to derive or inherit the properties or method from another class\n",
    "\n",
    "The New Class called as (Derived or Child) class and one from inherit is called as (Parent Class or Base Class)\n",
    "\n",
    "There are two terms in Inheritance:\n",
    "\n",
    "Parent Class: Base Class\n",
    "Child Class: Derived Class\n",
    "It represents real world problem relationship well\n",
    "\n",
    "It Provides reusability of code\n",
    "\n",
    "It allows us to add more feature without modifying it\n",
    "\n",
    "it transitive in Nature, which means that:\n",
    "\n",
    "if Class B inherits from another class A. then all the subclasses as B would automatically inherit class A\n",
    "There are different types of Inheritance:\n",
    "\n",
    "1. Single Inheritance\n",
    "2. Multiple Inheritance\n",
    "3. Multilevel Inheritance\n",
    "4. Hirarchical Inheritance\n",
    "5. Hybrid Inheritance"
   ]
  },
  {
   "cell_type": "markdown",
   "metadata": {},
   "source": [
    "# 1. Multilevel Inheritance"
   ]
  },
  {
   "cell_type": "markdown",
   "metadata": {},
   "source": [
    "1. Multilevel inheritance is archived when a derived class inherits from another derived class\n",
    "2. There is no limit on the numbers of levels up \n",
    "3. Example"
   ]
  },
  {
   "cell_type": "markdown",
   "metadata": {},
   "source": [
    "![](https://javatutoring.com/wp-content/uploads/2018/10/multilevel-inheritance-in-Java.jpg)"
   ]
  },
  {
   "cell_type": "raw",
   "metadata": {},
   "source": [
    "Syntax:\n",
    "    class class1:\n",
    "        statement\n",
    "    class class2(class1):\n",
    "        statement\n",
    "    class class3(class2):\n",
    "        statement\n",
    "    class class_N(class3):\n",
    "        statement"
   ]
  },
  {
   "cell_type": "code",
   "execution_count": 2,
   "metadata": {},
   "outputs": [
    {
     "name": "stdout",
     "output_type": "stream",
     "text": [
      "Dog Barking\n",
      "Animal Speaking\n",
      "Eating Food...\n"
     ]
    }
   ],
   "source": [
    "class Animal:\n",
    "    def Speak(self):\n",
    "        print(\"Animal Speaking\")\n",
    "    \n",
    "# The child class Dog inherits from base class Animal\n",
    "class Dog(Animal):\n",
    "    def bark(self):\n",
    "        print(\"Dog Barking\")\n",
    "        \n",
    "class DogChild(Dog):\n",
    "    def eat(self):\n",
    "        print(\"Eating Food...\")\n",
    "        \n",
    "d = DogChild()\n",
    "d.bark()\n",
    "d.Speak()\n",
    "d.eat()"
   ]
  },
  {
   "cell_type": "code",
   "execution_count": 8,
   "metadata": {},
   "outputs": [
    {
     "name": "stdout",
     "output_type": "stream",
     "text": [
      "This is our Family:\n",
      "Father:   Rahul\n",
      "Mother:  Kokila\n"
     ]
    }
   ],
   "source": [
    "class Family:\n",
    "    def show_family(self):\n",
    "        print(\"This is our Family:\")\n",
    "        \n",
    "# Father class inherits from Family Class\n",
    "class Father(Family):\n",
    "    father_name = \"\"\n",
    "    def show_father(self):\n",
    "        print(self.father_name)\n",
    "        \n",
    "# Mother class inherits from Family\n",
    "class Mother(Father):\n",
    "    mother_name = \" \"\n",
    "    def show_mother(self):\n",
    "        print(self.mother_name)\n",
    "        \n",
    "# Son Class inherited from Father and Mother\n",
    "class son(Mother):\n",
    "    def show_parent(self):\n",
    "        print(\"Father: \",self.father_name)\n",
    "        print(\"Mother: \", self.mother_name)\n",
    "        \n",
    "        \n",
    "f1 = son()\n",
    "f1.father_name = \" Rahul\"\n",
    "f1.mother_name = \"Kokila\"\n",
    "f1.show_family()\n",
    "f1.show_parent()\n",
    "        \n",
    "        \n",
    "        "
   ]
  },
  {
   "cell_type": "code",
   "execution_count": 9,
   "metadata": {},
   "outputs": [
    {
     "name": "stdout",
     "output_type": "stream",
     "text": [
      "This is our Family:\n",
      "Father:   Rahul\n",
      "Mother:  Kokila\n"
     ]
    }
   ],
   "source": [
    "class Family:\n",
    "    def show_family(self):\n",
    "        print(\"This is our Family:\")\n",
    "        \n",
    "# Father class inherits from Family Class\n",
    "class Father(Family):\n",
    "    father_name = \"\"\n",
    "    def show_father(self):\n",
    "        print(self.father_name)\n",
    "        \n",
    "# Mother class inherits from Family\n",
    "class Mother(Family):\n",
    "    mother_name = \" \"\n",
    "    def show_mother(self):\n",
    "        print(self.mother_name)\n",
    "        \n",
    "# Son Class inherited from Father and Mother\n",
    "class son(Mother, Father):\n",
    "    def show_parent(self):\n",
    "        print(\"Father: \",self.father_name)\n",
    "        print(\"Mother: \", self.mother_name)\n",
    "        \n",
    "        \n",
    "f1 = son()\n",
    "f1.father_name = \" Rahul\"\n",
    "f1.mother_name = \"Kokila\"\n",
    "f1.show_family()\n",
    "f1.show_parent()\n",
    "        \n",
    "        \n",
    "        "
   ]
  },
  {
   "cell_type": "code",
   "execution_count": 10,
   "metadata": {},
   "outputs": [],
   "source": [
    "# <!-- ![](https://www.learnpick.in/userfiles/resources_conversion_files/samplenote_inheritance_1498245760_594d6a809ddcb_171163-10.jpg) -->"
   ]
  },
  {
   "cell_type": "raw",
   "metadata": {},
   "source": [
    "class Base:\n",
    "    pass\n",
    "class Derived1(Base):\n",
    "    pass\n",
    "class Derived2(Derived1)"
   ]
  },
  {
   "cell_type": "code",
   "execution_count": null,
   "metadata": {},
   "outputs": [],
   "source": [
    "class Base: Base 10 lakh\n",
    "#     Feature of Base 1\n",
    "\n",
    "class Derived1:Father 1lkah\n",
    "#     Feature of Base + Derived1\n",
    "class Derived2:Mother 2 lkah\n",
    "#     Feature of Base + Derived1 + Derived2\n",
    "\n",
    "class Derived3:\n",
    "#     Features of Base 1 + derived1 + derived2"
   ]
  }
 ],
 "metadata": {
  "kernelspec": {
   "display_name": "Python 3",
   "language": "python",
   "name": "python3"
  },
  "language_info": {
   "codemirror_mode": {
    "name": "ipython",
    "version": 3
   },
   "file_extension": ".py",
   "mimetype": "text/x-python",
   "name": "python",
   "nbconvert_exporter": "python",
   "pygments_lexer": "ipython3",
   "version": "3.8.3"
  }
 },
 "nbformat": 4,
 "nbformat_minor": 4
}
