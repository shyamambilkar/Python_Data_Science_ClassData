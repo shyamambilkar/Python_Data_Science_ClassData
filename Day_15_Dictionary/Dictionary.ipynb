{
 "cells": [
  {
   "cell_type": "markdown",
   "metadata": {},
   "source": [
    "# Dictionary"
   ]
  },
  {
   "cell_type": "markdown",
   "metadata": {},
   "source": [
    "1. Dictionary are stored data values in key and value pair ['key':'value']\n",
    "2. Dictionary are unordered, changeble, duplicate are not allowed \n",
    "3. dictionary written with the help of curly brackets and key:value\n",
    "4. With the help key: value pair dictionary make more optimized\n",
    "5. Dictionary dosen't allow polymorphism\n",
    "6. Key cant be duplicate and must be immutable\n",
    "7. Dictionary keys are case sensitive, same name but different cases of values key will be treated distinctly\n",
    "8. Case Sensitive:\n",
    "    my_dict = {\n",
    "        'name': 'Shyam',\n",
    "        'Name': 'Rahul'\n",
    "    }\n",
    "9. Dictinary can store heterogeneous of Data but commonly we use homogeneous of Data\n",
    "10. Dictionary are used to store multiple type of data in single variable"
   ]
  },
  {
   "cell_type": "markdown",
   "metadata": {},
   "source": [
    "1. Dictionary Item:\n",
    "    1. Unordered \n",
    "    2. Changeble\n",
    "    3. Duplicate are not allowed\n",
    "2. Unordered:\n",
    "    1. Dictionary does not have any defined ordered\n",
    "3. Changeble:\n",
    "    1. Dictionary can be modify after its creation we can add, remove or change the dictionary value\n",
    "4. Duplicate not Allowed:\n",
    "    2. Dictionary can not have two item with same key"
   ]
  },
  {
   "cell_type": "code",
   "execution_count": 1,
   "metadata": {},
   "outputs": [],
   "source": [
    "my_dict = {}"
   ]
  },
  {
   "cell_type": "code",
   "execution_count": 2,
   "metadata": {},
   "outputs": [
    {
     "name": "stdout",
     "output_type": "stream",
     "text": [
      "{}\n"
     ]
    }
   ],
   "source": [
    "print(my_dict)"
   ]
  },
  {
   "cell_type": "code",
   "execution_count": 3,
   "metadata": {},
   "outputs": [
    {
     "name": "stdout",
     "output_type": "stream",
     "text": [
      "<class 'dict'>\n"
     ]
    }
   ],
   "source": [
    "print(type(my_dict))"
   ]
  },
  {
   "cell_type": "code",
   "execution_count": 4,
   "metadata": {},
   "outputs": [],
   "source": [
    "my_dict = {\n",
    "    'name': 'Rahul',\n",
    "    'city': 'Akola',\n",
    "    'post': 'Data Scientist'\n",
    "}"
   ]
  },
  {
   "cell_type": "code",
   "execution_count": 5,
   "metadata": {},
   "outputs": [
    {
     "name": "stdout",
     "output_type": "stream",
     "text": [
      "{'name': 'Rahul', 'city': 'Akola', 'post': 'Data Scientist'}\n"
     ]
    }
   ],
   "source": [
    "print(my_dict)"
   ]
  },
  {
   "cell_type": "code",
   "execution_count": 6,
   "metadata": {},
   "outputs": [
    {
     "name": "stdout",
     "output_type": "stream",
     "text": [
      "<class 'dict'>\n"
     ]
    }
   ],
   "source": [
    "print(type(my_dict))"
   ]
  },
  {
   "cell_type": "code",
   "execution_count": 7,
   "metadata": {},
   "outputs": [
    {
     "name": "stdout",
     "output_type": "stream",
     "text": [
      "3\n"
     ]
    }
   ],
   "source": [
    "print(len(my_dict))"
   ]
  },
  {
   "cell_type": "code",
   "execution_count": 10,
   "metadata": {},
   "outputs": [],
   "source": [
    "my_dict1 = {\n",
    "    'brand': 'Motorola',\n",
    "    'model': 'Moto_G30',\n",
    "    'year': 2021,\n",
    "    'price': 10990.99\n",
    "}"
   ]
  },
  {
   "cell_type": "code",
   "execution_count": 11,
   "metadata": {},
   "outputs": [
    {
     "name": "stdout",
     "output_type": "stream",
     "text": [
      "{'brand': 'Motorola', 'model': 'Moto_G30', 'year': 2021, 'price': 10990.99}\n"
     ]
    }
   ],
   "source": [
    "print(my_dict1)"
   ]
  },
  {
   "cell_type": "code",
   "execution_count": 12,
   "metadata": {},
   "outputs": [
    {
     "name": "stdout",
     "output_type": "stream",
     "text": [
      "<class 'dict'>\n"
     ]
    }
   ],
   "source": [
    "print(type(my_dict1))"
   ]
  },
  {
   "cell_type": "code",
   "execution_count": 30,
   "metadata": {},
   "outputs": [],
   "source": [
    "my_dict1 = {\n",
    "    'brand': ['Motorola', 'LG', 'Samsung','Nokia','MI','MI'],\n",
    "    'model': 'Moto_G30',\n",
    "    'year': 2021,\n",
    "    'price': 10990.99,\n",
    "    'Brand': 'Motorola'\n",
    "}"
   ]
  },
  {
   "cell_type": "code",
   "execution_count": 31,
   "metadata": {},
   "outputs": [
    {
     "name": "stdout",
     "output_type": "stream",
     "text": [
      "['Motorola', 'LG', 'Samsung', 'Nokia', 'MI', 'MI']\n"
     ]
    }
   ],
   "source": [
    "print(my_dict1['brand'])"
   ]
  },
  {
   "cell_type": "code",
   "execution_count": 32,
   "metadata": {},
   "outputs": [
    {
     "name": "stdout",
     "output_type": "stream",
     "text": [
      "['Motorola', 'LG', 'Samsung']\n"
     ]
    }
   ],
   "source": [
    "print(my_dict1['brand'][0:3])"
   ]
  },
  {
   "cell_type": "code",
   "execution_count": 49,
   "metadata": {},
   "outputs": [],
   "source": [
    "my_dict2 = {\n",
    "    'brand': ['MI','LG','Samsung'],\n",
    "    'models': 'MI_A1',\n",
    "    'year': 2021,\n",
    "    'TouchScreen': True,\n",
    "    'colors': ['Golden','black','White'],\n",
    "    'price': 10500.45,\n",
    "    'year': 2019\n",
    "}"
   ]
  },
  {
   "cell_type": "code",
   "execution_count": 50,
   "metadata": {},
   "outputs": [
    {
     "data": {
      "text/plain": [
       "{'brand': ['MI', 'LG', 'Samsung'],\n",
       " 'models': 'MI_A1',\n",
       " 'year': 2019,\n",
       " 'TouchScreen': True,\n",
       " 'colors': ['Golden', 'black', 'White'],\n",
       " 'price': 10500.45}"
      ]
     },
     "execution_count": 50,
     "metadata": {},
     "output_type": "execute_result"
    }
   ],
   "source": [
    "my_dict2"
   ]
  },
  {
   "cell_type": "code",
   "execution_count": 51,
   "metadata": {},
   "outputs": [
    {
     "data": {
      "text/plain": [
       "'MI'"
      ]
     },
     "execution_count": 51,
     "metadata": {},
     "output_type": "execute_result"
    }
   ],
   "source": [
    "my_dict2['brand'][0]"
   ]
  },
  {
   "cell_type": "code",
   "execution_count": 52,
   "metadata": {},
   "outputs": [
    {
     "data": {
      "text/plain": [
       "'MI_A1'"
      ]
     },
     "execution_count": 52,
     "metadata": {},
     "output_type": "execute_result"
    }
   ],
   "source": [
    "my_dict2['models']"
   ]
  },
  {
   "cell_type": "code",
   "execution_count": 56,
   "metadata": {},
   "outputs": [
    {
     "name": "stdout",
     "output_type": "stream",
     "text": [
      "dict_keys(['brand', 'models', 'year', 'TouchScreen', 'colors', 'price'])\n"
     ]
    }
   ],
   "source": [
    "x = my_dict2.keys()\n",
    "print(x)"
   ]
  },
  {
   "cell_type": "markdown",
   "metadata": {},
   "source": [
    "### Accessing Elements in Dictionary"
   ]
  },
  {
   "cell_type": "code",
   "execution_count": 57,
   "metadata": {},
   "outputs": [],
   "source": [
    "my_dict1 = {\n",
    "    'brand': ['Motorola', 'LG', 'Samsung','Nokia','MI','MI'],\n",
    "    'model': 'Moto_G30',\n",
    "    'year': 2021,\n",
    "    'price': 10990.99,\n",
    "    'Brand': 'Motorola'\n",
    "}"
   ]
  },
  {
   "cell_type": "code",
   "execution_count": 58,
   "metadata": {},
   "outputs": [
    {
     "data": {
      "text/plain": [
       "'Moto_G30'"
      ]
     },
     "execution_count": 58,
     "metadata": {},
     "output_type": "execute_result"
    }
   ],
   "source": [
    "my_dict1['model']"
   ]
  },
  {
   "cell_type": "code",
   "execution_count": 59,
   "metadata": {},
   "outputs": [],
   "source": [
    "x = my_dict1['model']"
   ]
  },
  {
   "cell_type": "code",
   "execution_count": 60,
   "metadata": {},
   "outputs": [
    {
     "data": {
      "text/plain": [
       "'Moto_G30'"
      ]
     },
     "execution_count": 60,
     "metadata": {},
     "output_type": "execute_result"
    }
   ],
   "source": [
    "x"
   ]
  },
  {
   "cell_type": "code",
   "execution_count": 61,
   "metadata": {},
   "outputs": [
    {
     "name": "stdout",
     "output_type": "stream",
     "text": [
      "Moto_G30\n"
     ]
    }
   ],
   "source": [
    "x = my_dict1.get('model')\n",
    "print(x)"
   ]
  },
  {
   "cell_type": "code",
   "execution_count": 62,
   "metadata": {},
   "outputs": [
    {
     "name": "stdout",
     "output_type": "stream",
     "text": [
      "2021\n"
     ]
    }
   ],
   "source": [
    "y = my_dict1.get('year')\n",
    "print(y)"
   ]
  },
  {
   "cell_type": "code",
   "execution_count": 63,
   "metadata": {},
   "outputs": [
    {
     "data": {
      "text/plain": [
       "2021"
      ]
     },
     "execution_count": 63,
     "metadata": {},
     "output_type": "execute_result"
    }
   ],
   "source": [
    "my_dict1['year']"
   ]
  },
  {
   "cell_type": "markdown",
   "metadata": {},
   "source": [
    "### All Keys"
   ]
  },
  {
   "cell_type": "code",
   "execution_count": 64,
   "metadata": {},
   "outputs": [],
   "source": [
    "my_dict1 = {\n",
    "    'brand': ['Motorola', 'LG', 'Samsung','Nokia','MI','MI'],\n",
    "    'model': 'Moto_G30',\n",
    "    'year': 2021,\n",
    "    'price': 10990.99,\n",
    "    'Brand': 'Motorola'\n",
    "}"
   ]
  },
  {
   "cell_type": "code",
   "execution_count": 66,
   "metadata": {},
   "outputs": [
    {
     "name": "stdout",
     "output_type": "stream",
     "text": [
      "dict_keys(['brand', 'model', 'year', 'price', 'Brand'])\n"
     ]
    }
   ],
   "source": [
    "print(my_dict1.keys())"
   ]
  },
  {
   "cell_type": "code",
   "execution_count": 68,
   "metadata": {},
   "outputs": [],
   "source": [
    "x = my_dict1.keys()"
   ]
  },
  {
   "cell_type": "code",
   "execution_count": 69,
   "metadata": {},
   "outputs": [
    {
     "name": "stdout",
     "output_type": "stream",
     "text": [
      "dict_keys(['brand', 'model', 'year', 'price', 'Brand'])\n"
     ]
    }
   ],
   "source": [
    "print(x)"
   ]
  },
  {
   "cell_type": "code",
   "execution_count": 72,
   "metadata": {},
   "outputs": [
    {
     "name": "stdout",
     "output_type": "stream",
     "text": [
      "dict_keys(['brand', 'model', 'year', 'price', 'Brand'])\n",
      "dict_keys(['brand', 'model', 'year', 'price', 'Brand', 'color'])\n"
     ]
    },
    {
     "data": {
      "text/plain": [
       "{'brand': ['Motorola', 'LG', 'Samsung', 'Nokia', 'MI', 'MI'],\n",
       " 'model': 'Moto_G30',\n",
       " 'year': 2021,\n",
       " 'price': 10990.99,\n",
       " 'Brand': 'Motorola',\n",
       " 'color': 'Red'}"
      ]
     },
     "execution_count": 72,
     "metadata": {},
     "output_type": "execute_result"
    }
   ],
   "source": [
    "my_dict1 = {\n",
    "    'brand': ['Motorola', 'LG', 'Samsung','Nokia','MI','MI'],\n",
    "    'model': 'Moto_G30',\n",
    "    'year': 2021,\n",
    "    'price': 10990.99,\n",
    "    'Brand': 'Motorola'\n",
    "}\n",
    "\n",
    "# Before the change\n",
    "x = my_dict1.keys()\n",
    "print(x)\n",
    "\n",
    "# After the change\n",
    "my_dict1['color'] = 'Red'\n",
    "print(x)\n",
    "\n",
    "my_dict1"
   ]
  },
  {
   "cell_type": "markdown",
   "metadata": {},
   "source": [
    "### Get all values of Key "
   ]
  },
  {
   "cell_type": "code",
   "execution_count": 73,
   "metadata": {},
   "outputs": [],
   "source": [
    "my_dict1 = {\n",
    "    'brand': ['Motorola', 'LG', 'Samsung','Nokia','MI','MI'],\n",
    "    'model': 'Moto_G30',\n",
    "    'year': 2021,\n",
    "    'price': 10990.99,\n",
    "    'Brand': 'Motorola'\n",
    "}"
   ]
  },
  {
   "cell_type": "code",
   "execution_count": 75,
   "metadata": {},
   "outputs": [
    {
     "name": "stdout",
     "output_type": "stream",
     "text": [
      "dict_values([['Motorola', 'LG', 'Samsung', 'Nokia', 'MI', 'MI'], 'Moto_G30', 2021, 10990.99, 'Motorola'])\n"
     ]
    }
   ],
   "source": [
    "print(my_dict1.values())"
   ]
  },
  {
   "cell_type": "markdown",
   "metadata": {},
   "source": [
    "### Change value  in Dictionary"
   ]
  },
  {
   "cell_type": "code",
   "execution_count": 84,
   "metadata": {},
   "outputs": [
    {
     "name": "stdout",
     "output_type": "stream",
     "text": [
      "Before changing the key value dictionary are:\n",
      " dict_values([['Motorola', 'LG', 'Samsung', 'Nokia', 'MI', 'MI'], 'Moto_G30', 2021, 10990.99, 'Motorola'])\n",
      "\n",
      "After changing the key value of dictionary are:\n",
      " dict_values([['Motorola', 'LG', 'Samsung', 'Nokia', 'MI', 'MI'], 'Moto_G30', 2021, 5000, 'Motorola'])\n"
     ]
    }
   ],
   "source": [
    "my_dict1 = {\n",
    "    'brand': ['Motorola', 'LG', 'Samsung','Nokia','MI','MI'],\n",
    "    'model': 'Moto_G30',\n",
    "    'year': 2021,\n",
    "    'price': 10990.99,\n",
    "    'Brand': 'Motorola'\n",
    "}\n",
    "\n",
    "# Before the change\n",
    "x = my_dict1.values()\n",
    "print(\"Before changing the key value dictionary are:\\n\",x)\n",
    "\n",
    "# After the change\n",
    "my_dict1['price'] = 5000\n",
    "print(\"\\nAfter changing the key value of dictionary are:\\n\",x)\n",
    "\n"
   ]
  },
  {
   "cell_type": "code",
   "execution_count": 85,
   "metadata": {},
   "outputs": [
    {
     "data": {
      "text/plain": [
       "{'brand': ['Motorola', 'LG', 'Samsung', 'Nokia', 'MI', 'MI'],\n",
       " 'model': 'Moto_G30',\n",
       " 'year': 2021,\n",
       " 'price': 5000,\n",
       " 'Brand': 'Motorola'}"
      ]
     },
     "execution_count": 85,
     "metadata": {},
     "output_type": "execute_result"
    }
   ],
   "source": [
    "my_dict1"
   ]
  },
  {
   "cell_type": "code",
   "execution_count": 93,
   "metadata": {},
   "outputs": [],
   "source": [
    "# How to Define Empty set \n",
    "x = set()"
   ]
  },
  {
   "cell_type": "code",
   "execution_count": 94,
   "metadata": {},
   "outputs": [
    {
     "name": "stdout",
     "output_type": "stream",
     "text": [
      "<class 'set'>\n"
     ]
    }
   ],
   "source": [
    "print(type(x))"
   ]
  },
  {
   "cell_type": "code",
   "execution_count": 95,
   "metadata": {},
   "outputs": [
    {
     "name": "stdout",
     "output_type": "stream",
     "text": [
      "<class 'dict'>\n"
     ]
    }
   ],
   "source": [
    "x = {}\n",
    "print(type(x))"
   ]
  },
  {
   "cell_type": "code",
   "execution_count": null,
   "metadata": {},
   "outputs": [],
   "source": []
  }
 ],
 "metadata": {
  "kernelspec": {
   "display_name": "Python 3",
   "language": "python",
   "name": "python3"
  },
  "language_info": {
   "codemirror_mode": {
    "name": "ipython",
    "version": 3
   },
   "file_extension": ".py",
   "mimetype": "text/x-python",
   "name": "python",
   "nbconvert_exporter": "python",
   "pygments_lexer": "ipython3",
   "version": "3.8.3"
  }
 },
 "nbformat": 4,
 "nbformat_minor": 4
}
