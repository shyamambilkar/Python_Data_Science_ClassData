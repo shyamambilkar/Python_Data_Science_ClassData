{
 "cells": [
  {
   "cell_type": "markdown",
   "metadata": {},
   "source": [
    "## Join Sets in Python:\n",
    "    1. union()\n",
    "    2. update()"
   ]
  },
  {
   "cell_type": "code",
   "execution_count": 1,
   "metadata": {},
   "outputs": [
    {
     "name": "stdout",
     "output_type": "stream",
     "text": [
      "{1, 2, 3, 4, 5, 'orange', 'mango', 'cherry', 'apple'}\n"
     ]
    }
   ],
   "source": [
    "my_set1 = {\"apple\",\"mango\",\"cherry\",'orange'}\n",
    "my_set2 = {1,2,3,4,5}\n",
    "\n",
    "my_set3 = my_set1.union(my_set2)\n",
    "print(my_set3)"
   ]
  },
  {
   "cell_type": "code",
   "execution_count": 8,
   "metadata": {},
   "outputs": [
    {
     "name": "stdout",
     "output_type": "stream",
     "text": [
      "{1, 2, 3, 4, 5, 'orange', 'mango', 'cherry', 'apple'}\n"
     ]
    }
   ],
   "source": [
    "my_set1 = {\"apple\",\"mango\",\"cherry\",'orange'}\n",
    "my_set2 = {1,2,3,4,5}\n",
    "\n",
    "my_set3 = my_set2.union(my_set1)\n",
    "print(my_set3)"
   ]
  },
  {
   "cell_type": "markdown",
   "metadata": {},
   "source": [
    "### 2. Update"
   ]
  },
  {
   "cell_type": "code",
   "execution_count": 7,
   "metadata": {},
   "outputs": [
    {
     "name": "stdout",
     "output_type": "stream",
     "text": [
      "{1, 2, 3, 4, 5, 'orange', 'mango', 'cherry', 'apple'}\n"
     ]
    }
   ],
   "source": [
    "my_set1 = {\"apple\",\"mango\",\"cherry\",'orange'}\n",
    "my_set2 = {1,2,3,4,5}\n",
    "\n",
    "my_set1.update(my_set2)\n",
    "print(my_set1)"
   ]
  },
  {
   "cell_type": "markdown",
   "metadata": {},
   "source": [
    "# Keep Only Duplicates values in set:\n",
    "    1. intersection()\n",
    "    2. intersection_update()"
   ]
  },
  {
   "cell_type": "code",
   "execution_count": 10,
   "metadata": {},
   "outputs": [
    {
     "name": "stdout",
     "output_type": "stream",
     "text": [
      "{'mango', 'apple'}\n"
     ]
    }
   ],
   "source": [
    "my_set1 = {\"apple\",\"mango\",\"cherry\",'orange','watermelon','blackcurrent'}\n",
    "my_set2 = {\"mango\", 'watermelon', 'apple', 'blackcurrent'}\n",
    "my_set3 = {'apple',\"mango\"}\n",
    "\n",
    "my_set4 = my_set1.intersection(my_set2,my_set3)\n",
    "print(my_set4)"
   ]
  },
  {
   "cell_type": "markdown",
   "metadata": {},
   "source": [
    "# 2. intersection_update"
   ]
  },
  {
   "cell_type": "code",
   "execution_count": 11,
   "metadata": {},
   "outputs": [
    {
     "name": "stdout",
     "output_type": "stream",
     "text": [
      "{'mango', 'apple', 'watermelon', 'blackcurrent'}\n"
     ]
    }
   ],
   "source": [
    "my_set1 = {\"apple\",\"mango\",\"cherry\",'orange','watermelon','blackcurrent'}\n",
    "my_set2 = {\"mango\", 'watermelon', 'apple', 'blackcurrent'}\n",
    "\n",
    "my_set1.intersection_update(my_set2)\n",
    "print(my_set1)"
   ]
  },
  {
   "cell_type": "markdown",
   "metadata": {},
   "source": [
    "# Keep All Elements but not Duplicate:\n",
    "    1.symmetric_difference_update()\n",
    "    1.symmetric_difference()"
   ]
  },
  {
   "cell_type": "code",
   "execution_count": 13,
   "metadata": {},
   "outputs": [
    {
     "name": "stdout",
     "output_type": "stream",
     "text": [
      "{'papaya', 'cherry', 'orange'}\n"
     ]
    }
   ],
   "source": [
    "my_set1 = {\"apple\",\"mango\",\"cherry\",'orange','watermelon','blackcurrent'}\n",
    "my_set2 = {\"mango\", 'watermelon', 'apple', 'blackcurrent','papaya'}\n",
    "\n",
    "x = my_set1.symmetric_difference(my_set2)\n",
    "print(x)"
   ]
  },
  {
   "cell_type": "markdown",
   "metadata": {},
   "source": [
    "### 2. symmetric_difference_update()"
   ]
  },
  {
   "cell_type": "code",
   "execution_count": 14,
   "metadata": {},
   "outputs": [
    {
     "name": "stdout",
     "output_type": "stream",
     "text": [
      "{'orange', 'papaya', 'cherry'}\n"
     ]
    }
   ],
   "source": [
    "my_set1 = {\"apple\",\"mango\",\"cherry\",'orange','watermelon','blackcurrent'}\n",
    "my_set2 = {\"mango\", 'watermelon', 'apple', 'blackcurrent','papaya'}\n",
    "\n",
    "my_set2.symmetric_difference_update(my_set1)\n",
    "print(my_set2)"
   ]
  },
  {
   "cell_type": "code",
   "execution_count": 15,
   "metadata": {},
   "outputs": [
    {
     "name": "stdout",
     "output_type": "stream",
     "text": [
      "{'orange', 'watermelon', 'mango', 'papaya', 'apple', 'blackcurrent'}\n"
     ]
    }
   ],
   "source": [
    "my_set2 = {\"mango\", 'watermelon', 'apple', 'blackcurrent','papaya'}\n",
    "\n",
    "my_set2.add(\"orange\")\n",
    "print(my_set2)"
   ]
  },
  {
   "cell_type": "code",
   "execution_count": 16,
   "metadata": {},
   "outputs": [
    {
     "name": "stdout",
     "output_type": "stream",
     "text": [
      "{'orange', 'watermelon', 'mango', 'papaya', 'apple', 'blackcurrent'}\n"
     ]
    }
   ],
   "source": [
    "my_set2 = {\"mango\", 'watermelon', 'apple', 'blackcurrent','papaya','orange'}\n",
    "\n",
    "my_set2.add(\"orange\")\n",
    "print(my_set2)"
   ]
  },
  {
   "cell_type": "code",
   "execution_count": 17,
   "metadata": {},
   "outputs": [
    {
     "name": "stdout",
     "output_type": "stream",
     "text": [
      "{'mango', 'papaya', 'apple', 'orange', 'blackcurrent', 'watermelon'}\n"
     ]
    }
   ],
   "source": [
    "my_set2 = {\"mango\", 'watermelon', 'apple', 'blackcurrent','papaya','orange'}\n",
    "\n",
    "new_set = my_set2.copy()\n",
    "print(new_set)"
   ]
  },
  {
   "cell_type": "code",
   "execution_count": 19,
   "metadata": {},
   "outputs": [
    {
     "name": "stdout",
     "output_type": "stream",
     "text": [
      "{'papaya'}\n"
     ]
    }
   ],
   "source": [
    "my_set1 = {\"apple\",\"mango\",\"cherry\",'orange','watermelon','blackcurrent'}\n",
    "my_set2 = {\"mango\", 'watermelon', 'apple', 'blackcurrent','papaya'}\n",
    "\n",
    "new_set = my_set2.difference(my_set1)\n",
    "print(new_set)"
   ]
  },
  {
   "cell_type": "code",
   "execution_count": 20,
   "metadata": {},
   "outputs": [
    {
     "name": "stdout",
     "output_type": "stream",
     "text": [
      "{'orange', 'cherry'}\n"
     ]
    }
   ],
   "source": [
    "my_set1 = {\"apple\",\"mango\",\"cherry\",'orange','watermelon','blackcurrent'}\n",
    "my_set2 = {\"mango\", 'watermelon', 'apple', 'blackcurrent','papaya'}\n",
    "\n",
    "my_set1.difference_update(my_set2)\n",
    "print(my_set1)"
   ]
  },
  {
   "cell_type": "code",
   "execution_count": 21,
   "metadata": {},
   "outputs": [
    {
     "name": "stdout",
     "output_type": "stream",
     "text": [
      "{'papaya'}\n"
     ]
    }
   ],
   "source": [
    "my_set1 = {\"apple\",\"mango\",\"cherry\",'orange','watermelon','blackcurrent'}\n",
    "my_set2 = {\"mango\", 'watermelon', 'apple', 'blackcurrent','papaya'}\n",
    "\n",
    "my_set2.difference_update(my_set1)\n",
    "print(my_set2)"
   ]
  },
  {
   "cell_type": "code",
   "execution_count": 22,
   "metadata": {},
   "outputs": [
    {
     "name": "stdout",
     "output_type": "stream",
     "text": [
      "False\n"
     ]
    }
   ],
   "source": [
    "my_set1 = {\"apple\",\"mango\",\"cherry\",'orange','watermelon','blackcurrent'}\n",
    "my_set2 = {\"mango\", 'watermelon', 'apple', 'blackcurrent','papaya'}\n",
    "\n",
    "new_set = my_set1.isdisjoint(my_set2)\n",
    "print(new_set)"
   ]
  },
  {
   "cell_type": "code",
   "execution_count": 25,
   "metadata": {},
   "outputs": [
    {
     "name": "stdout",
     "output_type": "stream",
     "text": [
      "True\n"
     ]
    }
   ],
   "source": [
    "my_set1 = {\"cherry\",'orange','apple'}\n",
    "my_set2 = {\"mango\", 'watermelon', 'blackcurrent','papaya'}\n",
    "\n",
    "new_set = my_set1.isdisjoint(my_set2)\n",
    "print(new_set)"
   ]
  },
  {
   "cell_type": "code",
   "execution_count": 31,
   "metadata": {},
   "outputs": [
    {
     "name": "stdout",
     "output_type": "stream",
     "text": [
      "True\n"
     ]
    }
   ],
   "source": [
    "my_set1 = {\"cherry\",'orange','apple'}\n",
    "my_set2 = {\"mango\", 'cherry','orange','papaya','apple'}\n",
    "\n",
    "new_set = my_set1.issubset(my_set2)\n",
    "print(new_set)"
   ]
  },
  {
   "cell_type": "code",
   "execution_count": 34,
   "metadata": {},
   "outputs": [
    {
     "name": "stdout",
     "output_type": "stream",
     "text": [
      "True\n"
     ]
    }
   ],
   "source": [
    "my_set1 = {'A','B','C'}\n",
    "my_set2 = {'D','E','F','C','A','B'}\n",
    "\n",
    "new_set = my_set1.issubset(my_set2)\n",
    "print(new_set)"
   ]
  },
  {
   "cell_type": "code",
   "execution_count": 35,
   "metadata": {},
   "outputs": [
    {
     "name": "stdout",
     "output_type": "stream",
     "text": [
      "set()\n"
     ]
    }
   ],
   "source": [
    "my_set2 = {\"mango\", 'cherry','orange','papaya','apple'}\n",
    "\n",
    "my_set2.clear()\n",
    "print(my_set2)"
   ]
  },
  {
   "cell_type": "code",
   "execution_count": 36,
   "metadata": {},
   "outputs": [],
   "source": [
    "del my_set2"
   ]
  },
  {
   "cell_type": "code",
   "execution_count": 37,
   "metadata": {},
   "outputs": [
    {
     "ename": "NameError",
     "evalue": "name 'my_set2' is not defined",
     "output_type": "error",
     "traceback": [
      "\u001b[1;31m---------------------------------------------------------------------------\u001b[0m",
      "\u001b[1;31mNameError\u001b[0m                                 Traceback (most recent call last)",
      "\u001b[1;32m<ipython-input-37-146b2155c867>\u001b[0m in \u001b[0;36m<module>\u001b[1;34m\u001b[0m\n\u001b[1;32m----> 1\u001b[1;33m \u001b[0mmy_set2\u001b[0m\u001b[1;33m\u001b[0m\u001b[1;33m\u001b[0m\u001b[0m\n\u001b[0m",
      "\u001b[1;31mNameError\u001b[0m: name 'my_set2' is not defined"
     ]
    }
   ],
   "source": [
    "my_set2"
   ]
  },
  {
   "cell_type": "code",
   "execution_count": null,
   "metadata": {},
   "outputs": [],
   "source": []
  }
 ],
 "metadata": {
  "kernelspec": {
   "display_name": "Python 3",
   "language": "python",
   "name": "python3"
  },
  "language_info": {
   "codemirror_mode": {
    "name": "ipython",
    "version": 3
   },
   "file_extension": ".py",
   "mimetype": "text/x-python",
   "name": "python",
   "nbconvert_exporter": "python",
   "pygments_lexer": "ipython3",
   "version": "3.8.3"
  }
 },
 "nbformat": 4,
 "nbformat_minor": 4
}
