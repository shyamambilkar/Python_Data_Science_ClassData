{
 "cells": [
  {
   "cell_type": "code",
   "execution_count": 1,
   "id": "bdff0fa9",
   "metadata": {},
   "outputs": [],
   "source": [
    "import numpy as np"
   ]
  },
  {
   "cell_type": "code",
   "execution_count": 2,
   "id": "aaab9b6b",
   "metadata": {},
   "outputs": [],
   "source": [
    "my_array = np.array([10,20,30,40,50,60])"
   ]
  },
  {
   "cell_type": "code",
   "execution_count": 3,
   "id": "071d6a03",
   "metadata": {},
   "outputs": [
    {
     "name": "stdout",
     "output_type": "stream",
     "text": [
      "[10 20 30 40 50 60]\n"
     ]
    }
   ],
   "source": [
    "print(my_array)"
   ]
  },
  {
   "cell_type": "code",
   "execution_count": 4,
   "id": "884f3a84",
   "metadata": {},
   "outputs": [
    {
     "data": {
      "text/plain": [
       "50"
      ]
     },
     "execution_count": 4,
     "metadata": {},
     "output_type": "execute_result"
    }
   ],
   "source": [
    "my_array[4]"
   ]
  },
  {
   "cell_type": "markdown",
   "id": "1e0ff0c6",
   "metadata": {},
   "source": [
    "There are two ways to access Elements:\n",
    "    1. Positive Indexing\n",
    "    2. Negative Indexing\n",
    "    \n",
    "    1. 0-D\n",
    "    2. 1-D\n",
    "    3. 2-D\n",
    "    4. 3-D"
   ]
  },
  {
   "cell_type": "markdown",
   "id": "823b1f0a",
   "metadata": {},
   "source": [
    "### 1. Python Array Slicing:\n",
    "    1. Slicing in python means taking elements from one given index to another given index\n",
    "    2. we pass slice insted indexes [start:end]\n",
    "    3. we can also used like this [start: step : end]"
   ]
  },
  {
   "cell_type": "markdown",
   "id": "a9dbafea",
   "metadata": {},
   "source": [
    "### 1. Positive"
   ]
  },
  {
   "cell_type": "code",
   "execution_count": 5,
   "id": "bf24da33",
   "metadata": {},
   "outputs": [],
   "source": [
    "my_array = np.array([10,20,30,40,50,60])"
   ]
  },
  {
   "cell_type": "code",
   "execution_count": 6,
   "id": "03e277ea",
   "metadata": {},
   "outputs": [
    {
     "data": {
      "text/plain": [
       "array([10, 20, 30, 40])"
      ]
     },
     "execution_count": 6,
     "metadata": {},
     "output_type": "execute_result"
    }
   ],
   "source": [
    "my_array[0:4]"
   ]
  },
  {
   "cell_type": "code",
   "execution_count": 7,
   "id": "58468252",
   "metadata": {},
   "outputs": [
    {
     "data": {
      "text/plain": [
       "array([10, 20, 30, 40, 50])"
      ]
     },
     "execution_count": 7,
     "metadata": {},
     "output_type": "execute_result"
    }
   ],
   "source": [
    "my_array[0:5]"
   ]
  },
  {
   "cell_type": "code",
   "execution_count": 8,
   "id": "f13ff15d",
   "metadata": {},
   "outputs": [
    {
     "data": {
      "text/plain": [
       "array([10, 20, 30, 40, 50, 60])"
      ]
     },
     "execution_count": 8,
     "metadata": {},
     "output_type": "execute_result"
    }
   ],
   "source": [
    "my_array[:]"
   ]
  },
  {
   "cell_type": "code",
   "execution_count": 9,
   "id": "095d1eab",
   "metadata": {},
   "outputs": [
    {
     "data": {
      "text/plain": [
       "array([20, 30, 40, 50, 60])"
      ]
     },
     "execution_count": 9,
     "metadata": {},
     "output_type": "execute_result"
    }
   ],
   "source": [
    "my_array[1:]"
   ]
  },
  {
   "cell_type": "markdown",
   "id": "f1ca5e9a",
   "metadata": {},
   "source": [
    "### 2. Negative Indexing"
   ]
  },
  {
   "cell_type": "code",
   "execution_count": 10,
   "id": "91a8aee0",
   "metadata": {},
   "outputs": [],
   "source": [
    "my_array = np.array([10,20,30,40,50,60])"
   ]
  },
  {
   "cell_type": "code",
   "execution_count": 11,
   "id": "10d6d553",
   "metadata": {},
   "outputs": [
    {
     "data": {
      "text/plain": [
       "array([60])"
      ]
     },
     "execution_count": 11,
     "metadata": {},
     "output_type": "execute_result"
    }
   ],
   "source": [
    "my_array[-1:]"
   ]
  },
  {
   "cell_type": "code",
   "execution_count": 13,
   "id": "01452491",
   "metadata": {},
   "outputs": [
    {
     "data": {
      "text/plain": [
       "array([20, 30, 40, 50])"
      ]
     },
     "execution_count": 13,
     "metadata": {},
     "output_type": "execute_result"
    }
   ],
   "source": [
    "my_array[-5:-1]"
   ]
  },
  {
   "cell_type": "code",
   "execution_count": 14,
   "id": "011dd790",
   "metadata": {},
   "outputs": [
    {
     "data": {
      "text/plain": [
       "array([10, 20, 30, 40, 50])"
      ]
     },
     "execution_count": 14,
     "metadata": {},
     "output_type": "execute_result"
    }
   ],
   "source": [
    "my_array[:-1]"
   ]
  },
  {
   "cell_type": "code",
   "execution_count": 17,
   "id": "a54ebe0d",
   "metadata": {},
   "outputs": [
    {
     "data": {
      "text/plain": [
       "array([20, 30, 40])"
      ]
     },
     "execution_count": 17,
     "metadata": {},
     "output_type": "execute_result"
    }
   ],
   "source": [
    "my_array[-5:-2]"
   ]
  },
  {
   "cell_type": "markdown",
   "id": "fd72839f",
   "metadata": {},
   "source": [
    "## 3. Step"
   ]
  },
  {
   "cell_type": "code",
   "execution_count": 18,
   "id": "a1e71485",
   "metadata": {},
   "outputs": [],
   "source": [
    "# [start:end:steps]\n",
    "my_array = np.array([10,20,30,40,50,60,70,80,90,100])"
   ]
  },
  {
   "cell_type": "code",
   "execution_count": 19,
   "id": "49ce335f",
   "metadata": {},
   "outputs": [
    {
     "data": {
      "text/plain": [
       "array([10, 30, 50, 70, 90])"
      ]
     },
     "execution_count": 19,
     "metadata": {},
     "output_type": "execute_result"
    }
   ],
   "source": [
    "my_array[::2]"
   ]
  },
  {
   "cell_type": "code",
   "execution_count": 20,
   "id": "3f374601",
   "metadata": {},
   "outputs": [],
   "source": [
    "my_array = np.array([1,2,3,4,5,6,7,8,9,10,11,12,13,14,15,16])"
   ]
  },
  {
   "cell_type": "code",
   "execution_count": 25,
   "id": "df7cb870",
   "metadata": {},
   "outputs": [
    {
     "data": {
      "text/plain": [
       "array([ 3,  6,  9, 12, 15])"
      ]
     },
     "execution_count": 25,
     "metadata": {},
     "output_type": "execute_result"
    }
   ],
   "source": [
    "my_array[2::3]"
   ]
  },
  {
   "cell_type": "markdown",
   "id": "34f84962",
   "metadata": {},
   "source": [
    "# 2. 2-D Array"
   ]
  },
  {
   "cell_type": "code",
   "execution_count": 26,
   "id": "cfc474e1",
   "metadata": {},
   "outputs": [],
   "source": [
    "my_array = np.array([[1,2,3,4,5],[6,7,8,9,10]])"
   ]
  },
  {
   "cell_type": "code",
   "execution_count": 27,
   "id": "0e8f7fdd",
   "metadata": {},
   "outputs": [
    {
     "data": {
      "text/plain": [
       "array([6, 7])"
      ]
     },
     "execution_count": 27,
     "metadata": {},
     "output_type": "execute_result"
    }
   ],
   "source": [
    "my_array[1, :2]"
   ]
  },
  {
   "cell_type": "code",
   "execution_count": 28,
   "id": "f7faec08",
   "metadata": {},
   "outputs": [
    {
     "data": {
      "text/plain": [
       "array([1, 2, 3, 4, 5])"
      ]
     },
     "execution_count": 28,
     "metadata": {},
     "output_type": "execute_result"
    }
   ],
   "source": [
    "my_array[0,:]"
   ]
  },
  {
   "cell_type": "code",
   "execution_count": 29,
   "id": "b493ea74",
   "metadata": {},
   "outputs": [
    {
     "data": {
      "text/plain": [
       "array([ 7,  8,  9, 10])"
      ]
     },
     "execution_count": 29,
     "metadata": {},
     "output_type": "execute_result"
    }
   ],
   "source": [
    "my_array[1, 1:]"
   ]
  },
  {
   "cell_type": "code",
   "execution_count": 30,
   "id": "716cf890",
   "metadata": {},
   "outputs": [],
   "source": [
    "my_array = np.array([[1,2,3,4,5],[6,7,8,9,10]])"
   ]
  },
  {
   "cell_type": "code",
   "execution_count": 36,
   "id": "49bb6e78",
   "metadata": {},
   "outputs": [
    {
     "data": {
      "text/plain": [
       "array([[3],\n",
       "       [8]])"
      ]
     },
     "execution_count": 36,
     "metadata": {},
     "output_type": "execute_result"
    }
   ],
   "source": [
    "my_array[0:2,2:3]"
   ]
  },
  {
   "cell_type": "code",
   "execution_count": 39,
   "id": "91f633f3",
   "metadata": {},
   "outputs": [
    {
     "data": {
      "text/plain": [
       "array([[3, 4]])"
      ]
     },
     "execution_count": 39,
     "metadata": {},
     "output_type": "execute_result"
    }
   ],
   "source": [
    "my_array[0:1, 2:4]"
   ]
  },
  {
   "cell_type": "code",
   "execution_count": 41,
   "id": "2e769b6e",
   "metadata": {},
   "outputs": [],
   "source": [
    "# [dimension[start:end],[start:index]]"
   ]
  },
  {
   "cell_type": "code",
   "execution_count": 50,
   "id": "b6b18f0b",
   "metadata": {},
   "outputs": [],
   "source": [
    "my_array = np.array([[1,2,3,4,5],[6,7,8,9,10],[4,5,6,8,9]])"
   ]
  },
  {
   "cell_type": "code",
   "execution_count": 52,
   "id": "9b324f55",
   "metadata": {},
   "outputs": [
    {
     "data": {
      "text/plain": [
       "array([[1, 4],\n",
       "       [6, 9],\n",
       "       [4, 8]])"
      ]
     },
     "execution_count": 52,
     "metadata": {},
     "output_type": "execute_result"
    }
   ],
   "source": [
    "my_array[0:3, : :3]"
   ]
  },
  {
   "cell_type": "code",
   "execution_count": 59,
   "id": "a4c3c86b",
   "metadata": {},
   "outputs": [],
   "source": [
    "my_array = np.array([[1,2,3,4,5,57],[6,7,8,9,10,15],[4,5,6,8,9,45]])"
   ]
  },
  {
   "cell_type": "code",
   "execution_count": 63,
   "id": "47bd93cc",
   "metadata": {},
   "outputs": [
    {
     "data": {
      "text/plain": [
       "array([[ 7, 10],\n",
       "       [ 5,  9]])"
      ]
     },
     "execution_count": 63,
     "metadata": {},
     "output_type": "execute_result"
    }
   ],
   "source": [
    "my_array[1:3, 1:6:3]"
   ]
  },
  {
   "cell_type": "markdown",
   "id": "10af510b",
   "metadata": {},
   "source": [
    "# 3. 3-D Array"
   ]
  },
  {
   "cell_type": "code",
   "execution_count": 64,
   "id": "8e4f3535",
   "metadata": {},
   "outputs": [],
   "source": [
    "my_array = np.array([[[10,20,30,40,50],[60,70,80,90,100]],[[110,120,130,140,150],[12,15,17,16,45]]])"
   ]
  },
  {
   "cell_type": "code",
   "execution_count": 68,
   "id": "26db7d95",
   "metadata": {},
   "outputs": [
    {
     "data": {
      "text/plain": [
       "array([[[110, 130, 150]]])"
      ]
     },
     "execution_count": 68,
     "metadata": {},
     "output_type": "execute_result"
    }
   ],
   "source": [
    "my_array[1:2, 0:1, ::2]"
   ]
  },
  {
   "cell_type": "code",
   "execution_count": 72,
   "id": "c69b2762",
   "metadata": {},
   "outputs": [
    {
     "data": {
      "text/plain": [
       "array([[[70, 80, 90]]])"
      ]
     },
     "execution_count": 72,
     "metadata": {},
     "output_type": "execute_result"
    }
   ],
   "source": [
    "my_array[0:1,1:,1:4]"
   ]
  },
  {
   "cell_type": "markdown",
   "id": "35c2c1e0",
   "metadata": {},
   "source": [
    "### Data Types in Python:\n",
    "    1. string\n",
    "    2. integer\n",
    "    3. float\n",
    "    4. boolean\n",
    "    6. complex"
   ]
  },
  {
   "cell_type": "code",
   "execution_count": 74,
   "id": "01a88e4a",
   "metadata": {},
   "outputs": [],
   "source": [
    "# help(np)"
   ]
  },
  {
   "cell_type": "markdown",
   "id": "a4bac9e8",
   "metadata": {},
   "source": [
    "## Numpy Data Types in Python:\n",
    "    1. i - integer\n",
    "    2. b - boolean\n",
    "    3. u - unsigned integer\n",
    "    4. f - float\n",
    "    5. c - complex float\n",
    "    6. m - timedelta\n",
    "    7. M - Datatime\n",
    "    8. O - object\n",
    "    9. s - string\n",
    "    10. uncode string\n",
    "    11. Fixed chunk of memory "
   ]
  },
  {
   "cell_type": "code",
   "execution_count": null,
   "id": "5d512641",
   "metadata": {},
   "outputs": [],
   "source": []
  }
 ],
 "metadata": {
  "kernelspec": {
   "display_name": "Python 3",
   "language": "python",
   "name": "python3"
  },
  "language_info": {
   "codemirror_mode": {
    "name": "ipython",
    "version": 3
   },
   "file_extension": ".py",
   "mimetype": "text/x-python",
   "name": "python",
   "nbconvert_exporter": "python",
   "pygments_lexer": "ipython3",
   "version": "3.8.8"
  }
 },
 "nbformat": 4,
 "nbformat_minor": 5
}
