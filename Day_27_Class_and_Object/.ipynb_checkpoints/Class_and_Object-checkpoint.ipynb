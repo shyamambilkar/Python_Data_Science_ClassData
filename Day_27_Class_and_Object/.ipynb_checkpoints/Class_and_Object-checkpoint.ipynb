{
 "cells": [
  {
   "cell_type": "code",
   "execution_count": 1,
   "metadata": {},
   "outputs": [
    {
     "name": "stdout",
     "output_type": "stream",
     "text": [
      "Hello Rahul\n"
     ]
    }
   ],
   "source": [
    "def my_function(name):\n",
    "    print(\"Hello\", name)\n",
    "    \n",
    "my_function(\"Rahul\")"
   ]
  },
  {
   "cell_type": "code",
   "execution_count": 2,
   "metadata": {},
   "outputs": [
    {
     "name": "stdout",
     "output_type": "stream",
     "text": [
      "Hello\n",
      "<__main__.person_name object at 0x0000020E5E74BDC0>\n"
     ]
    }
   ],
   "source": [
    "class person_name:\n",
    "    print(\"Hello\")\n",
    "    \n",
    "if __name__==\"__main__\":\n",
    "    person1 = person_name()\n",
    "    print(person1)"
   ]
  },
  {
   "cell_type": "code",
   "execution_count": 11,
   "metadata": {},
   "outputs": [
    {
     "name": "stdout",
     "output_type": "stream",
     "text": [
      "Hello\n",
      "Hello Rahul\n",
      "Hello Roy\n",
      "My Post is:  PythonDeveloper\n"
     ]
    }
   ],
   "source": [
    "class person_name:\n",
    "    print(\"Hello\")\n",
    "    \n",
    "    def names(self,name1):\n",
    "        print(\"Hello\",name1)\n",
    "    \n",
    "    def surname(self, surname):\n",
    "        print(\"Hello\", surname)\n",
    "        \n",
    "    def my_post(self, post):\n",
    "        print(\"My Post is: \",post)\n",
    "        \n",
    "        \n",
    "person1 = person_name()\n",
    "person1.names(\"Rahul\")\n",
    "person1.surname(\"Roy\")\n",
    "person1.my_post('PythonDeveloper')"
   ]
  },
  {
   "cell_type": "markdown",
   "metadata": {},
   "source": [
    "# self:\n",
    "    1. Used to access variables\n",
    "    2. Every methods / Function\n",
    "    3. "
   ]
  },
  {
   "cell_type": "code",
   "execution_count": 9,
   "metadata": {},
   "outputs": [
    {
     "name": "stdout",
     "output_type": "stream",
     "text": [
      "Hello\n",
      "Welcome\n",
      "My name is:  Abhinav\n",
      "Age is: 24\n",
      "Location is:  Pune Maharashtra\n",
      "My post is:  Data Scientist\n"
     ]
    }
   ],
   "source": [
    "class Person:\n",
    "    print(\"Hello\")\n",
    "    \n",
    "    def __init__(laptop,name, age, location,post):\n",
    "        print(\"Welcome\")\n",
    "        laptop.name = name\n",
    "        laptop.age = age\n",
    "        laptop.loc = location\n",
    "        laptop.post= post\n",
    "        \n",
    "    def names(self):\n",
    "        print(\"My name is: \",self.name)\n",
    "        \n",
    "    def get_age(self):\n",
    "        print(\"Age is:\", self.age)\n",
    "    \n",
    "    def location(self,state):\n",
    "        print(\"Location is: \", self.loc,state)\n",
    "        \n",
    "    def my_post(self):\n",
    "        print(\"My post is: \",self.post)\n",
    "        \n",
    "        \n",
    "p1 = Person('Abhinav',24,\"Pune\",\"Data Scientist\")\n",
    "p1.names()\n",
    "p1.get_age()\n",
    "p1.location('Maharashtra')\n",
    "p1.my_post()"
   ]
  },
  {
   "cell_type": "markdown",
   "metadata": {},
   "source": [
    "1. Write a program to create Student class with roll_no, name, college_name, place using function and passing value to object\n",
    "2. Write a Python class name Circle constructed by a radius and two methods which will compute are and perimeter of circle\n",
    "3. simple and compound Interest"
   ]
  },
  {
   "cell_type": "code",
   "execution_count": 14,
   "metadata": {},
   "outputs": [
    {
     "name": "stdout",
     "output_type": "stream",
     "text": [
      "My Roll Number is:  10\n",
      "Name is:  Sachin\n",
      "College name is:  Imperial College of Engineering\n",
      "location are:  Pune Maharashtra\n"
     ]
    }
   ],
   "source": [
    "class Students:\n",
    "    def __init__(self, roll_no, name, college_name, place):\n",
    "        self.roll_no = roll_no\n",
    "        self.name = name\n",
    "        self.college_name = college_name\n",
    "        self.place = place\n",
    "    \n",
    "    def rollno(self):\n",
    "        print(\"My Roll Number is: \",self.roll_no)\n",
    "        \n",
    "    def std_name(self):\n",
    "        print(\"Name is: \", self.name)\n",
    "        \n",
    "    def college(self):\n",
    "        print(\"College name is: \", self.college_name)\n",
    "        \n",
    "    def loc(self):\n",
    "        print(\"location are: \", self.place)\n",
    "        \n",
    "s1 = Students(10,\"Sachin\",\"Imperial College of Engineering\",\"Pune Maharashtra\")\n",
    "\n",
    "s1.rollno()\n",
    "s1.std_name()\n",
    "s1.college()\n",
    "s1.loc()"
   ]
  },
  {
   "cell_type": "code",
   "execution_count": 21,
   "metadata": {},
   "outputs": [
    {
     "name": "stdout",
     "output_type": "stream",
     "text": [
      "Student ID is  1\n",
      "Student name is  Harish\n",
      "Student collage name is  BVCOR&RI\n",
      "Collage address is  Anajaneri\n"
     ]
    }
   ],
   "source": [
    "class Student:\n",
    "    def __init__(stud, roll_no,name,clg_name,address):\n",
    "        stud.roll=roll_no\n",
    "        stud.name=name\n",
    "        stud.clg_name=clg_name\n",
    "        stud.clg_address=address\n",
    "    \n",
    "    def stud_id(self):\n",
    "        print(\"Student ID is \",self.roll)\n",
    "    \n",
    "    def stud_name(self):\n",
    "        print(\"Student name is \",self.name)\n",
    "    \n",
    "    def clg_name1(self):\n",
    "        print(\"Student collage name is \",self.clg_name)\n",
    "    \n",
    "    def clg_add(self):\n",
    "        print(\"Collage address is \",self.clg_address)\n",
    "\n",
    "s1 = Student(1,\"Harish\",\"BVCOR&RI\",\"Anajaneri\")\n",
    "\n",
    "s1.stud_id()\n",
    "s1.stud_name()\n",
    "s1.clg_name1()\n",
    "s1.clg_add()"
   ]
  },
  {
   "cell_type": "code",
   "execution_count": null,
   "metadata": {},
   "outputs": [],
   "source": []
  }
 ],
 "metadata": {
  "kernelspec": {
   "display_name": "Python 3",
   "language": "python",
   "name": "python3"
  },
  "language_info": {
   "codemirror_mode": {
    "name": "ipython",
    "version": 3
   },
   "file_extension": ".py",
   "mimetype": "text/x-python",
   "name": "python",
   "nbconvert_exporter": "python",
   "pygments_lexer": "ipython3",
   "version": "3.8.3"
  }
 },
 "nbformat": 4,
 "nbformat_minor": 4
}
