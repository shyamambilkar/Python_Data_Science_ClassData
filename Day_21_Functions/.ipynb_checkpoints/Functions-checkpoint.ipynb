{
 "cells": [
  {
   "cell_type": "markdown",
   "metadata": {},
   "source": [
    "# Python Function\n",
    "1. Function is a block of code which is executed only when it is called\n",
    "2. Python Function is a block of related statement designed to perform a logical, evaluate task\n",
    "3. To define a Function, def keyword is used\n",
    "4. Function can return a data as a result\n",
    "5. you can pass data to function , known as parameter"
   ]
  },
  {
   "cell_type": "markdown",
   "metadata": {},
   "source": [
    "### Create a Function in Python"
   ]
  },
  {
   "cell_type": "code",
   "execution_count": 1,
   "metadata": {},
   "outputs": [],
   "source": [
    "def my_function():\n",
    "    print(\"Welcome to Python Function\")"
   ]
  },
  {
   "cell_type": "markdown",
   "metadata": {},
   "source": [
    "### Calling Function"
   ]
  },
  {
   "cell_type": "code",
   "execution_count": 2,
   "metadata": {},
   "outputs": [
    {
     "name": "stdout",
     "output_type": "stream",
     "text": [
      "Welcome to Python Function\n"
     ]
    }
   ],
   "source": [
    "def my_function():\n",
    "    print(\"Welcome to Python Function\")\n",
    "my_function()"
   ]
  },
  {
   "cell_type": "markdown",
   "metadata": {},
   "source": [
    "### Argument or Parameter pass in Function "
   ]
  },
  {
   "cell_type": "markdown",
   "metadata": {},
   "source": [
    "1. Information can be passed into function as arguments\n",
    "2. Argument are specified after the function name in parnthesis\n",
    "3. separate using comma"
   ]
  },
  {
   "cell_type": "code",
   "execution_count": 5,
   "metadata": {},
   "outputs": [
    {
     "name": "stdout",
     "output_type": "stream",
     "text": [
      "Hello Rahul Welcome to Python Function\n"
     ]
    }
   ],
   "source": [
    "def my_function(fname):\n",
    "    print(\"Hello\",fname + \"Welcome to Python Function\")\n",
    "    \n",
    "my_function(\"Rahul \")"
   ]
  },
  {
   "cell_type": "code",
   "execution_count": 6,
   "metadata": {},
   "outputs": [
    {
     "ename": "TypeError",
     "evalue": "my_function() missing 1 required positional argument: 'fname'",
     "output_type": "error",
     "traceback": [
      "\u001b[1;31m---------------------------------------------------------------------------\u001b[0m",
      "\u001b[1;31mTypeError\u001b[0m                                 Traceback (most recent call last)",
      "\u001b[1;32m<ipython-input-6-0808eb9194d9>\u001b[0m in \u001b[0;36m<module>\u001b[1;34m\u001b[0m\n\u001b[0;32m      2\u001b[0m     \u001b[0mprint\u001b[0m\u001b[1;33m(\u001b[0m\u001b[1;34m\"Hello\"\u001b[0m\u001b[1;33m,\u001b[0m\u001b[0mfname\u001b[0m \u001b[1;33m+\u001b[0m \u001b[1;34m\"Welcome to Python Function\"\u001b[0m\u001b[1;33m)\u001b[0m\u001b[1;33m\u001b[0m\u001b[1;33m\u001b[0m\u001b[0m\n\u001b[0;32m      3\u001b[0m \u001b[1;33m\u001b[0m\u001b[0m\n\u001b[1;32m----> 4\u001b[1;33m \u001b[0mmy_function\u001b[0m\u001b[1;33m(\u001b[0m\u001b[1;33m)\u001b[0m\u001b[1;33m\u001b[0m\u001b[1;33m\u001b[0m\u001b[0m\n\u001b[0m",
      "\u001b[1;31mTypeError\u001b[0m: my_function() missing 1 required positional argument: 'fname'"
     ]
    }
   ],
   "source": [
    "def my_function(fname):\n",
    "    print(\"Hello\",fname + \"Welcome to Python Function\")\n",
    "    \n",
    "my_function()"
   ]
  },
  {
   "cell_type": "markdown",
   "metadata": {},
   "source": [
    "### Number of Arguments"
   ]
  },
  {
   "cell_type": "code",
   "execution_count": 7,
   "metadata": {},
   "outputs": [
    {
     "name": "stdout",
     "output_type": "stream",
     "text": [
      "Hello Abhinav Vaidya Welcome to Python Function\n"
     ]
    }
   ],
   "source": [
    "def my_Information(fname, lname):\n",
    "    print('Hello',fname, lname, \"Welcome to Python Function\")\n",
    "    \n",
    "my_Information(\"Abhinav\", \"Vaidya\")\n",
    "    "
   ]
  },
  {
   "cell_type": "code",
   "execution_count": 9,
   "metadata": {},
   "outputs": [
    {
     "name": "stdout",
     "output_type": "stream",
     "text": [
      "Hello Abhinav Vaidya Welcome to Python Function\n"
     ]
    }
   ],
   "source": [
    "def my_Information(fname, lname):\n",
    "    print('Hello',fname, lname, \"Welcome to Python Function\")\n",
    "    \n",
    "my_Information(\"Abhinav\",\"Vaidya\")\n",
    "    "
   ]
  },
  {
   "cell_type": "code",
   "execution_count": 10,
   "metadata": {},
   "outputs": [
    {
     "ename": "TypeError",
     "evalue": "my_Information() missing 1 required positional argument: 'lname'",
     "output_type": "error",
     "traceback": [
      "\u001b[1;31m---------------------------------------------------------------------------\u001b[0m",
      "\u001b[1;31mTypeError\u001b[0m                                 Traceback (most recent call last)",
      "\u001b[1;32m<ipython-input-10-86d98d99d89e>\u001b[0m in \u001b[0;36m<module>\u001b[1;34m\u001b[0m\n\u001b[0;32m      2\u001b[0m     \u001b[0mprint\u001b[0m\u001b[1;33m(\u001b[0m\u001b[1;34m'Hello'\u001b[0m\u001b[1;33m,\u001b[0m\u001b[0mfname\u001b[0m\u001b[1;33m,\u001b[0m \u001b[0mlname\u001b[0m\u001b[1;33m,\u001b[0m \u001b[1;34m\"Welcome to Python Function\"\u001b[0m\u001b[1;33m)\u001b[0m\u001b[1;33m\u001b[0m\u001b[1;33m\u001b[0m\u001b[0m\n\u001b[0;32m      3\u001b[0m \u001b[1;33m\u001b[0m\u001b[0m\n\u001b[1;32m----> 4\u001b[1;33m \u001b[0mmy_Information\u001b[0m\u001b[1;33m(\u001b[0m\u001b[1;34m\"Abhinav\"\u001b[0m\u001b[1;33m,\u001b[0m\u001b[1;33m)\u001b[0m\u001b[1;33m\u001b[0m\u001b[1;33m\u001b[0m\u001b[0m\n\u001b[0m\u001b[0;32m      5\u001b[0m \u001b[1;33m\u001b[0m\u001b[0m\n",
      "\u001b[1;31mTypeError\u001b[0m: my_Information() missing 1 required positional argument: 'lname'"
     ]
    }
   ],
   "source": [
    "def my_Information(fname, lname):\n",
    "    print('Hello',fname, lname, \"Welcome to Python Function\")\n",
    "    \n",
    "my_Information(\"Abhinav\",)\n",
    "    "
   ]
  },
  {
   "cell_type": "markdown",
   "metadata": {},
   "source": [
    "#### 1. Arbitary Arguments, *args\n",
    "#### 2. Keyword Arguments \n",
    "##### 3. Arbitary Keyword Arguments, **kwargs"
   ]
  },
  {
   "cell_type": "markdown",
   "metadata": {},
   "source": [
    "## 1. Arbitary Arguments"
   ]
  },
  {
   "cell_type": "code",
   "execution_count": 11,
   "metadata": {},
   "outputs": [
    {
     "ename": "TypeError",
     "evalue": "my_function() takes 1 positional argument but 5 were given",
     "output_type": "error",
     "traceback": [
      "\u001b[1;31m---------------------------------------------------------------------------\u001b[0m",
      "\u001b[1;31mTypeError\u001b[0m                                 Traceback (most recent call last)",
      "\u001b[1;32m<ipython-input-11-85e7b8c986cb>\u001b[0m in \u001b[0;36m<module>\u001b[1;34m\u001b[0m\n\u001b[0;32m      2\u001b[0m     \u001b[0mprint\u001b[0m\u001b[1;33m(\u001b[0m\u001b[1;34m\"Welcome to Data Science Batch\"\u001b[0m\u001b[1;33m,\u001b[0m\u001b[0mfname\u001b[0m\u001b[1;33m)\u001b[0m\u001b[1;33m\u001b[0m\u001b[1;33m\u001b[0m\u001b[0m\n\u001b[0;32m      3\u001b[0m \u001b[1;33m\u001b[0m\u001b[0m\n\u001b[1;32m----> 4\u001b[1;33m \u001b[0mmy_function\u001b[0m\u001b[1;33m(\u001b[0m\u001b[1;34m\"Abhinav\"\u001b[0m\u001b[1;33m,\u001b[0m\u001b[1;34m\"Rahul\"\u001b[0m\u001b[1;33m,\u001b[0m\u001b[1;34m\"Nilesh\"\u001b[0m\u001b[1;33m,\u001b[0m\u001b[1;34m\"Megha\"\u001b[0m\u001b[1;33m,\u001b[0m\u001b[1;34m\"Snehal\"\u001b[0m\u001b[1;33m)\u001b[0m\u001b[1;33m\u001b[0m\u001b[1;33m\u001b[0m\u001b[0m\n\u001b[0m",
      "\u001b[1;31mTypeError\u001b[0m: my_function() takes 1 positional argument but 5 were given"
     ]
    }
   ],
   "source": [
    "def my_function(fname):\n",
    "    print(\"Welcome to Data Science Batch\",fname)\n",
    "    \n",
    "my_function(\"Abhinav\",\"Rahul\",\"Nilesh\",\"Megha\",\"Snehal\")"
   ]
  },
  {
   "cell_type": "code",
   "execution_count": 14,
   "metadata": {},
   "outputs": [
    {
     "name": "stdout",
     "output_type": "stream",
     "text": [
      "Welcome to Data Science Batch ('Abhinav', 'Rahul', 'Nilesh', 'Megha', 'Snehal')\n"
     ]
    }
   ],
   "source": [
    "def my_function(*fname):\n",
    "    print(\"Welcome to Data Science Batch\",fname)\n",
    "    \n",
    "my_function(\"Abhinav\",\"Rahul\",\"Nilesh\",\"Megha\",\"Snehal\")"
   ]
  },
  {
   "cell_type": "code",
   "execution_count": 15,
   "metadata": {},
   "outputs": [
    {
     "name": "stdout",
     "output_type": "stream",
     "text": [
      "Welcome to Data Science Batch Nilesh\n"
     ]
    }
   ],
   "source": [
    "def my_function(*fname):\n",
    "    print(\"Welcome to Data Science Batch\",fname[2])\n",
    "    \n",
    "my_function(\"Abhinav\",\"Rahul\",\"Nilesh\",\"Megha\",\"Snehal\")"
   ]
  },
  {
   "cell_type": "code",
   "execution_count": 18,
   "metadata": {},
   "outputs": [
    {
     "name": "stdout",
     "output_type": "stream",
     "text": [
      "Nilesh Welcome to Pune City\n"
     ]
    }
   ],
   "source": [
    "def my_function(*emp):\n",
    "    print(emp[2],\"Welcome to Pune City\")\n",
    "    \n",
    "my_function(\"Abhinav\",\"Rahul\",\"Nilesh\",\"Megha\",\"Snehal\")"
   ]
  },
  {
   "cell_type": "code",
   "execution_count": 20,
   "metadata": {},
   "outputs": [
    {
     "name": "stdout",
     "output_type": "stream",
     "text": [
      "Nilesh Welcome to Pune City\n"
     ]
    }
   ],
   "source": [
    "def my_function(*emp):\n",
    "    print(emp[2],\"Welcome to Pune City\")\n",
    "    \n",
    "my_function(\"Abhinav\",\"Rahul\",\"Nilesh\",\"Megha\",\"Snehal\")"
   ]
  },
  {
   "cell_type": "markdown",
   "metadata": {},
   "source": [
    "## 2. Keyword Arguments"
   ]
  },
  {
   "cell_type": "code",
   "execution_count": 16,
   "metadata": {},
   "outputs": [
    {
     "name": "stdout",
     "output_type": "stream",
     "text": [
      "Rahul Welcome to Data Science Batch\n"
     ]
    }
   ],
   "source": [
    "def my_function(stud1, stud2, stud3):\n",
    "    print(stud2,\"Welcome to Data Science Batch\")\n",
    "    \n",
    "my_function(stud1=\"Abhinav\",stud2=\"Rahul\",stud3=\"Nilesh\")"
   ]
  },
  {
   "cell_type": "code",
   "execution_count": 17,
   "metadata": {},
   "outputs": [
    {
     "name": "stdout",
     "output_type": "stream",
     "text": [
      "Abhinav Snehal Welcome to Data Science Batch\n"
     ]
    }
   ],
   "source": [
    "def my_function(emp1, emp2, emp3):\n",
    "    print(emp2, emp3,\"Welcome to Data Science Batch\")\n",
    "    \n",
    "my_function(emp1=\"Nilesh\",emp2=\"Abhinav\",emp3=\"Snehal\")"
   ]
  },
  {
   "cell_type": "markdown",
   "metadata": {},
   "source": [
    "## 3. Arbitary Keyword Arguments"
   ]
  },
  {
   "cell_type": "code",
   "execution_count": 23,
   "metadata": {},
   "outputs": [
    {
     "name": "stdout",
     "output_type": "stream",
     "text": [
      "Abhinav Welcome to Data Science Batch\n"
     ]
    }
   ],
   "source": [
    "def my_Function(**employee):\n",
    "    print(employee[\"fname\"],\"Welcome to Data Science Batch\")\n",
    "    \n",
    "my_Function(fname = \"Abhinav\", lname =\"Vaidya\",fname1 = \"Nilesh\")"
   ]
  },
  {
   "cell_type": "code",
   "execution_count": 25,
   "metadata": {},
   "outputs": [
    {
     "name": "stdout",
     "output_type": "stream",
     "text": [
      "Abhinav Welcome to Data Science Batch\n"
     ]
    }
   ],
   "source": [
    "def my_Function(**employee):\n",
    "    print(employee[\"fname\"],\"Welcome to Data Science Batch\")\n",
    "    \n",
    "my_Function(fname = \"Abhinav\", lname =\"Vaidya\",fname1 = \"Nilesh\")"
   ]
  },
  {
   "cell_type": "markdown",
   "metadata": {},
   "source": [
    "## Default Parameter Value"
   ]
  },
  {
   "cell_type": "code",
   "execution_count": 29,
   "metadata": {},
   "outputs": [
    {
     "name": "stdout",
     "output_type": "stream",
     "text": [
      "I am From Maharashtra \n",
      "I am From Gujrat \n",
      "I am From India\n"
     ]
    }
   ],
   "source": [
    "def my_function(state = \" India\"):\n",
    "    print(\"I am From\"+state)\n",
    "    \n",
    "my_function(\" Maharashtra \")\n",
    "my_function(\" Gujrat \")\n",
    "my_function()"
   ]
  },
  {
   "cell_type": "code",
   "execution_count": 35,
   "metadata": {},
   "outputs": [
    {
     "name": "stdout",
     "output_type": "stream",
     "text": [
      "I am From  Akola\n",
      "I am FromAmravati\n",
      "I am From Pune\n"
     ]
    },
    {
     "ename": "TypeError",
     "evalue": "hello_world() missing 1 required positional argument: 'country'",
     "output_type": "error",
     "traceback": [
      "\u001b[1;31m---------------------------------------------------------------------------\u001b[0m",
      "\u001b[1;31mTypeError\u001b[0m                                 Traceback (most recent call last)",
      "\u001b[1;32m<ipython-input-35-e1cbbc6bc0f3>\u001b[0m in \u001b[0;36m<module>\u001b[1;34m\u001b[0m\n\u001b[0;32m      5\u001b[0m \u001b[0mhello_world\u001b[0m\u001b[1;33m(\u001b[0m\u001b[1;34m\"Amravati\"\u001b[0m\u001b[1;33m)\u001b[0m\u001b[1;33m\u001b[0m\u001b[1;33m\u001b[0m\u001b[0m\n\u001b[0;32m      6\u001b[0m \u001b[0mhello_world\u001b[0m\u001b[1;33m(\u001b[0m\u001b[1;34m\" Pune\"\u001b[0m\u001b[1;33m)\u001b[0m\u001b[1;33m\u001b[0m\u001b[1;33m\u001b[0m\u001b[0m\n\u001b[1;32m----> 7\u001b[1;33m \u001b[0mhello_world\u001b[0m\u001b[1;33m(\u001b[0m\u001b[1;33m)\u001b[0m\u001b[1;33m\u001b[0m\u001b[1;33m\u001b[0m\u001b[0m\n\u001b[0m",
      "\u001b[1;31mTypeError\u001b[0m: hello_world() missing 1 required positional argument: 'country'"
     ]
    }
   ],
   "source": [
    "def hello_world(country):\n",
    "    print(\"I am From\" + country)\n",
    "    \n",
    "hello_world(\"  Akola\")\n",
    "hello_world(\"Amravati\")\n",
    "hello_world(\" Pune\")\n",
    "hello_world()"
   ]
  },
  {
   "cell_type": "code",
   "execution_count": 40,
   "metadata": {},
   "outputs": [
    {
     "name": "stdout",
     "output_type": "stream",
     "text": [
      "I am From  Akola\n",
      "I am FromAmravati\n",
      "I am From Pune\n",
      "I am From India\n"
     ]
    }
   ],
   "source": [
    "def hello_world(city = \" India\"):\n",
    "    print(\"I am From\" + city)\n",
    "    \n",
    "hello_world(\"  Akola\")\n",
    "hello_world(\"Amravati\")\n",
    "hello_world(\" Pune\")\n",
    "hello_world()"
   ]
  },
  {
   "cell_type": "code",
   "execution_count": 47,
   "metadata": {},
   "outputs": [
    {
     "name": "stdout",
     "output_type": "stream",
     "text": [
      "30\n",
      "100\n"
     ]
    }
   ],
   "source": [
    "def my_calculation(x):\n",
    "    return 10 * x\n",
    "\n",
    "print(my_calculation(3))\n",
    "print(my_calculation(10))\n",
    "\n"
   ]
  },
  {
   "cell_type": "code",
   "execution_count": null,
   "metadata": {},
   "outputs": [],
   "source": []
  }
 ],
 "metadata": {
  "kernelspec": {
   "display_name": "Python 3",
   "language": "python",
   "name": "python3"
  },
  "language_info": {
   "codemirror_mode": {
    "name": "ipython",
    "version": 3
   },
   "file_extension": ".py",
   "mimetype": "text/x-python",
   "name": "python",
   "nbconvert_exporter": "python",
   "pygments_lexer": "ipython3",
   "version": "3.8.3"
  }
 },
 "nbformat": 4,
 "nbformat_minor": 4
}
