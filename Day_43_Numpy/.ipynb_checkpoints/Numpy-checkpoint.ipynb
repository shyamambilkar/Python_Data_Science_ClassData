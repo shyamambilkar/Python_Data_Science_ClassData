{
 "cells": [
  {
   "cell_type": "markdown",
   "id": "41e7ed5b",
   "metadata": {},
   "source": [
    "# Numpy"
   ]
  },
  {
   "cell_type": "markdown",
   "id": "8fbd3b8b",
   "metadata": {},
   "source": [
    "1. Numpy is a library used for working with Array\n",
    "2. Numpy stands for Numerical Python\n",
    "3. Numpy library consisting of multidimensional array object and collection routine\n",
    "4. Numpy using mathematical and logical operations on array can be performed\n",
    "5. Numpy also has a functions working with diffrent domain:\n",
    "    1. Linear algebra\n",
    "    2. Fourior Transform\n",
    "    3. matrices\n",
    "6. Numpy is an open source core python library for scintific computation\n",
    "7. Python is slower as compared to fortron and other language"
   ]
  },
  {
   "cell_type": "markdown",
   "id": "847c8678",
   "metadata": {},
   "source": [
    "1. Features of Numpy:\n",
    "    1. High Performance\n",
    "    2. Integrated code from C and C++\n",
    "    3. Multidimensional Container\n",
    "    4. Broadcastcasting Functions\n",
    "    5. Work with diffrent databased\n",
    "    6. Additional Linear Algebra"
   ]
  },
  {
   "cell_type": "markdown",
   "id": "d9ea97c0",
   "metadata": {},
   "source": [
    "#### 1. High Performance (N-dimensional Array object):\n",
    "    1. It is homogeneous Array object\n",
    "    2. Perform operations on Array elements\n",
    "    3. Array in Numpy can be one dimensional or Multidimensional:\n",
    "        1. One Dimensional:\n",
    "            1. one dimensional array can be consisting of single row or column\n",
    "            2. elements are homogeneous in nature\n",
    "            3. my_array = [1,2,3,4]\n",
    "        2. Multidimensional:\n",
    "            1. we have various column and rows\n",
    "            2. each column as dimension, elements are homogeneous"
   ]
  },
  {
   "cell_type": "markdown",
   "id": "3d57e391",
   "metadata": {},
   "source": [
    "#### 2. Integrating Code form C and C++:\n",
    "    1. integrate the functionalites in various Programming language this helps to implements inter- platform functions"
   ]
  },
  {
   "cell_type": "markdown",
   "id": "03ebf0ea",
   "metadata": {},
   "source": [
    "#### 3. Multidimensional Container:\n",
    "    1. Generic data refers to the parameterized data type of Array\n",
    "    2. It can perform function on the generic data type\n",
    "    3. Parameteres help increse the diversity of Array"
   ]
  },
  {
   "cell_type": "markdown",
   "id": "7fa2267d",
   "metadata": {},
   "source": [
    "#### 4. Addditional Linear Algebra, Foriour Transform, Random Number Capabilty:\n",
    "    1. capability to perform complex operation of elements like linear algebra, Fourior Transform etc.\n",
    "    2. We have separate module for each of complex Function:\n",
    "        1. linalg - Linear Algebra\n",
    "        2. fft - Fouriour Transform\n",
    "        3. matrics -  matrices\n",
    "        4. matplotlib - Plotting Graph"
   ]
  },
  {
   "cell_type": "markdown",
   "id": "50c65944",
   "metadata": {},
   "source": [
    "#### 5. It Consist Broadcasting Function:\n",
    "    1. It is very useful work with Arrray of uneven shape\n",
    "    2. some rules for limitations and its implementation\n",
    "    3. for broadcastin one array need to be one dimensional"
   ]
  },
  {
   "cell_type": "markdown",
   "id": "d28b792f",
   "metadata": {},
   "source": [
    "#### 6. Work with Varied Databases:\n",
    "    1. work with different data types\n",
    "    2. [dtype] function can be used"
   ]
  },
  {
   "cell_type": "markdown",
   "id": "fadb2c22",
   "metadata": {},
   "source": [
    "#### 1. How to Install any Library [NumPy]:\n",
    "    1. pip install NumPy\n",
    "    2. import in application using [import] keyword\n",
    "    3. import numpy [use alise np]\n",
    "    4. import numpy as np\n",
    "    "
   ]
  },
  {
   "cell_type": "code",
   "execution_count": 2,
   "id": "5b36b3e6",
   "metadata": {},
   "outputs": [],
   "source": [
    "import numpy"
   ]
  },
  {
   "cell_type": "code",
   "execution_count": 5,
   "id": "29db63c8",
   "metadata": {},
   "outputs": [],
   "source": [
    "my_array = numpy.array([1, 2, 3, 4, 5])"
   ]
  },
  {
   "cell_type": "code",
   "execution_count": 6,
   "id": "8d24de6b",
   "metadata": {},
   "outputs": [
    {
     "data": {
      "text/plain": [
       "array([1, 2, 3, 4, 5])"
      ]
     },
     "execution_count": 6,
     "metadata": {},
     "output_type": "execute_result"
    }
   ],
   "source": [
    "my_array"
   ]
  },
  {
   "cell_type": "code",
   "execution_count": 7,
   "id": "cb41d8f9",
   "metadata": {},
   "outputs": [],
   "source": [
    "import numpy as np"
   ]
  },
  {
   "cell_type": "code",
   "execution_count": 8,
   "id": "286f22bd",
   "metadata": {},
   "outputs": [],
   "source": [
    "my_array = np.array([10,20,30,40,50])"
   ]
  },
  {
   "cell_type": "code",
   "execution_count": 9,
   "id": "a22b2225",
   "metadata": {},
   "outputs": [
    {
     "name": "stdout",
     "output_type": "stream",
     "text": [
      "[10 20 30 40 50]\n"
     ]
    }
   ],
   "source": [
    "print(my_array)"
   ]
  },
  {
   "cell_type": "code",
   "execution_count": 10,
   "id": "b95413ab",
   "metadata": {},
   "outputs": [
    {
     "name": "stdout",
     "output_type": "stream",
     "text": [
      "1.20.1\n"
     ]
    }
   ],
   "source": [
    "print(np.__version__)"
   ]
  },
  {
   "cell_type": "markdown",
   "id": "86331047",
   "metadata": {},
   "source": [
    "### Type of Array"
   ]
  },
  {
   "cell_type": "code",
   "execution_count": 11,
   "id": "c6b07a24",
   "metadata": {},
   "outputs": [
    {
     "name": "stdout",
     "output_type": "stream",
     "text": [
      "<class 'numpy.ndarray'>\n"
     ]
    }
   ],
   "source": [
    "my_array = np.array([15,45,75,85, 62])\n",
    "\n",
    "print(type(my_array))"
   ]
  },
  {
   "cell_type": "code",
   "execution_count": null,
   "id": "d50538fa",
   "metadata": {},
   "outputs": [],
   "source": []
  },
  {
   "cell_type": "code",
   "execution_count": null,
   "id": "f8e27ca2",
   "metadata": {},
   "outputs": [],
   "source": []
  }
 ],
 "metadata": {
  "kernelspec": {
   "display_name": "Python 3",
   "language": "python",
   "name": "python3"
  },
  "language_info": {
   "codemirror_mode": {
    "name": "ipython",
    "version": 3
   },
   "file_extension": ".py",
   "mimetype": "text/x-python",
   "name": "python",
   "nbconvert_exporter": "python",
   "pygments_lexer": "ipython3",
   "version": "3.8.8"
  }
 },
 "nbformat": 4,
 "nbformat_minor": 5
}
