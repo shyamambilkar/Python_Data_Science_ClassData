{
 "cells": [
  {
   "cell_type": "code",
   "execution_count": 1,
   "metadata": {},
   "outputs": [
    {
     "name": "stdout",
     "output_type": "stream",
     "text": [
      "perimeter of circle is :31.40\n",
      "area of circle is :78.50\n"
     ]
    }
   ],
   "source": [
    "class circle:\n",
    "    def __init__(self,radius):\n",
    "        self.radius= radius\n",
    "    def perimeter(self):\n",
    "        perimeter_of_circle = 2*3.14*(self.radius)\n",
    "        print(\"perimeter of circle is :\" \"%.2f\" %perimeter_of_circle)\n",
    "    def area(self):\n",
    "        area_of_circle = 3.14*(self.radius**2)\n",
    "        print(\"area of circle is :\" \"%.2f\" %area_of_circle)\n",
    "        \n",
    "p1=circle(5)\n",
    "p1.perimeter()\n",
    "p1.area()"
   ]
  },
  {
   "cell_type": "code",
   "execution_count": 2,
   "metadata": {},
   "outputs": [
    {
     "name": "stdout",
     "output_type": "stream",
     "text": [
      "simple interest is:1200.00\n",
      "compound interest is:2138.43\n"
     ]
    }
   ],
   "source": [
    "class interest:\n",
    "    def __init__(self,p,n,r):\n",
    "        self.p=p\n",
    "        self.n=n\n",
    "        self.r=r\n",
    "    def simple(self):\n",
    "        simple_interest=(self.p)*(self.n)*(self.r)/100\n",
    "        print(\"simple interest is:\" \"%.2f\" %simple_interest)\n",
    "    def compound(self):\n",
    "        compound_interest=self.p*((1+self.r/100)**self.n-1)\n",
    "        print(\"compound interest is:\" \"%.2f\" %compound_interest)\n",
    "p=interest(1000,12,10)\n",
    "p.simple()\n",
    "p.compound()"
   ]
  },
  {
   "cell_type": "code",
   "execution_count": 3,
   "metadata": {},
   "outputs": [
    {
     "name": "stdout",
     "output_type": "stream",
     "text": [
      "Enter First Number: 10\n",
      "Enter Second Number: 20\n",
      "Addition of Two no is 30\n"
     ]
    }
   ],
   "source": [
    "a = int(input(\"Enter First Number: \"))\n",
    "b = int(input(\"Enter Second Number: \"))\n",
    "\n",
    "c = a + b\n",
    "\n",
    "print(\"Addition of Two no is\", c)"
   ]
  },
  {
   "cell_type": "markdown",
   "metadata": {},
   "source": [
    "## Inheritance"
   ]
  },
  {
   "cell_type": "markdown",
   "metadata": {},
   "source": [
    "1. Inheritance is the capability of one class to derive or inherit the properties or method from another class\n",
    "2. The New Class called as (Derived or Child) class and one from inherit is called as (Parent Class or Base Class)\n",
    "3. There are two terms in Inheritance:\n",
    "    1. Parent Class: Base Class\n",
    "    2. Child Class: Derived Class\n",
    "    \n",
    "1. It represents real world problem relationship well\n",
    "2. It Provides reusability of code\n",
    "3. It allows us to add more feature without modifying it\n",
    "4. it transitive in Nature, which means that:\n",
    "    1. if Class B inherits from another class A. then all the subclasses as B would automatically inherit class A\n",
    "\n",
    "There are different types of Inheritance:\n",
    "    1. Single Inheritance\n",
    "    2. Multiple Inheritance\n",
    "    3. Multilevel Inheritance\n",
    "    4. Hirarchical Inheritance\n",
    "    5. Hybrid Inheritance"
   ]
  },
  {
   "cell_type": "code",
   "execution_count": null,
   "metadata": {},
   "outputs": [],
   "source": []
  },
  {
   "cell_type": "markdown",
   "metadata": {},
   "source": [
    "### Parent Class"
   ]
  },
  {
   "cell_type": "code",
   "execution_count": 4,
   "metadata": {},
   "outputs": [
    {
     "name": "stdout",
     "output_type": "stream",
     "text": [
      "Person Name is: Nilesh Rashinakar\n"
     ]
    }
   ],
   "source": [
    "class Person:\n",
    "    def __init__(self, fname, lname):\n",
    "        self.firstname = fname\n",
    "        self.lastname = lname\n",
    "   \n",
    "    def printname(self):\n",
    "        print(\"Person Name is:\",self.firstname, self.lastname)\n",
    "        \n",
    "x = Person('Nilesh','Rashinakar')\n",
    "x.printname()"
   ]
  },
  {
   "cell_type": "markdown",
   "metadata": {},
   "source": [
    "### Parent  and Child Class"
   ]
  },
  {
   "cell_type": "code",
   "execution_count": 6,
   "metadata": {},
   "outputs": [
    {
     "name": "stdout",
     "output_type": "stream",
     "text": [
      "Person Name is: Rahul Tripathi\n"
     ]
    }
   ],
   "source": [
    "# Parent Class\n",
    "class Parent:\n",
    "    def __init__(self, fname, lname):\n",
    "        self.firstname = fname\n",
    "        self.lastname = lname\n",
    "   \n",
    "    def printname(self):\n",
    "        print(\"Person Name is:\",self.firstname, self.lastname)\n",
    "        \n",
    "# Child Class\n",
    "class Child(Parent):\n",
    "    pass\n",
    "\n",
    "x = Child('Rahul','Tripathi')\n",
    "x.printname()"
   ]
  },
  {
   "cell_type": "code",
   "execution_count": 11,
   "metadata": {},
   "outputs": [
    {
     "name": "stdout",
     "output_type": "stream",
     "text": [
      "Person Name is: Mahendrasing Dhoni\n",
      "My Post is: WK\n"
     ]
    },
    {
     "data": {
      "text/plain": [
       "True"
      ]
     },
     "execution_count": 11,
     "metadata": {},
     "output_type": "execute_result"
    }
   ],
   "source": [
    "class Person:\n",
    "    def __init__(self, fname, lname,post):\n",
    "        self.firstname = fname\n",
    "        self.lastname = lname\n",
    "        self.mypost =post\n",
    "   \n",
    "    def printname(self):\n",
    "        print(\"Person Name is:\",self.firstname, self.lastname)\n",
    "        print(\"My Post is:\",self.mypost)\n",
    "        \n",
    "class Employee(Person):\n",
    "    \n",
    "    def my_employee(self):\n",
    "        return True\n",
    "\n",
    "#Driver Code\n",
    "# emp = Person('Rahul','Tripathi','DS')\n",
    "# emp.printname()\n",
    "\n",
    "emp = Employee('Mahendrasing','Dhoni','WK')\n",
    "emp.printname()\n",
    "emp.my_employee()"
   ]
  },
  {
   "cell_type": "code",
   "execution_count": 13,
   "metadata": {},
   "outputs": [],
   "source": [
    "class Person:\n",
    "    def __init__(self, fname, lname,post):\n",
    "        self.firstname = fname\n",
    "        self.lastname = lname\n",
    "        self.mypost =post\n",
    "   \n",
    "    def printname(self):\n",
    "        print(\"Person Name is:\",self.firstname, self.lastname)\n",
    "        print(\"My Post is:\",self.mypost)"
   ]
  },
  {
   "cell_type": "code",
   "execution_count": 14,
   "metadata": {},
   "outputs": [],
   "source": [
    "        \n",
    "class Employee(Person):\n",
    "    \n",
    "    def my_employee(self):\n",
    "        return True"
   ]
  },
  {
   "cell_type": "code",
   "execution_count": 15,
   "metadata": {},
   "outputs": [
    {
     "name": "stdout",
     "output_type": "stream",
     "text": [
      "Person Name is: Mahendrasing Dhoni\n",
      "My Post is: WK\n"
     ]
    },
    {
     "data": {
      "text/plain": [
       "True"
      ]
     },
     "execution_count": 15,
     "metadata": {},
     "output_type": "execute_result"
    }
   ],
   "source": [
    "\n",
    "emp = Employee('Mahendrasing','Dhoni','WK')\n",
    "emp.printname()\n",
    "emp.my_employee()"
   ]
  },
  {
   "cell_type": "markdown",
   "metadata": {},
   "source": [
    "# 1. Single Inheritance:\n",
    "    1. When  child class inherits fro only one Parent class, then it is called as single Inheritance"
   ]
  },
  {
   "cell_type": "markdown",
   "metadata": {},
   "source": [
    "![](data:image/png;base64,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)"
   ]
  },
  {
   "cell_type": "markdown",
   "metadata": {},
   "source": [
    "![](https://media.geeksforgeeks.org/wp-content/uploads/Single.jpg)"
   ]
  },
  {
   "cell_type": "code",
   "execution_count": null,
   "metadata": {},
   "outputs": [],
   "source": []
  }
 ],
 "metadata": {
  "kernelspec": {
   "display_name": "Python 3",
   "language": "python",
   "name": "python3"
  },
  "language_info": {
   "codemirror_mode": {
    "name": "ipython",
    "version": 3
   },
   "file_extension": ".py",
   "mimetype": "text/x-python",
   "name": "python",
   "nbconvert_exporter": "python",
   "pygments_lexer": "ipython3",
   "version": "3.8.3"
  }
 },
 "nbformat": 4,
 "nbformat_minor": 4
}
