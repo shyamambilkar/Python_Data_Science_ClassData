{
 "cells": [
  {
   "cell_type": "code",
   "execution_count": 1,
   "metadata": {},
   "outputs": [],
   "source": [
    "def my_function():\n",
    "    print(\"Hello, Welcome to Function\")"
   ]
  },
  {
   "cell_type": "code",
   "execution_count": 2,
   "metadata": {},
   "outputs": [
    {
     "name": "stdout",
     "output_type": "stream",
     "text": [
      "Hello, Welcome to Function\n"
     ]
    }
   ],
   "source": [
    "def my_function():\n",
    "    print(\"Hello, Welcome to Function\")\n",
    "my_function()"
   ]
  },
  {
   "cell_type": "code",
   "execution_count": 3,
   "metadata": {},
   "outputs": [
    {
     "name": "stdout",
     "output_type": "stream",
     "text": [
      "Hello Rohan Welcome to Data Science\n",
      "Hello Snehal Welcome to Data Science\n"
     ]
    }
   ],
   "source": [
    "def my_function(fname):\n",
    "    print(\"Hello\",fname, \"Welcome to Data Science\")\n",
    "    \n",
    "my_function(\"Rohan\")\n",
    "my_function(\"Snehal\")"
   ]
  },
  {
   "cell_type": "code",
   "execution_count": 10,
   "metadata": {},
   "outputs": [
    {
     "name": "stdout",
     "output_type": "stream",
     "text": [
      "Hello Rohan Welcome to Data Science\n",
      "Hello Snehal Welcome to Data Science\n",
      "Hello Person Welcome to Data Science\n"
     ]
    }
   ],
   "source": [
    "def my_function(fname=\"Person\"):\n",
    "    print(\"Hello\",fname, \"Welcome to Data Science\")\n",
    "    \n",
    "my_function(\"Rohan\")\n",
    "my_function(\"Snehal\")\n",
    "my_function()"
   ]
  },
  {
   "cell_type": "code",
   "execution_count": 15,
   "metadata": {},
   "outputs": [
    {
     "name": "stdout",
     "output_type": "stream",
     "text": [
      "40\n"
     ]
    }
   ],
   "source": [
    "def my_function(x):\n",
    "    return 8 * x\n",
    "\n",
    "print(my_function(5))"
   ]
  },
  {
   "cell_type": "code",
   "execution_count": 19,
   "metadata": {},
   "outputs": [
    {
     "name": "stdout",
     "output_type": "stream",
     "text": [
      "40\n"
     ]
    }
   ],
   "source": [
    "def my_function(x): \n",
    "    return 8 * x\n",
    "print(my_function(5))"
   ]
  },
  {
   "cell_type": "markdown",
   "metadata": {},
   "source": [
    "# Lambda Function"
   ]
  },
  {
   "cell_type": "markdown",
   "metadata": {},
   "source": [
    "1. Lambda is Anonymous Function\n",
    "2. Lambda function can take any arguments, but only one expression"
   ]
  },
  {
   "cell_type": "code",
   "execution_count": 18,
   "metadata": {},
   "outputs": [
    {
     "name": "stdout",
     "output_type": "stream",
     "text": [
      "50\n"
     ]
    }
   ],
   "source": [
    "result = lambda x : x * 10 \n",
    "print(result(5))"
   ]
  },
  {
   "cell_type": "code",
   "execution_count": 21,
   "metadata": {},
   "outputs": [
    {
     "name": "stdout",
     "output_type": "stream",
     "text": [
      "100\n"
     ]
    }
   ],
   "source": [
    "result = lambda a , b : a * b\n",
    "print(result(10,10))"
   ]
  },
  {
   "cell_type": "code",
   "execution_count": 24,
   "metadata": {},
   "outputs": [
    {
     "name": "stdout",
     "output_type": "stream",
     "text": [
      "130\n"
     ]
    }
   ],
   "source": [
    "result = lambda a , b, c : a * b + c \n",
    "print(result(10,10, 30))"
   ]
  },
  {
   "cell_type": "code",
   "execution_count": 32,
   "metadata": {},
   "outputs": [
    {
     "name": "stdout",
     "output_type": "stream",
     "text": [
      "25\n"
     ]
    }
   ],
   "source": [
    "def my_function(n,m):\n",
    "    return lambda a, b, c : a *n + b - c\n",
    "\n",
    "my_values = my_function(5,6)\n",
    "print(my_values(10,5, 30))"
   ]
  },
  {
   "cell_type": "markdown",
   "metadata": {},
   "source": [
    "# Calculator"
   ]
  },
  {
   "cell_type": "code",
   "execution_count": 33,
   "metadata": {},
   "outputs": [
    {
     "name": "stdout",
     "output_type": "stream",
     "text": [
      "Enter First Number: 10\n",
      "Enter Second Number: 20\n",
      "30\n",
      "-10\n",
      "200\n",
      "0.5\n"
     ]
    }
   ],
   "source": [
    "a = int(input(\"Enter First Number: \"))\n",
    "b = int(input(\"Enter Second Number: \"))\n",
    "\n",
    "c = a + b\n",
    "d = a - b\n",
    "e = a * b\n",
    "f = a / b\n",
    "\n",
    "print(c)\n",
    "print(d)\n",
    "print(e)\n",
    "print(f)"
   ]
  },
  {
   "cell_type": "code",
   "execution_count": 34,
   "metadata": {},
   "outputs": [],
   "source": [
    "# Write a Program to make simple Calculator using Function"
   ]
  },
  {
   "cell_type": "code",
   "execution_count": 45,
   "metadata": {},
   "outputs": [
    {
     "name": "stdout",
     "output_type": "stream",
     "text": [
      "Select Operation to Perform Specific Task\n",
      "1. add\n",
      "2. Substract\n",
      "3. Multiplication\n",
      "4. Division\n",
      "Enter Choice(1/2/3/4): 12\n",
      "Invalid Input\n",
      "Enter Choice(1/2/3/4): 12\n",
      "Invalid Input\n",
      "Enter Choice(1/2/3/4): 1\n",
      "Enter First Number: 12\n",
      "Enter Second Number: 12\n",
      "12.0 + 12.0 = 24.0\n",
      "Do you want to the Next Calculation? (Yes/No): NO\n",
      "Enter Choice(1/2/3/4): 2\n",
      "Enter First Number: 12\n",
      "Enter Second Number: 14\n",
      "12.0 - 14.0 = -2.0\n",
      "Do you want to the Next Calculation? (Yes/No): No\n"
     ]
    }
   ],
   "source": [
    "# Add two integer number(addition)\n",
    "def add(x,y):\n",
    "    return x + y\n",
    "\n",
    "# Substract two integer number(Substraction)\n",
    "def substract(x,y):\n",
    "    return x - y\n",
    "\n",
    "# multiply two integer number(multiplication)\n",
    "def multiply(x,y):\n",
    "    return x * y\n",
    "\n",
    "# Divide two integer number(division)\n",
    "def divide(x,y):\n",
    "    return x / y\n",
    "\n",
    "print(\"Select Operation to Perform Specific Task\")\n",
    "print(\"1. add\")\n",
    "print(\"2. Substract\")\n",
    "print(\"3. Multiplication\")\n",
    "print(\"4. Division\")\n",
    "\n",
    "\n",
    "while True:\n",
    "#     take input from user choice\n",
    "    choice = input(\"Enter Choice(1/2/3/4): \")\n",
    "    \n",
    "    if choice in ('1','2','3','4'):\n",
    "        num_1 = float(input(\"Enter First Number: \"))\n",
    "        num_2 = float(input(\"Enter Second Number: \"))\n",
    "        \n",
    "        if choice == '1':\n",
    "            print(num_1, \"+\", num_2, \"=\", add(num_1,num_2))\n",
    "        elif choice == '2':\n",
    "            print(num_1, \"-\", num_2, \"=\", substract(num_1,num_2))\n",
    "        elif choice == '3':\n",
    "            print(num_1, \"*\", num_2, \"=\", multiply(num_1,num_2))\n",
    "            \n",
    "        elif choice == '4':\n",
    "            print(num_1, \"/\", num_2, \"=\", divide(num_1,num_2))\n",
    "            \n",
    "        next_operation = input(\"Do you want to the Next Calculation? (Yes/No): \")\n",
    "        if next_operation == \"No\":\n",
    "            break\n",
    "    else:\n",
    "        print(\"Invalid Input\")\n",
    "    "
   ]
  },
  {
   "cell_type": "markdown",
   "metadata": {},
   "source": [
    "## What is Function in Python?"
   ]
  },
  {
   "cell_type": "code",
   "execution_count": 48,
   "metadata": {},
   "outputs": [
    {
     "name": "stdout",
     "output_type": "stream",
     "text": [
      "Enter the word:a\n",
      "1\n"
     ]
    }
   ],
   "source": [
    "word= ['this aa rraa']\n",
    "count=1\n",
    "qq=(input('Enter the word:'))\n",
    "for x in word:\n",
    "    if x==qq:\n",
    "        count+= 1\n",
    "print(count)"
   ]
  },
  {
   "cell_type": "code",
   "execution_count": 56,
   "metadata": {},
   "outputs": [
    {
     "name": "stdout",
     "output_type": "stream",
     "text": [
      "a has occured 2 times\n"
     ]
    }
   ],
   "source": [
    "def my_function(my_list, x):\n",
    "    count = 0\n",
    "    for my_str in my_list:\n",
    "        if (my_str == x):\n",
    "            count = count + 1\n",
    "    return count\n",
    "\n",
    "my_list = ['a','b','c','a']\n",
    "x = 'a'\n",
    "print('{} has occured {} times'.format(x, my_function(my_list, x)))"
   ]
  },
  {
   "cell_type": "code",
   "execution_count": null,
   "metadata": {},
   "outputs": [],
   "source": []
  }
 ],
 "metadata": {
  "kernelspec": {
   "display_name": "Python 3",
   "language": "python",
   "name": "python3"
  },
  "language_info": {
   "codemirror_mode": {
    "name": "ipython",
    "version": 3
   },
   "file_extension": ".py",
   "mimetype": "text/x-python",
   "name": "python",
   "nbconvert_exporter": "python",
   "pygments_lexer": "ipython3",
   "version": "3.8.3"
  }
 },
 "nbformat": 4,
 "nbformat_minor": 4
}
