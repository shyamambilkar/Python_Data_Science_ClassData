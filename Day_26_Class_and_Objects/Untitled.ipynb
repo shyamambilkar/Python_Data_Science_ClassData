{
 "cells": [
  {
   "cell_type": "code",
   "execution_count": 13,
   "metadata": {},
   "outputs": [
    {
     "name": "stdout",
     "output_type": "stream",
     "text": [
      "Hello My name is Jogindar\n",
      "Hello My name is Shyam\n"
     ]
    }
   ],
   "source": [
    "class Person:\n",
    "    def __init__(python, name, age):\n",
    "        python.name = name\n",
    "        python.age = age\n",
    "        \n",
    "    def my_function(Data):\n",
    "        print(\"Hello My name is \"+ Data.name)\n",
    "        \n",
    "    def my_function1(science):\n",
    "        print(\"Hello My name is \"+ science.name)\n",
    "        \n",
    "p1 = Person(\"Jogindar\", 36)\n",
    "p2 = Person(\"Shyam\", 36)\n",
    "p1.my_function()\n",
    "p2.my_function1()"
   ]
  },
  {
   "cell_type": "code",
   "execution_count": 15,
   "metadata": {},
   "outputs": [
    {
     "name": "stdout",
     "output_type": "stream",
     "text": [
      "40\n"
     ]
    }
   ],
   "source": [
    "class Person:\n",
    "    def __init__(python, name, age):\n",
    "        python.name = name\n",
    "        python.age = age\n",
    "        \n",
    "    def my_function(self):\n",
    "        print(\"Hello My name is \"+self.name)\n",
    "        \n",
    "        \n",
    "p1 = Person(\"Shyam\", 36)\n",
    "p1.age = 40\n",
    "print(p1.age)"
   ]
  },
  {
   "cell_type": "code",
   "execution_count": 22,
   "metadata": {},
   "outputs": [
    {
     "name": "stdout",
     "output_type": "stream",
     "text": [
      "Hello My name is Shyam\n",
      "My age is:  50\n"
     ]
    }
   ],
   "source": [
    "class Person:\n",
    "    def __init__(python, name, age):\n",
    "        python.name = name\n",
    "        python.age = age\n",
    "        \n",
    "    def my_function(self):\n",
    "        print(\"Hello My name is \"+self.name)\n",
    "        print(\"My age is: \", self.age)\n",
    "        \n",
    "p1 = Person(\"Shyam\",24)\n",
    "\n",
    "p1.age = 50\n",
    "# del p1.age\n",
    "p1.my_function()\n",
    "# print(p1.age)"
   ]
  },
  {
   "cell_type": "code",
   "execution_count": 23,
   "metadata": {},
   "outputs": [
    {
     "ename": "AttributeError",
     "evalue": "'Person' object has no attribute 'age'",
     "output_type": "error",
     "traceback": [
      "\u001b[1;31m---------------------------------------------------------------------------\u001b[0m",
      "\u001b[1;31mAttributeError\u001b[0m                            Traceback (most recent call last)",
      "\u001b[1;32m<ipython-input-23-a676685bfac2>\u001b[0m in \u001b[0;36m<module>\u001b[1;34m\u001b[0m\n\u001b[0;32m     11\u001b[0m \u001b[1;33m\u001b[0m\u001b[0m\n\u001b[0;32m     12\u001b[0m \u001b[1;32mdel\u001b[0m \u001b[0mp1\u001b[0m\u001b[1;33m.\u001b[0m\u001b[0mage\u001b[0m\u001b[1;33m\u001b[0m\u001b[1;33m\u001b[0m\u001b[0m\n\u001b[1;32m---> 13\u001b[1;33m \u001b[0mprint\u001b[0m\u001b[1;33m(\u001b[0m\u001b[0mp1\u001b[0m\u001b[1;33m.\u001b[0m\u001b[0mage\u001b[0m\u001b[1;33m)\u001b[0m\u001b[1;33m\u001b[0m\u001b[1;33m\u001b[0m\u001b[0m\n\u001b[0m",
      "\u001b[1;31mAttributeError\u001b[0m: 'Person' object has no attribute 'age'"
     ]
    }
   ],
   "source": [
    "class Person:\n",
    "    def __init__(python, name, age):\n",
    "        python.name = name\n",
    "        python.age = age\n",
    "        \n",
    "    def my_function(self):\n",
    "        print(\"Hello My name is \"+self.name)\n",
    "        print(\"My age is: \", self.age)\n",
    "        \n",
    "p1 = Person(\"Shyam\",24)\n",
    "\n",
    "del p1.age\n",
    "print(p1.age)"
   ]
  },
  {
   "cell_type": "code",
   "execution_count": 29,
   "metadata": {},
   "outputs": [
    {
     "name": "stdout",
     "output_type": "stream",
     "text": [
      "Hello My name is Shyam\n",
      "My age is:  24\n",
      "Hello My name is Rahul\n",
      "My age is:  25\n"
     ]
    },
    {
     "ename": "NameError",
     "evalue": "name 'p1' is not defined",
     "output_type": "error",
     "traceback": [
      "\u001b[1;31m---------------------------------------------------------------------------\u001b[0m",
      "\u001b[1;31mNameError\u001b[0m                                 Traceback (most recent call last)",
      "\u001b[1;32m<ipython-input-29-203d159330de>\u001b[0m in \u001b[0;36m<module>\u001b[1;34m\u001b[0m\n\u001b[0;32m     14\u001b[0m \u001b[1;33m\u001b[0m\u001b[0m\n\u001b[0;32m     15\u001b[0m \u001b[1;32mdel\u001b[0m \u001b[0mp1\u001b[0m\u001b[1;33m\u001b[0m\u001b[1;33m\u001b[0m\u001b[0m\n\u001b[1;32m---> 16\u001b[1;33m \u001b[0mp1\u001b[0m\u001b[1;33m.\u001b[0m\u001b[0mmy_function\u001b[0m\u001b[1;33m(\u001b[0m\u001b[1;33m)\u001b[0m\u001b[1;33m\u001b[0m\u001b[1;33m\u001b[0m\u001b[0m\n\u001b[0m\u001b[0;32m     17\u001b[0m \u001b[0mprint\u001b[0m\u001b[1;33m(\u001b[0m\u001b[0mp1\u001b[0m\u001b[1;33m)\u001b[0m\u001b[1;33m\u001b[0m\u001b[1;33m\u001b[0m\u001b[0m\n",
      "\u001b[1;31mNameError\u001b[0m: name 'p1' is not defined"
     ]
    }
   ],
   "source": [
    "class Person:\n",
    "    def __init__(python, name, age):\n",
    "        python.name = name\n",
    "        python.age = age\n",
    "        \n",
    "    def my_function(self):\n",
    "        print(\"Hello My name is \"+self.name)\n",
    "        print(\"My age is: \", self.age)\n",
    "        \n",
    "p1 = Person(\"Shyam\",24)\n",
    "p2 = Person(\"Rahul\",25)\n",
    "p1.my_function()\n",
    "p2.my_function()\n",
    "\n",
    "del p1\n",
    "p1.my_function()\n",
    "print(p1)"
   ]
  },
  {
   "cell_type": "code",
   "execution_count": 30,
   "metadata": {},
   "outputs": [
    {
     "name": "stdout",
     "output_type": "stream",
     "text": [
      "my name is jack\n",
      "my color is white\n"
     ]
    }
   ],
   "source": [
    "class dog:\n",
    "    def __init__(animal,name,color):\n",
    "        animal.name=name\n",
    "        animal.color=color\n",
    "    def my_function(animal):\n",
    "        print(\"my name is\",animal.name)\n",
    "        print(\"my color is\",animal.color)\n",
    "p1=dog(\"jack\",\"white\")  \n",
    "p1.my_function()"
   ]
  },
  {
   "cell_type": "code",
   "execution_count": 32,
   "metadata": {},
   "outputs": [
    {
     "name": "stdout",
     "output_type": "stream",
     "text": [
      "My Pet name is Hachikoage is 5\n"
     ]
    }
   ],
   "source": [
    "class Animal:    \n",
    "    def __init__(anim,name,age):\n",
    "        anim.name=name\n",
    "        anim.age=age\n",
    "                \n",
    "    def myanim(anim):\n",
    "        print(\"My Pet name is \"+anim.name+ \"age is\", anim.age)\n",
    "        \n",
    "p1=Animal(\"Hachiko\",5)\n",
    "p1.myanim()"
   ]
  },
  {
   "cell_type": "code",
   "execution_count": 34,
   "metadata": {},
   "outputs": [
    {
     "name": "stdout",
     "output_type": "stream",
     "text": [
      "enter number:15\n",
      "15\n",
      "30\n",
      "45\n",
      "60\n",
      "75\n",
      "90\n",
      "105\n",
      "120\n",
      "135\n",
      "150\n",
      "165\n",
      "180\n",
      "195\n",
      "210\n"
     ]
    }
   ],
   "source": [
    "n=int(input(\"enter number:\"))\n",
    "mulitply=0\n",
    "for i in range(1,n):\n",
    "    multiply=i*n\n",
    "    print(multiply)"
   ]
  },
  {
   "cell_type": "code",
   "execution_count": 39,
   "metadata": {},
   "outputs": [
    {
     "name": "stdout",
     "output_type": "stream",
     "text": [
      "enter number:4\n",
      "4 x 1 = 4\n",
      "4 x 2 = 8\n"
     ]
    }
   ],
   "source": [
    "num=int(input(\"enter number:\"))\n",
    "for i in range(1, num-1):\n",
    "    print(num, 'x', i, '=', num*i)"
   ]
  },
  {
   "cell_type": "code",
   "execution_count": 41,
   "metadata": {},
   "outputs": [
    {
     "name": "stdout",
     "output_type": "stream",
     "text": [
      "enter number:15\n",
      "15 x 1 = 15\n",
      "15 x 2 = 30\n",
      "15 x 3 = 45\n",
      "15 x 4 = 60\n",
      "15 x 5 = 75\n",
      "15 x 6 = 90\n",
      "15 x 7 = 105\n",
      "15 x 8 = 120\n",
      "15 x 9 = 135\n",
      "15 x 10 = 150\n"
     ]
    }
   ],
   "source": [
    "num=int(input(\"enter number:\"))\n",
    "for i in range(1, 11):\n",
    "    print(num, 'x', i, '=', num*i)"
   ]
  },
  {
   "cell_type": "markdown",
   "metadata": {},
   "source": [
    "### Write a program to display calender of given month of the year?"
   ]
  },
  {
   "cell_type": "code",
   "execution_count": 47,
   "metadata": {},
   "outputs": [
    {
     "name": "stdout",
     "output_type": "stream",
     "text": [
      "Enter Year: 2021\n",
      "Enter Month: 9\n",
      "   September 2021\n",
      "Mo Tu We Th Fr Sa Su\n",
      "       1  2  3  4  5\n",
      " 6  7  8  9 10 11 12\n",
      "13 14 15 16 17 18 19\n",
      "20 21 22 23 24 25 26\n",
      "27 28 29 30\n",
      "\n"
     ]
    }
   ],
   "source": [
    "import calendar\n",
    "year = int(input(\"Enter Year: \"))\n",
    "month = int(input(\"Enter Month: \"))\n",
    "\n",
    "# display\n",
    "print(calendar.month(year,month))"
   ]
  },
  {
   "cell_type": "markdown",
   "metadata": {},
   "source": [
    "1. Python Program to sort Words in Alphabetic order\n",
    "2. Python Program to find largest element in list\n",
    "3. Write a program to display calender of given month of the year\n",
    "4. Write a Program to Display multiplication Table\n",
    "5. Write a Python program to show that variables  with value"
   ]
  },
  {
   "cell_type": "code",
   "execution_count": null,
   "metadata": {},
   "outputs": [],
   "source": []
  }
 ],
 "metadata": {
  "kernelspec": {
   "display_name": "Python 3",
   "language": "python",
   "name": "python3"
  },
  "language_info": {
   "codemirror_mode": {
    "name": "ipython",
    "version": 3
   },
   "file_extension": ".py",
   "mimetype": "text/x-python",
   "name": "python",
   "nbconvert_exporter": "python",
   "pygments_lexer": "ipython3",
   "version": "3.8.3"
  }
 },
 "nbformat": 4,
 "nbformat_minor": 4
}
