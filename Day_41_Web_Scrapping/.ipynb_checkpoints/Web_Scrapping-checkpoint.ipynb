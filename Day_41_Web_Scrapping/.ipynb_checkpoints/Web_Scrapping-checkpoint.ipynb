{
 "cells": [
  {
   "cell_type": "markdown",
   "id": "fad7d8c9",
   "metadata": {},
   "source": [
    "# Web Scrapping"
   ]
  },
  {
   "cell_type": "code",
   "execution_count": 1,
   "id": "346d61ea",
   "metadata": {},
   "outputs": [],
   "source": [
    "import urllib\n",
    "import re\n",
    "import pandas as pd"
   ]
  },
  {
   "cell_type": "code",
   "execution_count": 6,
   "id": "ffc78475",
   "metadata": {},
   "outputs": [],
   "source": [
    "url = 'http://olympus.realpython.org/profiles/poseidon'"
   ]
  },
  {
   "cell_type": "code",
   "execution_count": 7,
   "id": "d9a8d6dd",
   "metadata": {},
   "outputs": [],
   "source": [
    "data = urllib.request.urlopen(url)"
   ]
  },
  {
   "cell_type": "code",
   "execution_count": 8,
   "id": "37f24361",
   "metadata": {},
   "outputs": [
    {
     "data": {
      "text/plain": [
       "<http.client.HTTPResponse at 0x16d7598a640>"
      ]
     },
     "execution_count": 8,
     "metadata": {},
     "output_type": "execute_result"
    }
   ],
   "source": [
    "data"
   ]
  },
  {
   "cell_type": "code",
   "execution_count": 9,
   "id": "a16d0a97",
   "metadata": {},
   "outputs": [],
   "source": [
    "data1 = data.read()"
   ]
  },
  {
   "cell_type": "code",
   "execution_count": 10,
   "id": "2b4d5ca0",
   "metadata": {},
   "outputs": [
    {
     "data": {
      "text/plain": [
       "b'<html>\\n<head>\\n<title >Profile: Poseidon</title>\\n</head>\\n<body bgcolor=\"yellow\">\\n<center>\\n<br><br>\\n<img src=\"/static/poseidon.jpg\" />\\n<h2>Name: Poseidon</h2>\\n<br><br>\\nFavorite animal: Dolphin\\n<br><br>\\nFavorite color: Blue\\n<br><br>\\nHometown: Sea\\n</center>\\n</body>\\n</html>\\n'"
      ]
     },
     "execution_count": 10,
     "metadata": {},
     "output_type": "execute_result"
    }
   ],
   "source": [
    "data1"
   ]
  },
  {
   "cell_type": "code",
   "execution_count": 11,
   "id": "365a4d97",
   "metadata": {},
   "outputs": [],
   "source": [
    "data2  = data1.decode()"
   ]
  },
  {
   "cell_type": "code",
   "execution_count": 12,
   "id": "68bbf396",
   "metadata": {},
   "outputs": [
    {
     "data": {
      "text/plain": [
       "'<html>\\n<head>\\n<title >Profile: Poseidon</title>\\n</head>\\n<body bgcolor=\"yellow\">\\n<center>\\n<br><br>\\n<img src=\"/static/poseidon.jpg\" />\\n<h2>Name: Poseidon</h2>\\n<br><br>\\nFavorite animal: Dolphin\\n<br><br>\\nFavorite color: Blue\\n<br><br>\\nHometown: Sea\\n</center>\\n</body>\\n</html>\\n'"
      ]
     },
     "execution_count": 12,
     "metadata": {},
     "output_type": "execute_result"
    }
   ],
   "source": [
    "data2"
   ]
  },
  {
   "cell_type": "code",
   "execution_count": 13,
   "id": "46be2302",
   "metadata": {},
   "outputs": [],
   "source": [
    "my_pattern = re.sub(\"<.*?>\",\" \", data2)"
   ]
  },
  {
   "cell_type": "code",
   "execution_count": 14,
   "id": "bf04aa45",
   "metadata": {},
   "outputs": [
    {
     "name": "stdout",
     "output_type": "stream",
     "text": [
      " \n",
      " \n",
      " Profile: Poseidon \n",
      " \n",
      " \n",
      " \n",
      "  \n",
      " \n",
      " Name: Poseidon \n",
      "  \n",
      "Favorite animal: Dolphin\n",
      "  \n",
      "Favorite color: Blue\n",
      "  \n",
      "Hometown: Sea\n",
      " \n",
      " \n",
      " \n",
      "\n"
     ]
    }
   ],
   "source": [
    "print(my_pattern)"
   ]
  },
  {
   "cell_type": "code",
   "execution_count": 26,
   "id": "161e624e",
   "metadata": {},
   "outputs": [],
   "source": [
    "my_string = re.findall('[a-zA-z]{1,8}', my_pattern)"
   ]
  },
  {
   "cell_type": "code",
   "execution_count": 27,
   "id": "fd8c09bc",
   "metadata": {},
   "outputs": [
    {
     "data": {
      "text/plain": [
       "['Profile',\n",
       " 'Poseidon',\n",
       " 'Name',\n",
       " 'Poseidon',\n",
       " 'Favorite',\n",
       " 'animal',\n",
       " 'Dolphin',\n",
       " 'Favorite',\n",
       " 'color',\n",
       " 'Blue',\n",
       " 'Hometown',\n",
       " 'Sea']"
      ]
     },
     "execution_count": 27,
     "metadata": {},
     "output_type": "execute_result"
    }
   ],
   "source": [
    "my_string"
   ]
  },
  {
   "cell_type": "code",
   "execution_count": 29,
   "id": "d474d8e1",
   "metadata": {},
   "outputs": [],
   "source": [
    "df = pd.DataFrame({\"Profile\":my_string})"
   ]
  },
  {
   "cell_type": "code",
   "execution_count": 31,
   "id": "1de701d5",
   "metadata": {},
   "outputs": [],
   "source": [
    "df.to_csv('data.csv', index=False)"
   ]
  },
  {
   "cell_type": "code",
   "execution_count": null,
   "id": "8f3a8adf",
   "metadata": {},
   "outputs": [],
   "source": []
  },
  {
   "cell_type": "code",
   "execution_count": 36,
   "id": "c22149b6",
   "metadata": {},
   "outputs": [],
   "source": [
    "df = pd.read_csv('data1.csv')"
   ]
  },
  {
   "cell_type": "code",
   "execution_count": 37,
   "id": "6fd55578",
   "metadata": {},
   "outputs": [
    {
     "data": {
      "text/html": [
       "<div>\n",
       "<style scoped>\n",
       "    .dataframe tbody tr th:only-of-type {\n",
       "        vertical-align: middle;\n",
       "    }\n",
       "\n",
       "    .dataframe tbody tr th {\n",
       "        vertical-align: top;\n",
       "    }\n",
       "\n",
       "    .dataframe thead th {\n",
       "        text-align: right;\n",
       "    }\n",
       "</style>\n",
       "<table border=\"1\" class=\"dataframe\">\n",
       "  <thead>\n",
       "    <tr style=\"text-align: right;\">\n",
       "      <th></th>\n",
       "      <th>Profile</th>\n",
       "    </tr>\n",
       "  </thead>\n",
       "  <tbody>\n",
       "    <tr>\n",
       "      <th>0</th>\n",
       "      <td>Profile</td>\n",
       "    </tr>\n",
       "    <tr>\n",
       "      <th>1</th>\n",
       "      <td>Poseidon</td>\n",
       "    </tr>\n",
       "    <tr>\n",
       "      <th>2</th>\n",
       "      <td>Name</td>\n",
       "    </tr>\n",
       "    <tr>\n",
       "      <th>3</th>\n",
       "      <td>Poseidon</td>\n",
       "    </tr>\n",
       "    <tr>\n",
       "      <th>4</th>\n",
       "      <td>Favorite</td>\n",
       "    </tr>\n",
       "  </tbody>\n",
       "</table>\n",
       "</div>"
      ],
      "text/plain": [
       "    Profile\n",
       "0   Profile\n",
       "1  Poseidon\n",
       "2      Name\n",
       "3  Poseidon\n",
       "4  Favorite"
      ]
     },
     "execution_count": 37,
     "metadata": {},
     "output_type": "execute_result"
    }
   ],
   "source": [
    "df.head()"
   ]
  },
  {
   "cell_type": "code",
   "execution_count": 38,
   "id": "5b384023",
   "metadata": {},
   "outputs": [
    {
     "data": {
      "text/html": [
       "<div>\n",
       "<style scoped>\n",
       "    .dataframe tbody tr th:only-of-type {\n",
       "        vertical-align: middle;\n",
       "    }\n",
       "\n",
       "    .dataframe tbody tr th {\n",
       "        vertical-align: top;\n",
       "    }\n",
       "\n",
       "    .dataframe thead th {\n",
       "        text-align: right;\n",
       "    }\n",
       "</style>\n",
       "<table border=\"1\" class=\"dataframe\">\n",
       "  <thead>\n",
       "    <tr style=\"text-align: right;\">\n",
       "      <th></th>\n",
       "      <th>Profile</th>\n",
       "    </tr>\n",
       "  </thead>\n",
       "  <tbody>\n",
       "    <tr>\n",
       "      <th>20</th>\n",
       "      <td>Favorite</td>\n",
       "    </tr>\n",
       "    <tr>\n",
       "      <th>21</th>\n",
       "      <td>color</td>\n",
       "    </tr>\n",
       "    <tr>\n",
       "      <th>22</th>\n",
       "      <td>Blue</td>\n",
       "    </tr>\n",
       "    <tr>\n",
       "      <th>23</th>\n",
       "      <td>Hometown</td>\n",
       "    </tr>\n",
       "    <tr>\n",
       "      <th>24</th>\n",
       "      <td>Sea</td>\n",
       "    </tr>\n",
       "  </tbody>\n",
       "</table>\n",
       "</div>"
      ],
      "text/plain": [
       "     Profile\n",
       "20  Favorite\n",
       "21     color\n",
       "22      Blue\n",
       "23  Hometown\n",
       "24       Sea"
      ]
     },
     "execution_count": 38,
     "metadata": {},
     "output_type": "execute_result"
    }
   ],
   "source": [
    "df.tail()"
   ]
  },
  {
   "cell_type": "code",
   "execution_count": 108,
   "id": "d1f7f70b",
   "metadata": {},
   "outputs": [],
   "source": [
    "import re"
   ]
  },
  {
   "cell_type": "code",
   "execution_count": 109,
   "id": "ff853f79",
   "metadata": {},
   "outputs": [],
   "source": [
    "my_text = \"My name is Shyam Ambilkar\""
   ]
  },
  {
   "cell_type": "code",
   "execution_count": 110,
   "id": "f7a48c27",
   "metadata": {},
   "outputs": [],
   "source": [
    "my_pattern = re.findall(r\"am\\B\", my_text)"
   ]
  },
  {
   "cell_type": "code",
   "execution_count": 111,
   "id": "65f4c8c9",
   "metadata": {},
   "outputs": [
    {
     "data": {
      "text/plain": [
       "['am']"
      ]
     },
     "execution_count": 111,
     "metadata": {},
     "output_type": "execute_result"
    }
   ],
   "source": [
    "my_pattern"
   ]
  },
  {
   "cell_type": "code",
   "execution_count": 112,
   "id": "17b75992",
   "metadata": {},
   "outputs": [
    {
     "name": "stdout",
     "output_type": "stream",
     "text": [
      "Yes pattern is available\n"
     ]
    }
   ],
   "source": [
    "if my_pattern:\n",
    "    print(\"Yes pattern is available\")\n",
    "else:\n",
    "    print(\"No pattern match\")"
   ]
  },
  {
   "cell_type": "code",
   "execution_count": 115,
   "id": "0618ece9",
   "metadata": {},
   "outputs": [],
   "source": [
    "my_text = \"My name is Shyam Ambilkar\"\n",
    "my_pattern = re.findall(\"\\S\", my_text)"
   ]
  },
  {
   "cell_type": "code",
   "execution_count": 116,
   "id": "2a38c8e7",
   "metadata": {},
   "outputs": [
    {
     "data": {
      "text/plain": [
       "['M',\n",
       " 'y',\n",
       " 'n',\n",
       " 'a',\n",
       " 'm',\n",
       " 'e',\n",
       " 'i',\n",
       " 's',\n",
       " 'S',\n",
       " 'h',\n",
       " 'y',\n",
       " 'a',\n",
       " 'm',\n",
       " 'A',\n",
       " 'm',\n",
       " 'b',\n",
       " 'i',\n",
       " 'l',\n",
       " 'k',\n",
       " 'a',\n",
       " 'r']"
      ]
     },
     "execution_count": 116,
     "metadata": {},
     "output_type": "execute_result"
    }
   ],
   "source": [
    "my_pattern"
   ]
  },
  {
   "cell_type": "code",
   "execution_count": 123,
   "id": "0ed3188e",
   "metadata": {},
   "outputs": [],
   "source": [
    "my_text = \"My name is Shyam # Ambilkar 412207\"\n",
    "my_pattern = re.findall(\"\\w\", my_text)"
   ]
  },
  {
   "cell_type": "code",
   "execution_count": 124,
   "id": "feac8810",
   "metadata": {},
   "outputs": [
    {
     "data": {
      "text/plain": [
       "['M',\n",
       " 'y',\n",
       " 'n',\n",
       " 'a',\n",
       " 'm',\n",
       " 'e',\n",
       " 'i',\n",
       " 's',\n",
       " 'S',\n",
       " 'h',\n",
       " 'y',\n",
       " 'a',\n",
       " 'm',\n",
       " 'A',\n",
       " 'm',\n",
       " 'b',\n",
       " 'i',\n",
       " 'l',\n",
       " 'k',\n",
       " 'a',\n",
       " 'r',\n",
       " '4',\n",
       " '1',\n",
       " '2',\n",
       " '2',\n",
       " '0',\n",
       " '7']"
      ]
     },
     "execution_count": 124,
     "metadata": {},
     "output_type": "execute_result"
    }
   ],
   "source": [
    "my_pattern"
   ]
  },
  {
   "cell_type": "code",
   "execution_count": 125,
   "id": "234f68e6",
   "metadata": {},
   "outputs": [],
   "source": [
    "import re"
   ]
  },
  {
   "cell_type": "code",
   "execution_count": 128,
   "id": "22827cb0",
   "metadata": {},
   "outputs": [],
   "source": [
    "my_text = \"My name is Python Welcome to DWH\"\n",
    "\n",
    "my_pattern =re.findall(\"[abc]\", my_text)"
   ]
  },
  {
   "cell_type": "code",
   "execution_count": 129,
   "id": "2a7429f5",
   "metadata": {},
   "outputs": [
    {
     "data": {
      "text/plain": [
       "['a', 'c']"
      ]
     },
     "execution_count": 129,
     "metadata": {},
     "output_type": "execute_result"
    }
   ],
   "source": [
    "my_pattern"
   ]
  },
  {
   "cell_type": "code",
   "execution_count": 136,
   "id": "f23460be",
   "metadata": {},
   "outputs": [],
   "source": [
    "my_text = \"My name is Python Welcome to DWH\"\n",
    "\n",
    "my_pattern =re.findall(\"[a-eA-D]\", my_text)"
   ]
  },
  {
   "cell_type": "code",
   "execution_count": 137,
   "id": "1a126914",
   "metadata": {},
   "outputs": [
    {
     "data": {
      "text/plain": [
       "['a', 'e', 'e', 'c', 'e', 'D']"
      ]
     },
     "execution_count": 137,
     "metadata": {},
     "output_type": "execute_result"
    }
   ],
   "source": [
    "my_pattern"
   ]
  },
  {
   "cell_type": "code",
   "execution_count": 138,
   "id": "0e51ccbb",
   "metadata": {},
   "outputs": [],
   "source": [
    "my_text = \"My name is Python Welcome to DWH\"\n",
    "\n",
    "my_pattern =re.findall(\"[^arn]\", my_text)"
   ]
  },
  {
   "cell_type": "code",
   "execution_count": 139,
   "id": "779a3cf8",
   "metadata": {},
   "outputs": [
    {
     "data": {
      "text/plain": [
       "['M',\n",
       " 'y',\n",
       " ' ',\n",
       " 'm',\n",
       " 'e',\n",
       " ' ',\n",
       " 'i',\n",
       " 's',\n",
       " ' ',\n",
       " 'P',\n",
       " 'y',\n",
       " 't',\n",
       " 'h',\n",
       " 'o',\n",
       " ' ',\n",
       " 'W',\n",
       " 'e',\n",
       " 'l',\n",
       " 'c',\n",
       " 'o',\n",
       " 'm',\n",
       " 'e',\n",
       " ' ',\n",
       " 't',\n",
       " 'o',\n",
       " ' ',\n",
       " 'D',\n",
       " 'W',\n",
       " 'H']"
      ]
     },
     "execution_count": 139,
     "metadata": {},
     "output_type": "execute_result"
    }
   ],
   "source": [
    "my_pattern"
   ]
  },
  {
   "cell_type": "code",
   "execution_count": 142,
   "id": "43368e24",
   "metadata": {},
   "outputs": [],
   "source": [
    "my_text = \"My name is Python Welcome to DWH 9923090436\"\n",
    "\n",
    "my_pattern =re.findall(\"[0123]\", my_text)"
   ]
  },
  {
   "cell_type": "code",
   "execution_count": 143,
   "id": "c3881688",
   "metadata": {},
   "outputs": [
    {
     "name": "stdout",
     "output_type": "stream",
     "text": [
      "['2', '3', '0', '0', '3']\n"
     ]
    }
   ],
   "source": [
    "print(my_pattern)"
   ]
  },
  {
   "cell_type": "code",
   "execution_count": null,
   "id": "8f0e8cdb",
   "metadata": {},
   "outputs": [],
   "source": []
  }
 ],
 "metadata": {
  "kernelspec": {
   "display_name": "Python 3",
   "language": "python",
   "name": "python3"
  },
  "language_info": {
   "codemirror_mode": {
    "name": "ipython",
    "version": 3
   },
   "file_extension": ".py",
   "mimetype": "text/x-python",
   "name": "python",
   "nbconvert_exporter": "python",
   "pygments_lexer": "ipython3",
   "version": "3.8.8"
  }
 },
 "nbformat": 4,
 "nbformat_minor": 5
}
