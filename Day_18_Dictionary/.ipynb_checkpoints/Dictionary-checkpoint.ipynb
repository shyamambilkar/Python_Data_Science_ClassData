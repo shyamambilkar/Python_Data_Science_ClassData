{
 "cells": [
  {
   "cell_type": "markdown",
   "metadata": {},
   "source": [
    "# Loop Throgh Dictionary"
   ]
  },
  {
   "cell_type": "markdown",
   "metadata": {},
   "source": [
    "### 1. All the Keys Returned or print all Key Names"
   ]
  },
  {
   "cell_type": "code",
   "execution_count": 1,
   "metadata": {},
   "outputs": [],
   "source": [
    "my_dict = {\n",
    "    'brand':['LG','MI','Samsung'],\n",
    "    'model':['MI_A1','LG1','GALAXY'],\n",
    "    'year': 2021,\n",
    "    'color':'blue'\n",
    "}"
   ]
  },
  {
   "cell_type": "code",
   "execution_count": 2,
   "metadata": {},
   "outputs": [
    {
     "name": "stdout",
     "output_type": "stream",
     "text": [
      "brand\n",
      "model\n",
      "year\n",
      "color\n"
     ]
    }
   ],
   "source": [
    "for i in my_dict:\n",
    "    print(i)"
   ]
  },
  {
   "cell_type": "markdown",
   "metadata": {},
   "source": [
    "### 2. All the Values Returned or print all Values in Dictionary"
   ]
  },
  {
   "cell_type": "code",
   "execution_count": 3,
   "metadata": {},
   "outputs": [],
   "source": [
    "my_dict = {\n",
    "    'brand':['LG','MI','Samsung'],\n",
    "    'model':['MI_A1','LG1','GALAXY'],\n",
    "    'year': 2021,\n",
    "    'color':'blue'\n",
    "}"
   ]
  },
  {
   "cell_type": "code",
   "execution_count": 5,
   "metadata": {},
   "outputs": [
    {
     "name": "stdout",
     "output_type": "stream",
     "text": [
      "['LG', 'MI', 'Samsung']\n",
      "['MI_A1', 'LG1', 'GALAXY']\n",
      "2021\n",
      "blue\n"
     ]
    }
   ],
   "source": [
    "for x in my_dict:\n",
    "    print(my_dict[x])"
   ]
  },
  {
   "cell_type": "markdown",
   "metadata": {},
   "source": [
    "### 3. With the help of Function we can get key and Value in Dictionary:\n",
    "    1. Key()\n",
    "    2. Values()"
   ]
  },
  {
   "cell_type": "code",
   "execution_count": 6,
   "metadata": {},
   "outputs": [],
   "source": [
    "my_dict = {\n",
    "    'brand':['LG','MI','Samsung'],\n",
    "    'model':['MI_A1','LG1','GALAXY'],\n",
    "    'year': 2021,\n",
    "    'color':'blue',\n",
    "    'waranty': '1 year',\n",
    "    'charger': 'yes'\n",
    "}"
   ]
  },
  {
   "cell_type": "code",
   "execution_count": 8,
   "metadata": {},
   "outputs": [
    {
     "name": "stdout",
     "output_type": "stream",
     "text": [
      "brand\n",
      "model\n",
      "year\n",
      "color\n",
      "waranty\n",
      "charger\n"
     ]
    }
   ],
   "source": [
    "for i in my_dict.keys():\n",
    "    print(i)"
   ]
  },
  {
   "cell_type": "code",
   "execution_count": 9,
   "metadata": {},
   "outputs": [],
   "source": [
    "my_dict = {\n",
    " 'MI':{\n",
    "     'NAME':'MI',\n",
    "     'CHARGER': 'YES',\n",
    "     'COLOR': 'RED'\n",
    " },\n",
    "    'MI_A1':{\n",
    "        'NAME':'MI',\n",
    "        'CHARGER': 'YES',\n",
    "        'COLOR': 'RED'\n",
    "    }\n",
    "}"
   ]
  },
  {
   "cell_type": "code",
   "execution_count": 10,
   "metadata": {},
   "outputs": [
    {
     "name": "stdout",
     "output_type": "stream",
     "text": [
      "MI\n",
      "MI_A1\n"
     ]
    }
   ],
   "source": [
    "for i in my_dict.keys():\n",
    "    print(i)"
   ]
  },
  {
   "cell_type": "code",
   "execution_count": 11,
   "metadata": {},
   "outputs": [],
   "source": [
    "my_dict = {\n",
    "    'brand':['LG','MI','Samsung'],\n",
    "    'model':['MI_A1','LG1','GALAXY'],\n",
    "    'year': 2021,\n",
    "    'color':'blue',\n",
    "    'waranty': '1 year',\n",
    "    'charger': 'yes'\n",
    "}"
   ]
  },
  {
   "cell_type": "code",
   "execution_count": 12,
   "metadata": {},
   "outputs": [
    {
     "name": "stdout",
     "output_type": "stream",
     "text": [
      "['LG', 'MI', 'Samsung']\n",
      "['MI_A1', 'LG1', 'GALAXY']\n",
      "2021\n",
      "blue\n",
      "1 year\n",
      "yes\n"
     ]
    }
   ],
   "source": [
    "for i in my_dict.values():\n",
    "    print(i)"
   ]
  },
  {
   "cell_type": "code",
   "execution_count": 13,
   "metadata": {},
   "outputs": [],
   "source": [
    "my_dict = {\n",
    " 'MI':{\n",
    "     'NAME':'MI',\n",
    "     'CHARGER': 'YES',\n",
    "     'COLOR': 'RED'\n",
    " },\n",
    "    'MI_A1':{\n",
    "        'NAME':'MI',\n",
    "        'CHARGER': 'YES',\n",
    "        'COLOR': 'RED'\n",
    "    }\n",
    "}"
   ]
  },
  {
   "cell_type": "code",
   "execution_count": 14,
   "metadata": {},
   "outputs": [
    {
     "name": "stdout",
     "output_type": "stream",
     "text": [
      "{'NAME': 'MI', 'CHARGER': 'YES', 'COLOR': 'RED'}\n",
      "{'NAME': 'MI', 'CHARGER': 'YES', 'COLOR': 'RED'}\n"
     ]
    }
   ],
   "source": [
    "for i in my_dict.values():\n",
    "    print(i)"
   ]
  },
  {
   "cell_type": "markdown",
   "metadata": {},
   "source": [
    "### 4. Returned all the Keys and values "
   ]
  },
  {
   "cell_type": "code",
   "execution_count": 15,
   "metadata": {},
   "outputs": [],
   "source": [
    "my_dict = {\n",
    "    'brand':['LG','MI','Samsung'],\n",
    "    'model':['MI_A1','LG1','GALAXY'],\n",
    "    'year': 2021,\n",
    "    'color':'blue',\n",
    "    'waranty': '1 year',\n",
    "    'charger': 'yes'\n",
    "}"
   ]
  },
  {
   "cell_type": "code",
   "execution_count": 18,
   "metadata": {},
   "outputs": [
    {
     "name": "stdout",
     "output_type": "stream",
     "text": [
      "brand : ['LG', 'MI', 'Samsung']\n",
      "model : ['MI_A1', 'LG1', 'GALAXY']\n",
      "year : 2021\n",
      "color : blue\n",
      "waranty : 1 year\n",
      "charger : yes\n"
     ]
    }
   ],
   "source": [
    "for i, j in my_dict.items():\n",
    "    print(i,\":\",j)"
   ]
  },
  {
   "cell_type": "code",
   "execution_count": 19,
   "metadata": {},
   "outputs": [
    {
     "data": {
      "text/plain": [
       "123456789"
      ]
     },
     "execution_count": 19,
     "metadata": {},
     "output_type": "execute_result"
    }
   ],
   "source": [
    "123456789"
   ]
  },
  {
   "cell_type": "code",
   "execution_count": 20,
   "metadata": {},
   "outputs": [
    {
     "name": "stdout",
     "output_type": "stream",
     "text": [
      "1\n"
     ]
    }
   ],
   "source": [
    "print(1)"
   ]
  },
  {
   "cell_type": "code",
   "execution_count": 21,
   "metadata": {},
   "outputs": [
    {
     "name": "stdout",
     "output_type": "stream",
     "text": [
      "2\n"
     ]
    }
   ],
   "source": [
    "print(2)"
   ]
  },
  {
   "cell_type": "code",
   "execution_count": 22,
   "metadata": {},
   "outputs": [
    {
     "name": "stdout",
     "output_type": "stream",
     "text": [
      "3\n"
     ]
    }
   ],
   "source": [
    "print(3)"
   ]
  },
  {
   "cell_type": "code",
   "execution_count": 23,
   "metadata": {},
   "outputs": [
    {
     "data": {
      "text/plain": [
       "123456789123456789123456789123456789123456789123456789123456789123456789123456789123456789"
      ]
     },
     "execution_count": 23,
     "metadata": {},
     "output_type": "execute_result"
    }
   ],
   "source": [
    "123456789123456789123456789123456789123456789123456789123456789123456789123456789123456789"
   ]
  },
  {
   "cell_type": "code",
   "execution_count": 33,
   "metadata": {},
   "outputs": [],
   "source": [
    "# for i in range(3,30):\n",
    "#     print(i)"
   ]
  },
  {
   "cell_type": "markdown",
   "metadata": {},
   "source": [
    "# 1. Copy Dictionary one dictionary to another dictionary:\n",
    "    1. copy()\n",
    "    2. dict() Function"
   ]
  },
  {
   "cell_type": "markdown",
   "metadata": {},
   "source": [
    "1. copy() method"
   ]
  },
  {
   "cell_type": "code",
   "execution_count": 34,
   "metadata": {},
   "outputs": [],
   "source": [
    "my_dict = {\n",
    "    'brand':['LG','MI','Samsung'],\n",
    "    'model':['MI_A1','LG1','GALAXY'],\n",
    "    'year': 2021,\n",
    "    'color':'blue',\n",
    "    'waranty': '1 year',\n",
    "    'charger': 'yes'\n",
    "}"
   ]
  },
  {
   "cell_type": "code",
   "execution_count": 36,
   "metadata": {},
   "outputs": [],
   "source": [
    "new_dict = my_dict.copy()"
   ]
  },
  {
   "cell_type": "code",
   "execution_count": 37,
   "metadata": {},
   "outputs": [
    {
     "data": {
      "text/plain": [
       "{'brand': ['LG', 'MI', 'Samsung'],\n",
       " 'model': ['MI_A1', 'LG1', 'GALAXY'],\n",
       " 'year': 2021,\n",
       " 'color': 'blue',\n",
       " 'waranty': '1 year',\n",
       " 'charger': 'yes'}"
      ]
     },
     "execution_count": 37,
     "metadata": {},
     "output_type": "execute_result"
    }
   ],
   "source": [
    "my_dict"
   ]
  },
  {
   "cell_type": "code",
   "execution_count": 38,
   "metadata": {},
   "outputs": [
    {
     "data": {
      "text/plain": [
       "{'brand': ['LG', 'MI', 'Samsung'],\n",
       " 'model': ['MI_A1', 'LG1', 'GALAXY'],\n",
       " 'year': 2021,\n",
       " 'color': 'blue',\n",
       " 'waranty': '1 year',\n",
       " 'charger': 'yes'}"
      ]
     },
     "execution_count": 38,
     "metadata": {},
     "output_type": "execute_result"
    }
   ],
   "source": [
    "new_dict"
   ]
  },
  {
   "cell_type": "markdown",
   "metadata": {},
   "source": [
    "2. dictionary Function"
   ]
  },
  {
   "cell_type": "code",
   "execution_count": 42,
   "metadata": {},
   "outputs": [],
   "source": [
    "my_dict = {'brand': ['LG', 'MI', 'Samsung'],\n",
    " 'model': ['MI_A1', 'LG1', 'GALAXY'],\n",
    " 'year': 2021,\n",
    " 'color': 'blue',\n",
    " 'waranty': '1 year',\n",
    " 'charger': 'yes'}"
   ]
  },
  {
   "cell_type": "code",
   "execution_count": 43,
   "metadata": {},
   "outputs": [],
   "source": [
    "new_dict1 = dict(my_dict)"
   ]
  },
  {
   "cell_type": "code",
   "execution_count": 44,
   "metadata": {},
   "outputs": [
    {
     "data": {
      "text/plain": [
       "{'brand': ['LG', 'MI', 'Samsung'],\n",
       " 'model': ['MI_A1', 'LG1', 'GALAXY'],\n",
       " 'year': 2021,\n",
       " 'color': 'blue',\n",
       " 'waranty': '1 year',\n",
       " 'charger': 'yes'}"
      ]
     },
     "execution_count": 44,
     "metadata": {},
     "output_type": "execute_result"
    }
   ],
   "source": [
    "new_dict1"
   ]
  },
  {
   "cell_type": "markdown",
   "metadata": {},
   "source": [
    "# Nested Dictionary"
   ]
  },
  {
   "cell_type": "code",
   "execution_count": 45,
   "metadata": {},
   "outputs": [],
   "source": [
    "my_company = {\n",
    "    'emp1':{\n",
    "        'id': 1,\n",
    "        'name':'Python',\n",
    "        'post': 'DS',\n",
    "        'salary': 5000\n",
    "    },\n",
    "    'emp2':{\n",
    "       'id': 2,\n",
    "        'name':'Python Data Science',\n",
    "        'post': 'DE',\n",
    "        'salary': 7000 \n",
    "    }\n",
    "}"
   ]
  },
  {
   "cell_type": "code",
   "execution_count": 49,
   "metadata": {},
   "outputs": [
    {
     "data": {
      "text/plain": [
       "{'emp1': {'id': 1, 'name': 'Python', 'post': 'DS', 'salary': 5000},\n",
       " 'emp2': {'id': 2,\n",
       "  'name': 'Python Data Science',\n",
       "  'post': 'DE',\n",
       "  'salary': 7000}}"
      ]
     },
     "execution_count": 49,
     "metadata": {},
     "output_type": "execute_result"
    }
   ],
   "source": [
    "# print(my_company)\n",
    "my_company"
   ]
  },
  {
   "cell_type": "code",
   "execution_count": 50,
   "metadata": {},
   "outputs": [],
   "source": [
    "my_dict = {\n",
    "    'my_dict1':{\n",
    "        \n",
    "    },\n",
    "    'my_dict2':{\n",
    "        \n",
    "    }\n",
    "}"
   ]
  },
  {
   "cell_type": "code",
   "execution_count": 51,
   "metadata": {},
   "outputs": [
    {
     "data": {
      "text/plain": [
       "{'my_dict1': {}, 'my_dict2': {}}"
      ]
     },
     "execution_count": 51,
     "metadata": {},
     "output_type": "execute_result"
    }
   ],
   "source": [
    "my_dict"
   ]
  },
  {
   "cell_type": "code",
   "execution_count": 55,
   "metadata": {},
   "outputs": [],
   "source": [
    "my_dict = {\n",
    "    'my_dict1':{\n",
    "        'name': 'shyam',\n",
    "        'age': 25\n",
    "    },\n",
    "    'my_dict2':{\n",
    "         'name': 'shyam',\n",
    "        'age': 25\n",
    "    }\n",
    "}"
   ]
  },
  {
   "cell_type": "code",
   "execution_count": 56,
   "metadata": {},
   "outputs": [
    {
     "name": "stdout",
     "output_type": "stream",
     "text": [
      "Nested Dictionary {'my_dict1': {'name': 'shyam', 'age': 25}, 'my_dict2': {'name': 'shyam', 'age': 25}}\n"
     ]
    }
   ],
   "source": [
    "print(\"Nested Dictionary\", my_dict)"
   ]
  },
  {
   "cell_type": "markdown",
   "metadata": {},
   "source": [
    "1. Multiply all Numbers"
   ]
  },
  {
   "cell_type": "code",
   "execution_count": 59,
   "metadata": {},
   "outputs": [
    {
     "name": "stdout",
     "output_type": "stream",
     "text": [
      "1000\n"
     ]
    }
   ],
   "source": [
    "my_dict = {\n",
    "    '1': 10,\n",
    "    '2': 5,\n",
    "    '3': 20\n",
    "}\n",
    "\n",
    "result = 1\n",
    "for x in my_dict:\n",
    "    result = result * my_dict[x]\n",
    "print(result)"
   ]
  },
  {
   "cell_type": "code",
   "execution_count": 58,
   "metadata": {},
   "outputs": [
    {
     "data": {
      "text/plain": [
       "1000"
      ]
     },
     "execution_count": 58,
     "metadata": {},
     "output_type": "execute_result"
    }
   ],
   "source": [
    "10 * 5 * 20"
   ]
  },
  {
   "cell_type": "markdown",
   "metadata": {},
   "source": [
    "Q1. Write a program to count the frequency of each character in string\n",
    "1. 'Python Programming'"
   ]
  },
  {
   "cell_type": "code",
   "execution_count": 66,
   "metadata": {},
   "outputs": [
    {
     "name": "stdout",
     "output_type": "stream",
     "text": [
      "Enter Your String: Data python data aaaaa\n",
      "\n",
      " My Given string is:  Data python data aaaaa\n",
      "\n",
      " Frequency count of each Character:  {'D': 1, 'a': 9, 't': 3, ' ': 3, 'p': 1, 'y': 1, 'h': 1, 'o': 1, 'n': 1, 'd': 1}\n"
     ]
    }
   ],
   "source": [
    "my_string = str(input(\"Enter Your String: \"))\n",
    "print(\"\\n My Given string is: \", my_string)\n",
    "\n",
    "result = {}\n",
    "\n",
    "for x in my_string:\n",
    "    result[x] = result.get(x, 0) + 1\n",
    "print(\"\\n Frequency count of each Character: \", result)"
   ]
  },
  {
   "cell_type": "code",
   "execution_count": null,
   "metadata": {},
   "outputs": [],
   "source": [
    "Q2. Write  a Program to count the frequency of each word in string\n",
    "my_text = \n",
    "my_words = []\n",
    "my_words_count\n",
    "\n",
    "print(dict(zip(my_words, my_words_count)))\n"
   ]
  }
 ],
 "metadata": {
  "kernelspec": {
   "display_name": "Python 3",
   "language": "python",
   "name": "python3"
  },
  "language_info": {
   "codemirror_mode": {
    "name": "ipython",
    "version": 3
   },
   "file_extension": ".py",
   "mimetype": "text/x-python",
   "name": "python",
   "nbconvert_exporter": "python",
   "pygments_lexer": "ipython3",
   "version": "3.8.3"
  }
 },
 "nbformat": 4,
 "nbformat_minor": 4
}
