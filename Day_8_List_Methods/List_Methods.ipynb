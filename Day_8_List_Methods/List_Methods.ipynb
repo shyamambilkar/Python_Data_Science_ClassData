{
 "cells": [
  {
   "cell_type": "markdown",
   "metadata": {},
   "source": [
    "# List_Methods:\n",
    "    1. sort\n",
    "    2. join\n",
    "    3. Copy\n",
    "    "
   ]
  },
  {
   "cell_type": "markdown",
   "metadata": {},
   "source": [
    "1. Sort:\n",
    "    1. List sort be default in Ascending order (alphanumerically)\n",
    "    2. sort() method is used for that purpose:\n",
    "        1. Ascending \n",
    "        2. Descending\n",
    "    "
   ]
  },
  {
   "cell_type": "markdown",
   "metadata": {},
   "source": [
    "# 1. Ascending"
   ]
  },
  {
   "cell_type": "code",
   "execution_count": 1,
   "metadata": {},
   "outputs": [],
   "source": [
    "my_list = ['mango','banana','apple','cherry','watermelon','orange', 'pineapple']"
   ]
  },
  {
   "cell_type": "code",
   "execution_count": 2,
   "metadata": {},
   "outputs": [
    {
     "name": "stdout",
     "output_type": "stream",
     "text": [
      "['apple', 'banana', 'cherry', 'mango', 'orange', 'pineapple', 'watermelon']\n"
     ]
    }
   ],
   "source": [
    "my_list.sort()\n",
    "print(my_list)"
   ]
  },
  {
   "cell_type": "code",
   "execution_count": 3,
   "metadata": {},
   "outputs": [
    {
     "name": "stdout",
     "output_type": "stream",
     "text": [
      "[10, 20, 30, 40, 50, 60, 70, 80, 90, 100]\n"
     ]
    }
   ],
   "source": [
    "my_list = [100,70,10,50,60,20,40,30,90,80]\n",
    "\n",
    "my_list.sort()\n",
    "print(my_list)"
   ]
  },
  {
   "cell_type": "markdown",
   "metadata": {},
   "source": [
    "# 2. Descending:\n",
    "    1. use keyword argument [reverse =True]"
   ]
  },
  {
   "cell_type": "code",
   "execution_count": 4,
   "metadata": {},
   "outputs": [
    {
     "name": "stdout",
     "output_type": "stream",
     "text": [
      "['watermelon', 'pineapple', 'orange', 'mango', 'cherry', 'banana', 'apple']\n"
     ]
    }
   ],
   "source": [
    "my_list = ['mango','banana','apple','cherry','watermelon','orange', 'pineapple']\n",
    "\n",
    "my_list.sort(reverse=True)\n",
    "print(my_list)"
   ]
  },
  {
   "cell_type": "code",
   "execution_count": 5,
   "metadata": {},
   "outputs": [
    {
     "name": "stdout",
     "output_type": "stream",
     "text": [
      "[100, 90, 80, 70, 60, 50, 40, 30, 20, 10]\n"
     ]
    }
   ],
   "source": [
    "my_list = [100,70,10,50,60,20,40,30,90,80]\n",
    "\n",
    "my_list.sort(reverse=True)\n",
    "print(my_list)"
   ]
  },
  {
   "cell_type": "markdown",
   "metadata": {},
   "source": [
    "# Customize Sort Function "
   ]
  },
  {
   "cell_type": "markdown",
   "metadata": {},
   "source": [
    "1. using keyword argument key = function\n",
    "Example:\n",
    "    [100,70,10,50,60,20,40,30,90,80]"
   ]
  },
  {
   "cell_type": "code",
   "execution_count": 6,
   "metadata": {},
   "outputs": [
    {
     "name": "stdout",
     "output_type": "stream",
     "text": [
      "[50, 60, 40, 70, 30, 20, 80, 10, 90, 100]\n"
     ]
    }
   ],
   "source": [
    "def Hello(n):\n",
    "    return abs(n - 50)\n",
    "    \n",
    "my_list = [100,70,10,50,60,20,40,30,90,80]\n",
    "my_list.sort(key= Hello)\n",
    "print(my_list)"
   ]
  },
  {
   "cell_type": "markdown",
   "metadata": {},
   "source": [
    "Example:\n",
    "    my_list = [100,50,55,72,22]\n",
    "    abs(n - 50)\n",
    "    \n",
    "    1. 100 - 50 = 50\n",
    "    2. 50 - 50 = 0\n",
    "    3. 55 - 50 = 5\n",
    "    4. 72 -50 = 22\n",
    "    5. 22 - 50 = -30"
   ]
  },
  {
   "cell_type": "code",
   "execution_count": 7,
   "metadata": {},
   "outputs": [
    {
     "data": {
      "text/plain": [
       "[100, 22, 72, 55, 50]"
      ]
     },
     "execution_count": 7,
     "metadata": {},
     "output_type": "execute_result"
    }
   ],
   "source": [
    "def myFunct(n):\n",
    "    return abs(n - 50)\n",
    "\n",
    "my_list = [100,50,55,72,22]\n",
    "my_list.sort(key=myFunct, reverse=True)\n",
    "my_list"
   ]
  },
  {
   "cell_type": "code",
   "execution_count": 10,
   "metadata": {},
   "outputs": [
    {
     "data": {
      "text/plain": [
       "[100, 22, 72, 50, 55]"
      ]
     },
     "execution_count": 10,
     "metadata": {},
     "output_type": "execute_result"
    }
   ],
   "source": [
    "def myFunct(n):\n",
    "    return abs(n - 54)\n",
    "\n",
    "my_list = [100,50,55,72,22]\n",
    "my_list.sort(key= myFunct, reverse=True)\n",
    "my_list"
   ]
  },
  {
   "cell_type": "markdown",
   "metadata": {},
   "source": [
    "1. 100 - 54 = 46\n",
    "2. 50 - 54 = 4\n",
    "3. 55 - 54 = 1\n",
    "4. 72 - 54 = 18\n",
    "5. 22 - 54 = 32\n",
    "\n",
    "difference [46,4,1,18,32]\n",
    "sort [1,4,18,32,46]\n",
    "original value = [55,50,72,22,100]"
   ]
  },
  {
   "cell_type": "markdown",
   "metadata": {},
   "source": [
    "# Case Sensitive Sort :\n",
    "    1. By default sort() method is case sensitive"
   ]
  },
  {
   "cell_type": "code",
   "execution_count": 12,
   "metadata": {},
   "outputs": [
    {
     "name": "stdout",
     "output_type": "stream",
     "text": [
      "['ORANGE', 'Watermelon', 'apple', 'banana', 'cherry', 'mango', 'pineapple']\n"
     ]
    }
   ],
   "source": [
    "my_list = ['mango','banana','apple','cherry','Watermelon','ORANGE', 'pineapple']\n",
    "\n",
    "my_list.sort()\n",
    "print(my_list)"
   ]
  },
  {
   "cell_type": "code",
   "execution_count": null,
   "metadata": {},
   "outputs": [],
   "source": [
    "# help(abs)"
   ]
  },
  {
   "cell_type": "code",
   "execution_count": 14,
   "metadata": {},
   "outputs": [
    {
     "name": "stdout",
     "output_type": "stream",
     "text": [
      "['APPLE', 'BANANA', 'CHERRY', 'MANGO', 'ORANGE', 'PINEAPPLE', 'watermelon']\n"
     ]
    }
   ],
   "source": [
    "my_list = ['MANGO','BANANA','APPLE','CHERRY','watermelon','ORANGE', 'PINEAPPLE']\n",
    "\n",
    "my_list.sort()\n",
    "print(my_list)"
   ]
  },
  {
   "cell_type": "code",
   "execution_count": 20,
   "metadata": {},
   "outputs": [
    {
     "name": "stdout",
     "output_type": "stream",
     "text": [
      "['Apple', 'Banana', 'cherry', 'Mango', 'Orange', 'Pineapple', 'watermelon']\n"
     ]
    }
   ],
   "source": [
    "my_list = ['Mango','Banana','Apple','cherry','watermelon','Orange', 'Pineapple']\n",
    "my_list.sort(key=str.lower)\n",
    "print(my_list)"
   ]
  },
  {
   "cell_type": "code",
   "execution_count": 21,
   "metadata": {},
   "outputs": [
    {
     "name": "stdout",
     "output_type": "stream",
     "text": [
      "['Apple', 'Banana', 'cherry', 'Mango', 'Orange', 'Pineapple', 'watermelon']\n"
     ]
    }
   ],
   "source": [
    "my_list = ['Mango','Banana','Apple','cherry','watermelon','Orange', 'Pineapple']\n",
    "my_list.sort(key=str.capitalize)\n",
    "print(my_list)"
   ]
  },
  {
   "cell_type": "markdown",
   "metadata": {},
   "source": [
    "# 1. copy List:\n",
    "    1. my_list1 = my_list \n",
    "    2. copy() method using we copy list of elements into one list to another list"
   ]
  },
  {
   "cell_type": "code",
   "execution_count": 22,
   "metadata": {},
   "outputs": [
    {
     "name": "stdout",
     "output_type": "stream",
     "text": [
      "['Mango', 'Banana', 'Apple', 'cherry', 'watermelon', 'Orange', 'Pineapple']\n",
      "['Mango', 'Banana', 'Apple', 'cherry', 'watermelon', 'Orange', 'Pineapple']\n"
     ]
    }
   ],
   "source": [
    "my_list1 = ['Mango','Banana','Apple','cherry','watermelon','Orange', 'Pineapple']\n",
    "\n",
    "new_list = my_list1.copy()\n",
    "\n",
    "\n",
    "print(my_list1)\n",
    "print(new_list)"
   ]
  },
  {
   "cell_type": "markdown",
   "metadata": {},
   "source": [
    "### another way is to list() built in method"
   ]
  },
  {
   "cell_type": "code",
   "execution_count": 23,
   "metadata": {},
   "outputs": [
    {
     "name": "stdout",
     "output_type": "stream",
     "text": [
      "['Mango', 'Banana', 'Apple', 'cherry', 'watermelon', 'Orange', 'Pineapple']\n",
      "['Mango', 'Banana', 'Apple', 'cherry', 'watermelon', 'Orange', 'Pineapple']\n"
     ]
    }
   ],
   "source": [
    "my_list1 = ['Mango','Banana','Apple','cherry','watermelon','Orange', 'Pineapple']\n",
    "\n",
    "new_list1 = list(my_list1) \n",
    "\n",
    "print(my_list1)\n",
    "print(new_list1)"
   ]
  },
  {
   "cell_type": "code",
   "execution_count": 25,
   "metadata": {},
   "outputs": [],
   "source": [
    "# help(list())"
   ]
  },
  {
   "cell_type": "code",
   "execution_count": 28,
   "metadata": {},
   "outputs": [],
   "source": [
    "# help(my_list1.copy())"
   ]
  },
  {
   "cell_type": "markdown",
   "metadata": {},
   "source": [
    "# Join method using join two list"
   ]
  },
  {
   "cell_type": "code",
   "execution_count": 29,
   "metadata": {},
   "outputs": [
    {
     "name": "stdout",
     "output_type": "stream",
     "text": [
      "['apple', 'mango', 'cherry']\n",
      "['watermelon', 'Orange', 'Pineapple']\n",
      "['apple', 'mango', 'cherry', 'watermelon', 'Orange', 'Pineapple']\n"
     ]
    }
   ],
   "source": [
    "my_list1 = ['apple','mango','cherry']\n",
    "my_list2 = ['watermelon', 'Orange', 'Pineapple']\n",
    "\n",
    "my_list3 = my_list1 + my_list2\n",
    "\n",
    "print(my_list1)\n",
    "print(my_list2)\n",
    "print(my_list3)"
   ]
  },
  {
   "cell_type": "code",
   "execution_count": 30,
   "metadata": {},
   "outputs": [
    {
     "name": "stdout",
     "output_type": "stream",
     "text": [
      "['apple', 'mango', 'cherry', 'watermelon', 'Orange', 'Pineapple']\n"
     ]
    }
   ],
   "source": [
    "my_list1 = ['apple','mango','cherry']\n",
    "my_list2 = ['watermelon', 'Orange', 'Pineapple']\n",
    "\n",
    "for x in my_list2:\n",
    "    my_list1.append(x)\n",
    "\n",
    "print(my_list1)"
   ]
  },
  {
   "cell_type": "code",
   "execution_count": 35,
   "metadata": {},
   "outputs": [
    {
     "name": "stdout",
     "output_type": "stream",
     "text": [
      "['apple', 'mango', 'cherry']\n"
     ]
    },
    {
     "data": {
      "text/plain": [
       "['watermelon', 'Orange', 'Pineapple', 'apple', 'mango', 'cherry']"
      ]
     },
     "execution_count": 35,
     "metadata": {},
     "output_type": "execute_result"
    }
   ],
   "source": [
    "my_list1 = ['apple','mango','cherry']\n",
    "my_list2 = ['watermelon', 'Orange', 'Pineapple']\n",
    "\n",
    "for x in my_list1:\n",
    "    my_list2.append(x)\n",
    "    \n",
    "print(my_list1)\n",
    "my_list2"
   ]
  },
  {
   "cell_type": "code",
   "execution_count": null,
   "metadata": {},
   "outputs": [],
   "source": []
  }
 ],
 "metadata": {
  "kernelspec": {
   "display_name": "Python 3",
   "language": "python",
   "name": "python3"
  },
  "language_info": {
   "codemirror_mode": {
    "name": "ipython",
    "version": 3
   },
   "file_extension": ".py",
   "mimetype": "text/x-python",
   "name": "python",
   "nbconvert_exporter": "python",
   "pygments_lexer": "ipython3",
   "version": "3.8.3"
  }
 },
 "nbformat": 4,
 "nbformat_minor": 4
}
