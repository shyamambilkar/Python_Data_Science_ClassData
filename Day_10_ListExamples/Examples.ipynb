{
 "cells": [
  {
   "cell_type": "markdown",
   "metadata": {},
   "source": [
    "# 1. Addition of two no "
   ]
  },
  {
   "cell_type": "code",
   "execution_count": 1,
   "metadata": {},
   "outputs": [
    {
     "name": "stdout",
     "output_type": "stream",
     "text": [
      "Enter First Number: 52\n",
      "Enter Second Number: 52\n",
      "\n",
      "First Number 52 and Second Number 52 addition is 104\n"
     ]
    }
   ],
   "source": [
    "num1 = int(input(\"Enter First Number: \"))\n",
    "num2 = int(input(\"Enter Second Number: \"))\n",
    "\n",
    "num3 = num1 + num2\n",
    "print(\"\\nFirst Number {} and Second Number {} addition is {}\".format(num1,num2,num3))"
   ]
  },
  {
   "cell_type": "markdown",
   "metadata": {},
   "source": [
    "## Factorial of Number"
   ]
  },
  {
   "cell_type": "code",
   "execution_count": 9,
   "metadata": {},
   "outputs": [
    {
     "name": "stdout",
     "output_type": "stream",
     "text": [
      "Enter a Number to Calculate Factorial: 5\n",
      "Factorial of  5 is:  120\n"
     ]
    }
   ],
   "source": [
    "def my_fact(my_num):\n",
    "    if my_num <= 1:\n",
    "        return 1\n",
    "    else:\n",
    "        my_num = my_num * my_fact(my_num -1)\n",
    "        return my_num\n",
    "\n",
    "\n",
    "my_num = int(input(\"Enter a Number to Calculate Factorial: \"))\n",
    "print(\"Factorial of \",my_num,\"is: \", my_fact(my_num))\n",
    "\n",
    "# # 5 = 5 * 4 * 3 * 2 * 1\n",
    "# my_num = 5 * fact(4)\n",
    "# 20 = 20 * fact(3)\n",
    "# 60 = 60 * fact(2)\n",
    "# 120 = 120 * fact(1)\n",
    "# 120"
   ]
  },
  {
   "cell_type": "markdown",
   "metadata": {},
   "source": [
    "# Swapping of Two Number is"
   ]
  },
  {
   "cell_type": "markdown",
   "metadata": {},
   "source": [
    "Before Swapping:\n",
    "    a = 20\n",
    "    b = 10\n",
    "After Swapping:\n",
    "    a = 10\n",
    "    b = 20"
   ]
  },
  {
   "cell_type": "code",
   "execution_count": 14,
   "metadata": {},
   "outputs": [
    {
     "name": "stdout",
     "output_type": "stream",
     "text": [
      "Enter value of n1: 100\n",
      "Enter value of n2: 200\n",
      "Before Swapping Number are n1= 100 n2= 200\n",
      "After Swapping Number are n1= 200 n2= 100\n"
     ]
    }
   ],
   "source": [
    "n1 = int(input(\"Enter value of n1: \"))\n",
    "n2 = int(input(\"Enter value of n2: \"))\n",
    "\n",
    "print(\"Before Swapping Number are n1=\",n1,\"n2=\",n2) \n",
    "\n",
    "n1, n2 = n2, n1\n",
    "\n",
    "print(\"After Swapping Number are n1=\",n1,'n2=',n2)"
   ]
  },
  {
   "cell_type": "raw",
   "metadata": {},
   "source": [
    "1\n",
    "1 2\n",
    "1 2 3\n",
    "1 2 3 4\n",
    "1 2 3 4 5\n",
    "\n",
    "\n",
    "5\n",
    "5 4\n",
    "5 4 3\n",
    "5 4 3 2\n",
    "5 4 3 2 1"
   ]
  },
  {
   "cell_type": "code",
   "execution_count": 21,
   "metadata": {},
   "outputs": [
    {
     "name": "stdout",
     "output_type": "stream",
     "text": [
      "5 \n",
      "5 4 \n",
      "5 4 3 \n",
      "5 4 3 2 \n",
      "5 4 3 2 1 \n"
     ]
    }
   ],
   "source": [
    "for i in range(5, 0,-1):\n",
    "    for j in range(5,i-1,-1):\n",
    "        print(j, end=\" \")\n",
    "    print()"
   ]
  },
  {
   "cell_type": "markdown",
   "metadata": {},
   "source": [
    "# Area of Circle"
   ]
  },
  {
   "cell_type": "code",
   "execution_count": 22,
   "metadata": {},
   "outputs": [],
   "source": [
    "# 3.14 * r ** 2"
   ]
  },
  {
   "cell_type": "code",
   "execution_count": 29,
   "metadata": {},
   "outputs": [
    {
     "name": "stdout",
     "output_type": "stream",
     "text": [
      "Enter Radius of the Circle: 5\n",
      "Area of Circle is: 78.50\n"
     ]
    }
   ],
   "source": [
    "radius = int(input(\"Enter Radius of the Circle: \"))\n",
    "\n",
    "area = 3.14 * radius ** 2\n",
    "print(\"Area of Circle is: {0:.2f}\".format(area))"
   ]
  },
  {
   "cell_type": "markdown",
   "metadata": {},
   "source": [
    "# How to Download Python\n",
    "\n",
    "1. Go to Python Official Website \n",
    "2. Go to Download Section \n",
    "3. click on Latest version of Python \n",
    "4. [https://www.python.org/downloads/]"
   ]
  },
  {
   "cell_type": "markdown",
   "metadata": {},
   "source": [
    "# How to Install Python"
   ]
  },
  {
   "cell_type": "markdown",
   "metadata": {},
   "source": [
    "1. Double click on python-3.9.7-amd64.exe\n",
    "2. select add path to Python 3.9\n",
    "3. click on Install Python\n",
    "4. Finish\n"
   ]
  },
  {
   "cell_type": "markdown",
   "metadata": {},
   "source": [
    "# How to Download and Install Anaconda on Windos"
   ]
  },
  {
   "cell_type": "code",
   "execution_count": null,
   "metadata": {},
   "outputs": [],
   "source": [
    "Download\n",
    "1. Go to official website on Anaconda [https://www.anaconda.com/]\n",
    "2. click on Products\n",
    "3. select Indivisual Editon of Anaconda\n",
    "4. Click on Download Button\n",
    "5. Download complete\n",
    "\n",
    "Install\n",
    "\n",
    "1. Dobule click on Anaconda\n",
    "2. click next\n",
    "3. select I agree\n",
    "4. Next step\n",
    "5. click on Install\n",
    "6. close"
   ]
  }
 ],
 "metadata": {
  "kernelspec": {
   "display_name": "Python 3",
   "language": "python",
   "name": "python3"
  },
  "language_info": {
   "codemirror_mode": {
    "name": "ipython",
    "version": 3
   },
   "file_extension": ".py",
   "mimetype": "text/x-python",
   "name": "python",
   "nbconvert_exporter": "python",
   "pygments_lexer": "ipython3",
   "version": "3.8.3"
  }
 },
 "nbformat": 4,
 "nbformat_minor": 4
}
