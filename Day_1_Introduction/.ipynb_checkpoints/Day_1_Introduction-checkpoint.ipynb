{
 "cells": [
  {
   "cell_type": "markdown",
   "metadata": {},
   "source": [
    "# Python Data Science Batch"
   ]
  },
  {
   "cell_type": "markdown",
   "metadata": {},
   "source": [
    "1. Python Programming:\n",
    "    1. Python Developer\n",
    "    2. Data Scientiest\n",
    "2. Machine Learning:\n",
    "    1. Algorithm \n",
    "    2. Statastics\n",
    "    3. Ensemble Techniques\n",
    "3. Database:\n",
    "    1. MySQL\n",
    "    2. MongoDB\n",
    "4. VCS [Version Control System]:\n",
    "    1. Git\n",
    "    2. GitHub\n",
    "    3. Bitbucket\n",
    "5. NLP [Natural Language Processing]\n",
    "6. DL [Deep Learning]\n",
    "7. Project:\n",
    "    1. Project 1\n",
    "    2. Project 2\n",
    "8. Deployement Server[Devops]:\n",
    "    1.AWS [Amazon Web Service]\n",
    "    2.Docker\n",
    "    3.Kubernet\n",
    "    4.GCP [Google cloud Platform]\n",
    "9. Framework:\n",
    "    1. Django\n",
    "    2. Flask Framework"
   ]
  },
  {
   "cell_type": "markdown",
   "metadata": {},
   "source": [
    "# Installation [Prerequesites]"
   ]
  },
  {
   "cell_type": "markdown",
   "metadata": {},
   "source": [
    "1. Download Python [https://www.python.org/downloads/]\n",
    "\n",
    "2. Download Ananconda [https://www.anaconda.com/products/individual]\n"
   ]
  },
  {
   "cell_type": "markdown",
   "metadata": {},
   "source": [
    "### 1. Python Programming:\n",
    "    1. Introduction\n",
    "    2. Vaiables\n",
    "    3. Data Types\n",
    "    4. Conditional Statement\n",
    "    5. Loop\n",
    "    6. Web Scrapping\n",
    "    7. Regular Expression\n",
    "    8. Functions\n",
    "    9. Classes and Objects\n",
    "    10. OOPS\n",
    "    11. Modules:\n",
    "        1. math\n",
    "        2. OS\n",
    "        3. random\n",
    "    12. Libraries:\n",
    "        1. Numpy\n",
    "        2. Pandas\n",
    "        3. Matplotlib\n",
    "        4. Seaborn\n",
    "    12. Machine Learning Prerequsites"
   ]
  },
  {
   "cell_type": "code",
   "execution_count": null,
   "metadata": {},
   "outputs": [],
   "source": []
  }
 ],
 "metadata": {
  "kernelspec": {
   "display_name": "Python 3",
   "language": "python",
   "name": "python3"
  },
  "language_info": {
   "codemirror_mode": {
    "name": "ipython",
    "version": 3
   },
   "file_extension": ".py",
   "mimetype": "text/x-python",
   "name": "python",
   "nbconvert_exporter": "python",
   "pygments_lexer": "ipython3",
   "version": "3.8.3"
  }
 },
 "nbformat": 4,
 "nbformat_minor": 4
}
