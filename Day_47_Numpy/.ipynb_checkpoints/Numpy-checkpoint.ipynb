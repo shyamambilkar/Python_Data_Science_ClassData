{
 "cells": [
  {
   "cell_type": "markdown",
   "id": "3c6968b8",
   "metadata": {},
   "source": [
    "### Difference between Copy and View"
   ]
  },
  {
   "cell_type": "markdown",
   "id": "21ba2b34",
   "metadata": {},
   "source": [
    "### 1. Copy"
   ]
  },
  {
   "cell_type": "code",
   "execution_count": 1,
   "id": "04345e9d",
   "metadata": {},
   "outputs": [],
   "source": [
    "import numpy as np"
   ]
  },
  {
   "cell_type": "code",
   "execution_count": 2,
   "id": "bffd1701",
   "metadata": {},
   "outputs": [
    {
     "name": "stdout",
     "output_type": "stream",
     "text": [
      "[10 20 30 40 50 60 70]\n",
      "[10 20 30 40 50 60 70]\n"
     ]
    }
   ],
   "source": [
    "my_array = np.array([10,20,30,40,50,60,70])\n",
    "\n",
    "new_array = my_array.copy()\n",
    "\n",
    "print(my_array)\n",
    "print(new_array)"
   ]
  },
  {
   "cell_type": "code",
   "execution_count": 3,
   "id": "84170687",
   "metadata": {},
   "outputs": [
    {
     "name": "stdout",
     "output_type": "stream",
     "text": [
      "[80 20 30 40 50 60 70]\n",
      "[10 20 30 40 50 60 70]\n"
     ]
    }
   ],
   "source": [
    "my_array = np.array([10,20,30,40,50,60,70])\n",
    "\n",
    "new_array = my_array.copy()\n",
    "\n",
    "my_array[0] = 80\n",
    "\n",
    "print(my_array)\n",
    "print(new_array)"
   ]
  },
  {
   "cell_type": "code",
   "execution_count": 10,
   "id": "f26eb034",
   "metadata": {},
   "outputs": [
    {
     "name": "stdout",
     "output_type": "stream",
     "text": [
      "[[10 20 30]\n",
      " [40 80 60]]\n",
      "[[10 20 30]\n",
      " [40 50 60]]\n"
     ]
    }
   ],
   "source": [
    "my_array = np.array([[10,20,30],[40,50,60]])\n",
    "\n",
    "new_array = my_array.copy()\n",
    "\n",
    "my_array[1][1] = 80\n",
    "\n",
    "print(my_array)\n",
    "print(new_array)"
   ]
  },
  {
   "cell_type": "code",
   "execution_count": 11,
   "id": "419ef383",
   "metadata": {},
   "outputs": [],
   "source": [
    "import copy"
   ]
  },
  {
   "cell_type": "code",
   "execution_count": 12,
   "id": "a1ee0c8f",
   "metadata": {},
   "outputs": [],
   "source": [
    "my_list = [10,20,[30,50],40,60]\n",
    "\n",
    "new_list1 = copy.copy(my_list)"
   ]
  },
  {
   "cell_type": "code",
   "execution_count": 13,
   "id": "f211c6fe",
   "metadata": {},
   "outputs": [
    {
     "data": {
      "text/plain": [
       "[10, 20, [30, 50], 40, 60]"
      ]
     },
     "execution_count": 13,
     "metadata": {},
     "output_type": "execute_result"
    }
   ],
   "source": [
    "my_list"
   ]
  },
  {
   "cell_type": "code",
   "execution_count": 14,
   "id": "7c26ace6",
   "metadata": {},
   "outputs": [
    {
     "data": {
      "text/plain": [
       "[10, 20, [30, 50], 40, 60]"
      ]
     },
     "execution_count": 14,
     "metadata": {},
     "output_type": "execute_result"
    }
   ],
   "source": [
    "new_list1"
   ]
  },
  {
   "cell_type": "code",
   "execution_count": 15,
   "id": "99aa4951",
   "metadata": {},
   "outputs": [],
   "source": [
    "my_list = [10,20,[30,50],40,60]\n",
    "\n",
    "new_list1 = copy.copy(my_list)\n",
    "\n",
    "new_list2 = copy.deepcopy(my_list)"
   ]
  },
  {
   "cell_type": "code",
   "execution_count": 16,
   "id": "1cf83ff0",
   "metadata": {},
   "outputs": [
    {
     "name": "stdout",
     "output_type": "stream",
     "text": [
      "[10, 20, [30, 50], 40, 60]\n",
      "[10, 20, [30, 50], 40, 60]\n"
     ]
    }
   ],
   "source": [
    "print(new_list1)\n",
    "print(new_list2)"
   ]
  },
  {
   "cell_type": "code",
   "execution_count": 18,
   "id": "43050afe",
   "metadata": {},
   "outputs": [
    {
     "name": "stdout",
     "output_type": "stream",
     "text": [
      "original elements before changing: \n",
      "10 20 [30, 50] 40 60 \r\n",
      "New list after changing elements: \n",
      "10 20 [70, 50] 40 60 \r\n",
      "original elements before changing: \n",
      "10 20 [30, 50] 40 60 "
     ]
    }
   ],
   "source": [
    "my_list = [10,20,[30,50],40,60]\n",
    "new_list2 = copy.deepcopy(my_list)\n",
    "\n",
    "# original list\n",
    "print(\"original elements before changing: \")\n",
    "for i in range(0, len(my_list)):\n",
    "    print(my_list[i], end = \" \")\n",
    "    \n",
    "print(\"\\r\")\n",
    "new_list2[2][0] = 70\n",
    "\n",
    "\n",
    "print(\"New list after changing elements: \")\n",
    "for i in range(0, len(my_list)):\n",
    "    print(new_list2[i], end = \" \")\n",
    "    \n",
    "print('\\r')\n",
    "print(\"original elements before changing: \")\n",
    "for i in range(0, len(my_list)):\n",
    "    print(my_list[i], end = \" \")\n",
    "    "
   ]
  },
  {
   "cell_type": "markdown",
   "id": "d2d41299",
   "metadata": {},
   "source": [
    "### 2. View (Shallow Copy)"
   ]
  },
  {
   "cell_type": "code",
   "execution_count": 19,
   "id": "396af5d9",
   "metadata": {},
   "outputs": [
    {
     "name": "stdout",
     "output_type": "stream",
     "text": [
      "[11 20 30 40 50 60 70]\n",
      "[11 20 30 40 50 60 70]\n"
     ]
    }
   ],
   "source": [
    "my_array = np.array([10,20,30,40,50,60,70])\n",
    "\n",
    "new_array = my_array.view()\n",
    "my_array[0] = 11\n",
    "\n",
    "print(my_array)\n",
    "print(new_array)"
   ]
  },
  {
   "cell_type": "code",
   "execution_count": 20,
   "id": "fef807b4",
   "metadata": {},
   "outputs": [
    {
     "name": "stdout",
     "output_type": "stream",
     "text": [
      "[10 20 11 40 50 60 70]\n",
      "[10 20 11 40 50 60 70]\n"
     ]
    }
   ],
   "source": [
    "my_array = np.array([10,20,30,40,50,60,70])\n",
    "\n",
    "new_array = my_array.view()\n",
    "my_array[2] = 11\n",
    "\n",
    "print(my_array)\n",
    "print(new_array)"
   ]
  },
  {
   "cell_type": "code",
   "execution_count": 21,
   "id": "5b3d0510",
   "metadata": {},
   "outputs": [],
   "source": [
    "import copy"
   ]
  },
  {
   "cell_type": "code",
   "execution_count": 26,
   "id": "637a8b67",
   "metadata": {},
   "outputs": [
    {
     "name": "stdout",
     "output_type": "stream",
     "text": [
      "Original elements before change: \n",
      "10 20 [30, 50] 40 60 \r\n",
      "original elements after change: \n",
      "10 20 [11, 50] 40 60 \r\n",
      "10 20 [11, 50] 40 60 "
     ]
    }
   ],
   "source": [
    "my_list = [10,20,[30,50],40,60]\n",
    "\n",
    "# using copy function to shallow copy\n",
    "new_list = copy.copy(my_list)\n",
    "\n",
    "# print(new_list)\n",
    "# print(my_list)\n",
    "# original list\n",
    "print(\"Original elements before change: \")\n",
    "for i in range(0, len(my_list)):\n",
    "    print(my_list[i], end = \" \")\n",
    "    \n",
    "print(\"\\r\")\n",
    "\n",
    "# new elements added in new list\n",
    "new_list[2][0] = 11\n",
    "\n",
    "print(\"original elements after change: \")\n",
    "for i in range(0, len(my_list)):\n",
    "    print(my_list[i], end=' ')\n",
    "\n",
    "print('\\r')\n",
    "for i in range(0, len(my_list)):\n",
    "    print(new_list[i], end=' ')"
   ]
  },
  {
   "cell_type": "code",
   "execution_count": 27,
   "id": "bec63765",
   "metadata": {},
   "outputs": [
    {
     "name": "stdout",
     "output_type": "stream",
     "text": [
      "None\n",
      "[10 20 30 40 50 60 70]\n"
     ]
    }
   ],
   "source": [
    "my_array = np.array([10,20,30,40,50,60,70])\n",
    "\n",
    "x = my_array.copy()\n",
    "y = my_array.view()\n",
    "\n",
    "print(x.base)\n",
    "print(y.base)"
   ]
  },
  {
   "cell_type": "markdown",
   "id": "0d59c872",
   "metadata": {},
   "source": [
    "# Reshaping"
   ]
  },
  {
   "cell_type": "code",
   "execution_count": 30,
   "id": "42237452",
   "metadata": {},
   "outputs": [
    {
     "name": "stdout",
     "output_type": "stream",
     "text": [
      "[ 10  20  30  40  50  60  70  80  90 100 110 120]\n"
     ]
    }
   ],
   "source": [
    "my_array = np.array([10,20,30,40,50,60,70,80,90,100,110,120])\n",
    "print(my_array)"
   ]
  },
  {
   "cell_type": "code",
   "execution_count": 36,
   "id": "a454014a",
   "metadata": {},
   "outputs": [
    {
     "name": "stdout",
     "output_type": "stream",
     "text": [
      "[[[ 10  20]\n",
      "  [ 30  40]\n",
      "  [ 50  60]]\n",
      "\n",
      " [[ 70  80]\n",
      "  [ 90 100]\n",
      "  [110 120]]]\n"
     ]
    }
   ],
   "source": [
    "my_array = np.array([10,20,30,40,50,60,70,80,90,100,110,120])\n",
    "\n",
    "new_array = my_array.reshape(2,3,2)\n",
    "print(new_array)"
   ]
  },
  {
   "cell_type": "code",
   "execution_count": null,
   "id": "59c557c3",
   "metadata": {},
   "outputs": [],
   "source": []
  }
 ],
 "metadata": {
  "kernelspec": {
   "display_name": "Python 3",
   "language": "python",
   "name": "python3"
  },
  "language_info": {
   "codemirror_mode": {
    "name": "ipython",
    "version": 3
   },
   "file_extension": ".py",
   "mimetype": "text/x-python",
   "name": "python",
   "nbconvert_exporter": "python",
   "pygments_lexer": "ipython3",
   "version": "3.8.8"
  }
 },
 "nbformat": 4,
 "nbformat_minor": 5
}
