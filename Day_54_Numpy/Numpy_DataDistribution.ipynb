{
 "cells": [
  {
   "cell_type": "markdown",
   "id": "67d4b3bc",
   "metadata": {},
   "source": [
    "### Data Distribution"
   ]
  },
  {
   "cell_type": "markdown",
   "id": "b34b2694",
   "metadata": {},
   "source": [
    "#### There are different Data Distribution Techniques:\n",
    "    1. Normal Distribution\n",
    "    2. Binomial Distribution\n",
    "    3. Poission Distribution\n",
    "    4. Chi-Square Distribution"
   ]
  },
  {
   "cell_type": "markdown",
   "id": "cc3f0846",
   "metadata": {},
   "source": [
    "### 1. Normal Distribution"
   ]
  },
  {
   "cell_type": "markdown",
   "id": "9c363add",
   "metadata": {},
   "source": [
    "1. Normal Distribution is one of the most important data distribution\n",
    "2. Normal Distribution also called as Gaussian Distribution\n",
    "3. if our data our data should fits probability of distribution of many events:\n",
    "    1. HeartBeat\n",
    "    2. IQ Square\n",
    "    3. etc\n",
    "4. Use the random.normal() method to get Normal data Distribution:\n",
    "    Normal method has three parameters:\n",
    "        1. loc - (Mean) where the peak the bell exists\n",
    "        2. scale - (Standard Deviation) how flat graph distribution\n",
    "        3. size - The shape of returned Array\n",
    "5. Normal Distribution also called as Bell Curved Distribution"
   ]
  },
  {
   "cell_type": "markdown",
   "id": "cf43000a",
   "metadata": {},
   "source": [
    "1. Mean Value:\n",
    "![](https://www.gstatic.com/education/formulas2/397133473/en/mean.svg)"
   ]
  },
  {
   "cell_type": "markdown",
   "id": "3ca42c86",
   "metadata": {},
   "source": [
    "2. Standard Deviation:\n",
    "![](https://www.gstatic.com/education/formulas2/397133473/en/population_standard_deviation.svg)"
   ]
  },
  {
   "cell_type": "markdown",
   "id": "0ad9226c",
   "metadata": {},
   "source": [
    "**3. Normal Distribution Formula:**\n",
    "![](https://www.gstatic.com/education/formulas2/397133473/en/normal_distribution.svg)"
   ]
  },
  {
   "cell_type": "markdown",
   "id": "25c9b32a",
   "metadata": {},
   "source": [
    "Graph:\n",
    "![](https://analystprep.com/cfa-level-1-exam/wp-content/uploads/2019/10/page-123.jpg)"
   ]
  },
  {
   "cell_type": "code",
   "execution_count": 2,
   "id": "fa7ff717",
   "metadata": {},
   "outputs": [
    {
     "name": "stdout",
     "output_type": "stream",
     "text": [
      "[[ 1.72249938 -0.07435834 -0.12261185]\n",
      " [ 0.1704245   1.11243206  0.58071312]]\n"
     ]
    }
   ],
   "source": [
    "from numpy import random\n",
    "\n",
    "my_num = random.normal(size=(2,3))\n",
    "print(my_num)"
   ]
  },
  {
   "cell_type": "code",
   "execution_count": 7,
   "id": "1ff62701",
   "metadata": {},
   "outputs": [
    {
     "name": "stdout",
     "output_type": "stream",
     "text": [
      "[[ 0.29201752  1.51419717  6.25687729]\n",
      " [ 0.39451274 -0.40408869  2.43563331]]\n"
     ]
    }
   ],
   "source": [
    "from numpy import random\n",
    "\n",
    "my_num = random.normal(loc = 2, scale = 3,size = (2,3))\n",
    "print(my_num)"
   ]
  },
  {
   "cell_type": "code",
   "execution_count": 8,
   "id": "2b9b99b0",
   "metadata": {},
   "outputs": [
    {
     "data": {
      "text/plain": [
       "array([0.68653026, 1.11010848, 8.6925106 ])"
      ]
     },
     "execution_count": 8,
     "metadata": {},
     "output_type": "execute_result"
    }
   ],
   "source": [
    "sum(my_num)"
   ]
  },
  {
   "cell_type": "code",
   "execution_count": 9,
   "id": "708d3ee2",
   "metadata": {},
   "outputs": [],
   "source": [
    "my_num = 0.68653026 + 1.11010848 + 8.6925106 "
   ]
  },
  {
   "cell_type": "code",
   "execution_count": 10,
   "id": "a6a7b2eb",
   "metadata": {},
   "outputs": [
    {
     "data": {
      "text/plain": [
       "10.48914934"
      ]
     },
     "execution_count": 10,
     "metadata": {},
     "output_type": "execute_result"
    }
   ],
   "source": [
    "my_num"
   ]
  },
  {
   "cell_type": "code",
   "execution_count": 11,
   "id": "73b1e23b",
   "metadata": {},
   "outputs": [
    {
     "data": {
      "text/plain": [
       "1.7481915566666668"
      ]
     },
     "execution_count": 11,
     "metadata": {},
     "output_type": "execute_result"
    }
   ],
   "source": [
    "my_num / 6"
   ]
  },
  {
   "cell_type": "code",
   "execution_count": 12,
   "id": "492ab8df",
   "metadata": {},
   "outputs": [],
   "source": [
    "from numpy import random\n",
    "import matplotlib.pyplot as plt\n",
    "import seaborn as sns"
   ]
  },
  {
   "cell_type": "code",
   "execution_count": 14,
   "id": "96107a5c",
   "metadata": {},
   "outputs": [
    {
     "name": "stderr",
     "output_type": "stream",
     "text": [
      "C:\\Users\\shyam.DESKTOP-3EM50G2\\anaconda3\\lib\\site-packages\\seaborn\\distributions.py:2557: FutureWarning: `distplot` is a deprecated function and will be removed in a future version. Please adapt your code to use either `displot` (a figure-level function with similar flexibility) or `kdeplot` (an axes-level function for kernel density plots).\n",
      "  warnings.warn(msg, FutureWarning)\n"
     ]
    },
    {
     "data": {
      "image/png": "[encoded data removed]",
      "text/plain": [
       "<Figure size 432x288 with 1 Axes>"
      ]
     },
     "metadata": {
      "needs_background": "light"
     },
     "output_type": "display_data"
    }
   ],
   "source": [
    "sns.distplot(random.normal(size = 1000), hist=False)\n",
    "plt.show()"
   ]
  },
  {
   "cell_type": "code",
   "execution_count": 15,
   "id": "db9af222",
   "metadata": {},
   "outputs": [
    {
     "name": "stderr",
     "output_type": "stream",
     "text": [
      "C:\\Users\\shyam.DESKTOP-3EM50G2\\anaconda3\\lib\\site-packages\\seaborn\\distributions.py:2557: FutureWarning: `distplot` is a deprecated function and will be removed in a future version. Please adapt your code to use either `displot` (a figure-level function with similar flexibility) or `histplot` (an axes-level function for histograms).\n",
      "  warnings.warn(msg, FutureWarning)\n"
     ]
    },
    {
     "data": {
      "image/png": "[encoded data removed]",
      "text/plain": [
       "<Figure size 432x288 with 1 Axes>"
      ]
     },
     "metadata": {
      "needs_background": "light"
     },
     "output_type": "display_data"
    }
   ],
   "source": [
    "sns.distplot(random.normal(size = 1000), hist=True)\n",
    "plt.show()"
   ]
  },
  {
   "cell_type": "markdown",
   "id": "aef45920",
   "metadata": {},
   "source": [
    "## 2. Binomial Distribution"
   ]
  },
  {
   "cell_type": "markdown",
   "id": "d73947e8",
   "metadata": {},
   "source": [
    "1. Binomial Distribution also called as Distribution\n",
    "2. It describe the outcome of binary scenario:\n",
    "    1. Example: Toss of Coin\n",
    "3. It has use three Parameters:\n",
    "    1. n - number of trials\n",
    "    2. p - Probability of occurance of each trial (Example: Toss a coin and check head probability)\n",
    "    3. size - The shaped of array returned"
   ]
  },
  {
   "cell_type": "markdown",
   "id": "1928e4e0",
   "metadata": {},
   "source": [
    "**1. Formula:** \n",
    "![](https://www.gstatic.com/education/formulas2/397133473/en/binomial_distribution_formula.svg)"
   ]
  },
  {
   "cell_type": "markdown",
   "id": "41ba88b6",
   "metadata": {},
   "source": [
    "1. P\t=\tbinomial probability\n",
    "2. x\t=\tnumber of times for a specific outcome within n trials\n",
    "3. {n \\choose x}\t=\tnumber of combinations\n",
    "4. p\t=\tprobability of success on a single trial\n",
    "5. q\t=\tprobability of failure on a single trial\n",
    "6. n\t=\tnumber of trials"
   ]
  },
  {
   "cell_type": "code",
   "execution_count": 20,
   "id": "4f5de925",
   "metadata": {},
   "outputs": [
    {
     "name": "stdout",
     "output_type": "stream",
     "text": [
      "[[ 7 14 12 12 20 10]\n",
      " [12 13 11  9  8 12]]\n"
     ]
    }
   ],
   "source": [
    "my_num = random.binomial(n = 100, p = 0.1, size = (2,6))\n",
    "print(my_num)"
   ]
  },
  {
   "cell_type": "code",
   "execution_count": null,
   "id": "43f21b14",
   "metadata": {},
   "outputs": [],
   "source": []
  }
 ],
 "metadata": {
  "kernelspec": {
   "display_name": "Python 3",
   "language": "python",
   "name": "python3"
  },
  "language_info": {
   "codemirror_mode": {
    "name": "ipython",
    "version": 3
   },
   "file_extension": ".py",
   "mimetype": "text/x-python",
   "name": "python",
   "nbconvert_exporter": "python",
   "pygments_lexer": "ipython3",
   "version": "3.8.8"
  }
 },
 "nbformat": 4,
 "nbformat_minor": 5
}
