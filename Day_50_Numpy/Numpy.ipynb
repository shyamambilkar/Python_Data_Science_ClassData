{
 "cells": [
  {
   "cell_type": "markdown",
   "id": "d0f35058",
   "metadata": {},
   "source": [
    "# Array Reshaping"
   ]
  },
  {
   "cell_type": "code",
   "execution_count": 1,
   "id": "8fa4738a",
   "metadata": {},
   "outputs": [],
   "source": [
    "import numpy as np"
   ]
  },
  {
   "cell_type": "code",
   "execution_count": 3,
   "id": "8065d637",
   "metadata": {},
   "outputs": [
    {
     "name": "stdout",
     "output_type": "stream",
     "text": [
      "(3, 4)\n"
     ]
    }
   ],
   "source": [
    "my_array = np.array([[10,20,30,40],[50,60,70,80],[90,100,110,120]])\n",
    "print(my_array.shape)"
   ]
  },
  {
   "cell_type": "code",
   "execution_count": 8,
   "id": "8856613c",
   "metadata": {},
   "outputs": [
    {
     "name": "stdout",
     "output_type": "stream",
     "text": [
      "[[10 20 30 40 50 60 70 80]]\n",
      "Shape of given array:  (1, 8)\n"
     ]
    }
   ],
   "source": [
    "my_array = np.array([10,20,30,40,50,60,70,80], ndmin =2)\n",
    "\n",
    "print(my_array)\n",
    "print(\"Shape of given array: \", my_array.shape)"
   ]
  },
  {
   "cell_type": "markdown",
   "id": "2d0b1ccb",
   "metadata": {},
   "source": [
    "### Converting Data from one Dimension to another Dimension"
   ]
  },
  {
   "cell_type": "markdown",
   "id": "f69d4ce1",
   "metadata": {},
   "source": [
    "### 1. 1-D to 2-D"
   ]
  },
  {
   "cell_type": "code",
   "execution_count": 9,
   "id": "239c6436",
   "metadata": {},
   "outputs": [
    {
     "name": "stdout",
     "output_type": "stream",
     "text": [
      "[[ 10  20  30]\n",
      " [ 40  50  60]\n",
      " [ 70  80  90]\n",
      " [100 110 120]]\n"
     ]
    }
   ],
   "source": [
    "my_array = np.array([10,20,30,40,50,60,70,80,90,100,110,120])\n",
    "\n",
    "new_array = my_array.reshape(4,3)\n",
    "print(new_array)"
   ]
  },
  {
   "cell_type": "markdown",
   "id": "9a17b457",
   "metadata": {},
   "source": [
    "### 1. 1-D to 3-D"
   ]
  },
  {
   "cell_type": "code",
   "execution_count": 10,
   "id": "65445dc7",
   "metadata": {},
   "outputs": [],
   "source": [
    "my_array = np.array([10,20,30,40,50,60,70,80,90,100,110,120])\n",
    "\n",
    "new_array = my_array.reshape(2,3,2)"
   ]
  },
  {
   "cell_type": "code",
   "execution_count": 11,
   "id": "0db66bf5",
   "metadata": {},
   "outputs": [
    {
     "data": {
      "text/plain": [
       "array([[[ 10,  20],\n",
       "        [ 30,  40],\n",
       "        [ 50,  60]],\n",
       "\n",
       "       [[ 70,  80],\n",
       "        [ 90, 100],\n",
       "        [110, 120]]])"
      ]
     },
     "execution_count": 11,
     "metadata": {},
     "output_type": "execute_result"
    }
   ],
   "source": [
    "new_array"
   ]
  },
  {
   "cell_type": "code",
   "execution_count": 18,
   "id": "0f73cfc2",
   "metadata": {},
   "outputs": [],
   "source": [
    "my_array = np.array([10,20,30,40,50,60,70,80,90,100,110,120])\n",
    "\n",
    "new_array = my_array.reshape(2,2,3)"
   ]
  },
  {
   "cell_type": "code",
   "execution_count": 19,
   "id": "eb7a060b",
   "metadata": {},
   "outputs": [
    {
     "data": {
      "text/plain": [
       "array([[[ 10,  20,  30],\n",
       "        [ 40,  50,  60]],\n",
       "\n",
       "       [[ 70,  80,  90],\n",
       "        [100, 110, 120]]])"
      ]
     },
     "execution_count": 19,
     "metadata": {},
     "output_type": "execute_result"
    }
   ],
   "source": [
    "new_array"
   ]
  },
  {
   "cell_type": "markdown",
   "id": "67f25453",
   "metadata": {},
   "source": [
    "### Return Copy or View?"
   ]
  },
  {
   "cell_type": "code",
   "execution_count": 20,
   "id": "7be92d93",
   "metadata": {},
   "outputs": [
    {
     "name": "stdout",
     "output_type": "stream",
     "text": [
      "[ 10  20  30  40  50  60  70  80  90 100 110 120]\n"
     ]
    }
   ],
   "source": [
    "my_array = np.array([10,20,30,40,50,60,70,80,90,100,110,120])\n",
    "\n",
    "new_array = my_array.reshape(2,2,3)\n",
    "\n",
    "print(my_array.reshape(2,6).base)"
   ]
  },
  {
   "cell_type": "code",
   "execution_count": 21,
   "id": "73528fe9",
   "metadata": {},
   "outputs": [
    {
     "name": "stdout",
     "output_type": "stream",
     "text": [
      "[[ 10  20  30]\n",
      " [ 40  50  60]\n",
      " [ 70  80  90]\n",
      " [100 110 120]]\n",
      "[ 10  20  30  40  50  60  70  80  90 100 110 120]\n"
     ]
    }
   ],
   "source": [
    "my_array = np.array([10,20,30,40,50,60,70,80,90,100,110,120])\n",
    "\n",
    "new_array = my_array.reshape(4,3)\n",
    "print(new_array)\n",
    "\n",
    "print(new_array.reshape(4,3).base)"
   ]
  },
  {
   "cell_type": "markdown",
   "id": "3edf7959",
   "metadata": {},
   "source": [
    "### Itrating Arrays:\n",
    "    1. 1-D Array\n",
    "    2. 2-D Array\n",
    "    3. 3-D Array\n",
    "    4. Higher Dimensions"
   ]
  },
  {
   "cell_type": "markdown",
   "id": "42d76905",
   "metadata": {},
   "source": [
    "### 1. 1-D Arrray Itrating"
   ]
  },
  {
   "cell_type": "code",
   "execution_count": 23,
   "id": "4468ba24",
   "metadata": {},
   "outputs": [
    {
     "name": "stdout",
     "output_type": "stream",
     "text": [
      "10\n",
      "20\n",
      "30\n",
      "40\n",
      "50\n",
      "60\n",
      "70\n",
      "80\n",
      "90\n",
      "100\n",
      "110\n",
      "120\n"
     ]
    }
   ],
   "source": [
    "my_array = np.array([10,20,30,40,50,60,70,80,90,100,110,120])\n",
    "\n",
    "for i in my_array:\n",
    "    print(i)"
   ]
  },
  {
   "cell_type": "markdown",
   "id": "b7cdb14d",
   "metadata": {},
   "source": [
    "### 1. 2-D Arrray Itrating"
   ]
  },
  {
   "cell_type": "code",
   "execution_count": 25,
   "id": "a655e6dd",
   "metadata": {},
   "outputs": [
    {
     "name": "stdout",
     "output_type": "stream",
     "text": [
      "10\n",
      "20\n",
      "30\n",
      "40\n",
      "50\n",
      "60\n",
      "70\n",
      "80\n"
     ]
    }
   ],
   "source": [
    "my_array = np.array([[10,20,30,40],[50,60,70,80]])\n",
    "\n",
    "for i in my_array:\n",
    "    for j in i:\n",
    "        print(j)"
   ]
  },
  {
   "cell_type": "code",
   "execution_count": 26,
   "id": "0d97729f",
   "metadata": {},
   "outputs": [
    {
     "name": "stdout",
     "output_type": "stream",
     "text": [
      "[10 20 30 40]\n",
      "[50 60 70 80]\n"
     ]
    }
   ],
   "source": [
    "my_array = np.array([[10,20,30,40],[50,60,70,80]])\n",
    "\n",
    "for i in my_array:\n",
    "    print(i)"
   ]
  },
  {
   "cell_type": "markdown",
   "id": "eb5e532c",
   "metadata": {},
   "source": [
    "### 1. 3-D Arrray Itrating"
   ]
  },
  {
   "cell_type": "code",
   "execution_count": 29,
   "id": "aa98637f",
   "metadata": {},
   "outputs": [
    {
     "name": "stdout",
     "output_type": "stream",
     "text": [
      "10\n",
      "20\n",
      "30\n",
      "40\n",
      "50\n",
      "60\n",
      "70\n",
      "80\n",
      "90\n",
      "100\n",
      "110\n",
      "120\n"
     ]
    }
   ],
   "source": [
    "my_array = np.array([[[ 10,  20,  30],\n",
    "        [ 40,  50,  60]],\n",
    "\n",
    "       [[ 70,  80,  90],\n",
    "        [100, 110, 120]]])\n",
    "\n",
    "\n",
    "for i in my_array:\n",
    "    for j in i:\n",
    "        for k in j:\n",
    "            print(k)"
   ]
  },
  {
   "cell_type": "markdown",
   "id": "f6511730",
   "metadata": {},
   "source": [
    "### Function used nditer() for Array Itrating"
   ]
  },
  {
   "cell_type": "code",
   "execution_count": 30,
   "id": "e9509c4d",
   "metadata": {},
   "outputs": [
    {
     "name": "stdout",
     "output_type": "stream",
     "text": [
      "10\n",
      "20\n",
      "30\n",
      "40\n",
      "50\n",
      "60\n",
      "70\n",
      "80\n",
      "90\n",
      "100\n",
      "110\n",
      "120\n"
     ]
    }
   ],
   "source": [
    "my_array = np.array([[[ 10,  20,  30],\n",
    "        [ 40,  50,  60]],\n",
    "\n",
    "       [[ 70,  80,  90],\n",
    "        [100, 110, 120]]])\n",
    "\n",
    "for i in np.nditer(my_array):\n",
    "    print(i)"
   ]
  },
  {
   "cell_type": "code",
   "execution_count": 37,
   "id": "b479f62c",
   "metadata": {},
   "outputs": [
    {
     "name": "stdout",
     "output_type": "stream",
     "text": [
      "20\n",
      "50\n"
     ]
    }
   ],
   "source": [
    "my_array = np.array([[ 10,  20,  30],[ 40,  50,  60]])\n",
    "\n",
    "\n",
    "for i in np.nditer(my_array[0:2, 1:2:1]):\n",
    "    print(i)"
   ]
  },
  {
   "cell_type": "code",
   "execution_count": 42,
   "id": "71e4f6ea",
   "metadata": {},
   "outputs": [
    {
     "name": "stdout",
     "output_type": "stream",
     "text": [
      "20\n",
      "40\n",
      "50\n",
      "70\n"
     ]
    }
   ],
   "source": [
    "my_array = np.array([[ 10,  20,  30, 40, 50, 60],[ 40,  50,  60, 70, 80, 90]])\n",
    "\n",
    "\n",
    "for i in np.nditer(my_array[0:2, 1:5:2]):\n",
    "    print(i)"
   ]
  },
  {
   "cell_type": "code",
   "execution_count": 43,
   "id": "eb75ae8d",
   "metadata": {},
   "outputs": [
    {
     "name": "stdout",
     "output_type": "stream",
     "text": [
      "20\n",
      "40\n",
      "60\n",
      "50\n",
      "70\n",
      "90\n"
     ]
    }
   ],
   "source": [
    "my_array = np.array([[ 10,  20,  30, 40, 50, 60],[ 40,  50,  60, 70, 80, 90]])\n",
    "\n",
    "\n",
    "for i in np.nditer(my_array[0:2, 1::2]):\n",
    "    print(i)"
   ]
  },
  {
   "cell_type": "code",
   "execution_count": 47,
   "id": "afa78c0b",
   "metadata": {},
   "outputs": [
    {
     "name": "stdout",
     "output_type": "stream",
     "text": [
      "40\n",
      "60\n",
      "80\n"
     ]
    }
   ],
   "source": [
    "my_array = np.array([[ 10,  20,  30, 40, 50, 60],[ 40,  50,  60, 70, 80, 90]])\n",
    "\n",
    "\n",
    "for i in np.nditer(my_array[1:2, 0:5:2]):\n",
    "    print(i)"
   ]
  },
  {
   "cell_type": "code",
   "execution_count": 63,
   "id": "a7b27518",
   "metadata": {},
   "outputs": [
    {
     "name": "stdout",
     "output_type": "stream",
     "text": [
      "100\n",
      "120\n"
     ]
    }
   ],
   "source": [
    "my_array = np.array([[[ 10,  20,  30],\n",
    "        [ 40,  50,  60]],\n",
    "\n",
    "       [[ 70,  80,  90],\n",
    "        [100, 110, 120]]])\n",
    "\n",
    "for i in np.nditer(my_array[1:2,1:2, 0:3:2]):\n",
    "    print(i)"
   ]
  },
  {
   "cell_type": "markdown",
   "id": "a7455ceb",
   "metadata": {},
   "source": [
    "### Function ndenumerate()"
   ]
  },
  {
   "cell_type": "code",
   "execution_count": 64,
   "id": "758302b0",
   "metadata": {},
   "outputs": [
    {
     "name": "stdout",
     "output_type": "stream",
     "text": [
      "(0, 0, 0) 10\n",
      "(0, 0, 1) 20\n",
      "(0, 0, 2) 30\n",
      "(0, 1, 0) 40\n",
      "(0, 1, 1) 50\n",
      "(0, 1, 2) 60\n",
      "(1, 0, 0) 70\n",
      "(1, 0, 1) 80\n",
      "(1, 0, 2) 90\n",
      "(1, 1, 0) 100\n",
      "(1, 1, 1) 110\n",
      "(1, 1, 2) 120\n"
     ]
    }
   ],
   "source": [
    "my_array = np.array([[[ 10,  20,  30],\n",
    "        [ 40,  50,  60]],\n",
    "\n",
    "       [[ 70,  80,  90],\n",
    "        [100, 110, 120]]])\n",
    "\n",
    "for idx, i in np.ndenumerate(my_array):\n",
    "    print(idx, i)"
   ]
  },
  {
   "cell_type": "code",
   "execution_count": 66,
   "id": "8299b832",
   "metadata": {},
   "outputs": [
    {
     "name": "stdout",
     "output_type": "stream",
     "text": [
      "(0, 0) 10\n",
      "(0, 1) 20\n",
      "(0, 2) 30\n",
      "(0, 3) 40\n",
      "(1, 0) 50\n",
      "(1, 1) 60\n",
      "(1, 2) 70\n",
      "(1, 3) 80\n"
     ]
    }
   ],
   "source": [
    "my_array = np.array([[10,20,30,40],[50,60,70,80]])\n",
    "\n",
    "for shyam, i in np.ndenumerate(my_array):\n",
    "    print(shyam, i)"
   ]
  },
  {
   "cell_type": "markdown",
   "id": "07422b52",
   "metadata": {},
   "source": [
    "# Joining Array"
   ]
  },
  {
   "cell_type": "code",
   "execution_count": 67,
   "id": "88b0107a",
   "metadata": {},
   "outputs": [
    {
     "data": {
      "text/plain": [
       "array([20, 40, 60, 80])"
      ]
     },
     "execution_count": 67,
     "metadata": {},
     "output_type": "execute_result"
    }
   ],
   "source": [
    "my_array1 = np.array([10,20,30,40])\n",
    "my_array2 = np.array([10,20,30,40])\n",
    "\n",
    "new_array = my_array1 + my_array2\n",
    "new_array"
   ]
  },
  {
   "cell_type": "code",
   "execution_count": 68,
   "id": "0ac74816",
   "metadata": {},
   "outputs": [
    {
     "data": {
      "text/plain": [
       "array([10, 20, 30, 40, 10, 20, 30, 40])"
      ]
     },
     "execution_count": 68,
     "metadata": {},
     "output_type": "execute_result"
    }
   ],
   "source": [
    "my_array1 = np.array([10,20,30,40])\n",
    "my_array2 = np.array([10,20,30,40])\n",
    "\n",
    "new_array = np.concatenate((my_array1, my_array2))\n",
    "new_array"
   ]
  },
  {
   "cell_type": "code",
   "execution_count": 72,
   "id": "72ea9d10",
   "metadata": {},
   "outputs": [
    {
     "data": {
      "text/plain": [
       "array([[10, 20, 30, 40, 10, 20, 30, 40],\n",
       "       [50, 60, 15, 45, 63, 45, 74, 85]])"
      ]
     },
     "execution_count": 72,
     "metadata": {},
     "output_type": "execute_result"
    }
   ],
   "source": [
    "my_array1 = np.array([[10,20,30,40],[50,60,15,45]])\n",
    "my_array2 = np.array([[10,20,30,40],[63,45,74,85]])\n",
    "\n",
    "new_array = np.concatenate((my_array1, my_array2), axis=1)\n",
    "new_array"
   ]
  },
  {
   "cell_type": "markdown",
   "id": "cf7ef82e",
   "metadata": {},
   "source": [
    "### Joining Array with Stack Function"
   ]
  },
  {
   "cell_type": "code",
   "execution_count": 73,
   "id": "85c4e914",
   "metadata": {},
   "outputs": [
    {
     "name": "stdout",
     "output_type": "stream",
     "text": [
      "[[[10 20 30 40]\n",
      "  [10 20 30 40]]\n",
      "\n",
      " [[50 60 15 45]\n",
      "  [63 45 74 85]]]\n"
     ]
    }
   ],
   "source": [
    "my_array1 = np.array([[10,20,30,40],[50,60,15,45]])\n",
    "my_array2 = np.array([[10,20,30,40],[63,45,74,85]])\n",
    "\n",
    "\n",
    "new_array = np.stack((my_array1, my_array2),axis=1)\n",
    "print(new_array)"
   ]
  },
  {
   "cell_type": "code",
   "execution_count": 81,
   "id": "ffa7fbb7",
   "metadata": {},
   "outputs": [
    {
     "name": "stdout",
     "output_type": "stream",
     "text": [
      "[[10 40]\n",
      " [20 50]\n",
      " [30 60]\n",
      " [40 70]\n",
      " [50 80]\n",
      " [60 90]]\n"
     ]
    }
   ],
   "source": [
    "my_array1 = np.array([ 10,  20,  30, 40, 50, 60])\n",
    "my_array2 = np.array([ 40,  50,  60, 70, 80, 90])\n",
    "\n",
    "new_array = np.stack((my_array1, my_array2),axis=1)\n",
    "print(new_array)"
   ]
  },
  {
   "cell_type": "code",
   "execution_count": 83,
   "id": "9d4b9b8d",
   "metadata": {},
   "outputs": [
    {
     "name": "stdout",
     "output_type": "stream",
     "text": [
      "[10 20 30 40 50 60 40 50 60 70 80 90]\n"
     ]
    }
   ],
   "source": [
    "my_array1 = np.array([ 10,  20,  30, 40, 50, 60])\n",
    "my_array2 = np.array([ 40,  50,  60, 70, 80, 90])\n",
    "\n",
    "new_array = np.hstack((my_array1, my_array2))\n",
    "print(new_array)"
   ]
  },
  {
   "cell_type": "code",
   "execution_count": 84,
   "id": "5ccbee23",
   "metadata": {},
   "outputs": [
    {
     "name": "stdout",
     "output_type": "stream",
     "text": [
      "[[10 20 30 40 50 60]\n",
      " [40 50 60 70 80 90]]\n"
     ]
    }
   ],
   "source": [
    "my_array1 = np.array([ 10,  20,  30, 40, 50, 60])\n",
    "my_array2 = np.array([ 40,  50,  60, 70, 80, 90])\n",
    "\n",
    "new_array = np.vstack((my_array1, my_array2))\n",
    "print(new_array)"
   ]
  },
  {
   "cell_type": "code",
   "execution_count": 85,
   "id": "a58cfdf0",
   "metadata": {},
   "outputs": [
    {
     "name": "stdout",
     "output_type": "stream",
     "text": [
      "[[[10 40]\n",
      "  [20 50]\n",
      "  [30 60]\n",
      "  [40 70]\n",
      "  [50 80]\n",
      "  [60 90]]]\n"
     ]
    }
   ],
   "source": [
    "my_array1 = np.array([ 10,  20,  30, 40, 50, 60])\n",
    "my_array2 = np.array([ 40,  50,  60, 70, 80, 90])\n",
    "\n",
    "new_array = np.dstack((my_array1, my_array2))\n",
    "print(new_array)"
   ]
  },
  {
   "cell_type": "code",
   "execution_count": null,
   "id": "ed49b431",
   "metadata": {},
   "outputs": [],
   "source": []
  }
 ],
 "metadata": {
  "kernelspec": {
   "display_name": "Python 3",
   "language": "python",
   "name": "python3"
  },
  "language_info": {
   "codemirror_mode": {
    "name": "ipython",
    "version": 3
   },
   "file_extension": ".py",
   "mimetype": "text/x-python",
   "name": "python",
   "nbconvert_exporter": "python",
   "pygments_lexer": "ipython3",
   "version": "3.8.8"
  }
 },
 "nbformat": 4,
 "nbformat_minor": 5
}
