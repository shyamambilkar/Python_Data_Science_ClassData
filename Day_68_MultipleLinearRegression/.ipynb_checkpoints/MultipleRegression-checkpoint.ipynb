{
 "cells": [
  {
   "cell_type": "markdown",
   "id": "3f63e103",
   "metadata": {},
   "source": [
    "# Multiple Linear Regression"
   ]
  },
  {
   "cell_type": "markdown",
   "id": "f3355585",
   "metadata": {},
   "source": [
    "1. Regression model are used to describe realationship between [independent and dependent] variable by fitting a line the obeserved data.\n",
    "2. Regression allows us to to estimate how dependent variable changes as indepenedent variable changes.\n",
    "3. Multiple linear regression is used to findout the relationship between two or more independent variable and one dependent\n",
    "4. Use Multiple Linear Regression , When you want to know:\n",
    "    1. How strong the realtionship between two or more independent variable and one dependent variable\n",
    "    2. Example:\n",
    "        1. How Rainfall, temprature and amount of fertilizer added affect of crop growth.\n",
    "        2. The value of dependent variable a certain value of the independent variable:\n",
    "            1. Example:\n",
    "                1. Expected yield of a crop of certain levels of raifall, temprature and fertilizers addition."
   ]
  },
  {
   "cell_type": "markdown",
   "id": "7a3a7381",
   "metadata": {},
   "source": [
    "## 1. Assumption of Multiple Linear Regression:\n",
    "    1. Homogeity of variance (Homoscedasticity):\n",
    "        1. size of error in our prediction dosen't change significantly across the value of independance variable\n",
    "    2. Independependance observation:\n",
    "        1. Observation in dataset were collected using statastically valid method\n",
    "        2. There no hidden relationship among variable\n",
    "        3. In multiple Linear Regression, it is possible that some of independent variable highly corealated with another,\n",
    "            so it is important to check deloping regression model.\n",
    "        4. If two variable are highly corelated (r2> 0.6)then only one of them be used in linear regression model\n",
    "    3. Normality:\n",
    "        1. The data should followed normal distribution\n",
    "    4. Linearity:\n",
    "        1. Th line of best fit line through data proint is straight line rather than a curve or some grouping factor"
   ]
  },
  {
   "cell_type": "markdown",
   "id": "24e2477a",
   "metadata": {},
   "source": [
    "### Perform Multiple Linear Regression"
   ]
  },
  {
   "cell_type": "markdown",
   "id": "6c275ced",
   "metadata": {},
   "source": [
    "**Formula: y =  b0 + b1x1 + b2x2 + .........+bnxn + e**"
   ]
  },
  {
   "cell_type": "markdown",
   "id": "cfa28bb8",
   "metadata": {},
   "source": [
    "1. where:\n",
    "    1. y = predicted value of independance variable\n",
    "    2. b0 = intecept (value of y when all other parameters are set 0)\n",
    "    3. b1x1 = Regression coefficient(b1) of the first independance variable [x1]:\n",
    "        1. Effect that increasing value independance variable has the predicted y value\n",
    "    4. [...] = same for however many independance variable are testing\n",
    "    5. bnxn = Regression for coefficient the last independance variable\n",
    "    6. e = model error [how much variaton there is estimation of y]"
   ]
  },
  {
   "cell_type": "markdown",
   "id": "8d23b2d6",
   "metadata": {},
   "source": [
    "1. To find best fit line for each indepedance variable, multiple linear regression calculated three things:\n",
    "    1. Regression of Coefficient lead to the smallest overall model error\n",
    "    2. T- Statistics of overall model\n",
    "    3. Associated value [R- Value]:\n",
    "        1. how likely it is t- statistics would occured by chance if **Null Hypothesis** of No realtionship between indepedent and dependent variable was true"
   ]
  },
  {
   "cell_type": "markdown",
   "id": "eb082b14",
   "metadata": {},
   "source": [
    "### Algorithm"
   ]
  },
  {
   "cell_type": "markdown",
   "id": "9ae0f2f8",
   "metadata": {},
   "source": [
    "1. suppose we have independent variable on x- axis and dependent variable on y -axis\n",
    "2. inpedent variable on the x- axis(incresing) and does the dependent variable on the y - axis[incresing] you would get Positive Relationship\n",
    "3. inpedent variable on the x- axis(incresing) and other hande dependent variable on the y - axis [decresing] you would get Negative Relationship\n",
    "4. Formula:\n",
    "    1. y = mx + c\n",
    "5. some data points on our graph\n",
    "6. All are data points are plotted graph, now our main goal is to **create Regression Line or Best fit Line**\n",
    "7. Now we get estimated , Predicted and Actual Value\n",
    "8. our main goal is to reduce the error that is distance between estiamated value and Actual value[Predicted Value]"
   ]
  },
  {
   "cell_type": "markdown",
   "id": "31ef70da",
   "metadata": {},
   "source": [
    "## Mathematical Implementation - Part I"
   ]
  },
  {
   "cell_type": "markdown",
   "id": "3f9e5277",
   "metadata": {},
   "source": [
    "1. Data Points plotted on Graph [ rather than the graph plotted findout realationship between variables]\n",
    "2. Now calculate mean of X [mean_x] and similarly for mean of Y [mean_y]\n",
    "3. Now Plot a graph using mean value\n",
    "4. Now our main goal is to findout or predict **best fit line or Regression Line**\n",
    "5. Now, we need to first findout the equation of line, so lets find the equation of regression line:\n",
    "    1. y = mx + c\n",
    "6. now first we need to calculate the value of m[ Coefficent of Regression ] ,using eauation line:\n",
    "    **1. m = summation(x - mean_x) * (y - mean_y) / summation (x -mean_x) ** 2**\n",
    "    \n",
    "7. we get value of m\n",
    "8. Then we get Regression of line [c]\n",
    "9. Now calculate Predict value of y [y = mx + c ]"
   ]
  },
  {
   "cell_type": "code",
   "execution_count": null,
   "id": "9b45cc51",
   "metadata": {},
   "outputs": [],
   "source": []
  }
 ],
 "metadata": {
  "kernelspec": {
   "display_name": "Python 3",
   "language": "python",
   "name": "python3"
  },
  "language_info": {
   "codemirror_mode": {
    "name": "ipython",
    "version": 3
   },
   "file_extension": ".py",
   "mimetype": "text/x-python",
   "name": "python",
   "nbconvert_exporter": "python",
   "pygments_lexer": "ipython3",
   "version": "3.8.8"
  }
 },
 "nbformat": 4,
 "nbformat_minor": 5
}
