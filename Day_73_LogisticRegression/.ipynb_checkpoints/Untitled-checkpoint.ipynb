{
 "cells": [
  {
   "cell_type": "markdown",
   "id": "be67798b",
   "metadata": {},
   "source": [
    "# Assumption"
   ]
  },
  {
   "cell_type": "markdown",
   "id": "4e934fb5",
   "metadata": {},
   "source": [
    "1. Binary logistic regression, requires dependent variable to be binary \n",
    "2. Ordinal logisitc regression required dependent variable to be ordinal\n",
    "3. Logistic regression requires the observation to be independent to each other\n",
    "4. Logistic regression required to be little or no multicoleanarity among the obervation\n",
    "5. Logistic Regression required large amount data."
   ]
  },
  {
   "cell_type": "markdown",
   "id": "83257ab3",
   "metadata": {},
   "source": [
    "### 1. To understand the concept of logistic Regression, it is important to understand:[imp]\n",
    "    1. The concept of odd ratio or\n",
    "    2. Logit Function, sigmoid function and logistic Function\n",
    "    3. Cross entropy and log loss Function"
   ]
  },
  {
   "cell_type": "markdown",
   "id": "7a5f01ae",
   "metadata": {},
   "source": [
    "### 1. Logistic Regression:\n",
    "    1. Sigmoid Function convert value from [-infinity to infinity]\n",
    "    2. Threshold value indicate loose or win\n",
    "    3. consider Threshold value 0.8\n",
    "    4. 0.8 > value then win otherwiese if we get 0.8 < value the loose\n",
    "    5. To findout output of logistic regression use concept of **Threshold**\n",
    "    6. Logistic Regression equation derived straight line equation:\n",
    "        1. Equation of Straight line:\n",
    "            1. Y = C + B1X1 + B2X2 + ........ + BnXn [Range -infinity to infinity]\n",
    "        2. Lets try to reduced logistic regression equation from straight line in logistic equation y can only 0 or 1:\n",
    "            1. Y = C + B1X1 + B2X2 + ........ + BnXn [0 or 1]\n",
    "        3.Now gets the range of x between 0 and infinity, lets transform Y:\n",
    "            1.  Y /1- Y: [ range between 0 and infinity]\n",
    "                1. [ Y = 0 then 0]\n",
    "                2. [ Y = 1 then infinity]\n",
    "            2. Let us transform it furter, range between - infinity to infinity:\n",
    "                1.  Y /1- Y:\n",
    "                    1. Y = C + b1X1 + B2X2 + ....... Finally we get of eqation of logistic regression\n",
    "        \n",
    "    "
   ]
  },
  {
   "cell_type": "markdown",
   "id": "4c4b32d3",
   "metadata": {},
   "source": [
    "### Odd Ratio"
   ]
  },
  {
   "cell_type": "markdown",
   "id": "1e690fd5",
   "metadata": {},
   "source": [
    "1. Odd Ratio:\n",
    "    1. Odd Ratio = P / (1 - P), where:\n",
    "        1. P - Probability of Positive Event:\n",
    "            1. Example [0.8]:\n",
    "                1. Positive probability of event [0.8]\n",
    "                2. Probability of Failure [Q] = 1- P = 1 - 0.8 = 0.2\n",
    "        2. odd ration of Probability success and Probability of Failure:\n",
    "            1. Odd(Success ) = P / Q = 0.8 / 0.2 = 0.4\n",
    "            2. Odd(Failure ) = Q / P = 0.2 / 0.8 = 0.25\n",
    "            "
   ]
  },
  {
   "cell_type": "markdown",
   "id": "9e737480",
   "metadata": {},
   "source": [
    "### Logit Function"
   ]
  },
  {
   "cell_type": "markdown",
   "id": "74508349",
   "metadata": {},
   "source": [
    "1. Lets take Probability of odd:\n",
    "    1. P / (1 - P)\n",
    "    2.  logit(P) = log P / (1 - P)"
   ]
  },
  {
   "cell_type": "markdown",
   "id": "58fd9326",
   "metadata": {},
   "source": [
    "### Logistic Function or Sigmoid Function"
   ]
  },
  {
   "cell_type": "markdown",
   "id": "8f53a137",
   "metadata": {},
   "source": [
    "1. Equation of sigmoid:\n",
    "    1. Q = 1 / 1 + e rest to -y"
   ]
  },
  {
   "cell_type": "markdown",
   "id": "895db71d",
   "metadata": {},
   "source": [
    "### Cross Entropy or Log loss"
   ]
  },
  {
   "cell_type": "markdown",
   "id": "ed0bf137",
   "metadata": {},
   "source": [
    "#### cost = (Y_actual) * log(Y_predicted) - (1 - Y_actual) * log(1- Y_predicted)"
   ]
  },
  {
   "cell_type": "markdown",
   "id": "31f1574a",
   "metadata": {},
   "source": [
    "# Confusion Matrix"
   ]
  },
  {
   "cell_type": "markdown",
   "id": "77ef8206",
   "metadata": {},
   "source": [
    "1. Confusion Matrix:\n",
    "    1. TP - [True Positive:]\n",
    "        1. Predicted value matches the Actual Value\n",
    "        2. Actual value is **Positive** and Model predicted as **Positive**\n",
    "    2. TN - [True Negative:]\n",
    "        1. Predicted value matches the Actual Value\n",
    "        2. Actual value is **Negative** and Model predicted as **Negative**\n",
    "    3. FP - [False Positive] - Type 1 Error:\n",
    "        1. predicted value was falsely predicted\n",
    "        2. Actual value was **negative** but our model predicted **positive**\n",
    "        3. also knows as **Type 1 Error**\n",
    "    4. FN - [False Negative] - Type 2 Error:\n",
    "        1. predicted value was falsely predicted\n",
    "        2. Actual value was **Positive** but our model predicted **Negative**\n",
    "        3. also knows as **Type 2 Error**"
   ]
  },
  {
   "cell_type": "code",
   "execution_count": null,
   "id": "b65d0c51",
   "metadata": {},
   "outputs": [],
   "source": [
    "Example:\n",
    "    1. TP - 580\n",
    "    2. TN - 350\n",
    "    3. FP - 80\n",
    "    4. FN - 90\n",
    "    \n",
    "Accuracy  = TP + TN / TP + FP + FN + TN:\n",
    "    1. 580 "
   ]
  }
 ],
 "metadata": {
  "kernelspec": {
   "display_name": "Python 3",
   "language": "python",
   "name": "python3"
  },
  "language_info": {
   "codemirror_mode": {
    "name": "ipython",
    "version": 3
   },
   "file_extension": ".py",
   "mimetype": "text/x-python",
   "name": "python",
   "nbconvert_exporter": "python",
   "pygments_lexer": "ipython3",
   "version": "3.8.8"
  }
 },
 "nbformat": 4,
 "nbformat_minor": 5
}
