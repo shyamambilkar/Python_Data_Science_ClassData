{
 "cells": [
  {
   "cell_type": "markdown",
   "id": "852eefa1",
   "metadata": {},
   "source": [
    "# File Handling"
   ]
  },
  {
   "cell_type": "markdown",
   "id": "f178ee1b",
   "metadata": {},
   "source": [
    "1. File handling is an important part of any web application\n",
    "2. There are different Functions are used in File Handling Concept:\n",
    "    1. Creating\n",
    "    2. Reading\n",
    "    3. Update\n",
    "    4. Delete\n",
    "    \n",
    "3. There are key function with files in Python is the [open()] function:\n",
    "    1. open() function takes two parameteres:\n",
    "        1. Filename\n",
    "        2. mode"
   ]
  },
  {
   "cell_type": "markdown",
   "id": "33d5c4b1",
   "metadata": {},
   "source": [
    "1. There are four types modes are used in File Handling:\n",
    "    1. \"r\":\n",
    "        1. Read - Defalt Value - open file for reading, error if the file does not exists\n",
    "    2. \"a\":\n",
    "        1. Append - open file for appending,error if the file does not exists\n",
    "    3. \"w\":\n",
    "        1. write - open file for writting,error if the file does not exists\n",
    "    4. \"x\":\n",
    "        1. Create - Create the specified file, error if the file does not exists\n",
    "        \n",
    "        \n",
    "2. There are two modes are used to handled file in Python:\n",
    "    1. Text:\n",
    "        1. \"t\":\n",
    "            1. Text mode\n",
    "    2. Binary:\n",
    "        1. \"b\":\n",
    "            1. Binary mode (ex. images)"
   ]
  },
  {
   "cell_type": "code",
   "execution_count": 2,
   "id": "354a1958",
   "metadata": {},
   "outputs": [],
   "source": [
    "my_text = \"Welcome to Data Science Class. It is based on Python Programming, and R Programming\"\n",
    "\n",
    "my_file = open(\"my_file1.txt\",\"x\")\n",
    "my_file.write(my_text)\n",
    "my_file.close()"
   ]
  },
  {
   "cell_type": "code",
   "execution_count": 4,
   "id": "80d360be",
   "metadata": {},
   "outputs": [
    {
     "name": "stdout",
     "output_type": "stream",
     "text": [
      "Welcome to Data Science Class. It is based on Python Programming, and R Programming\n"
     ]
    }
   ],
   "source": [
    "my_file = open(\"my_file1.txt\",\"rt\")\n",
    "print(my_file.read())"
   ]
  },
  {
   "cell_type": "code",
   "execution_count": 6,
   "id": "37fa2c42",
   "metadata": {},
   "outputs": [],
   "source": [
    "my_text = \"\\nMy name is Data Scientist\"\n",
    "my_file = open(\"my_file1.txt\",'a')\n",
    "my_file.write(my_text)\n",
    "my_file.close()"
   ]
  },
  {
   "cell_type": "code",
   "execution_count": 7,
   "id": "9324ef71",
   "metadata": {},
   "outputs": [
    {
     "name": "stdout",
     "output_type": "stream",
     "text": [
      "Welcome to Data Science Class. It is based on Python Programming, and R Programming\n",
      "My name is Data Scientist\n"
     ]
    }
   ],
   "source": [
    "my_file = open(\"my_file1.txt\",\"rt\")\n",
    "print(my_file.read())"
   ]
  },
  {
   "cell_type": "code",
   "execution_count": 9,
   "id": "c8286d24",
   "metadata": {},
   "outputs": [],
   "source": [
    "my_text1 = \"My college name is Imperial College of Engineering and Research, Wagholi\"\n",
    "\n",
    "my_file = open(\"college1.txt\",\"x\")\n",
    "my_file.write(my_text1)\n",
    "my_file.close()"
   ]
  },
  {
   "cell_type": "code",
   "execution_count": 10,
   "id": "808dd505",
   "metadata": {},
   "outputs": [
    {
     "name": "stdout",
     "output_type": "stream",
     "text": [
      "My college name is Imperial College of Engineering and Research, Wagholi\n"
     ]
    }
   ],
   "source": [
    "my_file = open(\"college1.txt\",\"rt\")\n",
    "print(my_file.read())"
   ]
  },
  {
   "cell_type": "code",
   "execution_count": 12,
   "id": "02543474",
   "metadata": {},
   "outputs": [
    {
     "name": "stdout",
     "output_type": "stream",
     "text": [
      "All students are beloning to Data Science Class for location PuneAll students are beloning to Data Science Class for location Pune\n"
     ]
    }
   ],
   "source": [
    "new_text = \"All students are beloning to Data Science Class for location Pune\"\n",
    "my_file = open(\"college3.txt\",\"a\")\n",
    "my_file.write(new_text)\n",
    "my_file.close()\n",
    "\n",
    "my_file = open(\"college3.txt\",\"rt\")\n",
    "print(my_file.read())"
   ]
  },
  {
   "cell_type": "code",
   "execution_count": 13,
   "id": "376bdcdc",
   "metadata": {},
   "outputs": [
    {
     "name": "stdout",
     "output_type": "stream",
     "text": [
      "Help on built-in function detach:\n",
      "\n",
      "detach() method of _io.TextIOWrapper instance\n",
      "    Separate the underlying buffer from the TextIOBase and return it.\n",
      "    \n",
      "    After the underlying buffer has been detached, the TextIO is in an\n",
      "    unusable state.\n",
      "\n"
     ]
    }
   ],
   "source": [
    "help(my_file.detach)"
   ]
  },
  {
   "cell_type": "code",
   "execution_count": 14,
   "id": "86cbf668",
   "metadata": {},
   "outputs": [],
   "source": [
    "import os"
   ]
  },
  {
   "cell_type": "code",
   "execution_count": 16,
   "id": "9ab3fc1a",
   "metadata": {},
   "outputs": [],
   "source": [
    "os.remove(\"college1.txt\")"
   ]
  },
  {
   "cell_type": "code",
   "execution_count": 17,
   "id": "ff3cf007",
   "metadata": {},
   "outputs": [],
   "source": [
    "# help(os)"
   ]
  },
  {
   "cell_type": "code",
   "execution_count": 18,
   "id": "f65f83fc",
   "metadata": {},
   "outputs": [
    {
     "name": "stdout",
     "output_type": "stream",
     "text": [
      "File has been successfully Deleted\n"
     ]
    }
   ],
   "source": [
    "import os\n",
    "\n",
    "if os.path.exists(\"my_file.txt\"):\n",
    "    os.remove(\"my_file.txt\")\n",
    "    print(\"File has been successfully Deleted\")\n",
    "else:\n",
    "    print(\"File does not exist on present location\")"
   ]
  },
  {
   "cell_type": "code",
   "execution_count": 33,
   "id": "347248ae",
   "metadata": {},
   "outputs": [
    {
     "name": "stdout",
     "output_type": "stream",
     "text": [
      "All students are beloning to Data Science Class for location PuneAll students are beloning to Data Science Class for location Pune\n"
     ]
    }
   ],
   "source": [
    "# new_text = \"All students are beloning to Data Science Class for location Pune\"\n",
    "# my_file = open(\"headbrain.csv\",\"a\")\n",
    "# my_file.write(new_text)\n",
    "# my_file.close()\n",
    "\n",
    "my_file = open(\"college3.txt\",\"r\")\n",
    "print(my_file.readline())"
   ]
  },
  {
   "cell_type": "markdown",
   "id": "9c0ea308",
   "metadata": {},
   "source": [
    "1. Advanced Part II:\n",
    "    1. Numpy\n",
    "    2. Pandas\n",
    "    3. Matplotlib\n",
    "    4. Seaborn\n",
    "    5. Scikit learn\n",
    "    6. Statistics:\n",
    "        1. Mean mode median\n",
    "        2. missing values\n",
    "        3. categorical data\n",
    "        4. Numerical Data\n",
    "    7. Python Topics Revision(2 Days)"
   ]
  },
  {
   "cell_type": "markdown",
   "id": "d7b666b8",
   "metadata": {},
   "source": [
    "1. Part III:\n",
    "    1. Machine Learning\n",
    "    2. Database:\n",
    "        1. My-SQL\n",
    "        2. MongoDB\n",
    "    3. Version Control System (VCS):\n",
    "        1. Git\n",
    "        2. GitHub\n",
    "    4. Flask (Python Framework)\n",
    "    5. Deep Learning / NLP\n",
    "    6. Libraries:\n",
    "        1. Tensorflow\n",
    "        2. OpenCV\n",
    "    7. Project 1:\n",
    "        1. Scratch to Deployement\n",
    "        2. Project\n",
    "    8. AWS:\n",
    "        1. EC2\n",
    "        2. S3\n",
    "    9. Azure / Heroku\n",
    "    10. Docker"
   ]
  },
  {
   "cell_type": "code",
   "execution_count": null,
   "id": "8bc16406",
   "metadata": {},
   "outputs": [],
   "source": []
  }
 ],
 "metadata": {
  "kernelspec": {
   "display_name": "Python 3",
   "language": "python",
   "name": "python3"
  },
  "language_info": {
   "codemirror_mode": {
    "name": "ipython",
    "version": 3
   },
   "file_extension": ".py",
   "mimetype": "text/x-python",
   "name": "python",
   "nbconvert_exporter": "python",
   "pygments_lexer": "ipython3",
   "version": "3.8.8"
  }
 },
 "nbformat": 4,
 "nbformat_minor": 5
}
