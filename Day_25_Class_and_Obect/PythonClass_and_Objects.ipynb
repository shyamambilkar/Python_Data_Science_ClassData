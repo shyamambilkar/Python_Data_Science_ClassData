{
 "cells": [
  {
   "cell_type": "markdown",
   "metadata": {},
   "source": [
    "# Python Class and Objects"
   ]
  },
  {
   "cell_type": "markdown",
   "metadata": {},
   "source": [
    "1. Python is an object oriented Programming Language\n",
    "2. Almost everything in  Python is an Object, Properties and methods\n",
    "3. A class is like an Object constructor, blueprint for creating objects\n",
    "4. class provides building data and functionality togething\n",
    "5. class are created by using [class] keyword\n",
    "6. Attributes are variables that belong to a class\n",
    "7. Attributs are always and can be access by using [.] operator\n",
    "8. A class is user defined blueprint or prototype from which object are created"
   ]
  },
  {
   "cell_type": "markdown",
   "metadata": {},
   "source": [
    "**class syntax**"
   ]
  },
  {
   "cell_type": "markdown",
   "metadata": {},
   "source": [
    "class ClassName:\n",
    "    # statement\n",
    "    .\n",
    "    .\n",
    "    .\n",
    "    # statement n"
   ]
  },
  {
   "cell_type": "markdown",
   "metadata": {},
   "source": [
    "### Overview of Class Terminology"
   ]
  },
  {
   "cell_type": "markdown",
   "metadata": {},
   "source": [
    "1. Class\n",
    "2. Class variable\n",
    "3. Data Members\n",
    "4. Instance Variable\n",
    "5. Inheritance\n",
    "6. Instance\n",
    "8. Method\n",
    "9. Object\n",
    "9. Overloading\n",
    "10. Polymorphism\n",
    "11. Encapsulation\n",
    "12. Data Abstraction / Data Hiding"
   ]
  },
  {
   "cell_type": "markdown",
   "metadata": {},
   "source": [
    "1. Class:\n",
    "    1. A user defined prototype for an object that defines sets of Attributes that charactristics any object of class\n",
    "    2. A class is code template for creating objects\n",
    "    3. object have a member variable and behaviour associated with them\n",
    "    4. class create using [class] keyword\n",
    "    \n",
    "2. Class Variable:\n",
    "    1. Variable that is share by all instance of a class\n",
    "    2. class variable defined within class but any of the class methods\n",
    "    3. class variable are not used frequently as instance variable\n",
    "3. Objects:\n",
    "    1. Objects are created using constructor of class\n",
    "    2. The object will then called as instance of class\n",
    "    3. Objects can contain also method, methods as objects that belong to objects\n",
    "    \n",
    "4. __init__():\n",
    "    1. To understand built in function (__init__())\n",
    "    2. All class have function __init__(), which is always executed when the class is excuted\n",
    "    3. use __init_() function to assign value to object properties"
   ]
  },
  {
   "cell_type": "markdown",
   "metadata": {},
   "source": [
    "### How to Create class"
   ]
  },
  {
   "cell_type": "code",
   "execution_count": 1,
   "metadata": {},
   "outputs": [],
   "source": [
    "class My_Class:\n",
    "    x = 10"
   ]
  },
  {
   "cell_type": "markdown",
   "metadata": {},
   "source": [
    "### How to Create object for My_Class"
   ]
  },
  {
   "cell_type": "code",
   "execution_count": 2,
   "metadata": {},
   "outputs": [],
   "source": [
    "p1 = My_Class()"
   ]
  },
  {
   "cell_type": "code",
   "execution_count": 5,
   "metadata": {},
   "outputs": [
    {
     "name": "stdout",
     "output_type": "stream",
     "text": [
      "10\n"
     ]
    }
   ],
   "source": [
    "print(p1.x)"
   ]
  },
  {
   "cell_type": "code",
   "execution_count": 6,
   "metadata": {},
   "outputs": [
    {
     "name": "stdout",
     "output_type": "stream",
     "text": [
      "Hello World\n",
      "Welcome to Data Science\n",
      "2021\n"
     ]
    }
   ],
   "source": [
    "class My_Class:\n",
    "    x = \"Hello World\"\n",
    "    y = \"Welcome to Data Science\"\n",
    "    z = 2021\n",
    "    \n",
    "p1 = My_Class()\n",
    "p2 = My_Class()\n",
    "p3 = My_Class()\n",
    "\n",
    "print(p1.x)\n",
    "print(p2.y)\n",
    "print(p3.z)"
   ]
  },
  {
   "cell_type": "code",
   "execution_count": 9,
   "metadata": {},
   "outputs": [
    {
     "name": "stdout",
     "output_type": "stream",
     "text": [
      "Hello World\n",
      "Welcome to Data Science\n"
     ]
    }
   ],
   "source": [
    "class My_Class:\n",
    "    x = \"Hello World\"\n",
    "    y = \"Welcome to Data Science\"\n",
    "    z = 2021\n",
    "    \n",
    "p1 = My_Class()\n",
    "p2 = My_Class()\n",
    "p3 = My_Class()\n",
    "\n",
    "# print(p1.x)\n",
    "# print(p2.y)\n",
    "# print(p3.z)\n",
    "\n",
    "print(p1.x)\n",
    "print(p1.y)"
   ]
  },
  {
   "cell_type": "code",
   "execution_count": 24,
   "metadata": {},
   "outputs": [
    {
     "name": "stdout",
     "output_type": "stream",
     "text": [
      "Starting point of class execution \n",
      "\n",
      "Hello My name is Shyam\n",
      "My Post is:Data Scientist\n",
      "calling Function with Parameter and variable and Properties of class\n"
     ]
    }
   ],
   "source": [
    "class Person:\n",
    "    def __init__(self, name, post):\n",
    "        self.name1 = name\n",
    "        self.post = post\n",
    "        \n",
    "    def my_function(self):\n",
    "        print(\"Hello My name is \" + self.name1)\n",
    "        print(\"My Post is:\"+self.post)\n",
    "        \n",
    "#Starting point of class execution\n",
    "p1 = Person(\"Shyam\", \"Data Scientist\")\n",
    "print(\"Starting point of class execution \\n\")\n",
    "\n",
    "p1.my_function()\n",
    "print(\"calling Function with Parameter and variable and Properties of class\")"
   ]
  },
  {
   "cell_type": "code",
   "execution_count": 30,
   "metadata": {},
   "outputs": [
    {
     "name": "stdout",
     "output_type": "stream",
     "text": [
      "Hello World\n"
     ]
    }
   ],
   "source": [
    "class My_Class:\n",
    "    def my_function(a):\n",
    "        print(\"Hello World\")\n",
    "        \n",
    "p1 = My_Class()\n",
    "p1.my_function()"
   ]
  },
  {
   "cell_type": "code",
   "execution_count": 35,
   "metadata": {},
   "outputs": [
    {
     "name": "stdout",
     "output_type": "stream",
     "text": [
      "Welcome to Class and Objects\n",
      "This is Function\n"
     ]
    }
   ],
   "source": [
    "class Hello_World:\n",
    "    def my_function(a):\n",
    "        print(\"Welcome to Class and Objects\")\n",
    "        print(\"This is Function\")\n",
    "        \n",
    "h1 = Hello_World()\n",
    "h1.my_function()"
   ]
  },
  {
   "cell_type": "code",
   "execution_count": null,
   "metadata": {},
   "outputs": [],
   "source": []
  }
 ],
 "metadata": {
  "kernelspec": {
   "display_name": "Python 3",
   "language": "python",
   "name": "python3"
  },
  "language_info": {
   "codemirror_mode": {
    "name": "ipython",
    "version": 3
   },
   "file_extension": ".py",
   "mimetype": "text/x-python",
   "name": "python",
   "nbconvert_exporter": "python",
   "pygments_lexer": "ipython3",
   "version": "3.8.3"
  }
 },
 "nbformat": 4,
 "nbformat_minor": 4
}
