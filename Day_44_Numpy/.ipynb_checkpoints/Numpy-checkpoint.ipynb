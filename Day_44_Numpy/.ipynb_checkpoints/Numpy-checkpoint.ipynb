{
 "cells": [
  {
   "cell_type": "code",
   "execution_count": 1,
   "id": "82715186",
   "metadata": {},
   "outputs": [],
   "source": [
    "import numpy as np"
   ]
  },
  {
   "cell_type": "code",
   "execution_count": 2,
   "id": "9e1131c3",
   "metadata": {},
   "outputs": [],
   "source": [
    "my_array = np.array([10,20,15,45,75])"
   ]
  },
  {
   "cell_type": "code",
   "execution_count": 3,
   "id": "fbf9ec37",
   "metadata": {},
   "outputs": [
    {
     "name": "stdout",
     "output_type": "stream",
     "text": [
      "[10 20 15 45 75]\n"
     ]
    }
   ],
   "source": [
    "print(my_array)"
   ]
  },
  {
   "cell_type": "code",
   "execution_count": 4,
   "id": "95bfc8b2",
   "metadata": {},
   "outputs": [
    {
     "name": "stdout",
     "output_type": "stream",
     "text": [
      "<class 'numpy.ndarray'>\n"
     ]
    }
   ],
   "source": [
    "print(type(my_array))"
   ]
  },
  {
   "cell_type": "markdown",
   "id": "9320c8ef",
   "metadata": {},
   "source": [
    "### There are different types of Dimensions:\n",
    "    1. 0-D array\n",
    "    2. 1-D array\n",
    "    3. 2-D array\n",
    "    4. 3-D array"
   ]
  },
  {
   "cell_type": "markdown",
   "id": "18fab645",
   "metadata": {},
   "source": [
    "### 1. 0-D Array"
   ]
  },
  {
   "cell_type": "code",
   "execution_count": 5,
   "id": "ecca105e",
   "metadata": {},
   "outputs": [
    {
     "name": "stdout",
     "output_type": "stream",
     "text": [
      "45\n"
     ]
    }
   ],
   "source": [
    "import numpy as np\n",
    "my_array = np.array(45)\n",
    "print(my_array)"
   ]
  },
  {
   "cell_type": "code",
   "execution_count": 6,
   "id": "dea4149d",
   "metadata": {},
   "outputs": [
    {
     "name": "stdout",
     "output_type": "stream",
     "text": [
      "<class 'numpy.ndarray'>\n"
     ]
    }
   ],
   "source": [
    "print(type(my_array))"
   ]
  },
  {
   "cell_type": "markdown",
   "id": "8b5b33c3",
   "metadata": {},
   "source": [
    "### 2. 1-D Array"
   ]
  },
  {
   "cell_type": "code",
   "execution_count": 7,
   "id": "14f548cf",
   "metadata": {},
   "outputs": [
    {
     "name": "stdout",
     "output_type": "stream",
     "text": [
      "[42 78 62 20 41]\n"
     ]
    }
   ],
   "source": [
    "import numpy as np\n",
    "my_array = np.array([42,78,62,20,41])\n",
    "print(my_array)"
   ]
  },
  {
   "cell_type": "code",
   "execution_count": 8,
   "id": "cc319c2a",
   "metadata": {},
   "outputs": [
    {
     "name": "stdout",
     "output_type": "stream",
     "text": [
      "<class 'numpy.ndarray'>\n"
     ]
    }
   ],
   "source": [
    "print(type(my_array))"
   ]
  },
  {
   "cell_type": "markdown",
   "id": "b4279bbf",
   "metadata": {},
   "source": [
    "### 3. 2-D Array:\n",
    "    Syntax: np.array([[it 1-d array elements],[]])"
   ]
  },
  {
   "cell_type": "code",
   "execution_count": 10,
   "id": "61c61bbe",
   "metadata": {},
   "outputs": [],
   "source": [
    "my_array = np.array([[12,15,47,56],[12,15,45,1]])"
   ]
  },
  {
   "cell_type": "code",
   "execution_count": 11,
   "id": "fa5b0b5e",
   "metadata": {},
   "outputs": [
    {
     "data": {
      "text/plain": [
       "array([[12, 15, 47, 56],\n",
       "       [12, 15, 45,  1]])"
      ]
     },
     "execution_count": 11,
     "metadata": {},
     "output_type": "execute_result"
    }
   ],
   "source": [
    "my_array"
   ]
  },
  {
   "cell_type": "code",
   "execution_count": 12,
   "id": "2ff3e344",
   "metadata": {},
   "outputs": [
    {
     "name": "stdout",
     "output_type": "stream",
     "text": [
      "<class 'numpy.ndarray'>\n"
     ]
    }
   ],
   "source": [
    "print(type(my_array))"
   ]
  },
  {
   "cell_type": "markdown",
   "id": "342f1912",
   "metadata": {},
   "source": [
    "### 4. 3-D Array"
   ]
  },
  {
   "cell_type": "code",
   "execution_count": 16,
   "id": "86e327d3",
   "metadata": {},
   "outputs": [],
   "source": [
    "my_array = np.array([[[10,20,30],[40,50,60]],[[70,80,90],[60,46,25]]])"
   ]
  },
  {
   "cell_type": "code",
   "execution_count": 17,
   "id": "0ce6e85b",
   "metadata": {},
   "outputs": [
    {
     "data": {
      "text/plain": [
       "array([[[10, 20, 30],\n",
       "        [40, 50, 60]],\n",
       "\n",
       "       [[70, 80, 90],\n",
       "        [60, 46, 25]]])"
      ]
     },
     "execution_count": 17,
     "metadata": {},
     "output_type": "execute_result"
    }
   ],
   "source": [
    "my_array"
   ]
  },
  {
   "cell_type": "code",
   "execution_count": 21,
   "id": "41e9fc70",
   "metadata": {},
   "outputs": [],
   "source": [
    "my_array = np.array(45)\n",
    "my_array1 = np.array([42,78,62,20,41])\n",
    "my_array2 = np.array([[12,15,47,56],[12,15,45,1]])\n",
    "my_array3 = np.array([[[10,20,30],[40,50,60]],[[70,80,90],[60,46,25]]])"
   ]
  },
  {
   "cell_type": "code",
   "execution_count": 25,
   "id": "110029f8",
   "metadata": {},
   "outputs": [
    {
     "name": "stdout",
     "output_type": "stream",
     "text": [
      "0\n",
      "1\n",
      "2\n",
      "3\n"
     ]
    }
   ],
   "source": [
    "print(my_array.ndim)\n",
    "print(my_array1.ndim)\n",
    "print(my_array2.ndim)\n",
    "print(my_array3.ndim)"
   ]
  },
  {
   "cell_type": "markdown",
   "id": "da6a9c46",
   "metadata": {},
   "source": [
    "### Higher Dimensional Arrays"
   ]
  },
  {
   "cell_type": "code",
   "execution_count": 34,
   "id": "aa039b7f",
   "metadata": {},
   "outputs": [],
   "source": [
    "my_array1 = np.array([42,78,62,20,41,45,20,46,85],ndmin =4)"
   ]
  },
  {
   "cell_type": "code",
   "execution_count": 32,
   "id": "c6584895",
   "metadata": {},
   "outputs": [
    {
     "data": {
      "text/plain": [
       "array([[[[42, 78, 62, 20, 41, 45, 20, 46, 85]]]])"
      ]
     },
     "execution_count": 32,
     "metadata": {},
     "output_type": "execute_result"
    }
   ],
   "source": [
    "my_array1"
   ]
  },
  {
   "cell_type": "markdown",
   "id": "056d17cf",
   "metadata": {},
   "source": [
    "# Accessing Array Elements:\n",
    "    1. Array indexing is same as array element\n",
    "    2. specific indexing with specific value\n",
    "    \n",
    "    1. 0-D array\n",
    "    2. 1-D array\n",
    "    3. 2-D array\n",
    "    4. 3-D array"
   ]
  },
  {
   "cell_type": "markdown",
   "id": "3909c629",
   "metadata": {},
   "source": [
    "### 1-D Array elements accessing"
   ]
  },
  {
   "cell_type": "code",
   "execution_count": 35,
   "id": "69410995",
   "metadata": {},
   "outputs": [],
   "source": [
    "my_array1 = np.array([42,78,62,20,41,45,20,46,85])"
   ]
  },
  {
   "cell_type": "code",
   "execution_count": 36,
   "id": "4751e99d",
   "metadata": {},
   "outputs": [
    {
     "data": {
      "text/plain": [
       "20"
      ]
     },
     "execution_count": 36,
     "metadata": {},
     "output_type": "execute_result"
    }
   ],
   "source": [
    "my_array1[3]"
   ]
  },
  {
   "cell_type": "code",
   "execution_count": 38,
   "id": "b8ecf15e",
   "metadata": {},
   "outputs": [
    {
     "data": {
      "text/plain": [
       "85"
      ]
     },
     "execution_count": 38,
     "metadata": {},
     "output_type": "execute_result"
    }
   ],
   "source": [
    "my_array1[-1]"
   ]
  },
  {
   "cell_type": "code",
   "execution_count": 44,
   "id": "e3d243f8",
   "metadata": {},
   "outputs": [
    {
     "data": {
      "text/plain": [
       "163"
      ]
     },
     "execution_count": 44,
     "metadata": {},
     "output_type": "execute_result"
    }
   ],
   "source": [
    "my_array5 = my_array1[1] + my_array1[-1]\n",
    "my_array5"
   ]
  },
  {
   "cell_type": "code",
   "execution_count": 40,
   "id": "1e4884c7",
   "metadata": {},
   "outputs": [
    {
     "data": {
      "text/plain": [
       "163"
      ]
     },
     "execution_count": 40,
     "metadata": {},
     "output_type": "execute_result"
    }
   ],
   "source": [
    "78 + 85"
   ]
  },
  {
   "cell_type": "markdown",
   "id": "b5ce0654",
   "metadata": {},
   "source": [
    "### 2-D Array elements Accessing"
   ]
  },
  {
   "cell_type": "code",
   "execution_count": 45,
   "id": "c505da60",
   "metadata": {},
   "outputs": [],
   "source": [
    "my_array2 = np.array([[12,15,47,56],[12,15,45,1]])"
   ]
  },
  {
   "cell_type": "code",
   "execution_count": 47,
   "id": "a1d02711",
   "metadata": {},
   "outputs": [
    {
     "data": {
      "text/plain": [
       "1"
      ]
     },
     "execution_count": 47,
     "metadata": {},
     "output_type": "execute_result"
    }
   ],
   "source": [
    "my_array2[1,3]"
   ]
  },
  {
   "cell_type": "code",
   "execution_count": 48,
   "id": "e17cdeab",
   "metadata": {},
   "outputs": [
    {
     "data": {
      "text/plain": [
       "56"
      ]
     },
     "execution_count": 48,
     "metadata": {},
     "output_type": "execute_result"
    }
   ],
   "source": [
    "my_array2[0,3]"
   ]
  },
  {
   "cell_type": "code",
   "execution_count": 49,
   "id": "6ce8a610",
   "metadata": {},
   "outputs": [
    {
     "data": {
      "text/plain": [
       "15"
      ]
     },
     "execution_count": 49,
     "metadata": {},
     "output_type": "execute_result"
    }
   ],
   "source": [
    "my_array2[1,1]"
   ]
  },
  {
   "cell_type": "code",
   "execution_count": 50,
   "id": "2e8c6965",
   "metadata": {},
   "outputs": [
    {
     "data": {
      "text/plain": [
       "47"
      ]
     },
     "execution_count": 50,
     "metadata": {},
     "output_type": "execute_result"
    }
   ],
   "source": [
    "my_array2[0,2]"
   ]
  },
  {
   "cell_type": "markdown",
   "id": "43cd6195",
   "metadata": {},
   "source": [
    "### 3. 3-D Arrays Elements Accessing"
   ]
  },
  {
   "cell_type": "code",
   "execution_count": 51,
   "id": "641d7b90",
   "metadata": {},
   "outputs": [],
   "source": [
    "my_array3 = np.array([[[10,20,30],[40,50,60]],[[70,80,90],[60,46,25]]])"
   ]
  },
  {
   "cell_type": "code",
   "execution_count": 52,
   "id": "d33b2079",
   "metadata": {},
   "outputs": [
    {
     "data": {
      "text/plain": [
       "25"
      ]
     },
     "execution_count": 52,
     "metadata": {},
     "output_type": "execute_result"
    }
   ],
   "source": [
    "my_array3[1,1,2]"
   ]
  },
  {
   "cell_type": "code",
   "execution_count": 53,
   "id": "ac3c1a8b",
   "metadata": {},
   "outputs": [
    {
     "data": {
      "text/plain": [
       "60"
      ]
     },
     "execution_count": 53,
     "metadata": {},
     "output_type": "execute_result"
    }
   ],
   "source": [
    "my_array3[0,1,2]"
   ]
  },
  {
   "cell_type": "code",
   "execution_count": 54,
   "id": "a580c2ea",
   "metadata": {},
   "outputs": [
    {
     "data": {
      "text/plain": [
       "80"
      ]
     },
     "execution_count": 54,
     "metadata": {},
     "output_type": "execute_result"
    }
   ],
   "source": [
    "my_array3[1,0,1]"
   ]
  },
  {
   "cell_type": "code",
   "execution_count": 55,
   "id": "e19b3b93",
   "metadata": {},
   "outputs": [],
   "source": [
    "my_array5 = np.array([[[10,20,30],[50,45,65]],[[12,15,1],[78,7,8]]])"
   ]
  },
  {
   "cell_type": "code",
   "execution_count": null,
   "id": "9a900a5c",
   "metadata": {},
   "outputs": [],
   "source": []
  }
 ],
 "metadata": {
  "kernelspec": {
   "display_name": "Python 3",
   "language": "python",
   "name": "python3"
  },
  "language_info": {
   "codemirror_mode": {
    "name": "ipython",
    "version": 3
   },
   "file_extension": ".py",
   "mimetype": "text/x-python",
   "name": "python",
   "nbconvert_exporter": "python",
   "pygments_lexer": "ipython3",
   "version": "3.8.8"
  }
 },
 "nbformat": 4,
 "nbformat_minor": 5
}
