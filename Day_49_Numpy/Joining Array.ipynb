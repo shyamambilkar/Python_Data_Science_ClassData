{
 "cells": [
  {
   "cell_type": "markdown",
   "id": "a6416906",
   "metadata": {},
   "source": [
    "# Numpy Joining Array"
   ]
  },
  {
   "cell_type": "code",
   "execution_count": 20,
   "id": "de2c7e86",
   "metadata": {},
   "outputs": [
    {
     "name": "stdout",
     "output_type": "stream",
     "text": [
      "[10 20 30 40 50 60 70 80]\n"
     ]
    }
   ],
   "source": [
    "import numpy as np\n",
    "\n",
    "my_array1 = np.array([10,20,30,40])\n",
    "my_array2 = np.array([50,60,70,80])\n",
    "\n",
    "new_array = np.concatenate((my_array1, my_array2))\n",
    "print(new_array)"
   ]
  },
  {
   "cell_type": "code",
   "execution_count": 4,
   "id": "bcc12b60",
   "metadata": {},
   "outputs": [
    {
     "name": "stdout",
     "output_type": "stream",
     "text": [
      "[[10 20 30 40 50 60 70 80]\n",
      " [50 60 70 80  7 80 90 15]]\n"
     ]
    }
   ],
   "source": [
    "my_array1 = np.array([[10,20,30,40],[50,60,70,80]])\n",
    "my_array2 = np.array([[50,60,70,80],[7,80,90,15]])\n",
    "\n",
    "new_array  = np.concatenate((my_array1,my_array2),axis =1)\n",
    "print(new_array)"
   ]
  },
  {
   "cell_type": "markdown",
   "id": "09869d6d",
   "metadata": {},
   "source": [
    "2. Stack Function"
   ]
  },
  {
   "cell_type": "code",
   "execution_count": 5,
   "id": "2393fd73",
   "metadata": {},
   "outputs": [
    {
     "name": "stdout",
     "output_type": "stream",
     "text": [
      "[[10 50]\n",
      " [20 60]\n",
      " [30 70]\n",
      " [40 80]]\n"
     ]
    }
   ],
   "source": [
    "import numpy as np\n",
    "\n",
    "my_array1 = np.array([10,20,30,40])\n",
    "my_array2 = np.array([50,60,70,80])\n",
    "\n",
    "\n",
    "new_array = np.stack((my_array1,my_array2),axis=1)\n",
    "print(new_array)"
   ]
  },
  {
   "cell_type": "code",
   "execution_count": 11,
   "id": "1eddb0d3",
   "metadata": {},
   "outputs": [
    {
     "name": "stdout",
     "output_type": "stream",
     "text": [
      "[[[10 20 30 40]\n",
      "  [50 60 70 80]]\n",
      "\n",
      " [[50 60 70 80]\n",
      "  [ 7 80 90 15]]]\n"
     ]
    }
   ],
   "source": [
    "my_array1 = np.array([[10,20,30,40],[50,60,70,80]])\n",
    "my_array2 = np.array([[50,60,70,80],[7,80,90,15]])\n",
    "\n",
    "new_array = np.stack((my_array1,my_array2),axis=1)\n",
    "print(new_array)"
   ]
  },
  {
   "cell_type": "code",
   "execution_count": 8,
   "id": "8a462df5",
   "metadata": {},
   "outputs": [
    {
     "name": "stdout",
     "output_type": "stream",
     "text": [
      "[10 20 30 40 50 60 70 80]\n"
     ]
    }
   ],
   "source": [
    "import numpy as np\n",
    "\n",
    "my_array1 = np.array([10,20,30,40])\n",
    "my_array2 = np.array([50,60,70,80])\n",
    "\n",
    "\n",
    "new_array = np.hstack((my_array1,my_array2))\n",
    "print(new_array)"
   ]
  },
  {
   "cell_type": "code",
   "execution_count": 18,
   "id": "977c62d0",
   "metadata": {},
   "outputs": [
    {
     "name": "stdout",
     "output_type": "stream",
     "text": [
      "[[10 20 30 40]\n",
      " [15 45  8 81]\n",
      " [50 60 70 80]\n",
      " [ 7 80 90 15]]\n"
     ]
    }
   ],
   "source": [
    "my_array1 = np.array([[10,20,30,40],[15,45,8,81]])\n",
    "my_array2 = np.array([[50,60,70,80],[7,80,90,15]])\n",
    "\n",
    "new_array = np.vstack((my_array1,my_array2))\n",
    "print(new_array)"
   ]
  },
  {
   "cell_type": "code",
   "execution_count": 17,
   "id": "eeecf4b9",
   "metadata": {},
   "outputs": [
    {
     "name": "stdout",
     "output_type": "stream",
     "text": [
      "[[10 20 30 40 50 60 70 80]\n",
      " [50 60 70 80  7 80 90 15]]\n"
     ]
    }
   ],
   "source": [
    "my_array1 = np.array([[10,20,30,40],[50,60,70,80]])\n",
    "my_array2 = np.array([[50,60,70,80],[7,80,90,15]])\n",
    "\n",
    "new_array = np.hstack((my_array1,my_array2))\n",
    "print(new_array)"
   ]
  },
  {
   "cell_type": "code",
   "execution_count": 19,
   "id": "8e1e2188",
   "metadata": {},
   "outputs": [
    {
     "name": "stdout",
     "output_type": "stream",
     "text": [
      "[[[10 50]\n",
      "  [20 60]\n",
      "  [30 70]\n",
      "  [40 80]]]\n"
     ]
    }
   ],
   "source": [
    "import numpy as np\n",
    "\n",
    "my_array1 = np.array([10,20,30,40])\n",
    "my_array2 = np.array([50,60,70,80])\n",
    "\n",
    "\n",
    "new_array = np.dstack((my_array1,my_array2))\n",
    "print(new_array)"
   ]
  },
  {
   "cell_type": "markdown",
   "id": "714e6679",
   "metadata": {},
   "source": [
    "# Spliting Array"
   ]
  },
  {
   "cell_type": "code",
   "execution_count": 27,
   "id": "66f9ee6c",
   "metadata": {},
   "outputs": [
    {
     "name": "stdout",
     "output_type": "stream",
     "text": [
      "[array([10, 20]), array([30, 40]), array([50, 60]), array([70, 80]), array([ 90, 110]), array([120]), array([130])]\n"
     ]
    }
   ],
   "source": [
    "import numpy as np\n",
    "\n",
    "my_array1 = np.array([10,20,30,40,50,60,70,80,90,110,120,130])\n",
    "\n",
    "new_array = np.array_split(my_array1, 7)\n",
    "print(new_array)"
   ]
  },
  {
   "cell_type": "code",
   "execution_count": 29,
   "id": "fe62dfad",
   "metadata": {},
   "outputs": [
    {
     "name": "stdout",
     "output_type": "stream",
     "text": [
      "[10 20 30]\n",
      "[40 50 60]\n",
      "[70 80 90]\n",
      "[110 120 130]\n"
     ]
    }
   ],
   "source": [
    "import numpy as np\n",
    "\n",
    "my_array1 = np.array([10,20,30,40,50,60,70,80,90,110,120,130])\n",
    "\n",
    "new_array = np.array_split(my_array1, 4)\n",
    "print(new_array[0])\n",
    "print(new_array[1])\n",
    "print(new_array[2])\n",
    "print(new_array[3])"
   ]
  },
  {
   "cell_type": "code",
   "execution_count": 33,
   "id": "27b339a6",
   "metadata": {},
   "outputs": [
    {
     "name": "stdout",
     "output_type": "stream",
     "text": [
      "[[10 20]\n",
      " [30 40]]\n",
      "[[50 60]\n",
      " [70 80]]\n",
      "[[ 90 100]\n",
      " [110 120]]\n"
     ]
    }
   ],
   "source": [
    "my_array1 = np.array([[10,20],[30,40],[50,60],[70,80],[90,100],[110,120]])\n",
    "\n",
    "new_array = np.array_split(my_array1,3)\n",
    "print(new_array[0])\n",
    "print(new_array[1])\n",
    "print(new_array[2])"
   ]
  },
  {
   "cell_type": "code",
   "execution_count": 36,
   "id": "c990da71",
   "metadata": {},
   "outputs": [
    {
     "name": "stdout",
     "output_type": "stream",
     "text": [
      "[[ 10]\n",
      " [ 30]\n",
      " [ 50]\n",
      " [ 70]\n",
      " [ 90]\n",
      " [110]]\n",
      "[[ 20]\n",
      " [ 40]\n",
      " [ 60]\n",
      " [ 80]\n",
      " [100]\n",
      " [120]]\n",
      "[]\n"
     ]
    }
   ],
   "source": [
    "my_array1 = np.array([[10,20],[30,40],[50,60],[70,80],[90,100],[110,120]])\n",
    "\n",
    "new_array = np.array_split(my_array1,3,axis=1)\n",
    "print(new_array[0])\n",
    "print(new_array[1])\n",
    "print(new_array[2])"
   ]
  },
  {
   "cell_type": "code",
   "execution_count": 43,
   "id": "ebffe973",
   "metadata": {},
   "outputs": [
    {
     "name": "stdout",
     "output_type": "stream",
     "text": [
      "[[ 10]\n",
      " [ 30]\n",
      " [ 50]\n",
      " [ 70]\n",
      " [ 90]\n",
      " [110]]\n",
      "[[ 20]\n",
      " [ 40]\n",
      " [ 60]\n",
      " [ 80]\n",
      " [100]\n",
      " [120]]\n",
      "[[2]\n",
      " [3]\n",
      " [4]\n",
      " [7]\n",
      " [9]\n",
      " [4]]\n"
     ]
    }
   ],
   "source": [
    "my_array1 = np.array([[10,20,2],[30,40,3],[50,60,4],[70,80,7],[90,100,9],[110,120,4]])\n",
    "\n",
    "new_array = np.hsplit(my_array1,3)\n",
    "print(new_array[0])\n",
    "print(new_array[1])\n",
    "print(new_array[2])"
   ]
  },
  {
   "cell_type": "code",
   "execution_count": null,
   "id": "2bb6b3cf",
   "metadata": {},
   "outputs": [],
   "source": []
  }
 ],
 "metadata": {
  "kernelspec": {
   "display_name": "Python 3",
   "language": "python",
   "name": "python3"
  },
  "language_info": {
   "codemirror_mode": {
    "name": "ipython",
    "version": 3
   },
   "file_extension": ".py",
   "mimetype": "text/x-python",
   "name": "python",
   "nbconvert_exporter": "python",
   "pygments_lexer": "ipython3",
   "version": "3.8.8"
  }
 },
 "nbformat": 4,
 "nbformat_minor": 5
}
