{
 "cells": [
  {
   "cell_type": "code",
   "execution_count": 1,
   "metadata": {},
   "outputs": [],
   "source": [
    "my_dict = {\n",
    "    'brand':['LG','MI','Samsung'],\n",
    "    'model':['MI_A1','LG1','GALAXY'],\n",
    "    'year': 2021,\n",
    "    'color':['blue','black','red']\n",
    "}"
   ]
  },
  {
   "cell_type": "code",
   "execution_count": 2,
   "metadata": {},
   "outputs": [
    {
     "name": "stdout",
     "output_type": "stream",
     "text": [
      "['MI_A1', 'LG1', 'GALAXY']\n"
     ]
    }
   ],
   "source": [
    "x = my_dict['model']\n",
    "print(x)"
   ]
  },
  {
   "cell_type": "code",
   "execution_count": 3,
   "metadata": {},
   "outputs": [
    {
     "name": "stdout",
     "output_type": "stream",
     "text": [
      "GALAXY\n"
     ]
    }
   ],
   "source": [
    "x = my_dict['model'][2]\n",
    "print(x)"
   ]
  },
  {
   "cell_type": "code",
   "execution_count": 4,
   "metadata": {},
   "outputs": [],
   "source": [
    "X = my_dict.get('model')"
   ]
  },
  {
   "cell_type": "code",
   "execution_count": 5,
   "metadata": {},
   "outputs": [
    {
     "name": "stdout",
     "output_type": "stream",
     "text": [
      "['MI_A1', 'LG1', 'GALAXY']\n"
     ]
    }
   ],
   "source": [
    "print(X)"
   ]
  },
  {
   "cell_type": "markdown",
   "metadata": {},
   "source": [
    "### Get All the Keys"
   ]
  },
  {
   "cell_type": "code",
   "execution_count": 6,
   "metadata": {},
   "outputs": [
    {
     "name": "stdout",
     "output_type": "stream",
     "text": [
      "dict_keys(['brand', 'model', 'year', 'color'])\n"
     ]
    }
   ],
   "source": [
    "x = my_dict.keys()\n",
    "print(x)"
   ]
  },
  {
   "cell_type": "markdown",
   "metadata": {},
   "source": [
    "### Get All the Values"
   ]
  },
  {
   "cell_type": "code",
   "execution_count": 7,
   "metadata": {},
   "outputs": [
    {
     "name": "stdout",
     "output_type": "stream",
     "text": [
      "dict_values([['LG', 'MI', 'Samsung'], ['MI_A1', 'LG1', 'GALAXY'], 2021, ['blue', 'black', 'red']])\n"
     ]
    }
   ],
   "source": [
    "x = my_dict.values()\n",
    "print(x)"
   ]
  },
  {
   "cell_type": "markdown",
   "metadata": {},
   "source": [
    "### Change the key Value"
   ]
  },
  {
   "cell_type": "code",
   "execution_count": 8,
   "metadata": {},
   "outputs": [],
   "source": [
    "my_dict = {\n",
    "    'brand':['LG','MI','Samsung'],\n",
    "    'model':['MI_A1','LG1','GALAXY'],\n",
    "    'year': 2021,\n",
    "    'color':['blue','black','red']\n",
    "}"
   ]
  },
  {
   "cell_type": "code",
   "execution_count": 9,
   "metadata": {},
   "outputs": [],
   "source": [
    "my_dict['year'] = 1990"
   ]
  },
  {
   "cell_type": "code",
   "execution_count": 10,
   "metadata": {},
   "outputs": [
    {
     "data": {
      "text/plain": [
       "{'brand': ['LG', 'MI', 'Samsung'],\n",
       " 'model': ['MI_A1', 'LG1', 'GALAXY'],\n",
       " 'year': 1990,\n",
       " 'color': ['blue', 'black', 'red']}"
      ]
     },
     "execution_count": 10,
     "metadata": {},
     "output_type": "execute_result"
    }
   ],
   "source": [
    "my_dict"
   ]
  },
  {
   "cell_type": "markdown",
   "metadata": {},
   "source": [
    "### Check the key is Exist or not"
   ]
  },
  {
   "cell_type": "code",
   "execution_count": 11,
   "metadata": {},
   "outputs": [],
   "source": [
    "my_dict = {\n",
    "    'brand':['LG','MI','Samsung'],\n",
    "    'model':['MI_A1','LG1','GALAXY'],\n",
    "    'year': 2021,\n",
    "    'color':['blue','black','red']\n",
    "}"
   ]
  },
  {
   "cell_type": "code",
   "execution_count": 12,
   "metadata": {},
   "outputs": [
    {
     "name": "stdout",
     "output_type": "stream",
     "text": [
      "Yes, 'Model' key is available\n"
     ]
    }
   ],
   "source": [
    "if 'model' in my_dict:\n",
    "    print(\"Yes, 'Model' key is available\")\n",
    "else:\n",
    "    print(\"Key is Not Present\")"
   ]
  },
  {
   "cell_type": "code",
   "execution_count": 13,
   "metadata": {},
   "outputs": [
    {
     "name": "stdout",
     "output_type": "stream",
     "text": [
      "Key is Not Present\n"
     ]
    }
   ],
   "source": [
    "my_dict = {\n",
    "    'brand':['LG','MI','Samsung'],\n",
    "    'model':['MI_A1','LG1','GALAXY'],\n",
    "    'year': 2021,\n",
    "    'color':['blue','black','red']\n",
    "}\n",
    "\n",
    "if 'color1' in my_dict:\n",
    "    print(\"Yes, 'Color' key is available\")\n",
    "else:\n",
    "    print(\"Key is Not Present\")"
   ]
  },
  {
   "cell_type": "markdown",
   "metadata": {},
   "source": [
    "### Change Value in Dictionary (Update)"
   ]
  },
  {
   "cell_type": "code",
   "execution_count": 14,
   "metadata": {},
   "outputs": [],
   "source": [
    "my_dict = {\n",
    "    'brand':['LG','MI','Samsung'],\n",
    "    'model':['MI_A1','LG1','GALAXY'],\n",
    "    'year': 2021,\n",
    "    'color':['blue','black','red']\n",
    "}"
   ]
  },
  {
   "cell_type": "code",
   "execution_count": 15,
   "metadata": {},
   "outputs": [],
   "source": [
    "my_dict['model'] ='MI_A2'"
   ]
  },
  {
   "cell_type": "code",
   "execution_count": 16,
   "metadata": {},
   "outputs": [
    {
     "data": {
      "text/plain": [
       "{'brand': ['LG', 'MI', 'Samsung'],\n",
       " 'model': 'MI_A2',\n",
       " 'year': 2021,\n",
       " 'color': ['blue', 'black', 'red']}"
      ]
     },
     "execution_count": 16,
     "metadata": {},
     "output_type": "execute_result"
    }
   ],
   "source": [
    "my_dict"
   ]
  },
  {
   "cell_type": "code",
   "execution_count": 17,
   "metadata": {},
   "outputs": [],
   "source": [
    "# help(my_dict.update)"
   ]
  },
  {
   "cell_type": "code",
   "execution_count": 18,
   "metadata": {},
   "outputs": [],
   "source": [
    "my_dict = {\n",
    "    'brand':['LG','MI','Samsung'],\n",
    "    'model':['MI_A1','LG1','GALAXY'],\n",
    "    'year': 2021,\n",
    "    'color':['blue','black','red']\n",
    "}"
   ]
  },
  {
   "cell_type": "code",
   "execution_count": 19,
   "metadata": {},
   "outputs": [],
   "source": [
    "my_dict.update({'model':['MI_A1','LG3','GALAXY1']})"
   ]
  },
  {
   "cell_type": "code",
   "execution_count": 20,
   "metadata": {},
   "outputs": [
    {
     "data": {
      "text/plain": [
       "{'brand': ['LG', 'MI', 'Samsung'],\n",
       " 'model': ['MI_A1', 'LG3', 'GALAXY1'],\n",
       " 'year': 2021,\n",
       " 'color': ['blue', 'black', 'red']}"
      ]
     },
     "execution_count": 20,
     "metadata": {},
     "output_type": "execute_result"
    }
   ],
   "source": [
    "my_dict"
   ]
  },
  {
   "cell_type": "code",
   "execution_count": 21,
   "metadata": {},
   "outputs": [],
   "source": [
    "my_dict = {\n",
    "    'brand':['LG','MI','Samsung'],\n",
    "    'model':['MI_A1','LG1','GALAXY'],\n",
    "    'year': 2021,\n",
    "    'color':['blue','black','red']\n",
    "}"
   ]
  },
  {
   "cell_type": "code",
   "execution_count": 22,
   "metadata": {},
   "outputs": [],
   "source": [
    "my_dict['model'][0] = \"mi_a2\""
   ]
  },
  {
   "cell_type": "code",
   "execution_count": 23,
   "metadata": {},
   "outputs": [
    {
     "data": {
      "text/plain": [
       "{'brand': ['LG', 'MI', 'Samsung'],\n",
       " 'model': ['mi_a2', 'LG1', 'GALAXY'],\n",
       " 'year': 2021,\n",
       " 'color': ['blue', 'black', 'red']}"
      ]
     },
     "execution_count": 23,
     "metadata": {},
     "output_type": "execute_result"
    }
   ],
   "source": [
    "my_dict"
   ]
  },
  {
   "cell_type": "code",
   "execution_count": 24,
   "metadata": {},
   "outputs": [],
   "source": [
    "my_dict['brand'][1]=\"NEW MODEL\""
   ]
  },
  {
   "cell_type": "code",
   "execution_count": 25,
   "metadata": {},
   "outputs": [
    {
     "data": {
      "text/plain": [
       "{'brand': ['LG', 'NEW MODEL', 'Samsung'],\n",
       " 'model': ['mi_a2', 'LG1', 'GALAXY'],\n",
       " 'year': 2021,\n",
       " 'color': ['blue', 'black', 'red']}"
      ]
     },
     "execution_count": 25,
     "metadata": {},
     "output_type": "execute_result"
    }
   ],
   "source": [
    "my_dict"
   ]
  },
  {
   "cell_type": "code",
   "execution_count": 26,
   "metadata": {},
   "outputs": [],
   "source": [
    "my_dict = {\n",
    "    'brand':['LG','MI','Samsung'],\n",
    "    'model':['MI_A1','LG1','GALAXY'],\n",
    "    'year': 2021,\n",
    "    'color':{'blue','black','red'}\n",
    "}"
   ]
  },
  {
   "cell_type": "code",
   "execution_count": 27,
   "metadata": {},
   "outputs": [
    {
     "data": {
      "text/plain": [
       "{'brand': ['LG', 'MI', 'Samsung'],\n",
       " 'model': ['MI_A1', 'LG1', 'GALAXY'],\n",
       " 'year': 2021,\n",
       " 'color': {'black', 'blue', 'red'}}"
      ]
     },
     "execution_count": 27,
     "metadata": {},
     "output_type": "execute_result"
    }
   ],
   "source": [
    "my_dict"
   ]
  },
  {
   "cell_type": "code",
   "execution_count": 28,
   "metadata": {},
   "outputs": [],
   "source": [
    "my_dict = {\n",
    "    'brand':['LG','MI','Samsung'],\n",
    "    'model':['MI_A1','LG1','GALAXY'],\n",
    "    'year': 2021,\n",
    "    'color':{'blue','black','red'}\n",
    "}"
   ]
  },
  {
   "cell_type": "code",
   "execution_count": 29,
   "metadata": {},
   "outputs": [
    {
     "ename": "IndexError",
     "evalue": "list assignment index out of range",
     "output_type": "error",
     "traceback": [
      "\u001b[1;31m---------------------------------------------------------------------------\u001b[0m",
      "\u001b[1;31mIndexError\u001b[0m                                Traceback (most recent call last)",
      "\u001b[1;32m<ipython-input-29-a1101b0f14c1>\u001b[0m in \u001b[0;36m<module>\u001b[1;34m\u001b[0m\n\u001b[1;32m----> 1\u001b[1;33m \u001b[0mmy_dict\u001b[0m\u001b[1;33m[\u001b[0m\u001b[1;34m'brand'\u001b[0m\u001b[1;33m]\u001b[0m\u001b[1;33m[\u001b[0m\u001b[1;36m3\u001b[0m\u001b[1;33m]\u001b[0m \u001b[1;33m=\u001b[0m \u001b[1;34m'Honor'\u001b[0m\u001b[1;33m\u001b[0m\u001b[1;33m\u001b[0m\u001b[0m\n\u001b[0m",
      "\u001b[1;31mIndexError\u001b[0m: list assignment index out of range"
     ]
    }
   ],
   "source": [
    "my_dict['brand'][3] = 'Honor'"
   ]
  },
  {
   "cell_type": "code",
   "execution_count": 30,
   "metadata": {},
   "outputs": [],
   "source": [
    "my_dict = {\n",
    "    'brand':['LG','MI','Samsung'],\n",
    "    'model':['MI_A1','LG1','GALAXY'],\n",
    "    'year': 2021,\n",
    "    'color':{'blue','black','red'}\n",
    "}"
   ]
  },
  {
   "cell_type": "code",
   "execution_count": 36,
   "metadata": {},
   "outputs": [],
   "source": [
    "my_dict.update({'price':5000})"
   ]
  },
  {
   "cell_type": "code",
   "execution_count": 37,
   "metadata": {},
   "outputs": [
    {
     "data": {
      "text/plain": [
       "{'brand': 'Honor',\n",
       " 'model': ['MI_A1', 'LG1', 'GALAXY'],\n",
       " 'year': 2021,\n",
       " 'color': {'black', 'blue', 'red'},\n",
       " 'price': 5000}"
      ]
     },
     "execution_count": 37,
     "metadata": {},
     "output_type": "execute_result"
    }
   ],
   "source": [
    "my_dict"
   ]
  },
  {
   "cell_type": "code",
   "execution_count": 38,
   "metadata": {},
   "outputs": [],
   "source": [
    "my_dict = {\n",
    "    'brand':['LG','MI','Samsung'],\n",
    "    'model':['MI_A1','LG1','GALAXY'],\n",
    "    'year': 2021,\n",
    "    'color':{'blue','black','red'}\n",
    "}"
   ]
  },
  {
   "cell_type": "code",
   "execution_count": 39,
   "metadata": {},
   "outputs": [],
   "source": [
    "my_dict.update({'processor':['g430','s456','SS466']})"
   ]
  },
  {
   "cell_type": "code",
   "execution_count": 40,
   "metadata": {},
   "outputs": [
    {
     "data": {
      "text/plain": [
       "{'brand': ['LG', 'MI', 'Samsung'],\n",
       " 'model': ['MI_A1', 'LG1', 'GALAXY'],\n",
       " 'year': 2021,\n",
       " 'color': {'black', 'blue', 'red'},\n",
       " 'processor': ['g430', 's456', 'SS466']}"
      ]
     },
     "execution_count": 40,
     "metadata": {},
     "output_type": "execute_result"
    }
   ],
   "source": [
    "my_dict"
   ]
  },
  {
   "cell_type": "code",
   "execution_count": 48,
   "metadata": {},
   "outputs": [],
   "source": [
    "# help(dict)"
   ]
  },
  {
   "cell_type": "code",
   "execution_count": 42,
   "metadata": {},
   "outputs": [],
   "source": [
    "x = dict()"
   ]
  },
  {
   "cell_type": "code",
   "execution_count": 43,
   "metadata": {},
   "outputs": [
    {
     "name": "stdout",
     "output_type": "stream",
     "text": [
      "<class 'dict'>\n"
     ]
    }
   ],
   "source": [
    "print(type(x))"
   ]
  },
  {
   "cell_type": "code",
   "execution_count": 44,
   "metadata": {},
   "outputs": [],
   "source": [
    "my_dict = {\n",
    "    'brand':['LG','MI','Samsung'],\n",
    "    'model':['MI_A1','LG1','GALAXY'],\n",
    "    'year': 2021,\n",
    "    'color':{'blue','black','red'}\n",
    "}"
   ]
  },
  {
   "cell_type": "code",
   "execution_count": 49,
   "metadata": {},
   "outputs": [],
   "source": [
    "my_dict['price'] = [5000,7000]"
   ]
  },
  {
   "cell_type": "code",
   "execution_count": 50,
   "metadata": {},
   "outputs": [
    {
     "data": {
      "text/plain": [
       "{'brand': ['LG', 'MI', 'Samsung'],\n",
       " 'model': ['MI_A1', 'LG1', 'GALAXY'],\n",
       " 'year': 2021,\n",
       " 'color': {'black', 'blue', 'red'},\n",
       " 'price': [5000, 7000]}"
      ]
     },
     "execution_count": 50,
     "metadata": {},
     "output_type": "execute_result"
    }
   ],
   "source": [
    "my_dict"
   ]
  },
  {
   "cell_type": "markdown",
   "metadata": {},
   "source": [
    "# Pop method"
   ]
  },
  {
   "cell_type": "code",
   "execution_count": 51,
   "metadata": {},
   "outputs": [],
   "source": [
    "my_dict = {\n",
    "    'brand':['LG','MI','Samsung'],\n",
    "    'model':['MI_A1','LG1','GALAXY'],\n",
    "    'year': 2021,\n",
    "    'color':{'blue','black','red'}\n",
    "}"
   ]
  },
  {
   "cell_type": "code",
   "execution_count": 54,
   "metadata": {},
   "outputs": [
    {
     "data": {
      "text/plain": [
       "{'brand': ['LG', 'MI', 'Samsung'],\n",
       " 'model': ['MI_A1', 'LG1', 'GALAXY'],\n",
       " 'year': 2021}"
      ]
     },
     "execution_count": 54,
     "metadata": {},
     "output_type": "execute_result"
    }
   ],
   "source": [
    "my_dict.pop('color')\n",
    "my_dict"
   ]
  },
  {
   "cell_type": "code",
   "execution_count": 53,
   "metadata": {},
   "outputs": [
    {
     "name": "stdout",
     "output_type": "stream",
     "text": [
      "Help on built-in function pop:\n",
      "\n",
      "pop(...) method of builtins.dict instance\n",
      "    D.pop(k[,d]) -> v, remove specified key and return the corresponding value.\n",
      "    If key is not found, d is returned if given, otherwise KeyError is raised\n",
      "\n"
     ]
    }
   ],
   "source": [
    "help(my_dict.pop)"
   ]
  },
  {
   "cell_type": "code",
   "execution_count": null,
   "metadata": {},
   "outputs": [],
   "source": [
    "# PopItem"
   ]
  },
  {
   "cell_type": "code",
   "execution_count": 55,
   "metadata": {},
   "outputs": [],
   "source": [
    "my_dict = {\n",
    "    'brand':['LG','MI','Samsung'],\n",
    "    'model':['MI_A1','LG1','GALAXY'],\n",
    "    'year': 2021,\n",
    "    'color':{'blue','black','red'}\n",
    "}"
   ]
  },
  {
   "cell_type": "code",
   "execution_count": 56,
   "metadata": {},
   "outputs": [
    {
     "data": {
      "text/plain": [
       "{'brand': ['LG', 'MI', 'Samsung'],\n",
       " 'model': ['MI_A1', 'LG1', 'GALAXY'],\n",
       " 'year': 2021}"
      ]
     },
     "execution_count": 56,
     "metadata": {},
     "output_type": "execute_result"
    }
   ],
   "source": [
    "my_dict.popitem()\n",
    "my_dict"
   ]
  },
  {
   "cell_type": "code",
   "execution_count": 58,
   "metadata": {},
   "outputs": [],
   "source": [
    "# clear"
   ]
  },
  {
   "cell_type": "code",
   "execution_count": 59,
   "metadata": {},
   "outputs": [
    {
     "data": {
      "text/plain": [
       "{}"
      ]
     },
     "execution_count": 59,
     "metadata": {},
     "output_type": "execute_result"
    }
   ],
   "source": [
    "my_dict.clear()\n",
    "my_dict"
   ]
  },
  {
   "cell_type": "code",
   "execution_count": 60,
   "metadata": {},
   "outputs": [],
   "source": [
    "# del"
   ]
  },
  {
   "cell_type": "code",
   "execution_count": 61,
   "metadata": {},
   "outputs": [],
   "source": [
    "my_dict = {\n",
    "    'brand':['LG','MI','Samsung'],\n",
    "    'model':['MI_A1','LG1','GALAXY'],\n",
    "    'year': 2021,\n",
    "    'color':{'blue','black','red'}\n",
    "}"
   ]
  },
  {
   "cell_type": "code",
   "execution_count": 62,
   "metadata": {},
   "outputs": [
    {
     "ename": "NameError",
     "evalue": "name 'my_dict' is not defined",
     "output_type": "error",
     "traceback": [
      "\u001b[1;31m---------------------------------------------------------------------------\u001b[0m",
      "\u001b[1;31mNameError\u001b[0m                                 Traceback (most recent call last)",
      "\u001b[1;32m<ipython-input-62-5c411c9c68bc>\u001b[0m in \u001b[0;36m<module>\u001b[1;34m\u001b[0m\n\u001b[0;32m      1\u001b[0m \u001b[1;32mdel\u001b[0m \u001b[0mmy_dict\u001b[0m\u001b[1;33m\u001b[0m\u001b[1;33m\u001b[0m\u001b[0m\n\u001b[1;32m----> 2\u001b[1;33m \u001b[0mprint\u001b[0m\u001b[1;33m(\u001b[0m\u001b[0mmy_dict\u001b[0m\u001b[1;33m)\u001b[0m\u001b[1;33m\u001b[0m\u001b[1;33m\u001b[0m\u001b[0m\n\u001b[0m",
      "\u001b[1;31mNameError\u001b[0m: name 'my_dict' is not defined"
     ]
    }
   ],
   "source": [
    "del my_dict\n",
    "print(my_dict)"
   ]
  },
  {
   "cell_type": "markdown",
   "metadata": {},
   "source": [
    "### Loop Throgh Dictionary"
   ]
  },
  {
   "cell_type": "code",
   "execution_count": 63,
   "metadata": {},
   "outputs": [
    {
     "name": "stdout",
     "output_type": "stream",
     "text": [
      "brand\n",
      "model\n",
      "year\n",
      "color\n"
     ]
    }
   ],
   "source": [
    "my_dict = {\n",
    "    'brand':['LG','MI','Samsung'],\n",
    "    'model':['MI_A1','LG1','GALAXY'],\n",
    "    'year': 2021,\n",
    "    'color':{'blue','black','red'}\n",
    "}\n",
    "\n",
    "for a in my_dict:\n",
    "    print(a)"
   ]
  },
  {
   "cell_type": "code",
   "execution_count": 64,
   "metadata": {},
   "outputs": [],
   "source": [
    "my_dict = {\n",
    "    'brand':['LG','MI','Samsung'],\n",
    "    'model':['MI_A1','LG1','GALAXY'],\n",
    "    'year': 2021,\n",
    "    'color':{'blue','black','red'}\n",
    "}"
   ]
  },
  {
   "cell_type": "code",
   "execution_count": 65,
   "metadata": {},
   "outputs": [
    {
     "name": "stdout",
     "output_type": "stream",
     "text": [
      "['LG', 'MI', 'Samsung']\n",
      "['MI_A1', 'LG1', 'GALAXY']\n",
      "2021\n",
      "{'blue', 'black', 'red'}\n"
     ]
    }
   ],
   "source": [
    "for a in my_dict:\n",
    "    print(my_dict[a])"
   ]
  },
  {
   "cell_type": "code",
   "execution_count": 66,
   "metadata": {},
   "outputs": [],
   "source": [
    "my_dict = {\n",
    "    'brand':['LG','MI','Samsung'],\n",
    "    'model':['MI_A1','LG1','GALAXY'],\n",
    "    'year': 2021,\n",
    "    'color':{'blue','black','red'}\n",
    "}"
   ]
  },
  {
   "cell_type": "code",
   "execution_count": 67,
   "metadata": {},
   "outputs": [
    {
     "name": "stdout",
     "output_type": "stream",
     "text": [
      "['LG', 'MI', 'Samsung']\n",
      "['MI_A1', 'LG1', 'GALAXY']\n",
      "2021\n",
      "{'blue', 'black', 'red'}\n"
     ]
    }
   ],
   "source": [
    "for x in my_dict.values():\n",
    "    print(x)"
   ]
  },
  {
   "cell_type": "code",
   "execution_count": 68,
   "metadata": {},
   "outputs": [
    {
     "name": "stdout",
     "output_type": "stream",
     "text": [
      "brand\n",
      "model\n",
      "year\n",
      "color\n"
     ]
    }
   ],
   "source": [
    "my_dict = {\n",
    "    'brand':['LG','MI','Samsung'],\n",
    "    'model':['MI_A1','LG1','GALAXY'],\n",
    "    'year': 2021,\n",
    "    'color':{'blue','black','red'}\n",
    "}\n",
    "\n",
    "for x in my_dict.keys():\n",
    "    print(x)"
   ]
  },
  {
   "cell_type": "code",
   "execution_count": 69,
   "metadata": {},
   "outputs": [
    {
     "name": "stdout",
     "output_type": "stream",
     "text": [
      "brand ['LG', 'MI', 'Samsung']\n",
      "model ['MI_A1', 'LG1', 'GALAXY']\n",
      "year 2021\n",
      "color {'blue', 'black', 'red'}\n"
     ]
    }
   ],
   "source": [
    "for x,y in my_dict.items():\n",
    "    print(x,y)"
   ]
  },
  {
   "cell_type": "code",
   "execution_count": 71,
   "metadata": {},
   "outputs": [],
   "source": [
    "my_dict = {\n",
    "    'stud1':{\n",
    "        'name': 'Shyam',\n",
    "        'result': 'pass'\n",
    "    },\n",
    "    'stud2':{\n",
    "       'name': 'Rahul',\n",
    "        'result': 'Fail' \n",
    "    }\n",
    "}"
   ]
  },
  {
   "cell_type": "code",
   "execution_count": 72,
   "metadata": {},
   "outputs": [
    {
     "data": {
      "text/plain": [
       "{'stud1': {'name': 'Shyam', 'result': 'pass'},\n",
       " 'stud2': {'name': 'Rahul', 'result': 'Fail'}}"
      ]
     },
     "execution_count": 72,
     "metadata": {},
     "output_type": "execute_result"
    }
   ],
   "source": [
    "my_dict"
   ]
  },
  {
   "cell_type": "code",
   "execution_count": 73,
   "metadata": {},
   "outputs": [
    {
     "data": {
      "text/plain": [
       "{'name': 'Shyam', 'result': 'pass'}"
      ]
     },
     "execution_count": 73,
     "metadata": {},
     "output_type": "execute_result"
    }
   ],
   "source": [
    "my_dict['stud1']"
   ]
  },
  {
   "cell_type": "raw",
   "metadata": {},
   "source": [
    "Create Dictionary for Employee of size(5):\n",
    "    1. emp_no\n",
    "    2. emp_name\n",
    "    3. designation\n",
    "    4. salary\n",
    "    5. city"
   ]
  },
  {
   "cell_type": "code",
   "execution_count": null,
   "metadata": {},
   "outputs": [],
   "source": []
  }
 ],
 "metadata": {
  "kernelspec": {
   "display_name": "Python 3",
   "language": "python",
   "name": "python3"
  },
  "language_info": {
   "codemirror_mode": {
    "name": "ipython",
    "version": 3
   },
   "file_extension": ".py",
   "mimetype": "text/x-python",
   "name": "python",
   "nbconvert_exporter": "python",
   "pygments_lexer": "ipython3",
   "version": "3.8.3"
  }
 },
 "nbformat": 4,
 "nbformat_minor": 4
}
