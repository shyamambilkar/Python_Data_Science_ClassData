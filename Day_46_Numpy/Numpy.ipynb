{
 "cells": [
  {
   "cell_type": "markdown",
   "id": "2e016e72",
   "metadata": {},
   "source": [
    "### Data Types in Python:\n",
    "1. string\n",
    "2. integer\n",
    "3. float\n",
    "4. boolean\n",
    "6. complex"
   ]
  },
  {
   "cell_type": "markdown",
   "id": "c21ea928",
   "metadata": {},
   "source": [
    "### Numpy Data Types in Python:\n",
    "1. i - integer\n",
    "2. b - boolean\n",
    "3. u - unsigned integer\n",
    "4. f - float\n",
    "5. c - complex float\n",
    "6. m - timedelta\n",
    "7. M - Datatime\n",
    "8. O - object\n",
    "9. S - string\n",
    "10.U -unicode string\n",
    "11. Fixed chunk of memory"
   ]
  },
  {
   "cell_type": "code",
   "execution_count": 1,
   "id": "32e86984",
   "metadata": {},
   "outputs": [],
   "source": [
    "import numpy as np"
   ]
  },
  {
   "cell_type": "code",
   "execution_count": 2,
   "id": "faf9a34d",
   "metadata": {},
   "outputs": [
    {
     "name": "stdout",
     "output_type": "stream",
     "text": [
      "int32\n"
     ]
    }
   ],
   "source": [
    "my_array = np.array([10,20,30,40,50,60,70,80,90,100])\n",
    "print(my_array.dtype)"
   ]
  },
  {
   "cell_type": "code",
   "execution_count": 13,
   "id": "39af4fa9",
   "metadata": {},
   "outputs": [
    {
     "name": "stdout",
     "output_type": "stream",
     "text": [
      "['apple' 'mango' 'banana' 'pineapple' 'watermelon']\n",
      "<U10\n"
     ]
    }
   ],
   "source": [
    "my_array = np.array(['apple','mango','banana','pineapple','watermelon'])\n",
    "print(my_array)\n",
    "print(my_array.dtype)"
   ]
  },
  {
   "cell_type": "markdown",
   "id": "0e2ae6ee",
   "metadata": {},
   "source": [
    "### Creating Array with different data types in Python"
   ]
  },
  {
   "cell_type": "code",
   "execution_count": 4,
   "id": "c074fbdf",
   "metadata": {},
   "outputs": [
    {
     "name": "stdout",
     "output_type": "stream",
     "text": [
      "[b'apple' b'mango' b'banana' b'pineapple' b'watermelon']\n",
      "|S10\n"
     ]
    }
   ],
   "source": [
    "my_array = np.array(['apple','mango','banana','pineapple','watermelon'],dtype = 'S')\n",
    "print(my_array)\n",
    "print(my_array.dtype)"
   ]
  },
  {
   "cell_type": "code",
   "execution_count": 8,
   "id": "cd321c99",
   "metadata": {},
   "outputs": [
    {
     "name": "stdout",
     "output_type": "stream",
     "text": [
      "[b'10' b'20' b'30' b'40' b'50' b'60' b'70' b'80' b'90' b'100']\n",
      "|S4\n"
     ]
    }
   ],
   "source": [
    "my_array = np.array([10,20,30,40,50,60,70,80,90,100], dtype='S4')\n",
    "print(my_array)\n",
    "print(my_array.dtype)"
   ]
  },
  {
   "cell_type": "code",
   "execution_count": 12,
   "id": "db65e61e",
   "metadata": {},
   "outputs": [
    {
     "name": "stdout",
     "output_type": "stream",
     "text": [
      "[b'apple' b'10' b'10.15' b'True']\n",
      "|S5\n"
     ]
    }
   ],
   "source": [
    "my_array = np.array(['apple',10,10.15,True],dtype = 'S')\n",
    "print(my_array)\n",
    "print(my_array.dtype)"
   ]
  },
  {
   "cell_type": "code",
   "execution_count": 20,
   "id": "7e0eb77f",
   "metadata": {},
   "outputs": [
    {
     "name": "stdout",
     "output_type": "stream",
     "text": [
      "[b'1' b'2' b'3' b'4' b'5' b'6' b'7' b'8' b'9' b'1']\n",
      "|S1\n"
     ]
    }
   ],
   "source": [
    "my_array = np.array([10,20,30,40,50,60,70,80,90,100], dtype='c')\n",
    "print(my_array)\n",
    "print(my_array.dtype)"
   ]
  },
  {
   "cell_type": "code",
   "execution_count": 22,
   "id": "1334ac0d",
   "metadata": {},
   "outputs": [],
   "source": [
    "# help(np)"
   ]
  },
  {
   "cell_type": "code",
   "execution_count": 23,
   "id": "281da4a2",
   "metadata": {},
   "outputs": [
    {
     "ename": "ValueError",
     "evalue": "invalid literal for int() with base 10: 'apple'",
     "output_type": "error",
     "traceback": [
      "\u001b[1;31m---------------------------------------------------------------------------\u001b[0m",
      "\u001b[1;31mValueError\u001b[0m                                Traceback (most recent call last)",
      "\u001b[1;32m<ipython-input-23-075a59d3cb4e>\u001b[0m in \u001b[0;36m<module>\u001b[1;34m\u001b[0m\n\u001b[1;32m----> 1\u001b[1;33m \u001b[0mmy_array\u001b[0m \u001b[1;33m=\u001b[0m \u001b[0mnp\u001b[0m\u001b[1;33m.\u001b[0m\u001b[0marray\u001b[0m\u001b[1;33m(\u001b[0m\u001b[1;33m[\u001b[0m\u001b[1;34m'apple'\u001b[0m\u001b[1;33m,\u001b[0m\u001b[1;34m'10'\u001b[0m\u001b[1;33m,\u001b[0m\u001b[1;34m'20'\u001b[0m\u001b[1;33m]\u001b[0m\u001b[1;33m,\u001b[0m\u001b[0mdtype\u001b[0m \u001b[1;33m=\u001b[0m \u001b[1;34m'i'\u001b[0m\u001b[1;33m)\u001b[0m\u001b[1;33m\u001b[0m\u001b[1;33m\u001b[0m\u001b[0m\n\u001b[0m\u001b[0;32m      2\u001b[0m \u001b[0mprint\u001b[0m\u001b[1;33m(\u001b[0m\u001b[0mmy_array\u001b[0m\u001b[1;33m)\u001b[0m\u001b[1;33m\u001b[0m\u001b[1;33m\u001b[0m\u001b[0m\n\u001b[0;32m      3\u001b[0m \u001b[0mprint\u001b[0m\u001b[1;33m(\u001b[0m\u001b[0mmy_array\u001b[0m\u001b[1;33m.\u001b[0m\u001b[0mdtype\u001b[0m\u001b[1;33m)\u001b[0m\u001b[1;33m\u001b[0m\u001b[1;33m\u001b[0m\u001b[0m\n",
      "\u001b[1;31mValueError\u001b[0m: invalid literal for int() with base 10: 'apple'"
     ]
    }
   ],
   "source": [
    "my_array = np.array(['apple','10','20'],dtype = 'i')\n",
    "print(my_array)\n",
    "print(my_array.dtype)"
   ]
  },
  {
   "cell_type": "code",
   "execution_count": 24,
   "id": "10aecc54",
   "metadata": {},
   "outputs": [
    {
     "name": "stdout",
     "output_type": "stream",
     "text": [
      "[ 1  5 45 63]\n"
     ]
    }
   ],
   "source": [
    "my_array = np.array([1.8,5.2,45.12,63.10])\n",
    "\n",
    "new_array = my_array.astype('i')\n",
    "print(new_array)"
   ]
  },
  {
   "cell_type": "code",
   "execution_count": 25,
   "id": "e714a68b",
   "metadata": {},
   "outputs": [
    {
     "name": "stdout",
     "output_type": "stream",
     "text": [
      "[ 1  5 45 63]\n",
      "int32\n"
     ]
    }
   ],
   "source": [
    "my_array = np.array([1.8,5.2,45.12,63.10])\n",
    "\n",
    "new_array = my_array.astype(int)\n",
    "print(new_array)\n",
    "print(new_array.dtype)"
   ]
  },
  {
   "cell_type": "code",
   "execution_count": 34,
   "id": "e63176fd",
   "metadata": {},
   "outputs": [
    {
     "name": "stdout",
     "output_type": "stream",
     "text": [
      "[ True  True  True  True]\n",
      "bool\n"
     ]
    }
   ],
   "source": [
    "my_array = np.array([1.8,5.2,45.12,63.10,])\n",
    "\n",
    "new_array = my_array.astype(bool)\n",
    "print(new_array)\n",
    "print(new_array.dtype)"
   ]
  },
  {
   "cell_type": "code",
   "execution_count": null,
   "id": "754a9a96",
   "metadata": {},
   "outputs": [],
   "source": []
  }
 ],
 "metadata": {
  "kernelspec": {
   "display_name": "Python 3",
   "language": "python",
   "name": "python3"
  },
  "language_info": {
   "codemirror_mode": {
    "name": "ipython",
    "version": 3
   },
   "file_extension": ".py",
   "mimetype": "text/x-python",
   "name": "python",
   "nbconvert_exporter": "python",
   "pygments_lexer": "ipython3",
   "version": "3.8.8"
  }
 },
 "nbformat": 4,
 "nbformat_minor": 5
}
