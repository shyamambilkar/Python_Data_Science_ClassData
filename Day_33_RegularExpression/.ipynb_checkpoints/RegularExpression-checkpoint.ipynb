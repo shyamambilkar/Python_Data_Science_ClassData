{
 "cells": [
  {
   "cell_type": "markdown",
   "metadata": {},
   "source": [
    "# Metacharacters"
   ]
  },
  {
   "cell_type": "markdown",
   "metadata": {},
   "source": [
    "1. [] - Use to create a Set of Characters\n",
    "2. [.] - Matches any character except a newline\n",
    "3. [] - Either escapes special characters or signals a special sequence\n",
    "4. [^] - Starts with\n",
    "5. [$] - Ends with\n",
    "6. [*] - Zero or More Occurance\n",
    "7. [+] - One or Occurance\n",
    "8. {} - Exactly the specified number of occurances\n",
    "9. | - Either or\n",
    "10. ()- Capture Group"
   ]
  },
  {
   "cell_type": "code",
   "execution_count": 1,
   "metadata": {},
   "outputs": [],
   "source": [
    "import re"
   ]
  },
  {
   "cell_type": "markdown",
   "metadata": {},
   "source": [
    "### 1. Findall"
   ]
  },
  {
   "cell_type": "code",
   "execution_count": 2,
   "metadata": {},
   "outputs": [
    {
     "name": "stdout",
     "output_type": "stream",
     "text": [
      "['shyam@gmail.com']\n",
      "Yes match is available in the string\n"
     ]
    }
   ],
   "source": [
    "my_text = \"my name is shyam and my email id is shyam@gmail.com\"\n",
    "\n",
    "x = re.findall(\"shyam@gmail.com\", my_text)\n",
    "print(x)\n",
    "\n",
    "if (x):\n",
    "    print(\"Yes match is available in the string\")\n",
    "else:\n",
    "    print(\"No match\")"
   ]
  },
  {
   "cell_type": "code",
   "execution_count": 3,
   "metadata": {},
   "outputs": [
    {
     "name": "stdout",
     "output_type": "stream",
     "text": [
      "[]\n",
      "No match\n"
     ]
    }
   ],
   "source": [
    "my_text = \"my name is shyam and my email id is shyam12@gmail.com\"\n",
    "\n",
    "x = re.findall(\"shyam@gmail.com\", my_text)\n",
    "print(x)\n",
    "\n",
    "if (x):\n",
    "    print(\"Yes match is available in the string\")\n",
    "else:\n",
    "    print(\"No match\")"
   ]
  },
  {
   "cell_type": "code",
   "execution_count": 4,
   "metadata": {},
   "outputs": [
    {
     "name": "stdout",
     "output_type": "stream",
     "text": [
      "[]\n",
      "No match in the string\n"
     ]
    }
   ],
   "source": [
    "my_text = \"my name is shyam and my mobile no is 91-9923090436\"\n",
    "\n",
    "x = re.findall(\"91-9923090437\", my_text)\n",
    "print(x)\n",
    "\n",
    "if (x):\n",
    "    print(\"Yes match is available in the string\")\n",
    "else:\n",
    "    print(\"No match in the string\")"
   ]
  },
  {
   "cell_type": "code",
   "execution_count": 5,
   "metadata": {},
   "outputs": [],
   "source": [
    "my_text = \"\"\"my name is shyam and my mobile no is 91-9923090436,\n",
    "my name is rahul and my email id is shyam@gmail.com\"\"\""
   ]
  },
  {
   "cell_type": "code",
   "execution_count": 6,
   "metadata": {},
   "outputs": [
    {
     "name": "stdout",
     "output_type": "stream",
     "text": [
      "['shyam', 'shyam']\n"
     ]
    }
   ],
   "source": [
    "y = re.findall('shyam', my_text)\n",
    "print(y)"
   ]
  },
  {
   "cell_type": "markdown",
   "metadata": {},
   "source": [
    "### 2. Search Function"
   ]
  },
  {
   "cell_type": "code",
   "execution_count": 21,
   "metadata": {},
   "outputs": [
    {
     "name": "stdout",
     "output_type": "stream",
     "text": [
      "The First whitespace are available on the position 2\n"
     ]
    }
   ],
   "source": [
    "my_text = \"my nameisrahul\"\n",
    "x = re.search(\"\\s\",my_text)\n",
    "print(\"The First whitespace are available on the position\",x.start())"
   ]
  },
  {
   "cell_type": "code",
   "execution_count": null,
   "metadata": {},
   "outputs": [],
   "source": [
    "# help(re)"
   ]
  },
  {
   "cell_type": "markdown",
   "metadata": {},
   "source": [
    "### 3. Split Method"
   ]
  },
  {
   "cell_type": "code",
   "execution_count": 15,
   "metadata": {},
   "outputs": [
    {
     "name": "stdout",
     "output_type": "stream",
     "text": [
      "['my name is shyam and my mobile no is ', '', '-', '', '', '', '', '', '', '', '', '', '']\n"
     ]
    }
   ],
   "source": [
    "my_text = \"my name is shyam and my mobile no is 91-9923090436\"\n",
    "x = re.split('\\d', my_text)\n",
    "print(x)"
   ]
  },
  {
   "cell_type": "code",
   "execution_count": 29,
   "metadata": {},
   "outputs": [
    {
     "name": "stdout",
     "output_type": "stream",
     "text": [
      "['my', 'name', 'is', 'shyam', 'and', 'my', 'mobile', 'no', 'is', '91-9923090436', 'my', 'email']\n"
     ]
    }
   ],
   "source": [
    "my_text = \"my name is shyam and my mobile no is 91-9923090436 my email\"\n",
    "x = re.split('\\s', my_text)\n",
    "print(x)"
   ]
  },
  {
   "cell_type": "code",
   "execution_count": 25,
   "metadata": {},
   "outputs": [],
   "source": [
    "# help(re)"
   ]
  },
  {
   "cell_type": "markdown",
   "metadata": {},
   "source": [
    "### 4. Sub Function"
   ]
  },
  {
   "cell_type": "code",
   "execution_count": 35,
   "metadata": {},
   "outputs": [
    {
     "name": "stdout",
     "output_type": "stream",
     "text": [
      "my_name,my_post\n"
     ]
    }
   ],
   "source": [
    "my_text = \"my name,my post\"\n",
    "\n",
    "x = re.sub('\\s',\"_\", my_text)\n",
    "print(x)"
   ]
  },
  {
   "cell_type": "code",
   "execution_count": 36,
   "metadata": {},
   "outputs": [],
   "source": [
    "# help(re.sub)"
   ]
  },
  {
   "cell_type": "markdown",
   "metadata": {},
   "source": [
    "### Special Sequences"
   ]
  },
  {
   "cell_type": "markdown",
   "metadata": {},
   "source": [
    "1. \\number  Matches the contents of the group of the same number.\n",
    "2. \\A       Matches only at the start of the string.\n",
    "3. \\Z       Matches only at the end of the string.\n",
    "4. \\b       Matches the empty string, but only at the start or end of a word.\n",
    "5. \\B       Matches the empty string, but not at the start or end of a word.\n",
    "6. \\d       Matches any decimal digit; equivalent to the set [0-9] in\n",
    "                 bytes patterns or string patterns with the ASCII flag.\n",
    "                 In string patterns without the ASCII flag, it will match the whole\n",
    "                 range of Unicode digits.\n",
    "6. \\D       Matches any non-digit character; equivalent to [^\\d].\n",
    "7. \\s       Matches any whitespace character; equivalent to [ \\t\\n\\r\\f\\v] in\n",
    "                 bytes patterns or string patterns with the ASCII flag.\n",
    "                 In string patterns without the ASCII flag, it will match the whole\n",
    "                 range of Unicode whitespace characters.\n",
    "8. \\S       Matches any non-whitespace character; equivalent to [^\\s].\n",
    "9. \\w       Matches any alphanumeric character; equivalent to [a-zA-Z0-9_]\n",
    "                 in bytes patterns or string patterns with the ASCII flag.\n",
    "                 In string patterns without the ASCII flag, it will match the\n",
    "                 range of Unicode alphanumeric characters (letters plus digits\n",
    "                 plus underscore).\n",
    "                 With LOCALE, it will match the set [0-9_] plus characters defined\n",
    "                 as letters for the current locale.\n",
    "10. \\W       Matches the complement of \\w.\n",
    "11. \\\\       Matches a literal backslash."
   ]
  },
  {
   "cell_type": "code",
   "execution_count": 66,
   "metadata": {},
   "outputs": [
    {
     "name": "stdout",
     "output_type": "stream",
     "text": [
      "[]\n",
      "['91-99230']\n",
      "['uniquesoftware13@gmail.com']\n"
     ]
    }
   ],
   "source": [
    "my_text = \"my name is shyam and my mobile no is 91-99230 90436 my email is uniquesoftware13@gmail.com, shyamambilkar@gmail.com\"\n",
    "\n",
    "my_pattern = re.findall('[0-9]{1,2}[-]{1}[0-9]{10}', my_text) \n",
    "my_pattern1 = re.findall('\\d{1,10}[-]\\d{1,5}', my_text)\n",
    "my_pattern2 = re.findall('[a-z]{2,20}[0-9]{1,20}[@]{1}[a-z.]{1,20}', my_text)\n",
    "print(my_pattern)\n",
    "print(my_pattern1)\n",
    "print(my_pattern2)"
   ]
  },
  {
   "cell_type": "code",
   "execution_count": 83,
   "metadata": {},
   "outputs": [],
   "source": [
    "a = \"Machine Learning\""
   ]
  },
  {
   "cell_type": "code",
   "execution_count": 88,
   "metadata": {},
   "outputs": [
    {
     "data": {
      "text/plain": [
       "17"
      ]
     },
     "execution_count": 88,
     "metadata": {},
     "output_type": "execute_result"
    }
   ],
   "source": [
    "result = a.count(\"\")\n",
    "result"
   ]
  },
  {
   "cell_type": "code",
   "execution_count": 89,
   "metadata": {},
   "outputs": [
    {
     "name": "stdout",
     "output_type": "stream",
     "text": [
      "Help on built-in function count:\n",
      "\n",
      "count(...) method of builtins.str instance\n",
      "    S.count(sub[, start[, end]]) -> int\n",
      "    \n",
      "    Return the number of non-overlapping occurrences of substring sub in\n",
      "    string S[start:end].  Optional arguments start and end are\n",
      "    interpreted as in slice notation.\n",
      "\n"
     ]
    }
   ],
   "source": [
    "help(a.count)"
   ]
  },
  {
   "cell_type": "code",
   "execution_count": 81,
   "metadata": {},
   "outputs": [
    {
     "data": {
      "text/plain": [
       "16"
      ]
     },
     "execution_count": 81,
     "metadata": {},
     "output_type": "execute_result"
    }
   ],
   "source": [
    "result = len(a)\n",
    "result"
   ]
  },
  {
   "cell_type": "code",
   "execution_count": 75,
   "metadata": {},
   "outputs": [
    {
     "name": "stdout",
     "output_type": "stream",
     "text": [
      "0\n",
      "1\n",
      "2\n",
      "3\n",
      "4\n",
      "5\n"
     ]
    }
   ],
   "source": [
    "a = [10,20,230,40,50,60]\n",
    "\n",
    "for i in range(0,len(a)):\n",
    "    print(i)"
   ]
  },
  {
   "cell_type": "code",
   "execution_count": 90,
   "metadata": {},
   "outputs": [
    {
     "name": "stdout",
     "output_type": "stream",
     "text": [
      "6\n"
     ]
    },
    {
     "data": {
      "text/plain": [
       "'python'"
      ]
     },
     "execution_count": 90,
     "metadata": {},
     "output_type": "execute_result"
    }
   ],
   "source": [
    "my_string = \"python\"\n",
    "print(len(my_string))\n",
    "my_string"
   ]
  },
  {
   "cell_type": "code",
   "execution_count": 95,
   "metadata": {},
   "outputs": [
    {
     "name": "stdout",
     "output_type": "stream",
     "text": [
      "2\n"
     ]
    }
   ],
   "source": [
    "my_string  = \"Data Science, Data\"\n",
    "print(my_string.count('Data'))"
   ]
  },
  {
   "cell_type": "code",
   "execution_count": 100,
   "metadata": {},
   "outputs": [
    {
     "name": "stdout",
     "output_type": "stream",
     "text": [
      "Enter a string  shyam\n",
      "No.of vowels are : 1\n",
      "No. of consonants are : 4\n",
      "No of digits are: 0\n",
      "No of white spaces are: 0\n"
     ]
    }
   ],
   "source": [
    "a=str(input(\"Enter a string  \"))\n",
    "a=a.lower()\n",
    "V=0\n",
    "C=0\n",
    "D=0\n",
    "S=0\n",
    "def Count(a,V,C,D,S):\n",
    "   \n",
    "    for i in range(0,len(a)):\n",
    "        c=a[i]\n",
    "        if (c=='e' or c=='a' or c=='i' or c=='o' or c=='u'):\n",
    "            V+=1\n",
    "        elif(c>= '0' and c<= '9'):\n",
    "            D+=1 \n",
    "        elif(c==' '):\n",
    "            S+=1\n",
    "        else:\n",
    "            C+=1\n",
    "    \n",
    "    print('No.of vowels are :',V)\n",
    "    print('No. of consonants are :',C)\n",
    "    print('No of digits are:',D)\n",
    "    print('No of white spaces are:',S)\n",
    "    \n",
    "Count(a,V,C,D,S)"
   ]
  },
  {
   "cell_type": "code",
   "execution_count": null,
   "metadata": {},
   "outputs": [],
   "source": []
  }
 ],
 "metadata": {
  "kernelspec": {
   "display_name": "Python 3",
   "language": "python",
   "name": "python3"
  },
  "language_info": {
   "codemirror_mode": {
    "name": "ipython",
    "version": 3
   },
   "file_extension": ".py",
   "mimetype": "text/x-python",
   "name": "python",
   "nbconvert_exporter": "python",
   "pygments_lexer": "ipython3",
   "version": "3.8.3"
  }
 },
 "nbformat": 4,
 "nbformat_minor": 4
}
