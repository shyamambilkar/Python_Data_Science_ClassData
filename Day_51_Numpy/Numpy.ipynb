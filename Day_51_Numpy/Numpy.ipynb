{
 "cells": [
  {
   "cell_type": "markdown",
   "id": "3a1084a8",
   "metadata": {},
   "source": [
    "### Joining Array Numpy"
   ]
  },
  {
   "cell_type": "code",
   "execution_count": 1,
   "id": "29b88540",
   "metadata": {},
   "outputs": [],
   "source": [
    "import numpy as np"
   ]
  },
  {
   "cell_type": "code",
   "execution_count": 2,
   "id": "fb156236",
   "metadata": {},
   "outputs": [
    {
     "data": {
      "text/plain": [
       "array([ 60,  80, 100, 120])"
      ]
     },
     "execution_count": 2,
     "metadata": {},
     "output_type": "execute_result"
    }
   ],
   "source": [
    "my_array1 = np.array([10,20,30,40])\n",
    "my_array2 = np.array([50,60,70,80])\n",
    "\n",
    "new_array = my_array1 + my_array2\n",
    "new_array\n"
   ]
  },
  {
   "cell_type": "markdown",
   "id": "4901d46f",
   "metadata": {},
   "source": [
    "### 1. Concatenate "
   ]
  },
  {
   "cell_type": "code",
   "execution_count": 3,
   "id": "91136985",
   "metadata": {},
   "outputs": [
    {
     "name": "stdout",
     "output_type": "stream",
     "text": [
      "[10 20 30 40 50 60 70 80]\n"
     ]
    }
   ],
   "source": [
    "my_array1 = np.array([10,20,30,40])\n",
    "my_array2 = np.array([50,60,70,80])\n",
    "\n",
    "new_array = np.concatenate((my_array1, my_array2))\n",
    "print(new_array)"
   ]
  },
  {
   "cell_type": "code",
   "execution_count": 4,
   "id": "d70eb9ae",
   "metadata": {},
   "outputs": [
    {
     "name": "stdout",
     "output_type": "stream",
     "text": [
      "[[10 20 30 40 50 60 70 80]\n",
      " [50 60 70 80 15 16 14 10]]\n"
     ]
    }
   ],
   "source": [
    "my_array1 = np.array([[10,20,30,40],[50,60,70,80]])\n",
    "my_array2 = np.array([[50,60,70,80],[15,16,14,10]])\n",
    "\n",
    "new_array = np.concatenate((my_array1, my_array2), axis=1)\n",
    "print(new_array)"
   ]
  },
  {
   "cell_type": "markdown",
   "id": "d85e9f9d",
   "metadata": {},
   "source": [
    "### Array splitting in Numpy"
   ]
  },
  {
   "cell_type": "code",
   "execution_count": 5,
   "id": "02e317e8",
   "metadata": {},
   "outputs": [],
   "source": [
    "my_array1 = np.array([10,20,30,40,50,60,70,80,90,100])\n",
    "\n",
    "new_array = np.array_split(my_array1,3)"
   ]
  },
  {
   "cell_type": "code",
   "execution_count": 6,
   "id": "b58110e3",
   "metadata": {},
   "outputs": [
    {
     "data": {
      "text/plain": [
       "[array([10, 20, 30, 40]), array([50, 60, 70]), array([ 80,  90, 100])]"
      ]
     },
     "execution_count": 6,
     "metadata": {},
     "output_type": "execute_result"
    }
   ],
   "source": [
    "new_array"
   ]
  },
  {
   "cell_type": "code",
   "execution_count": 9,
   "id": "92894d7b",
   "metadata": {},
   "outputs": [
    {
     "data": {
      "text/plain": [
       "[array([10, 20, 30]),\n",
       " array([40, 50, 60]),\n",
       " array([70, 80, 90]),\n",
       " array([100, 110])]"
      ]
     },
     "execution_count": 9,
     "metadata": {},
     "output_type": "execute_result"
    }
   ],
   "source": [
    "my_array1 = np.array([10,20,30,40,50,60,70,80,90,100,110])\n",
    "\n",
    "new_array = np.array_split(my_array1,4)\n",
    "new_array"
   ]
  },
  {
   "cell_type": "code",
   "execution_count": 10,
   "id": "f5c35b00",
   "metadata": {},
   "outputs": [
    {
     "data": {
      "text/plain": [
       "[array([10, 20, 30]), array([40, 50]), array([60, 70]), array([80, 90])]"
      ]
     },
     "execution_count": 10,
     "metadata": {},
     "output_type": "execute_result"
    }
   ],
   "source": [
    "my_array1 = np.array([10,20,30,40,50,60,70,80,90])\n",
    "\n",
    "new_array = np.array_split(my_array1,4)\n",
    "new_array"
   ]
  },
  {
   "cell_type": "code",
   "execution_count": 12,
   "id": "5caf23ce",
   "metadata": {},
   "outputs": [
    {
     "name": "stdout",
     "output_type": "stream",
     "text": [
      "[10 20 30]\n",
      "[40 50 60]\n",
      "[70 80 90]\n",
      "[100 110]\n"
     ]
    }
   ],
   "source": [
    "my_array1 = np.array([10,20,30,40,50,60,70,80,90,100,110])\n",
    "\n",
    "new_array = np.array_split(my_array1,4)\n",
    "\n",
    "print(new_array[0])\n",
    "print(new_array[1])\n",
    "print(new_array[2])\n",
    "print(new_array[3])"
   ]
  },
  {
   "cell_type": "code",
   "execution_count": 14,
   "id": "e0547d16",
   "metadata": {},
   "outputs": [
    {
     "name": "stdout",
     "output_type": "stream",
     "text": [
      "[array([10, 20, 30, 40]), array([50, 60, 70]), array([ 80,  90, 100])]\n"
     ]
    }
   ],
   "source": [
    "my_array1 = np.array([10,20,30,40,50,60,70,80,90,100])\n",
    "\n",
    "new_array = np.array_split(my_array1, 3)\n",
    "print(new_array)"
   ]
  },
  {
   "cell_type": "markdown",
   "id": "37a35eff",
   "metadata": {},
   "source": [
    "# 2-D Array"
   ]
  },
  {
   "cell_type": "code",
   "execution_count": 15,
   "id": "575d0f0c",
   "metadata": {},
   "outputs": [
    {
     "name": "stdout",
     "output_type": "stream",
     "text": [
      "[array([[10, 20],\n",
      "       [30, 40]]), array([[50, 60],\n",
      "       [70, 80]]), array([[ 90, 100]])]\n"
     ]
    }
   ],
   "source": [
    "my_array1 = np.array([[10,20],[30,40],[50,60],[70,80],[90,100]])\n",
    "\n",
    "new_array = np.array_split(my_array1, 3)\n",
    "print(new_array)"
   ]
  },
  {
   "cell_type": "code",
   "execution_count": 19,
   "id": "185ecd7c",
   "metadata": {},
   "outputs": [
    {
     "name": "stdout",
     "output_type": "stream",
     "text": [
      "[[10 20]\n",
      " [30 40]]\n",
      "[[50 60]\n",
      " [70 80]]\n",
      "[[ 90 100]]\n"
     ]
    }
   ],
   "source": [
    "print(new_array[0])\n",
    "print(new_array[1])\n",
    "print(new_array[2])"
   ]
  },
  {
   "cell_type": "code",
   "execution_count": 20,
   "id": "5ec7e33e",
   "metadata": {},
   "outputs": [
    {
     "name": "stdout",
     "output_type": "stream",
     "text": [
      "[array([[10],\n",
      "       [30],\n",
      "       [50],\n",
      "       [70],\n",
      "       [90]]), array([[ 20],\n",
      "       [ 40],\n",
      "       [ 60],\n",
      "       [ 80],\n",
      "       [100]]), array([], shape=(5, 0), dtype=int32)]\n"
     ]
    }
   ],
   "source": [
    "my_array1 = np.array([[10,20],[30,40],[50,60],[70,80],[90,100]])\n",
    "\n",
    "new_array = np.array_split(my_array1, 3, axis=1)\n",
    "print(new_array)"
   ]
  },
  {
   "cell_type": "code",
   "execution_count": 21,
   "id": "aa88fbba",
   "metadata": {},
   "outputs": [
    {
     "name": "stdout",
     "output_type": "stream",
     "text": [
      "[[10]\n",
      " [30]\n",
      " [50]\n",
      " [70]\n",
      " [90]]\n",
      "[[ 20]\n",
      " [ 40]\n",
      " [ 60]\n",
      " [ 80]\n",
      " [100]]\n",
      "[]\n"
     ]
    }
   ],
   "source": [
    "print(new_array[0])\n",
    "print(new_array[1])\n",
    "print(new_array[2])"
   ]
  },
  {
   "cell_type": "code",
   "execution_count": 25,
   "id": "24de5a84",
   "metadata": {},
   "outputs": [
    {
     "name": "stdout",
     "output_type": "stream",
     "text": [
      "[array([[ 10],\n",
      "       [ 30],\n",
      "       [ 50],\n",
      "       [ 70],\n",
      "       [ 90],\n",
      "       [110]]), array([[ 20],\n",
      "       [ 40],\n",
      "       [ 60],\n",
      "       [ 80],\n",
      "       [100],\n",
      "       [120]])]\n"
     ]
    }
   ],
   "source": [
    "my_array1 = np.array([[10,20],[30,40],[50,60],[70,80],[90,100],[110,120]])\n",
    "\n",
    "new_array = np.hsplit(my_array1, 2)\n",
    "print(new_array)"
   ]
  },
  {
   "cell_type": "code",
   "execution_count": 27,
   "id": "4d2fd7af",
   "metadata": {},
   "outputs": [
    {
     "name": "stdout",
     "output_type": "stream",
     "text": [
      "[array([[10, 20],\n",
      "       [30, 40]]), array([[50, 60],\n",
      "       [70, 80]]), array([[ 90, 100],\n",
      "       [110, 120]])]\n"
     ]
    }
   ],
   "source": [
    "my_array1 = np.array([[10,20],[30,40],[50,60],[70,80],[90,100],[110,120]])\n",
    "\n",
    "new_array = np.vsplit(my_array1, 3)\n",
    "print(new_array)"
   ]
  },
  {
   "cell_type": "markdown",
   "id": "5e871d0f",
   "metadata": {},
   "source": [
    "### Searcing Array in Numpy"
   ]
  },
  {
   "cell_type": "code",
   "execution_count": 33,
   "id": "3616d4df",
   "metadata": {},
   "outputs": [
    {
     "name": "stdout",
     "output_type": "stream",
     "text": [
      "(array([3], dtype=int64),)\n"
     ]
    }
   ],
   "source": [
    "my_array1 = np.array([10,20,30,40,50,60,70,80,90,100])\n",
    "\n",
    "x = np.where(my_array1 == 40)\n",
    "print(x)"
   ]
  },
  {
   "cell_type": "code",
   "execution_count": 36,
   "id": "867334a6",
   "metadata": {},
   "outputs": [],
   "source": [
    "# help(np.where(my_array1))"
   ]
  },
  {
   "cell_type": "code",
   "execution_count": 42,
   "id": "f95891ea",
   "metadata": {},
   "outputs": [
    {
     "name": "stdout",
     "output_type": "stream",
     "text": [
      "All the Odd elements in Array are:  (array([ 2, 11, 12], dtype=int64),)\n"
     ]
    }
   ],
   "source": [
    "my_array1 = np.array([10,20,115,30,40,50,60,70,80,90,100,111,113])\n",
    "\n",
    "x = np.where(my_array1%2 == 1)\n",
    "\n",
    "print(\"All the Odd elements in Array are: \",x)"
   ]
  },
  {
   "cell_type": "code",
   "execution_count": 43,
   "id": "b668e38a",
   "metadata": {},
   "outputs": [
    {
     "data": {
      "text/plain": [
       "20"
      ]
     },
     "execution_count": 43,
     "metadata": {},
     "output_type": "execute_result"
    }
   ],
   "source": [
    "my_array1 = np.array([10,20,115,30,40,50,60,70,80,90,100,111,113])\n",
    "\n",
    "my_array1[1]"
   ]
  },
  {
   "cell_type": "code",
   "execution_count": null,
   "id": "50552139",
   "metadata": {},
   "outputs": [],
   "source": []
  }
 ],
 "metadata": {
  "kernelspec": {
   "display_name": "Python 3",
   "language": "python",
   "name": "python3"
  },
  "language_info": {
   "codemirror_mode": {
    "name": "ipython",
    "version": 3
   },
   "file_extension": ".py",
   "mimetype": "text/x-python",
   "name": "python",
   "nbconvert_exporter": "python",
   "pygments_lexer": "ipython3",
   "version": "3.8.8"
  }
 },
 "nbformat": 4,
 "nbformat_minor": 5
}
