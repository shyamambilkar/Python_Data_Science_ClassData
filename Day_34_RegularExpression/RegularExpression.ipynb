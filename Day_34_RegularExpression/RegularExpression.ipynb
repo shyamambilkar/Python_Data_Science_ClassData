{
 "cells": [
  {
   "cell_type": "markdown",
   "metadata": {},
   "source": [
    "# Sequence of Character"
   ]
  },
  {
   "cell_type": "code",
   "execution_count": 1,
   "metadata": {},
   "outputs": [],
   "source": [
    "from re import findall"
   ]
  },
  {
   "cell_type": "markdown",
   "metadata": {},
   "source": [
    "### 1. \\d - Return digits or Except String"
   ]
  },
  {
   "cell_type": "code",
   "execution_count": 8,
   "metadata": {},
   "outputs": [
    {
     "name": "stdout",
     "output_type": "stream",
     "text": [
      "['9923090436', '1234567890', '8080425352'] 3\n"
     ]
    }
   ],
   "source": [
    "my_text = \"\"\"my name is shyam, my mobile no is +91-9923090436 and \n",
    "my email id is shyamamiblkar@gmail.com and my secon contact no is 1234567890 8080425352\"\"\"\n",
    "\n",
    "my_pattern = '\\d{10}'\n",
    "result = findall(my_pattern, my_text)\n",
    "print(result, len(result))"
   ]
  },
  {
   "cell_type": "markdown",
   "metadata": {},
   "source": [
    "### 2. \\D - Except Numbers"
   ]
  },
  {
   "cell_type": "code",
   "execution_count": 18,
   "metadata": {},
   "outputs": [
    {
     "name": "stdout",
     "output_type": "stream",
     "text": [
      "['my name is shya', 'm, my mobile no', ' is +', '-', ' and \\nmy email ', 'id is shyamamib', 'lkar@gmail.com ', 'and my secon co', 'ntact no is ', ' '] 8\n"
     ]
    }
   ],
   "source": [
    "my_text = \"\"\"my name is shyam, my mobile no is +91-9923090436 and \n",
    "my email id is shyamamiblkar@gmail.com and my secon contact no is 1234567890 8080425352\"\"\"\n",
    "\n",
    "my_pattern = '\\D{1,15}'\n",
    "result = findall(my_pattern,my_text)\n",
    "print(result, len(my_pattern))"
   ]
  },
  {
   "cell_type": "markdown",
   "metadata": {},
   "source": [
    "### 3. \\w - combinatiion of characters and Numbers "
   ]
  },
  {
   "cell_type": "code",
   "execution_count": 26,
   "metadata": {},
   "outputs": [
    {
     "name": "stdout",
     "output_type": "stream",
     "text": [
      "['9923090436', 'shyamamiblkar', 'contact', '1234567890', '8080425352', 'python123'] 6\n"
     ]
    }
   ],
   "source": [
    "my_text = \"\"\"my name is shyam, my mobile no is +91-9923090436 and \n",
    "my email id is shyamamiblkar@gmail.com and my secon contact no is 1234567890 8080425352 python123@gmail.com\"\"\"\n",
    "\n",
    "my_pattern = '\\w{7,13}' #[a-zA-Z0-9]\n",
    "result = findall(my_pattern, my_text)\n",
    "print(result, len(result))"
   ]
  },
  {
   "cell_type": "markdown",
   "metadata": {},
   "source": [
    "### 4. \\W - Except string characters and numbers (Return special characters, whitespace)"
   ]
  },
  {
   "cell_type": "code",
   "execution_count": 31,
   "metadata": {},
   "outputs": [
    {
     "name": "stdout",
     "output_type": "stream",
     "text": [
      "[' ', ' ', ' ', ',', ' ', ' ', ' ', ' ', ' ', '+', '-', ' ', ' ', '\\n', ' ', ' ', ' ', ' ', '@', '.', ' ', ' ', ' ', ' ', ' ', ' ', ' ', ' ', ' ', '@', '.', ' ', '#', '#'] 34\n"
     ]
    }
   ],
   "source": [
    "my_text = \"\"\"my name is shyam, my mobile no is +91-9923090436 and \n",
    "my email id is shyamamiblkar@gmail.com and my secon contact no is 1234567890 8080425352 python123@gmail.com ##\"\"\"\n",
    "\n",
    "my_pattern = '\\W{1}'\n",
    "\n",
    "result = findall(my_pattern, my_text)\n",
    "print(result, len(result))"
   ]
  },
  {
   "cell_type": "markdown",
   "metadata": {},
   "source": [
    "### 5. \\s - whitespace"
   ]
  },
  {
   "cell_type": "code",
   "execution_count": 30,
   "metadata": {},
   "outputs": [
    {
     "name": "stdout",
     "output_type": "stream",
     "text": [
      "[' ', ' ', ' ', ' ', ' ', ' ', ' ', ' ', ' ', ' ', '\\n', ' ', ' ', ' ', ' ', ' ', ' ', ' ', ' ', ' ', ' ', ' ', ' ', ' '] 24\n"
     ]
    }
   ],
   "source": [
    "my_text = \"\"\"my name is shyam, my mobile no is +91-9923090436 and \n",
    "my email id is shyamamiblkar@gmail.com and my secon contact no is 1234567890 8080425352 python123@gmail.com\"\"\"\n",
    "\n",
    "my_pattern = '\\s'\n",
    "\n",
    "result = findall(my_pattern, my_text)\n",
    "print(result,len(result))"
   ]
  },
  {
   "cell_type": "markdown",
   "metadata": {},
   "source": [
    "### 6. \\S - Return splited string into a single characters"
   ]
  },
  {
   "cell_type": "code",
   "execution_count": 32,
   "metadata": {},
   "outputs": [
    {
     "name": "stdout",
     "output_type": "stream",
     "text": [
      "['m', 'y', 'n', 'a', 'm', 'e', 'i', 's', 's', 'h', 'y', 'a', 'm', ',', 'm', 'y', 'm', 'o', 'b', 'i', 'l', 'e', 'n', 'o', 'i', 's', '+', '9', '1', '-', '9', '9', '2', '3', '0', '9', '0', '4', '3', '6', 'a', 'n', 'd', 'm', 'y', 'e', 'm', 'a', 'i', 'l', 'i', 'd', 'i', 's', 's', 'h', 'y', 'a', 'm', 'a', 'm', 'i', 'b', 'l', 'k', 'a', 'r', '@', 'g', 'm', 'a', 'i', 'l', '.', 'c', 'o', 'm', 'a', 'n', 'd', 'm', 'y', 's', 'e', 'c', 'o', 'n', 'c', 'o', 'n', 't', 'a', 'c', 't', 'n', 'o', 'i', 's', '1', '2', '3', '4', '5', '6', '7', '8', '9', '0', '8', '0', '8', '0', '4', '2', '5', '3', '5', '2', 'p', 'y', 't', 'h', 'o', 'n', '1', '2', '3', '@', 'g', 'm', 'a', 'i', 'l', '.', 'c', 'o', 'm'] 137\n"
     ]
    }
   ],
   "source": [
    "my_text = \"\"\"my name is shyam, my mobile no is +91-9923090436 and \n",
    "my email id is shyamamiblkar@gmail.com and my secon contact no is 1234567890 8080425352 python123@gmail.com\"\"\"\n",
    "\n",
    "my_pattern = '\\S'\n",
    "result = findall(my_pattern, my_text)\n",
    "print(result, len(result))"
   ]
  },
  {
   "cell_type": "markdown",
   "metadata": {},
   "source": [
    "## Example:\n",
    "    1. PANCARD - ASDFG1234K\n",
    "    2. AADHARCARD - 1234 4567 8962\n",
    "    3. DL\n",
    "    4. IFSC CODE\n",
    "    5. MOBILE\n",
    "    6. VOTAR ID\n",
    "    7. CREDIT CARD NUMBER\n",
    "    8. DEBIT CARD NUMBER\n",
    "    9. EMAIL ID\n",
    "    9. WEB ADDRESS"
   ]
  },
  {
   "cell_type": "code",
   "execution_count": 33,
   "metadata": {},
   "outputs": [],
   "source": [
    "import re"
   ]
  },
  {
   "cell_type": "code",
   "execution_count": 35,
   "metadata": {},
   "outputs": [
    {
     "name": "stdout",
     "output_type": "stream",
     "text": [
      "['9923090436', '1234567890', '8080425352']\n"
     ]
    }
   ],
   "source": [
    "my_text = \"\"\"my name is shyam, my mobile no is +91-9923090436 and \n",
    "my email id is shyamamiblkar@gmail.com and my secon contact no is 1234567890 8080425352 python123@gmail.com\"\"\"\n",
    "\n",
    "my_num = re.findall('\\d{10}',my_text)\n",
    "print(my_num)"
   ]
  },
  {
   "cell_type": "code",
   "execution_count": 44,
   "metadata": {},
   "outputs": [
    {
     "name": "stdout",
     "output_type": "stream",
     "text": [
      "['shyamamiblkar3@gmail.com', 'python123@gmail.com']\n"
     ]
    }
   ],
   "source": [
    "my_text = \"\"\"my name is shyam, my mobile no is +91-9923090436 and \n",
    "my email id is shyamamiblkar3@gmail.com and my secon contact no is 1234567890 8080425352 python123@gmail.com @shyam.com\"\"\"\n",
    "\n",
    "my_email = re.findall('[a-z]{2,15}[0-9]{1,5}[@]{1}[a-z.]{2,10}', my_text)\n",
    "print(my_email)"
   ]
  },
  {
   "cell_type": "code",
   "execution_count": 49,
   "metadata": {},
   "outputs": [
    {
     "data": {
      "text/plain": [
       "['shyamambilkar2@gmail.com',\n",
       " 'shyam.ambilkar2@gmail.com',\n",
       " 'shyam_ambilkar2@gmail.com',\n",
       " 'shyamambilkar1234@rediffmail.com',\n",
       " 'shyamambilkar5@gmail.co.in',\n",
       " 'shyamambilkar3@jspm.edu.in',\n",
       " '._shyamambilakar2@gmail.org']"
      ]
     },
     "execution_count": 49,
     "metadata": {},
     "output_type": "execute_result"
    }
   ],
   "source": [
    "my_text = \"\"\"\n",
    "1. shyamambilkar2@gmail.com\n",
    "2. shyam.ambilkar2@gmail.com\n",
    "3. shyam_ambilkar2@gmail.com\n",
    "4. shyamambilkar1234@rediffmail.com\n",
    "5. shyamambilkar5@gmail.co.in\n",
    "6. shyamambilkar3@jspm.edu.in\n",
    "7. shyamambilkar@gmail.com\n",
    "8. ._shyamambilakar2@gmail.org\"\"\"\n",
    "\n",
    "my_email = re.findall('[a-zA-Z_.]{2,20}[0-9]{1,10}[@]{1}[a-z.]{2,20}',my_text)\n",
    "my_email"
   ]
  },
  {
   "cell_type": "code",
   "execution_count": 69,
   "metadata": {},
   "outputs": [],
   "source": [
    "my_email = re.findall('[a-zA-Z0-9]{1,20}[._]{0,2}[a-zA-Z0-9]{1,20}[@]{1}[a-z.]{3,20}',my_text)"
   ]
  },
  {
   "cell_type": "code",
   "execution_count": 70,
   "metadata": {},
   "outputs": [
    {
     "data": {
      "text/plain": [
       "['shyamambilkar2@gmail.com',\n",
       " 'shyam.ambilkar2@gmail.com',\n",
       " 'shyam_ambilkar2@gmail.com',\n",
       " 'shyamambilkar1234@rediffmail.com',\n",
       " 'shyamambilkar5@gmail.co.in',\n",
       " 'shyamambilkar3@jspm.edu.in',\n",
       " 'shyamambilkar@gmail.com',\n",
       " 'shyamambilakar2@gmail.org']"
      ]
     },
     "execution_count": 70,
     "metadata": {},
     "output_type": "execute_result"
    }
   ],
   "source": [
    "my_email"
   ]
  },
  {
   "cell_type": "code",
   "execution_count": null,
   "metadata": {},
   "outputs": [],
   "source": []
  }
 ],
 "metadata": {
  "kernelspec": {
   "display_name": "Python 3",
   "language": "python",
   "name": "python3"
  },
  "language_info": {
   "codemirror_mode": {
    "name": "ipython",
    "version": 3
   },
   "file_extension": ".py",
   "mimetype": "text/x-python",
   "name": "python",
   "nbconvert_exporter": "python",
   "pygments_lexer": "ipython3",
   "version": "3.8.3"
  }
 },
 "nbformat": 4,
 "nbformat_minor": 4
}
