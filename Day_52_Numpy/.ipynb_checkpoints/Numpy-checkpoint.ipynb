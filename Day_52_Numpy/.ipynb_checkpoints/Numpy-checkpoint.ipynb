{
 "cells": [
  {
   "cell_type": "code",
   "execution_count": 1,
   "id": "1eb98cdb",
   "metadata": {},
   "outputs": [],
   "source": [
    "import numpy as np"
   ]
  },
  {
   "cell_type": "code",
   "execution_count": 2,
   "id": "f104f5a1",
   "metadata": {},
   "outputs": [
    {
     "name": "stdout",
     "output_type": "stream",
     "text": [
      "(array([3], dtype=int64),)\n"
     ]
    }
   ],
   "source": [
    "my_array = np.array([10,20,42,15,48,75])\n",
    "\n",
    "x = np.where(my_array == 15)\n",
    "print(x)"
   ]
  },
  {
   "cell_type": "code",
   "execution_count": 3,
   "id": "52a705ae",
   "metadata": {},
   "outputs": [
    {
     "name": "stdout",
     "output_type": "stream",
     "text": [
      "(array([0, 1, 2, 4], dtype=int64),)\n"
     ]
    }
   ],
   "source": [
    "my_array = np.array([10,20,42,15,48,75])\n",
    "\n",
    "x = np.where(my_array%2 == 0)\n",
    "print(x)"
   ]
  },
  {
   "cell_type": "code",
   "execution_count": 4,
   "id": "3c5f5a96",
   "metadata": {},
   "outputs": [
    {
     "name": "stdout",
     "output_type": "stream",
     "text": [
      "(array([3, 5], dtype=int64),)\n"
     ]
    }
   ],
   "source": [
    "my_array = np.array([10,20,42,15,48,75])\n",
    "\n",
    "x = np.where(my_array%2 == 1)\n",
    "print(x)"
   ]
  },
  {
   "cell_type": "markdown",
   "id": "66304a6c",
   "metadata": {},
   "source": [
    "### Search Sorted array in Numpy"
   ]
  },
  {
   "cell_type": "markdown",
   "id": "fa85f2a3",
   "metadata": {},
   "source": [
    "![](https://www.geeksforgeeks.org/wp-content/uploads/Binary-Search.png)"
   ]
  },
  {
   "cell_type": "code",
   "execution_count": 19,
   "id": "f71e4d6e",
   "metadata": {},
   "outputs": [
    {
     "name": "stdout",
     "output_type": "stream",
     "text": [
      "7\n"
     ]
    }
   ],
   "source": [
    "my_array = np.array([10,15,20,23,26,42,48,63,75,98])\n",
    "\n",
    "x = np.searchsorted(my_array, 63)\n",
    "print(x)"
   ]
  },
  {
   "cell_type": "code",
   "execution_count": 20,
   "id": "f62a5038",
   "metadata": {},
   "outputs": [],
   "source": [
    "# mid = l + (r - l) // 2"
   ]
  },
  {
   "cell_type": "raw",
   "id": "34f3c004",
   "metadata": {},
   "source": [
    "10,15,20,23,26,42,48,63,75,98\n",
    "\n",
    "ele = 63\n",
    "\n",
    "L = 0 = 10\n",
    "M = 4 = 26\n",
    "H = 9 = 98\n",
    "\n",
    "63 > 26\n",
    "ele > M:\n",
    "    True\n",
    "    L = 5 = 42\n",
    "    M = 7 = 63\n",
    "    H = 9 = 98\n",
    "    \n",
    "63 > 63\n",
    "ele > M:\n",
    "    L = 7 = 63\n",
    "    M = 7 = 63\n",
    "    H = 7 = 63\n",
    "    \n",
    "\n",
    "    "
   ]
  },
  {
   "cell_type": "markdown",
   "id": "3e7a9866",
   "metadata": {},
   "source": [
    "### Sort Array"
   ]
  },
  {
   "cell_type": "code",
   "execution_count": 21,
   "id": "8ea6e10e",
   "metadata": {},
   "outputs": [],
   "source": [
    "my_array = np.array([12,46,52,78,62,75,32,52,17])\n",
    "\n",
    "new_array = np.sort(my_array)"
   ]
  },
  {
   "cell_type": "code",
   "execution_count": 22,
   "id": "8eef71dd",
   "metadata": {},
   "outputs": [
    {
     "data": {
      "text/plain": [
       "array([12, 17, 32, 46, 52, 52, 62, 75, 78])"
      ]
     },
     "execution_count": 22,
     "metadata": {},
     "output_type": "execute_result"
    }
   ],
   "source": [
    "new_array"
   ]
  },
  {
   "cell_type": "code",
   "execution_count": 26,
   "id": "a1d03241",
   "metadata": {},
   "outputs": [
    {
     "name": "stdout",
     "output_type": "stream",
     "text": [
      "['APPLE' 'CHERRY' 'apple' 'banana' 'cherry' 'papya' 'pinapple'\n",
      " 'watermelon']\n"
     ]
    }
   ],
   "source": [
    "my_array = np.array(['banana','pinapple','apple','cherry','watermelon','papya','APPLE', 'CHERRY'])\n",
    "\n",
    "new_array = np.sort(my_array)\n",
    "print(new_array)"
   ]
  },
  {
   "cell_type": "code",
   "execution_count": 24,
   "id": "3d17e1c6",
   "metadata": {},
   "outputs": [
    {
     "name": "stdout",
     "output_type": "stream",
     "text": [
      "[False False False  True  True]\n"
     ]
    }
   ],
   "source": [
    "my_array = np.array([True, False, False, True, False])\n",
    "\n",
    "new_array = np.sort(my_array)\n",
    "print(new_array)"
   ]
  },
  {
   "cell_type": "markdown",
   "id": "4b8a58f0",
   "metadata": {},
   "source": [
    "### Even odd "
   ]
  },
  {
   "cell_type": "code",
   "execution_count": 28,
   "id": "788a9acb",
   "metadata": {},
   "outputs": [
    {
     "name": "stdout",
     "output_type": "stream",
     "text": [
      "Even No\n"
     ]
    }
   ],
   "source": [
    "my_array = np.array([12,46,52,78,62,75,32,52,17])\n",
    "\n",
    "if my_array[1]%2 == 0:\n",
    "    print(\"Even No\")\n",
    "else:\n",
    "    print(\"Odd No\")"
   ]
  },
  {
   "cell_type": "code",
   "execution_count": 29,
   "id": "84184f96",
   "metadata": {},
   "outputs": [
    {
     "data": {
      "text/plain": [
       "(array([0, 1, 2, 3, 4, 6, 7], dtype=int64),)"
      ]
     },
     "execution_count": 29,
     "metadata": {},
     "output_type": "execute_result"
    }
   ],
   "source": [
    "my_array = np.array([12,46,52,78,62,75,32,52,17])\n",
    "\n",
    "new_array = np.where(my_array%2 == 0)\n",
    "new_array"
   ]
  },
  {
   "cell_type": "code",
   "execution_count": 33,
   "id": "f8796c80",
   "metadata": {},
   "outputs": [
    {
     "name": "stdout",
     "output_type": "stream",
     "text": [
      "[ True  True  True  True  True False  True  True False]\n",
      "[12 46 52 78 62 32 52]\n"
     ]
    }
   ],
   "source": [
    "my_array = np.array([12,46,96,78,62,75,32,52,17])\n",
    "\n",
    "new_array = my_array % 2 == 0\n",
    "output_array = my_array[new_array]\n",
    "\n",
    "print(new_array)\n",
    "print(output_array)"
   ]
  },
  {
   "cell_type": "code",
   "execution_count": 34,
   "id": "a64c2be8",
   "metadata": {},
   "outputs": [],
   "source": [
    "# Write a Program to return only largest value than 52"
   ]
  },
  {
   "cell_type": "code",
   "execution_count": 41,
   "id": "e97238a4",
   "metadata": {},
   "outputs": [
    {
     "name": "stdout",
     "output_type": "stream",
     "text": [
      "[12 17 32 46 52 62 75 78 96]\n",
      "[False False False False False  True  True  True  True]\n",
      "[62 75 78 96]\n"
     ]
    }
   ],
   "source": [
    "my_array = np.array([12,46,96,78,62,75,32,52,17])\n",
    "\n",
    "sorted_array = np.sort(my_array)\n",
    "print(sorted_array)\n",
    "\n",
    "new_array = sorted_array > 52\n",
    "output_array = sorted_array[new_array]\n",
    "\n",
    "print(new_array)\n",
    "print(output_array)"
   ]
  },
  {
   "cell_type": "code",
   "execution_count": 42,
   "id": "1fd90743",
   "metadata": {},
   "outputs": [],
   "source": [
    "import random"
   ]
  },
  {
   "cell_type": "code",
   "execution_count": 44,
   "id": "8fae6ba7",
   "metadata": {},
   "outputs": [],
   "source": [
    "# help(random)"
   ]
  },
  {
   "cell_type": "code",
   "execution_count": 50,
   "id": "c0515b7d",
   "metadata": {},
   "outputs": [
    {
     "name": "stdout",
     "output_type": "stream",
     "text": [
      "69\n"
     ]
    }
   ],
   "source": [
    "x = random.randint(0,100)\n",
    "print(x)"
   ]
  },
  {
   "cell_type": "code",
   "execution_count": 48,
   "id": "40925aac",
   "metadata": {},
   "outputs": [],
   "source": [
    "from numpy import random"
   ]
  },
  {
   "cell_type": "code",
   "execution_count": 53,
   "id": "38021026",
   "metadata": {},
   "outputs": [
    {
     "name": "stdout",
     "output_type": "stream",
     "text": [
      "[0.31743278 0.81644155 0.64811609 0.36600979 0.2297195  0.55503524\n",
      " 0.4897612  0.22505677 0.27197916 0.92378739]\n"
     ]
    }
   ],
   "source": [
    "x = random.rand(10)\n",
    "print(x)"
   ]
  },
  {
   "cell_type": "code",
   "execution_count": null,
   "id": "5614f880",
   "metadata": {},
   "outputs": [],
   "source": []
  }
 ],
 "metadata": {
  "kernelspec": {
   "display_name": "Python 3",
   "language": "python",
   "name": "python3"
  },
  "language_info": {
   "codemirror_mode": {
    "name": "ipython",
    "version": 3
   },
   "file_extension": ".py",
   "mimetype": "text/x-python",
   "name": "python",
   "nbconvert_exporter": "python",
   "pygments_lexer": "ipython3",
   "version": "3.8.8"
  }
 },
 "nbformat": 4,
 "nbformat_minor": 5
}
