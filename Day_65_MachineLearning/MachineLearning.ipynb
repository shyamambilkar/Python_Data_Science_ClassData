{
 "cells": [
  {
   "cell_type": "markdown",
   "id": "c958ff57",
   "metadata": {},
   "source": [
    "# 1. Regression"
   ]
  },
  {
   "cell_type": "markdown",
   "id": "cc81b315",
   "metadata": {},
   "source": [
    "1. Regression analysis is form of predictive modeling technique which is,\n",
    "findout the relationship between independent and Depeendent Variable.\n",
    "2. There are diffrent types of Regression:\n",
    "        1. Linear Regression\n",
    "        2. Logistic Regression\n",
    "        3. Polynomial Regression\n",
    "        4. Lasso Regression\n",
    "        5. Ridge Regression"
   ]
  },
  {
   "cell_type": "markdown",
   "id": "e463efbd",
   "metadata": {},
   "source": [
    "## 1. Linear Regression"
   ]
  },
  {
   "cell_type": "markdown",
   "id": "9b1ef1f2",
   "metadata": {},
   "source": [
    "1. Linear Regression is supervised Machine Learning Algorithm\n",
    "2. Which is predict output on contineous and constant slope data\n",
    "3. It is used to predict value within contineous range rather than the classify into categorys\n",
    "4. Exmples:\n",
    "    1. Evaluate Trends and Sales Estimate\n",
    "    2. Anlyzing the impact price changes\n",
    "    3. Assessing Risk\n",
    "5. There are two different types of Linear Regression:\n",
    "    1. Simple Linear Regression\n",
    "    2. Multiple Linear Regression"
   ]
  },
  {
   "cell_type": "markdown",
   "id": "2501ecb3",
   "metadata": {},
   "source": [
    "1. Simple Linear Regression:\n",
    "    1. Simple Linear Regression is useful finding relationship between two variables:\n",
    "        1. (independent variable [x])\n",
    "        2. (Dependent Variable [y])\n",
    "    2. Finding the relationship between two quantitative variable:\n",
    "        1. How Strong Relatioship betweeen two variables\n",
    "        2. The value of dependent variable of certain independent variable\n",
    "**2. Note : If you have more than one independent variable, use multiple linear Regression**"
   ]
  },
  {
   "cell_type": "markdown",
   "id": "4546793c",
   "metadata": {},
   "source": [
    "### Perform Simple Linear Regression"
   ]
  },
  {
   "cell_type": "markdown",
   "id": "ed75af34",
   "metadata": {},
   "source": [
    "**1. Formula for Simple Linear Regression:\n",
    "    1. y = b0 + b1x1 + epsilon [y = mx + c]**"
   ]
  },
  {
   "cell_type": "markdown",
   "id": "1b290eba",
   "metadata": {},
   "source": [
    "#### Where:\n",
    "    1. y = Predicted value of Dependent variable [y - output variable] for the given independent variable [x]\n",
    "    2. b0 = intercept predicted value of y when x is 0\n",
    "    3. b1 = Regression Coefficient - how much y except changes as x increase\n",
    "    4. x = Independent Variable\n",
    "    5. e = Error"
   ]
  },
  {
   "cell_type": "code",
   "execution_count": null,
   "id": "e396bbae",
   "metadata": {},
   "outputs": [],
   "source": []
  }
 ],
 "metadata": {
  "kernelspec": {
   "display_name": "Python 3",
   "language": "python",
   "name": "python3"
  },
  "language_info": {
   "codemirror_mode": {
    "name": "ipython",
    "version": 3
   },
   "file_extension": ".py",
   "mimetype": "text/x-python",
   "name": "python",
   "nbconvert_exporter": "python",
   "pygments_lexer": "ipython3",
   "version": "3.8.8"
  }
 },
 "nbformat": 4,
 "nbformat_minor": 5
}
