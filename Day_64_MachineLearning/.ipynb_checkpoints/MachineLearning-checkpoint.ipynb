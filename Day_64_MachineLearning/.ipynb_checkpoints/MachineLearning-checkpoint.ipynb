{
 "cells": [
  {
   "cell_type": "markdown",
   "id": "8cdd5ccf",
   "metadata": {},
   "source": [
    "# Machine Learning:\n",
    "    1. Machine learning is a branch of computer science and Artificial Intelligence\n",
    "    2. Machine learning is the study of Making machine more like humans:\n",
    "        1. Behaviour and decision their own program by with explicitly any program.\n",
    "    3. There are different types of Machine Learning:\n",
    "        A. Label Data:\n",
    "            1. Supervised Learning Algorithm:\n",
    "                1. Regression:\n",
    "                    1. Linear Regression\n",
    "                    2. Lasso Regression\n",
    "                    3. Ridge Regression (L1 and L2)\n",
    "                2. Classification:\n",
    "                    1. Logistic Regression\n",
    "                    2. Naive Bayes [NB]\n",
    "                    3. Support Vector Machine [SVM]\n",
    "                    4. K - Nearest Neighbor [KNN]\n",
    "                    5. Decision Tree [DT]\n",
    "                    6. Random Forest [RF]\n",
    "        B. Unlabelled Data:\n",
    "            1. Unsupervised Learning:\n",
    "                1. Clustering:\n",
    "                    1. K- means\n",
    "                    2. K medians\n",
    "                2. Association Rules (Data Mining):\n",
    "                    1. Aprori Algorithm\n",
    "                    2. FP Growth Algorithm\n",
    "                    3. Market Basket Analysis\n",
    "                3. Dimensionality Reduction:\n",
    "                    1. Principle componenet analysis [PCA]\n",
    "        C. Reinforcement Learning:\n",
    "            1. Q - Model"
   ]
  },
  {
   "cell_type": "markdown",
   "id": "317b0c6e",
   "metadata": {},
   "source": [
    "# Ensemble Techniques:\n",
    "    1. Random Forest\n",
    "    2. XG Boost\n",
    "    3. Ada Boost"
   ]
  },
  {
   "cell_type": "markdown",
   "id": "b334acfb",
   "metadata": {},
   "source": [
    "## There are seven Different steps to implement Machine Learning Algorithm"
   ]
  },
  {
   "cell_type": "markdown",
   "id": "95e673a1",
   "metadata": {},
   "source": [
    "1. Data Collection / Gathering Data [for Practice Purpose go with Kaggle]\n",
    "2. Data PreProcessing\n",
    "3. EDA [Exploratory Data Analysis]\n",
    "4. Feature Engineering / Feature Extraction\n",
    "5. Model Selection:\n",
    "    1. Training [80%]\n",
    "    2. Testing [20%]\n",
    "6. Evaluate\n",
    "7. HyperParameter Tuning\n",
    "6. Prediction"
   ]
  },
  {
   "cell_type": "markdown",
   "id": "4b605718",
   "metadata": {},
   "source": [
    "### Machine learning Process:\n",
    "    1. Training\n",
    "    2. Validation\n",
    "    3. Testing"
   ]
  },
  {
   "cell_type": "markdown",
   "id": "c9b16a57",
   "metadata": {},
   "source": [
    "# Machine Learning:\n",
    "    1. Machine Learning is a subset of Artificial Intelligence\n",
    "    2. It is mainly focus on the designing a system, \n",
    "    whose allowing them to learn and make Prediction based on the experience which is case of machine\n",
    "    3. Now Machine Learning model Perform:\n",
    "        1. Training [80%]\n",
    "        2. Testing [20%]"
   ]
  },
  {
   "cell_type": "markdown",
   "id": "ef1d1e53",
   "metadata": {},
   "source": [
    "#### There are different Types of Machine Learning:\n",
    "    1. Supervised Machine Learning algorithm\n",
    "    2. UnSupervised Machine Learning algorithm\n",
    "    3. Reinforcement Learning Algorithm"
   ]
  },
  {
   "cell_type": "markdown",
   "id": "febbfd86",
   "metadata": {},
   "source": [
    "### 1. Supervised Machine Learning Algorithm:\n",
    "    1. Supervised Machine Learning Algorithm is input variable [x] and output variable [y] \n",
    "    2. Using algorithm to learn mapping function from input to ouput\n",
    "    3. Function y = f(x)\n",
    "    4. The main goal is os approximate mapping function to well that whenever new data [x]  good for prediction variable\n",
    "    5. There are different types of supervised Learning Algorithm:\n",
    "        1. Regression\n",
    "        2. Classification"
   ]
  },
  {
   "cell_type": "markdown",
   "id": "736536ce",
   "metadata": {},
   "source": [
    "![](data:image/png;base64,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)"
   ]
  },
  {
   "cell_type": "markdown",
   "id": "4f3b6cdf",
   "metadata": {},
   "source": [
    "## 1. Regression"
   ]
  },
  {
   "cell_type": "markdown",
   "id": "14fd6488",
   "metadata": {},
   "source": [
    "1. It is Supervised Learning algorithm that learns from labelled dataset and then able to predict contineous values\n",
    "2. Example:\n",
    "    1. Money or Height\n",
    "    2. Weight\n",
    "3. input variable [x - Independent variable]\n",
    "4. output variable [y - Dependent Variable or Target Variable]\n",
    "5. There are different Types of Regression:\n",
    "    1. Linear Regression\n",
    "    2. Lasso Regression\n",
    "    3. Ridge Regression"
   ]
  },
  {
   "cell_type": "markdown",
   "id": "ce8bd38d",
   "metadata": {},
   "source": [
    "## 2. Classification"
   ]
  },
  {
   "cell_type": "markdown",
   "id": "79a9c067",
   "metadata": {},
   "source": [
    "1. It is supervied machine learning algorithm\n",
    "2. It is used idntitfy the category of new observation on basis of training\n",
    "3. It is both working on dataset Structured or Unstructured\n",
    "4. classification can be three types:\n",
    "    1. Binary Classification\n",
    "    2. Multiclass Classification\n",
    "    3. Multilablled Classification\n",
    "5. There are different Types of Classification Algorithm:\n",
    "    1. Logistic Regression\n",
    "    2. Naive Bayes\n",
    "    3. Support Vector Machine\n",
    "    4. KNN\n",
    "    5. Decision Tree"
   ]
  },
  {
   "cell_type": "markdown",
   "id": "388d9169",
   "metadata": {},
   "source": [
    "## 2. Unsupervised Machine Learning Algorithm"
   ]
  },
  {
   "cell_type": "markdown",
   "id": "25599daf",
   "metadata": {},
   "source": [
    "1. Unsupervised Learning algorithm only have input variable [x - Independent Variable]\n",
    "2. No target variable [Dependent Variable]\n",
    "3. There are diffrent types of Unsupervised:\n",
    "    1. Clustring:\n",
    "        1. K- means\n",
    "        2. K- Medians\n",
    "    2. Dimansilaty Reduction:\n",
    "        1. PCA\n",
    "    3. Association Analysis:\n",
    "        1. Aprori\n",
    "        2. FP Growth\n",
    "        3. Market Basket Analysis"
   ]
  },
  {
   "cell_type": "markdown",
   "id": "27735ca7",
   "metadata": {},
   "source": [
    "![](https://miro.medium.com/max/1400/1*iNIixlUFwhJvLQjlilI7eQ.jpeg)"
   ]
  },
  {
   "cell_type": "markdown",
   "id": "b68d3f84",
   "metadata": {},
   "source": [
    "# 3. Reinforcement Learning"
   ]
  },
  {
   "cell_type": "markdown",
   "id": "9c1eb42f",
   "metadata": {},
   "source": [
    "1. Reinforcement algorithm machine learn automatically determines ideal beahvaiour,with an specific context its performance\n",
    "2. There are different types of Reinforcemnt Learning:\n",
    "    1. Model Based\n",
    "    2. Model Free"
   ]
  },
  {
   "cell_type": "markdown",
   "id": "f083eb85",
   "metadata": {},
   "source": [
    "![](https://techvidvan.com/tutorials/wp-content/uploads/sites/2/2020/08/Reinforcement-Learning-in-ML-TV.jpg)"
   ]
  },
  {
   "cell_type": "code",
   "execution_count": null,
   "id": "c7268e2d",
   "metadata": {},
   "outputs": [],
   "source": []
  }
 ],
 "metadata": {
  "kernelspec": {
   "display_name": "Python 3",
   "language": "python",
   "name": "python3"
  },
  "language_info": {
   "codemirror_mode": {
    "name": "ipython",
    "version": 3
   },
   "file_extension": ".py",
   "mimetype": "text/x-python",
   "name": "python",
   "nbconvert_exporter": "python",
   "pygments_lexer": "ipython3",
   "version": "3.8.8"
  }
 },
 "nbformat": 4,
 "nbformat_minor": 5
}
