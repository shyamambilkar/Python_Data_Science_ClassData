{
 "cells": [
  {
   "cell_type": "markdown",
   "id": "8b26c302",
   "metadata": {},
   "source": [
    "# Version Control System"
   ]
  },
  {
   "cell_type": "code",
   "execution_count": null,
   "id": "69d2732b",
   "metadata": {},
   "outputs": [],
   "source": [
    "1. Enhance the Project Developement speed by provided efficient collaboration.\n",
    "2. productivity, product delivry, skill for employees through communication and assistance\n",
    "3. "
   ]
  }
 ],
 "metadata": {
  "kernelspec": {
   "display_name": "Python 3",
   "language": "python",
   "name": "python3"
  },
  "language_info": {
   "codemirror_mode": {
    "name": "ipython",
    "version": 3
   },
   "file_extension": ".py",
   "mimetype": "text/x-python",
   "name": "python",
   "nbconvert_exporter": "python",
   "pygments_lexer": "ipython3",
   "version": "3.8.8"
  }
 },
 "nbformat": 4,
 "nbformat_minor": 5
}
