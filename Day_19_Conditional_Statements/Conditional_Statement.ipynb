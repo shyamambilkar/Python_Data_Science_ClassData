{
 "cells": [
  {
   "cell_type": "markdown",
   "metadata": {},
   "source": [
    "# Python Conditions and If Statements"
   ]
  },
  {
   "cell_type": "markdown",
   "metadata": {},
   "source": [
    "Python supports logical conditions from mathematics:\n",
    "    1. Equals [==] Example[a == b]\n",
    "    2. Not Equals [!=] Example[a != b]\n",
    "    3. Less Than [ < ] Example[a < b]\n",
    "    4. Greater Than [ > ] Example[a > b]\n",
    "    5. Less Than or Equal to [ <= ] Example[a <= b]\n",
    "    6. Greater than or Equal to [ >= ] Example[a >= b]"
   ]
  },
  {
   "cell_type": "markdown",
   "metadata": {},
   "source": [
    "### 1. if\n",
    "### 2. if else\n",
    "### 3. if elif else"
   ]
  },
  {
   "cell_type": "markdown",
   "metadata": {},
   "source": [
    "# 1. if "
   ]
  },
  {
   "cell_type": "raw",
   "metadata": {},
   "source": [
    "synatax:\n",
    "    if condition:\n",
    "        statement (True Statement)"
   ]
  },
  {
   "cell_type": "code",
   "execution_count": 1,
   "metadata": {},
   "outputs": [
    {
     "name": "stdout",
     "output_type": "stream",
     "text": [
      "Num_2 is greter than Num_1\n"
     ]
    }
   ],
   "source": [
    "num_1 = 33\n",
    "num_2 = 200\n",
    "\n",
    "if num_2 > num_1:\n",
    "    print(\"Num_2 is greter than Num_1\")"
   ]
  },
  {
   "cell_type": "code",
   "execution_count": 2,
   "metadata": {},
   "outputs": [
    {
     "name": "stdout",
     "output_type": "stream",
     "text": [
      "200 is greter than 33\n"
     ]
    }
   ],
   "source": [
    "num_1 = 33\n",
    "num_2 = 200\n",
    "\n",
    "if num_2 > num_1:\n",
    "    print(num_2,\"is greter than\", num_1)"
   ]
  },
  {
   "cell_type": "code",
   "execution_count": 3,
   "metadata": {},
   "outputs": [
    {
     "name": "stdout",
     "output_type": "stream",
     "text": [
      " 200 is greter than 33\n"
     ]
    }
   ],
   "source": [
    "num_1 = 33\n",
    "num_2 = 200\n",
    "\n",
    "if num_2 > num_1:\n",
    "    print(\" {} is greter than {}\".format(num_2, num_1))"
   ]
  },
  {
   "cell_type": "code",
   "execution_count": 5,
   "metadata": {},
   "outputs": [
    {
     "ename": "IndentationError",
     "evalue": "expected an indented block (<ipython-input-5-7ed8e5f24895>, line 5)",
     "output_type": "error",
     "traceback": [
      "\u001b[1;36m  File \u001b[1;32m\"<ipython-input-5-7ed8e5f24895>\"\u001b[1;36m, line \u001b[1;32m5\u001b[0m\n\u001b[1;33m    print(\"Num_2 is less than Num_1\")\u001b[0m\n\u001b[1;37m    ^\u001b[0m\n\u001b[1;31mIndentationError\u001b[0m\u001b[1;31m:\u001b[0m expected an indented block\n"
     ]
    }
   ],
   "source": [
    "num_1 = 33\n",
    "num_2 = 200\n",
    "\n",
    "if num_2 < num_1:\n",
    "print(\"Num_2 is less than Num_1\")"
   ]
  },
  {
   "cell_type": "code",
   "execution_count": 6,
   "metadata": {},
   "outputs": [],
   "source": [
    "num_1 = 33\n",
    "num_2 = 200\n",
    "\n",
    "if num_2 < num_1:\n",
    "    print(\"Num_2 is less than Num_1\")"
   ]
  },
  {
   "cell_type": "markdown",
   "metadata": {},
   "source": [
    "# 2. if else"
   ]
  },
  {
   "cell_type": "raw",
   "metadata": {},
   "source": [
    "syntax:\n",
    "    if conditions:\n",
    "        statement (True Statement)\n",
    "    else:\n",
    "        statement (False Statement)"
   ]
  },
  {
   "cell_type": "code",
   "execution_count": 8,
   "metadata": {},
   "outputs": [
    {
     "name": "stdout",
     "output_type": "stream",
     "text": [
      "200 is greater than 33\n"
     ]
    }
   ],
   "source": [
    "num_1 = 200\n",
    "num_2 = 33\n",
    "\n",
    "if num_1 > num_2:\n",
    "    print(\"{} is greater than {}\".format(num_1, num_2))\n",
    "else:\n",
    "    print(\"{} is less than {}\".format(num_1, num_2))"
   ]
  },
  {
   "cell_type": "code",
   "execution_count": 10,
   "metadata": {},
   "outputs": [
    {
     "name": "stdout",
     "output_type": "stream",
     "text": [
      "33 is less than 200\n"
     ]
    }
   ],
   "source": [
    "num_1 = 200\n",
    "num_2 = 33\n",
    "\n",
    "if num_1 < num_2:\n",
    "    print(\"{} is greater than {}\".format(num_1, num_2))\n",
    "else:\n",
    "    print(\"{} is less than {}\".format(num_2, num_1))"
   ]
  },
  {
   "cell_type": "code",
   "execution_count": 12,
   "metadata": {},
   "outputs": [
    {
     "name": "stdout",
     "output_type": "stream",
     "text": [
      "Number one Greater than number two\n"
     ]
    }
   ],
   "source": [
    "num_1 = 200\n",
    "num_2 = 33\n",
    "\n",
    "if num_1 > num_2:\n",
    "    print(\"Number one Greater than number two\")\n",
    "else:\n",
    "    print(\"Number one is less than number two\")"
   ]
  },
  {
   "cell_type": "markdown",
   "metadata": {},
   "source": [
    "# 3. Nested if"
   ]
  },
  {
   "cell_type": "code",
   "execution_count": 17,
   "metadata": {},
   "outputs": [
    {
     "name": "stdout",
     "output_type": "stream",
     "text": [
      "Number two is less than Number one\n"
     ]
    }
   ],
   "source": [
    "num_1 = 200\n",
    "num_2 = 28\n",
    "\n",
    "if num_1 <= num_2:\n",
    "    print(\"Number one is greater than Number two\")\n",
    "elif num_1 == num_2:\n",
    "    print(\"Number one is eqals to Number two\")\n",
    "else:\n",
    "    print(\"Number two is less than Number one\")"
   ]
  },
  {
   "cell_type": "code",
   "execution_count": 19,
   "metadata": {},
   "outputs": [
    {
     "name": "stdout",
     "output_type": "stream",
     "text": [
      "Number one is not equal to number Two\n"
     ]
    }
   ],
   "source": [
    "num_1 = 200\n",
    "num_2 = 28\n",
    "\n",
    "if num_1 <= num_2:\n",
    "    print(\"Number one is greater than Number two\")\n",
    "elif num_1 == num_2:\n",
    "    print(\"Number one is eqals to Number two\")\n",
    "elif num_1 != num_2:\n",
    "    print(\"Number one is not equal to number Two\")\n",
    "else:\n",
    "    print(\"Number two is less than Number one\")"
   ]
  },
  {
   "cell_type": "markdown",
   "metadata": {},
   "source": [
    "## Keyword:\n",
    "    1. and \n",
    "    2. or"
   ]
  },
  {
   "cell_type": "raw",
   "metadata": {},
   "source": [
    "Syntax:\n",
    "    if condition and condition:\n",
    "        statement\n",
    "    else:\n",
    "        statement"
   ]
  },
  {
   "cell_type": "code",
   "execution_count": 22,
   "metadata": {},
   "outputs": [
    {
     "name": "stdout",
     "output_type": "stream",
     "text": [
      "Both conditions are True\n"
     ]
    }
   ],
   "source": [
    "num_1 = 200\n",
    "num_2 = 33\n",
    "num_3 = 400\n",
    "\n",
    "if num_1 > num_2 and  num_3 > num_1:\n",
    "    print(\"Both conditions are True\")\n",
    "else:\n",
    "    print(\"Both condition are not True\")"
   ]
  },
  {
   "cell_type": "code",
   "execution_count": 23,
   "metadata": {},
   "outputs": [
    {
     "name": "stdout",
     "output_type": "stream",
     "text": [
      "Any one conditions are True\n"
     ]
    }
   ],
   "source": [
    "num_1 = 200\n",
    "num_2 = 33\n",
    "num_3 = 400\n",
    "\n",
    "if num_1 > num_2 or  num_3 < num_1:\n",
    "    print(\"Any one conditions are True\")\n",
    "else:\n",
    "    print(\"Both condition are not True\")"
   ]
  },
  {
   "cell_type": "code",
   "execution_count": 24,
   "metadata": {},
   "outputs": [
    {
     "name": "stdout",
     "output_type": "stream",
     "text": [
      "one conditions are True\n"
     ]
    }
   ],
   "source": [
    "num_1 = 200\n",
    "num_2 = 33\n",
    "num_3 = 400\n",
    "\n",
    "if num_1 == num_2 and num_3 == num_1:\n",
    "    print(\"Both conditions are True\")\n",
    "elif num_1 > num_2 and num_3 < num_1:\n",
    "    print(\"Both conditions are True\")\n",
    "elif num_1 > num_2 or num_3 < num_1:\n",
    "    print(\"one conditions are True\")\n",
    "else:\n",
    "    print(\"something went Wrong!\")\n",
    "    "
   ]
  },
  {
   "cell_type": "code",
   "execution_count": 25,
   "metadata": {},
   "outputs": [],
   "source": [
    "# Write a program to findout given number is even or odd"
   ]
  },
  {
   "cell_type": "code",
   "execution_count": 27,
   "metadata": {},
   "outputs": [
    {
     "name": "stdout",
     "output_type": "stream",
     "text": [
      "Enter a Number: 13\n",
      "13 is a odd Number\n"
     ]
    }
   ],
   "source": [
    "num_1 = int(input(\"Enter a Number: \"))\n",
    "\n",
    "if num_1 % 2 == 0:\n",
    "    print(\"{} is a Even Number\".format(num_1))\n",
    "else:\n",
    "    print(\"{} is a odd Number\".format(num_1))"
   ]
  },
  {
   "cell_type": "code",
   "execution_count": 29,
   "metadata": {},
   "outputs": [
    {
     "name": "stdout",
     "output_type": "stream",
     "text": [
      "Enter a Number: 12.23\n"
     ]
    },
    {
     "ename": "TypeError",
     "evalue": "not all arguments converted during string formatting",
     "output_type": "error",
     "traceback": [
      "\u001b[1;31m---------------------------------------------------------------------------\u001b[0m",
      "\u001b[1;31mTypeError\u001b[0m                                 Traceback (most recent call last)",
      "\u001b[1;32m<ipython-input-29-bb322a45be99>\u001b[0m in \u001b[0;36m<module>\u001b[1;34m\u001b[0m\n\u001b[0;32m      1\u001b[0m \u001b[0mnum_1\u001b[0m \u001b[1;33m=\u001b[0m \u001b[1;33m(\u001b[0m\u001b[0minput\u001b[0m\u001b[1;33m(\u001b[0m\u001b[1;34m\"Enter a Number: \"\u001b[0m\u001b[1;33m)\u001b[0m\u001b[1;33m)\u001b[0m\u001b[1;33m\u001b[0m\u001b[1;33m\u001b[0m\u001b[0m\n\u001b[0;32m      2\u001b[0m \u001b[1;33m\u001b[0m\u001b[0m\n\u001b[1;32m----> 3\u001b[1;33m \u001b[1;32mif\u001b[0m \u001b[0mnum_1\u001b[0m \u001b[1;33m%\u001b[0m \u001b[1;36m2\u001b[0m \u001b[1;33m==\u001b[0m \u001b[1;36m0\u001b[0m\u001b[1;33m:\u001b[0m\u001b[1;33m\u001b[0m\u001b[1;33m\u001b[0m\u001b[0m\n\u001b[0m\u001b[0;32m      4\u001b[0m     \u001b[0mprint\u001b[0m\u001b[1;33m(\u001b[0m\u001b[1;34m\"{} is a Even Number\"\u001b[0m\u001b[1;33m.\u001b[0m\u001b[0mformat\u001b[0m\u001b[1;33m(\u001b[0m\u001b[0mnum_1\u001b[0m\u001b[1;33m)\u001b[0m\u001b[1;33m)\u001b[0m\u001b[1;33m\u001b[0m\u001b[1;33m\u001b[0m\u001b[0m\n\u001b[0;32m      5\u001b[0m \u001b[1;32melse\u001b[0m\u001b[1;33m:\u001b[0m\u001b[1;33m\u001b[0m\u001b[1;33m\u001b[0m\u001b[0m\n",
      "\u001b[1;31mTypeError\u001b[0m: not all arguments converted during string formatting"
     ]
    }
   ],
   "source": [
    "num_1 = (input(\"Enter a Number: \"))\n",
    "\n",
    "if num_1 % 2 == 0:\n",
    "    print(\"{} is a Even Number\".format(num_1))\n",
    "else:\n",
    "    print(\"{} is a odd Number\".format(num_1))"
   ]
  },
  {
   "cell_type": "code",
   "execution_count": 34,
   "metadata": {},
   "outputs": [
    {
     "name": "stdout",
     "output_type": "stream",
     "text": [
      "Enter a Number: 60\n",
      "60 is a Even Number\n"
     ]
    }
   ],
   "source": [
    "num_1 = int(input(\"Enter a Number: \"))\n",
    "\n",
    "if num_1 % 2 == 0:\n",
    "    print(\"{} is a Even Number\".format(num_1))\n",
    "else:\n",
    "    print(\"{} is a odd Number\".format(num_1))"
   ]
  },
  {
   "cell_type": "code",
   "execution_count": 35,
   "metadata": {},
   "outputs": [],
   "source": [
    "# Factorial Number "
   ]
  },
  {
   "cell_type": "code",
   "execution_count": 36,
   "metadata": {},
   "outputs": [],
   "source": [
    "# Factorial Number:\n",
    "#     5 = 5 * 4 * 3 * 2 * 1"
   ]
  },
  {
   "cell_type": "code",
   "execution_count": 38,
   "metadata": {},
   "outputs": [
    {
     "name": "stdout",
     "output_type": "stream",
     "text": [
      "Enter a Number: 5\n",
      "Factorial of  5 is 120\n"
     ]
    }
   ],
   "source": [
    "fact = 1\n",
    "num_1 = int(input(\"Enter a Number: \"))\n",
    "\n",
    "\n",
    "for i in range(1, num_1 + 1):\n",
    "    fact = fact * i  \n",
    "print(\"Factorial of \", num_1, \"is\",fact)\n"
   ]
  },
  {
   "cell_type": "code",
   "execution_count": null,
   "metadata": {},
   "outputs": [],
   "source": []
  }
 ],
 "metadata": {
  "kernelspec": {
   "display_name": "Python 3",
   "language": "python",
   "name": "python3"
  },
  "language_info": {
   "codemirror_mode": {
    "name": "ipython",
    "version": 3
   },
   "file_extension": ".py",
   "mimetype": "text/x-python",
   "name": "python",
   "nbconvert_exporter": "python",
   "pygments_lexer": "ipython3",
   "version": "3.8.3"
  }
 },
 "nbformat": 4,
 "nbformat_minor": 4
}
