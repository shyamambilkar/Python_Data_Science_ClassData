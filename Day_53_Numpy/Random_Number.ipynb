{
 "cells": [
  {
   "cell_type": "code",
   "execution_count": 2,
   "id": "c4454709",
   "metadata": {},
   "outputs": [],
   "source": [
    "from numpy import random"
   ]
  },
  {
   "cell_type": "code",
   "execution_count": 7,
   "id": "b1304c62",
   "metadata": {},
   "outputs": [
    {
     "name": "stdout",
     "output_type": "stream",
     "text": [
      "82\n"
     ]
    }
   ],
   "source": [
    "my_num = random.randint(100)\n",
    "print(my_num)"
   ]
  },
  {
   "cell_type": "code",
   "execution_count": 11,
   "id": "6a26d4d1",
   "metadata": {},
   "outputs": [
    {
     "name": "stdout",
     "output_type": "stream",
     "text": [
      "[0.65580409 0.18519758 0.22984999 0.1146595  0.04925501 0.22729251\n",
      " 0.38415704 0.73732616 0.92987073 0.04768559]\n"
     ]
    }
   ],
   "source": [
    "my_num = random.rand(10)\n",
    "print(my_num)"
   ]
  },
  {
   "cell_type": "code",
   "execution_count": 14,
   "id": "c86eff2b",
   "metadata": {},
   "outputs": [
    {
     "name": "stdout",
     "output_type": "stream",
     "text": [
      "52\n"
     ]
    }
   ],
   "source": [
    "my_num = random.randint(100, size=(5))\n",
    "print(my_num)"
   ]
  },
  {
   "cell_type": "code",
   "execution_count": 16,
   "id": "739a56f0",
   "metadata": {},
   "outputs": [
    {
     "name": "stdout",
     "output_type": "stream",
     "text": [
      "[0.97607678 0.37961343 0.05426007 0.35816395 0.30746898 0.17619582\n",
      " 0.57916339 0.59127457 0.57547411 0.85541916 0.82065055 0.55610518\n",
      " 0.280502   0.12780813 0.54634661 0.03387935 0.96025923 0.2160585\n",
      " 0.60521128 0.31682981 0.04382414 0.65907437 0.48270243 0.41076271\n",
      " 0.89801553 0.6766336  0.42778294 0.11616216 0.8586258  0.71058054\n",
      " 0.65616639 0.25061032 0.63237657 0.39411122 0.81991692 0.45951686\n",
      " 0.59440417 0.54457487 0.64597207 0.4412698  0.88700978 0.62318593\n",
      " 0.34732589 0.43068544 0.41814812 0.58659293 0.29592863 0.09149258\n",
      " 0.2777419  0.88561783 0.87959707 0.97599516 0.13652151 0.67580738\n",
      " 0.2766637  0.79442198 0.65574706 0.22081963 0.91592963 0.01214853\n",
      " 0.03008537 0.21926503 0.46930745 0.78533548 0.26671072 0.62432678\n",
      " 0.0969213  0.43065963 0.84262782 0.79236024 0.84875708 0.41945306\n",
      " 0.73542216 0.33647892 0.69783414 0.3348725  0.28114954 0.17899751\n",
      " 0.37767194 0.80511534 0.93079532 0.7367844  0.98835052 0.24317131\n",
      " 0.69267942 0.30596086 0.36400084 0.19650032 0.73799251 0.5655806\n",
      " 0.44359408 0.16582393 0.28309861 0.24777898 0.3911479  0.81533044\n",
      " 0.06680301 0.19186361 0.70693101 0.08304575]\n"
     ]
    }
   ],
   "source": [
    "my_num = random.rand(100)\n",
    "print(my_num)"
   ]
  },
  {
   "cell_type": "code",
   "execution_count": 18,
   "id": "c86024cf",
   "metadata": {},
   "outputs": [
    {
     "name": "stdout",
     "output_type": "stream",
     "text": [
      "[[[24 59]\n",
      "  [ 5 49]\n",
      "  [81 19]\n",
      "  [24 15]\n",
      "  [65 53]]\n",
      "\n",
      " [[65 15]\n",
      "  [86 69]\n",
      "  [99 77]\n",
      "  [23 17]\n",
      "  [61 29]]\n",
      "\n",
      " [[84 49]\n",
      "  [76 29]\n",
      "  [40 30]\n",
      "  [78 75]\n",
      "  [37 70]]]\n"
     ]
    }
   ],
   "source": [
    "my_num = random.randint(100, size=(3,5,2))\n",
    "print(my_num)"
   ]
  },
  {
   "cell_type": "code",
   "execution_count": 20,
   "id": "b7fd8743",
   "metadata": {},
   "outputs": [
    {
     "name": "stdout",
     "output_type": "stream",
     "text": [
      "[[3.78219255e-01 2.35474970e-01 6.32879789e-04 1.72096995e-02\n",
      "  8.83836765e-01]\n",
      " [5.10555316e-01 2.78189464e-01 7.88257334e-01 9.01560599e-01\n",
      "  3.53506344e-01]\n",
      " [3.41684382e-01 1.94878630e-01 2.89878954e-01 4.86095376e-01\n",
      "  8.36251377e-01]]\n"
     ]
    }
   ],
   "source": [
    "my_num = random.rand(3,5)\n",
    "print(my_num)"
   ]
  },
  {
   "cell_type": "code",
   "execution_count": 23,
   "id": "1efe5958",
   "metadata": {},
   "outputs": [
    {
     "name": "stdout",
     "output_type": "stream",
     "text": [
      "20\n"
     ]
    }
   ],
   "source": [
    "my_num = random.choice([10,20,30,40,50,60,70,80,90])\n",
    "print(my_num)"
   ]
  },
  {
   "cell_type": "code",
   "execution_count": 24,
   "id": "5cd64f17",
   "metadata": {},
   "outputs": [
    {
     "name": "stdout",
     "output_type": "stream",
     "text": [
      "[[20 20 40]\n",
      " [40 20 60]\n",
      " [50 50 50]]\n"
     ]
    }
   ],
   "source": [
    "my_num = random.choice([10,20,30,40,50,60,70,80,90], size=(3,3))\n",
    "print(my_num)"
   ]
  },
  {
   "cell_type": "markdown",
   "id": "bdadcce5",
   "metadata": {},
   "source": [
    "# Data Distribution"
   ]
  },
  {
   "cell_type": "code",
   "execution_count": 27,
   "id": "ffc9f0f4",
   "metadata": {},
   "outputs": [
    {
     "data": {
      "text/plain": [
       "array([50, 20, 10, 30, 50, 50, 50, 50, 50, 50, 50, 30, 30, 20, 50, 50, 30,\n",
       "       50, 50, 20, 50, 50, 20, 30, 50, 50, 50, 20, 50, 10, 20, 10, 30, 50,\n",
       "       50, 50, 50, 50, 50, 30, 50, 50, 50, 20, 20, 50, 10, 50, 50, 50, 10,\n",
       "       50, 50, 20, 50, 30, 10, 20, 30, 30, 20, 20, 50, 50, 50, 10, 50, 30,\n",
       "       30, 50, 30, 50, 50, 20, 20, 10, 20, 50, 20, 30, 50, 10, 30, 50, 10,\n",
       "       10, 10, 50, 50, 20, 30, 30, 10, 50, 50, 10, 50, 30, 20, 30])"
      ]
     },
     "execution_count": 27,
     "metadata": {},
     "output_type": "execute_result"
    }
   ],
   "source": [
    "my_num = random.choice([10,20,30,40,50], p=[0.1,0.2,0.3,0.0,0.4], size=(100))\n",
    "my_num"
   ]
  },
  {
   "cell_type": "code",
   "execution_count": 28,
   "id": "43d1297b",
   "metadata": {},
   "outputs": [
    {
     "data": {
      "text/plain": [
       "array([30, 20, 30, 20, 50, 20, 30, 50, 30, 30, 10, 30, 50, 30, 30, 50, 30,\n",
       "       50, 30, 30, 20, 50, 20, 30, 30, 20, 30, 30, 10, 50, 30, 20, 10, 30,\n",
       "       50, 50, 20, 50, 10, 30, 50, 50, 30, 30, 50, 30, 30, 50, 30, 50, 30,\n",
       "       30, 20, 30, 20, 10, 20, 50, 30, 10, 20, 50, 30, 50, 50, 30, 50, 50,\n",
       "       20, 30, 20, 20, 10, 30, 50, 50, 50, 30, 30, 50, 30, 20, 20, 20, 30,\n",
       "       10, 10, 30, 20, 20, 20, 50, 10, 50, 50, 20, 50, 30, 20, 50])"
      ]
     },
     "execution_count": 28,
     "metadata": {},
     "output_type": "execute_result"
    }
   ],
   "source": [
    "my_num = random.choice([10,20,30,40,50], p=[0.1,0.2,0.4,0.0,0.3], size=(100))\n",
    "my_num"
   ]
  },
  {
   "cell_type": "code",
   "execution_count": 34,
   "id": "efcc9187",
   "metadata": {},
   "outputs": [
    {
     "data": {
      "text/plain": [
       "array([[10, 30, 50, 10, 30],\n",
       "       [10, 10, 30, 50, 10],\n",
       "       [10, 10, 10, 30, 30]])"
      ]
     },
     "execution_count": 34,
     "metadata": {},
     "output_type": "execute_result"
    }
   ],
   "source": [
    "my_num = random.choice([10,20,30,40,50], p=[0.5,0.2,0.2,0.0,0.1], size=(3,5))\n",
    "my_num"
   ]
  },
  {
   "cell_type": "code",
   "execution_count": 38,
   "id": "5c07044b",
   "metadata": {},
   "outputs": [
    {
     "name": "stdout",
     "output_type": "stream",
     "text": [
      "[90 80 50 40 70 20 30 10 60]\n"
     ]
    }
   ],
   "source": [
    "import numpy as np\n",
    "from numpy import random\n",
    "\n",
    "my_num = np.array([10,20,30,40,50,60,70,80,90])\n",
    "random.shuffle(my_num)\n",
    "print(my_num)"
   ]
  },
  {
   "cell_type": "code",
   "execution_count": 39,
   "id": "bd8be553",
   "metadata": {},
   "outputs": [
    {
     "name": "stdout",
     "output_type": "stream",
     "text": [
      "[30 50 80 90 40 70 10 20 60]\n"
     ]
    }
   ],
   "source": [
    "import numpy as np\n",
    "from numpy import random\n",
    "\n",
    "my_num = np.array([10,20,30,40,50,60,70,80,90])\n",
    "print(random.permutation(my_num))"
   ]
  },
  {
   "cell_type": "code",
   "execution_count": 40,
   "id": "eb51be3a",
   "metadata": {},
   "outputs": [],
   "source": [
    "# matplotlib\n",
    "# seaborn"
   ]
  },
  {
   "cell_type": "code",
   "execution_count": 41,
   "id": "06737b90",
   "metadata": {},
   "outputs": [],
   "source": [
    "import matplotlib.pyplot as plt\n",
    "import seaborn as sns"
   ]
  },
  {
   "cell_type": "code",
   "execution_count": 44,
   "id": "6afce162",
   "metadata": {},
   "outputs": [
    {
     "data": {
      "image/png": "[encoded data removed]",
      "text/plain": [
       "<Figure size 360x360 with 1 Axes>"
      ]
     },
     "metadata": {
      "needs_background": "light"
     },
     "output_type": "display_data"
    }
   ],
   "source": [
    "sns.displot([10,20,30,40,50,60,70,80,90])\n",
    "plt.show()"
   ]
  },
  {
   "cell_type": "markdown",
   "id": "23e7783c",
   "metadata": {},
   "source": [
    "### Distribution:\n",
    "    Different types of Distribution:\n",
    "        1. Normal Distribution\n",
    "        2. Binomial Distribution\n",
    "        3. Poission Distribution\n",
    "        4. Chi Square Distribution"
   ]
  },
  {
   "cell_type": "markdown",
   "id": "3501dd4f",
   "metadata": {},
   "source": [
    "### 1. Normal Distribution"
   ]
  },
  {
   "cell_type": "markdown",
   "id": "c1aaca1a",
   "metadata": {},
   "source": [
    "1. It is one of the important Data distributinon \n",
    "2. It is also called as Gaussian Distribution\n",
    "3. It is fits the probability distribution of number of differnt events:\n",
    "    Example: \n",
    "        1. HeartBeat, \n",
    "        2. IQ score etc.\n",
    "4. It is used random.normal() method to get data distribution:\n",
    "    It has used three parameters:\n",
    "        1. loc - (Mean) where the peak of the ball exists\n",
    "        2. scale - (Standard Distribution) how flat graph distribution\n",
    "        3. size -  The shape of array (returned)"
   ]
  },
  {
   "cell_type": "code",
   "execution_count": 61,
   "id": "7e9162ce",
   "metadata": {},
   "outputs": [
    {
     "name": "stdout",
     "output_type": "stream",
     "text": [
      "[[-1.29183815  1.47672064  3.03300789]\n",
      " [ 5.8659897  -1.09813497 -0.53541676]]\n"
     ]
    }
   ],
   "source": [
    "from numpy import random\n",
    "\n",
    "my_num = random.normal(loc=1, scale =2, size=(2,3))\n",
    "print(my_num)"
   ]
  },
  {
   "cell_type": "code",
   "execution_count": 50,
   "id": "b0f95009",
   "metadata": {},
   "outputs": [],
   "source": [
    "from numpy import random\n",
    "import matplotlib.pyplot as plt\n",
    "import seaborn as sns"
   ]
  },
  {
   "cell_type": "code",
   "execution_count": 56,
   "id": "0ed7195f",
   "metadata": {},
   "outputs": [
    {
     "name": "stderr",
     "output_type": "stream",
     "text": [
      "C:\\Users\\shyam.DESKTOP-3EM50G2\\anaconda3\\lib\\site-packages\\seaborn\\distributions.py:2557: FutureWarning: `distplot` is a deprecated function and will be removed in a future version. Please adapt your code to use either `displot` (a figure-level function with similar flexibility) or `histplot` (an axes-level function for histograms).\n",
      "  warnings.warn(msg, FutureWarning)\n"
     ]
    },
    {
     "data": {
      "image/png": "[encoded data removed]",
      "text/plain": [
       "<Figure size 432x288 with 1 Axes>"
      ]
     },
     "metadata": {
      "needs_background": "light"
     },
     "output_type": "display_data"
    }
   ],
   "source": [
    "sns.distplot(random.normal(size=1000), hist=True)\n",
    "plt.show()"
   ]
  },
  {
   "cell_type": "code",
   "execution_count": 57,
   "id": "2249c599",
   "metadata": {},
   "outputs": [
    {
     "name": "stderr",
     "output_type": "stream",
     "text": [
      "C:\\Users\\shyam.DESKTOP-3EM50G2\\anaconda3\\lib\\site-packages\\seaborn\\distributions.py:2557: FutureWarning: `distplot` is a deprecated function and will be removed in a future version. Please adapt your code to use either `displot` (a figure-level function with similar flexibility) or `kdeplot` (an axes-level function for kernel density plots).\n",
      "  warnings.warn(msg, FutureWarning)\n"
     ]
    },
    {
     "data": {
      "image/png": "[encoded data removed]",
      "text/plain": [
       "<Figure size 432x288 with 1 Axes>"
      ]
     },
     "metadata": {
      "needs_background": "light"
     },
     "output_type": "display_data"
    }
   ],
   "source": [
    "sns.distplot(random.normal(size=1000), hist=False)\n",
    "plt.show()"
   ]
  },
  {
   "cell_type": "markdown",
   "id": "b196ed47",
   "metadata": {},
   "source": [
    "**Normal Distribution Formula: **\n",
    "![](https://www.gstatic.com/education/formulas2/397133473/en/normal_distribution.svg)"
   ]
  },
  {
   "cell_type": "raw",
   "id": "11c4c328",
   "metadata": {},
   "source": [
    "f(x)\t=\tprobability density function\n",
    "\\sigma\t=\tstandard deviation\n",
    "\\mu\t=\tmean"
   ]
  },
  {
   "cell_type": "code",
   "execution_count": null,
   "id": "c1df7324",
   "metadata": {},
   "outputs": [],
   "source": []
  }
 ],
 "metadata": {
  "kernelspec": {
   "display_name": "Python 3",
   "language": "python",
   "name": "python3"
  },
  "language_info": {
   "codemirror_mode": {
    "name": "ipython",
    "version": 3
   },
   "file_extension": ".py",
   "mimetype": "text/x-python",
   "name": "python",
   "nbconvert_exporter": "python",
   "pygments_lexer": "ipython3",
   "version": "3.8.8"
  }
 },
 "nbformat": 4,
 "nbformat_minor": 5
}
