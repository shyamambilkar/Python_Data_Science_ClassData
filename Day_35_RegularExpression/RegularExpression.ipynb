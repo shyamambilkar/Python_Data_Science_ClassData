{
 "cells": [
  {
   "cell_type": "markdown",
   "metadata": {},
   "source": [
    "# RegularExpression"
   ]
  },
  {
   "cell_type": "code",
   "execution_count": 1,
   "metadata": {},
   "outputs": [],
   "source": [
    "import re"
   ]
  },
  {
   "cell_type": "code",
   "execution_count": 2,
   "metadata": {},
   "outputs": [
    {
     "name": "stdout",
     "output_type": "stream",
     "text": [
      "['shyamambilkar2@gmail.com', 'ambilkar2@gmail.com', 'ambilkar2@gmail.com', 'shyamambilkar1234@rediffmail.com', 'shyamambilkar5@gmail.co.in', 'shyamambilkar3@jspm.edu.in', 'shyamambilkar@gmail.com', 'shyamambilakar2@gmail.org']\n",
      "Valid Mail\n"
     ]
    },
    {
     "data": {
      "text/plain": [
       "'All mail are Valid'"
      ]
     },
     "execution_count": 2,
     "metadata": {},
     "output_type": "execute_result"
    }
   ],
   "source": [
    "my_text = \"\"\"\n",
    "1. shyamambilkar2@gmail.com\n",
    "2. shyam.ambilkar2@gmail.com\n",
    "3. shyam_ambilkar2@gmail.com\n",
    "4. shyamambilkar1234@rediffmail.com\n",
    "5. shyamambilkar5@gmail.co.in\n",
    "6. shyamambilkar3@jspm.edu.in\n",
    "7. shyamambilkar@gmail.com\n",
    "8. ._shyamambilakar2@gmail.org\"\"\"\n",
    "\n",
    "def mail_validation(my_text):\n",
    "#     my_email = re.findall('[a-zA-Z0-9._]{2,25}[@]{1}[a-z.]{2,20}',my_text)\n",
    "    my_email = re.findall('[a-zA-Z0-9]{2,25}[._]{0,2}[a-zA-Z0-9][@]{1}[a-z.]{3,20}',my_text)\n",
    "    \n",
    "    print(my_email)\n",
    "    if my_email:\n",
    "        print(\"Valid Mail\")\n",
    "        msg = \"All mail are Valid\"\n",
    "    else:\n",
    "        print(\"Invalid Mail\")\n",
    "        msg = 'All mail are Invalid'\n",
    "        \n",
    "    return msg\n",
    "        \n",
    "mail_validation(my_text)"
   ]
  },
  {
   "cell_type": "code",
   "execution_count": 3,
   "metadata": {},
   "outputs": [
    {
     "name": "stdout",
     "output_type": "stream",
     "text": [
      "[]\n",
      "Invalid Mail\n"
     ]
    },
    {
     "data": {
      "text/plain": [
       "'All mail are Invalid'"
      ]
     },
     "execution_count": 3,
     "metadata": {},
     "output_type": "execute_result"
    }
   ],
   "source": [
    "my_text = \"12#gmail.com\"\n",
    "\n",
    "def mail_validation(my_text):\n",
    "#     my_email = re.findall('[a-zA-Z0-9._]{2,25}[@]{1}[a-z.]{2,20}',my_text)\n",
    "    my_email = re.findall('[a-zA-Z0-9]{2,25}[._]{0,2}[a-zA-Z0-9][@]{1}[a-z.]{3,20}',my_text)\n",
    "    \n",
    "    print(my_email)\n",
    "    if my_email:\n",
    "        print(\"Valid Mail\")\n",
    "        msg = \"All mail are Valid\"\n",
    "    else:\n",
    "        print(\"Invalid Mail\")\n",
    "        msg = 'All mail are Invalid'\n",
    "        \n",
    "    return msg\n",
    "        \n",
    "mail_validation(my_text)"
   ]
  },
  {
   "cell_type": "code",
   "execution_count": 4,
   "metadata": {},
   "outputs": [],
   "source": [
    "my_text = \"\"\"\n",
    "1. 1234 5678 9874\n",
    "2. 123456789012\n",
    "3. 9875 4123 6985\n",
    "4. 123@ 2345 7896\n",
    "5.1234 45786 123\n",
    "6. 0123 4567 8963\n",
    "7. 1230 4563 4700\n",
    "\"\"\""
   ]
  },
  {
   "cell_type": "code",
   "execution_count": 6,
   "metadata": {},
   "outputs": [
    {
     "name": "stdout",
     "output_type": "stream",
     "text": [
      "['1234 5678 9874', '9875 4123 6985']\n"
     ]
    }
   ],
   "source": [
    "my_uid = re.findall(\"[1-9]{4}[ ]{1}[1-9]{4}[ ]{1}[1-9]{4}\", my_text)\n",
    "print(my_uid)"
   ]
  },
  {
   "cell_type": "code",
   "execution_count": 11,
   "metadata": {},
   "outputs": [
    {
     "name": "stdout",
     "output_type": "stream",
     "text": [
      "['1234 5678 9874', '9875 4123 6985', '0123 4567 8963', '1230 4563 4700']\n"
     ]
    }
   ],
   "source": [
    "my_text = \"\"\"\n",
    "1. 1234 5678 9874\n",
    "2. 123456789012\n",
    "3. 9875 4123 6985\n",
    "4. 123@ 2345 7896\n",
    "5.1234 45786 123\n",
    "6. 0123 4567 8963\n",
    "7. 1230 4563 4700\n",
    "\"\"\"\n",
    "\n",
    "my_uid = re.findall('\\d{4}\\s{1}\\d{4}\\s\\d{4}', my_text)\n",
    "print(my_uid)"
   ]
  },
  {
   "cell_type": "code",
   "execution_count": null,
   "metadata": {},
   "outputs": [],
   "source": []
  }
 ],
 "metadata": {
  "kernelspec": {
   "display_name": "Python 3",
   "language": "python",
   "name": "python3"
  },
  "language_info": {
   "codemirror_mode": {
    "name": "ipython",
    "version": 3
   },
   "file_extension": ".py",
   "mimetype": "text/x-python",
   "name": "python",
   "nbconvert_exporter": "python",
   "pygments_lexer": "ipython3",
   "version": "3.8.3"
  }
 },
 "nbformat": 4,
 "nbformat_minor": 4
}
