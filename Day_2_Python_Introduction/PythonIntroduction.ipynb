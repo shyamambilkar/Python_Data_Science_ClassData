{
 "cells": [
  {
   "cell_type": "markdown",
   "metadata": {},
   "source": [
    "# 1. What is Python:\n",
    "    1. Python is general purpose High Level Programming language or Scripting language\n",
    "    3. Python is interpreted programming language\n",
    "    3. Object oriented Programming language\n",
    "    4. Easy to Understand\n",
    "    5. Open Source\n",
    "    6. Portability\n",
    "    7. Huge Libraries"
   ]
  },
  {
   "cell_type": "markdown",
   "metadata": {},
   "source": [
    "# Examples:\n",
    "    1. Google:\n",
    "        Better search result are provided based on ranking of the websites and much more\n",
    "    2. DropBox:\n",
    "        Server and Client application \n",
    "    3. Netflix:\n",
    "        Machine Learning is used to cluster users based on the interest on shows or Series\n",
    "    4. NCS:\n",
    "        Cyber security analysis and Encryption and Decryption\n",
    "    5. Bittorent:\n",
    "        Transfer file \n",
    "    6. NASA:\n",
    "        Scientific Calculation\n",
    "    7. ISRO:\n",
    "        Scientific Calculation"
   ]
  },
  {
   "cell_type": "markdown",
   "metadata": {},
   "source": [
    "# Why Python Programming Used:\n",
    "    1. Web Developement (Server Side)\n",
    "    2. Software Developement\n",
    "    3. mathematics\n",
    "    4. System Scripting\n",
    "    5. Database Connect\n",
    "    6. handle Big Data and Perform complex operations\n",
    "    7. rapid Prototyping, production"
   ]
  },
  {
   "cell_type": "markdown",
   "metadata": {},
   "source": [
    "# Why Used:\n",
    "    1. Differnet Platform [Windows, Linux, Mac, Raspberry etc]\n",
    "    2. simple syntax like english language\n",
    "    3. code develop with fewer line\n",
    "    4. proceduaral, object oriented programming"
   ]
  },
  {
   "cell_type": "code",
   "execution_count": 8,
   "metadata": {},
   "outputs": [
    {
     "name": "stdout",
     "output_type": "stream",
     "text": [
      "Welcome to Python Data Science Batch\n"
     ]
    }
   ],
   "source": [
    "# This is comment\n",
    "print(\"Welcome to Python Data Science Batch\") # This is comment"
   ]
  },
  {
   "cell_type": "code",
   "execution_count": 9,
   "metadata": {},
   "outputs": [
    {
     "name": "stdout",
     "output_type": "stream",
     "text": [
      "Welcome to Python Data Science Batch\n"
     ]
    }
   ],
   "source": [
    "\"\"\" This is comment \n",
    "more than one line\"\"\"\n",
    "print(\"Welcome to Python Data Science Batch\") "
   ]
  },
  {
   "cell_type": "code",
   "execution_count": 10,
   "metadata": {},
   "outputs": [
    {
     "name": "stdout",
     "output_type": "stream",
     "text": [
      "Welcome to Python Data Science Batch\n"
     ]
    }
   ],
   "source": [
    "# This is comment\n",
    "# This is comment\n",
    "print(\"Welcome to Python Data Science Batch\") "
   ]
  },
  {
   "cell_type": "markdown",
   "metadata": {},
   "source": [
    "### 1. Variable:\n",
    "    1. Variable contains something\n",
    "    2. A Variable can have short name or Descriptive Name [age, height, carname, etc.]\n",
    "    Exmple:\n",
    "    x = 'Shyam' [string]\n",
    "    y = 10 [integer]\n",
    "    z = 84.20 [float]\n",
    "    \n",
    "Rules For Python Variable:\n",
    "    1. Always start with later or underscore character\n",
    "    2. Variable contain alpha numeric character and underscore (A-Za-z, 0-9, _)\n",
    "    3. Variable name always case sensitive (age, AGE, Age, etc.)\n",
    "    "
   ]
  },
  {
   "cell_type": "code",
   "execution_count": 11,
   "metadata": {},
   "outputs": [],
   "source": [
    "x = 10\n",
    "y = 20\n",
    "\n",
    "z = x + y"
   ]
  },
  {
   "cell_type": "code",
   "execution_count": 12,
   "metadata": {},
   "outputs": [
    {
     "name": "stdout",
     "output_type": "stream",
     "text": [
      "30\n"
     ]
    }
   ],
   "source": [
    "print(z)"
   ]
  },
  {
   "cell_type": "code",
   "execution_count": 13,
   "metadata": {},
   "outputs": [],
   "source": [
    "x = \"Welcome to Data Science Batch\""
   ]
  },
  {
   "cell_type": "code",
   "execution_count": 14,
   "metadata": {},
   "outputs": [
    {
     "name": "stdout",
     "output_type": "stream",
     "text": [
      "Welcome to Data Science Batch\n"
     ]
    }
   ],
   "source": [
    "print(x)"
   ]
  },
  {
   "cell_type": "code",
   "execution_count": 15,
   "metadata": {},
   "outputs": [
    {
     "name": "stdout",
     "output_type": "stream",
     "text": [
      "55.57\n"
     ]
    }
   ],
   "source": [
    "x = 10.12 \n",
    "y = 45.45\n",
    "\n",
    "z = x + y\n",
    "print(z)"
   ]
  },
  {
   "cell_type": "code",
   "execution_count": 17,
   "metadata": {},
   "outputs": [
    {
     "name": "stdout",
     "output_type": "stream",
     "text": [
      "30\n"
     ]
    }
   ],
   "source": [
    "_x = 10\n",
    "_y = 20\n",
    "\n",
    "_z = _x + _y\n",
    "\n",
    "print(_z)"
   ]
  },
  {
   "cell_type": "code",
   "execution_count": 20,
   "metadata": {},
   "outputs": [
    {
     "name": "stdout",
     "output_type": "stream",
     "text": [
      "50\n"
     ]
    }
   ],
   "source": [
    "x1 = 20\n",
    "y2 = 30\n",
    "\n",
    "z3 = x1 + y2\n",
    "print(z3)"
   ]
  },
  {
   "cell_type": "code",
   "execution_count": 21,
   "metadata": {},
   "outputs": [
    {
     "name": "stdout",
     "output_type": "stream",
     "text": [
      "50\n"
     ]
    }
   ],
   "source": [
    "x1_x = 20\n",
    "y2_y = 30\n",
    "\n",
    "z3_z = x1_x + y2_y\n",
    "print(z3_z)"
   ]
  },
  {
   "cell_type": "code",
   "execution_count": 22,
   "metadata": {},
   "outputs": [
    {
     "name": "stdout",
     "output_type": "stream",
     "text": [
      "Addition of Two No is:  50\n"
     ]
    }
   ],
   "source": [
    "x1_x = 20\n",
    "y2_y = 30\n",
    "\n",
    "z3_z = x1_x + y2_y\n",
    "print(\"Addition of Two No is: \",z3_z)"
   ]
  },
  {
   "cell_type": "code",
   "execution_count": 28,
   "metadata": {},
   "outputs": [
    {
     "name": "stdout",
     "output_type": "stream",
     "text": [
      "<class 'int'>\n"
     ]
    }
   ],
   "source": [
    "x = 20\n",
    "print(type(x))"
   ]
  },
  {
   "cell_type": "code",
   "execution_count": 24,
   "metadata": {},
   "outputs": [
    {
     "name": "stdout",
     "output_type": "stream",
     "text": [
      "<class 'float'>\n"
     ]
    }
   ],
   "source": [
    "x = 45.26\n",
    "print(type(x))"
   ]
  },
  {
   "cell_type": "code",
   "execution_count": 25,
   "metadata": {},
   "outputs": [
    {
     "name": "stdout",
     "output_type": "stream",
     "text": [
      "<class 'str'>\n"
     ]
    }
   ],
   "source": [
    "x = \"Shyam Ambilkar\"\n",
    "print(type(x))"
   ]
  },
  {
   "cell_type": "code",
   "execution_count": 26,
   "metadata": {},
   "outputs": [
    {
     "name": "stdout",
     "output_type": "stream",
     "text": [
      "<class 'bool'>\n"
     ]
    }
   ],
   "source": [
    "x = True\n",
    "print(type(x))"
   ]
  },
  {
   "cell_type": "markdown",
   "metadata": {},
   "source": [
    "### There are two Types of Variable:\n",
    "    1. Local Variable\n",
    "    2. Global Variable"
   ]
  },
  {
   "cell_type": "markdown",
   "metadata": {},
   "source": [
    "#### 1.Global Variable:"
   ]
  },
  {
   "cell_type": "code",
   "execution_count": 29,
   "metadata": {},
   "outputs": [
    {
     "name": "stdout",
     "output_type": "stream",
     "text": [
      "Python is Awesome\n"
     ]
    }
   ],
   "source": [
    "x = \"Awesome\" # Global Variable\n",
    "\n",
    "def myfunct():\n",
    "    print(\"Python is \" + x)\n",
    "myfunct()"
   ]
  },
  {
   "cell_type": "markdown",
   "metadata": {},
   "source": [
    "#### 2. Local Variable:"
   ]
  },
  {
   "cell_type": "code",
   "execution_count": 31,
   "metadata": {},
   "outputs": [
    {
     "name": "stdout",
     "output_type": "stream",
     "text": [
      "Python is Fantastic\n",
      "Python is Awesome\n"
     ]
    }
   ],
   "source": [
    "x = \"Awesome\" # Global Variable\n",
    "\n",
    "def myfunc():\n",
    "    x = \"Fantastic\" #Local Variable\n",
    "    print(\"Python is \" + x)\n",
    "myfunc()\n",
    "print(\"Python is \" + x)"
   ]
  },
  {
   "cell_type": "code",
   "execution_count": 32,
   "metadata": {},
   "outputs": [],
   "source": [
    "# age, AGE, Age\n",
    "\n",
    "age = 45\n",
    "AGE = 80\n",
    "Age = 60"
   ]
  },
  {
   "cell_type": "code",
   "execution_count": 35,
   "metadata": {},
   "outputs": [
    {
     "name": "stdout",
     "output_type": "stream",
     "text": [
      "45\n",
      "60\n",
      "80\n"
     ]
    }
   ],
   "source": [
    "print(age)\n",
    "print(Age)\n",
    "print(AGE)"
   ]
  },
  {
   "cell_type": "code",
   "execution_count": null,
   "metadata": {},
   "outputs": [],
   "source": []
  }
 ],
 "metadata": {
  "kernelspec": {
   "display_name": "Python 3",
   "language": "python",
   "name": "python3"
  },
  "language_info": {
   "codemirror_mode": {
    "name": "ipython",
    "version": 3
   },
   "file_extension": ".py",
   "mimetype": "text/x-python",
   "name": "python",
   "nbconvert_exporter": "python",
   "pygments_lexer": "ipython3",
   "version": "3.8.3"
  }
 },
 "nbformat": 4,
 "nbformat_minor": 4
}
