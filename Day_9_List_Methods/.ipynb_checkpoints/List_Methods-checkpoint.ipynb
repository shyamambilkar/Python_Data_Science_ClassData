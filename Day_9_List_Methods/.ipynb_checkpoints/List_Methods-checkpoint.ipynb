{
 "cells": [
  {
   "cell_type": "markdown",
   "metadata": {},
   "source": [
    "# Join method using join two list"
   ]
  },
  {
   "cell_type": "code",
   "execution_count": 1,
   "metadata": {},
   "outputs": [
    {
     "name": "stdout",
     "output_type": "stream",
     "text": [
      "['apple', 'mango', 'watermelon', 10, 20, 30]\n"
     ]
    }
   ],
   "source": [
    "my_list1 = [\"apple\",\"mango\",'watermelon']\n",
    "my_list2 = [10,20,30]\n",
    "\n",
    "my_list3 = my_list1 + my_list2\n",
    "\n",
    "print(my_list3)"
   ]
  },
  {
   "cell_type": "code",
   "execution_count": 3,
   "metadata": {},
   "outputs": [
    {
     "name": "stdout",
     "output_type": "stream",
     "text": [
      "[10, 20, 30, 10.23, 12.15, 25.23, 'apple', 'mango', 'watermelon']\n"
     ]
    }
   ],
   "source": [
    "my_list1 = [\"apple\",\"mango\",'watermelon']\n",
    "my_list2 = [10,20,30]\n",
    "my_list3 = [10.23,12.15,25.23]\n",
    "\n",
    "my_list4 =  my_list2 + my_list3 + my_list1\n",
    "\n",
    "print(my_list4)"
   ]
  },
  {
   "cell_type": "markdown",
   "metadata": {},
   "source": [
    "### 1. Append()"
   ]
  },
  {
   "cell_type": "code",
   "execution_count": 5,
   "metadata": {},
   "outputs": [
    {
     "name": "stdout",
     "output_type": "stream",
     "text": [
      "['apple', 'mango', 'watermelon', 10, 20, 30]\n"
     ]
    }
   ],
   "source": [
    "my_list1 = [\"apple\",\"mango\",'watermelon']\n",
    "my_list2 = [10,20,30]\n",
    "\n",
    "for x in my_list2:\n",
    "    my_list1.append(x)\n",
    "    \n",
    "print(my_list1)"
   ]
  },
  {
   "cell_type": "code",
   "execution_count": 11,
   "metadata": {},
   "outputs": [
    {
     "name": "stdout",
     "output_type": "stream",
     "text": [
      "['apple', 'mango', 'watermelon', [10, 20, 30]]\n"
     ]
    }
   ],
   "source": [
    "my_list1 = [\"apple\",\"mango\",'watermelon']\n",
    "my_list2 = [10,20,30]\n",
    "\n",
    "my_list1.append(my_list2)\n",
    "print(my_list1)"
   ]
  },
  {
   "cell_type": "markdown",
   "metadata": {},
   "source": [
    "### 2. extend()"
   ]
  },
  {
   "cell_type": "code",
   "execution_count": 6,
   "metadata": {},
   "outputs": [
    {
     "name": "stdout",
     "output_type": "stream",
     "text": [
      "['apple', 'mango', 'watermelon', 10, 20, 30]\n"
     ]
    }
   ],
   "source": [
    "my_list1 = [\"apple\",\"mango\",'watermelon']\n",
    "my_list2 = [10,20,30]\n",
    "\n",
    "my_list1.extend(my_list2)\n",
    "print(my_list1)"
   ]
  },
  {
   "cell_type": "code",
   "execution_count": 10,
   "metadata": {},
   "outputs": [
    {
     "name": "stdout",
     "output_type": "stream",
     "text": [
      "['apple', 'mango', 'watermelon', 'banana', 'cherry', 'banana', 'cherry']\n"
     ]
    }
   ],
   "source": [
    "my_list1 = [\"apple\",\"mango\",'watermelon']\n",
    "my_list2 = [\"banana\",\"cherry\"]\n",
    "\n",
    "\n",
    "for i in my_list2:\n",
    "    my_list1.extend(my_list2)\n",
    "    \n",
    "print(my_list1)"
   ]
  },
  {
   "cell_type": "code",
   "execution_count": 12,
   "metadata": {},
   "outputs": [
    {
     "name": "stdout",
     "output_type": "stream",
     "text": [
      "['apple', 'mango', 'watermelon', 'banana', 'cherry']\n"
     ]
    }
   ],
   "source": [
    "my_list1 = [\"apple\",\"mango\",'watermelon']\n",
    "my_list2 = [\"banana\",\"cherry\"]\n",
    "\n",
    "\n",
    "for i in my_list2:\n",
    "    my_list1.append(i)\n",
    "    \n",
    "print(my_list1)\n"
   ]
  },
  {
   "cell_type": "code",
   "execution_count": 13,
   "metadata": {},
   "outputs": [
    {
     "name": "stdout",
     "output_type": "stream",
     "text": [
      "['apple', 'mango', 'watermelon', 'banana', 'cherry']\n"
     ]
    }
   ],
   "source": [
    "my_list1 = [\"apple\",\"mango\",'watermelon']\n",
    "my_list2 = [\"banana\",\"cherry\"]\n",
    "\n",
    "\n",
    "my_list1.extend(my_list2)\n",
    "print(my_list1)"
   ]
  },
  {
   "cell_type": "code",
   "execution_count": 16,
   "metadata": {},
   "outputs": [
    {
     "name": "stdout",
     "output_type": "stream",
     "text": [
      "[10, 20, 30, 40, 50, 60, 40, 50, 60, 40, 50, 60]\n"
     ]
    }
   ],
   "source": [
    "my_list1 = [10,20,30]\n",
    "my_list2 = [40,50,60]\n",
    "\n",
    "for i in my_list2:\n",
    "    my_list1.extend(my_list2)\n",
    "    \n",
    "print(my_list1)"
   ]
  },
  {
   "cell_type": "code",
   "execution_count": 15,
   "metadata": {},
   "outputs": [
    {
     "name": "stdout",
     "output_type": "stream",
     "text": [
      "[40, 50, 60, 10, 20, 30]\n"
     ]
    }
   ],
   "source": [
    "my_list1 = [10,20,30]\n",
    "my_list2 = [40,50,60]\n",
    "\n",
    "my_list2.extend(my_list1)\n",
    "print(my_list2)"
   ]
  },
  {
   "cell_type": "code",
   "execution_count": null,
   "metadata": {},
   "outputs": [],
   "source": [
    "my_list1 = [10, 20, 30, 40, 50, 60, 40, 50, 60, 40, 50, 60]\n",
    "\n",
    "my_list1.clear()\n",
    "print(my_list1)"
   ]
  },
  {
   "cell_type": "code",
   "execution_count": 18,
   "metadata": {},
   "outputs": [
    {
     "ename": "NameError",
     "evalue": "name 'my_list1' is not defined",
     "output_type": "error",
     "traceback": [
      "\u001b[1;31m---------------------------------------------------------------------------\u001b[0m",
      "\u001b[1;31mNameError\u001b[0m                                 Traceback (most recent call last)",
      "\u001b[1;32m<ipython-input-18-eed8315896cb>\u001b[0m in \u001b[0;36m<module>\u001b[1;34m\u001b[0m\n\u001b[0;32m      2\u001b[0m \u001b[1;33m\u001b[0m\u001b[0m\n\u001b[0;32m      3\u001b[0m \u001b[1;32mdel\u001b[0m \u001b[0mmy_list1\u001b[0m\u001b[1;33m\u001b[0m\u001b[1;33m\u001b[0m\u001b[0m\n\u001b[1;32m----> 4\u001b[1;33m \u001b[0mprint\u001b[0m\u001b[1;33m(\u001b[0m\u001b[0mmy_list1\u001b[0m\u001b[1;33m)\u001b[0m\u001b[1;33m\u001b[0m\u001b[1;33m\u001b[0m\u001b[0m\n\u001b[0m",
      "\u001b[1;31mNameError\u001b[0m: name 'my_list1' is not defined"
     ]
    }
   ],
   "source": [
    "my_list1 = [10, 20, 30, 40, 50, 60, 40, 50, 60, 40, 50, 60]\n",
    "\n",
    "del my_list1\n",
    "print(my_list1)"
   ]
  },
  {
   "cell_type": "markdown",
   "metadata": {},
   "source": [
    "# Reverse"
   ]
  },
  {
   "cell_type": "code",
   "execution_count": 19,
   "metadata": {},
   "outputs": [],
   "source": [
    "my_list1 = [\"apple\",\"mango\",'watermelon',\"banana\",\"cherry\"]\n",
    "\n",
    "my_list1.reverse()"
   ]
  },
  {
   "cell_type": "code",
   "execution_count": 20,
   "metadata": {},
   "outputs": [
    {
     "data": {
      "text/plain": [
       "['cherry', 'banana', 'watermelon', 'mango', 'apple']"
      ]
     },
     "execution_count": 20,
     "metadata": {},
     "output_type": "execute_result"
    }
   ],
   "source": [
    "my_list1"
   ]
  },
  {
   "cell_type": "code",
   "execution_count": 22,
   "metadata": {},
   "outputs": [
    {
     "name": "stdout",
     "output_type": "stream",
     "text": [
      "['apple', 'watermelon', 'banana', 'cherry']\n"
     ]
    }
   ],
   "source": [
    "my_list1 = [\"apple\",\"mango\",'watermelon',\"banana\",\"cherry\"]\n",
    "\n",
    "my_list1.pop(1)\n",
    "print(my_list1)"
   ]
  },
  {
   "cell_type": "markdown",
   "metadata": {},
   "source": [
    "# Sort"
   ]
  },
  {
   "cell_type": "code",
   "execution_count": 23,
   "metadata": {},
   "outputs": [],
   "source": [
    "my_list1 = [\"apple\",\"mango\",'watermelon',\"banana\",\"cherry\"]\n",
    "\n",
    "my_list1.sort(reverse=True)"
   ]
  },
  {
   "cell_type": "code",
   "execution_count": 24,
   "metadata": {},
   "outputs": [
    {
     "data": {
      "text/plain": [
       "['watermelon', 'mango', 'cherry', 'banana', 'apple']"
      ]
     },
     "execution_count": 24,
     "metadata": {},
     "output_type": "execute_result"
    }
   ],
   "source": [
    "my_list1"
   ]
  },
  {
   "cell_type": "raw",
   "metadata": {},
   "source": [
    "1\n",
    "1 2\n",
    "1 2 3\n",
    "1 2 3 4\n",
    "1 2 3 4 5"
   ]
  },
  {
   "cell_type": "code",
   "execution_count": 56,
   "metadata": {},
   "outputs": [
    {
     "name": "stdout",
     "output_type": "stream",
     "text": [
      "1 \n",
      "1 2 \n",
      "1 2 3 \n",
      "1 2 3 4 \n",
      "1 2 3 4 5 \n"
     ]
    }
   ],
   "source": [
    "for x in range(1,6):\n",
    "    for y in range(1,x + 1 ):\n",
    "        print(y, end =\" \")\n",
    "    print()"
   ]
  },
  {
   "cell_type": "markdown",
   "metadata": {},
   "source": [
    "# User Input"
   ]
  },
  {
   "cell_type": "code",
   "execution_count": 27,
   "metadata": {},
   "outputs": [
    {
     "name": "stdout",
     "output_type": "stream",
     "text": [
      "Enter your Name: Shyam Ambilkar\n"
     ]
    }
   ],
   "source": [
    "my_name = str(input(\"Enter your Name: \"))"
   ]
  },
  {
   "cell_type": "code",
   "execution_count": 28,
   "metadata": {},
   "outputs": [
    {
     "name": "stdout",
     "output_type": "stream",
     "text": [
      " My name is Shyam Ambilkar\n"
     ]
    }
   ],
   "source": [
    "print(\" My name is {}\".format(my_name))"
   ]
  },
  {
   "cell_type": "code",
   "execution_count": 29,
   "metadata": {},
   "outputs": [
    {
     "name": "stdout",
     "output_type": "stream",
     "text": [
      "My name is  Shyam Ambilkar\n"
     ]
    }
   ],
   "source": [
    "print(\"My name is \", my_name)"
   ]
  },
  {
   "cell_type": "code",
   "execution_count": 31,
   "metadata": {},
   "outputs": [
    {
     "name": "stdout",
     "output_type": "stream",
     "text": [
      "Enter your Name: shyam\n"
     ]
    }
   ],
   "source": [
    "my_name = (input(\"Enter your Name: \"))"
   ]
  },
  {
   "cell_type": "markdown",
   "metadata": {},
   "source": [
    "# Even Odd"
   ]
  },
  {
   "cell_type": "code",
   "execution_count": 40,
   "metadata": {},
   "outputs": [
    {
     "name": "stdout",
     "output_type": "stream",
     "text": [
      "Enter number:10\n",
      "Even Number\n"
     ]
    }
   ],
   "source": [
    "x = float(input(\"Enter number:\"))\n",
    "\n",
    "if x % 2 == 0:\n",
    "    print(\"Even Number\")\n",
    "else:\n",
    "    print(\"Odd Number\")"
   ]
  },
  {
   "cell_type": "code",
   "execution_count": 46,
   "metadata": {},
   "outputs": [
    {
     "name": "stdout",
     "output_type": "stream",
     "text": [
      "Enter number:2005\n",
      "2005 is Not Leap Year\n"
     ]
    }
   ],
   "source": [
    "year = int(input(\"Enter number:\"))\n",
    "\n",
    "if year % 4 == 0:\n",
    "    print(\"{} is Leap Year\".format(year))\n",
    "else:\n",
    "    print(\"{} is Not Leap Year\".format(year))"
   ]
  },
  {
   "cell_type": "code",
   "execution_count": null,
   "metadata": {},
   "outputs": [],
   "source": []
  }
 ],
 "metadata": {
  "kernelspec": {
   "display_name": "Python 3",
   "language": "python",
   "name": "python3"
  },
  "language_info": {
   "codemirror_mode": {
    "name": "ipython",
    "version": 3
   },
   "file_extension": ".py",
   "mimetype": "text/x-python",
   "name": "python",
   "nbconvert_exporter": "python",
   "pygments_lexer": "ipython3",
   "version": "3.8.3"
  }
 },
 "nbformat": 4,
 "nbformat_minor": 4
}
