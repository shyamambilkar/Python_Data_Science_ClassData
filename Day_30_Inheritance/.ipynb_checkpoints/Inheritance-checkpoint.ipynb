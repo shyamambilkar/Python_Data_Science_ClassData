{
 "cells": [
  {
   "cell_type": "markdown",
   "metadata": {},
   "source": [
    "## Area of Circle and Area Perimeter:\n",
    "    1. Area of Circle - 3.14 * r **2\n",
    "    2. Area of Perimeter - 2 * 3.14 * r"
   ]
  },
  {
   "cell_type": "code",
   "execution_count": 12,
   "metadata": {},
   "outputs": [
    {
     "name": "stdout",
     "output_type": "stream",
     "text": [
      "Enter Radius: 5\n",
      "Area of Circle is:  78.5 mm2\n",
      "Area of Perimeter is:  31.4 mm\n"
     ]
    }
   ],
   "source": [
    "class Circle():\n",
    "    def __init__(self, radius):\n",
    "        self.radius = radius\n",
    "        \n",
    "    def area_of_circle(self):\n",
    "        area = 3.14 * self.radius ** 2\n",
    "        return area\n",
    "    \n",
    "    def perimeter_of_circle(self):\n",
    "        perimeter = 2 * (3.14) * self.radius\n",
    "        return perimeter\n",
    "    \n",
    "n = float(input(\"Enter Radius: \"))\n",
    "c = Circle(n)\n",
    "print(\"Area of Circle is: \", round(c.area_of_circle(),2),\"mm2\")\n",
    "print(\"Area of Perimeter is: \", round(c.perimeter_of_circle(),2),\"mm\")"
   ]
  },
  {
   "cell_type": "code",
   "execution_count": 5,
   "metadata": {},
   "outputs": [],
   "source": [
    "#Employee Name\n",
    "#Salary\n",
    "#ID Num\n",
    "#Post\n",
    "#Number of years\n",
    "# If Number of experience is greater than > 5 then increment by 25%\n",
    "#Other 15%"
   ]
  },
  {
   "cell_type": "code",
   "execution_count": 16,
   "metadata": {},
   "outputs": [
    {
     "name": "stdout",
     "output_type": "stream",
     "text": [
      "Enter your Name: R\n",
      "Enter ID Number: 1\n",
      "Enter Your Salary: 45000\n",
      "Enter your Designation: DS\n",
      "Enter Number of year experience: 6\n",
      "Name:  R\n",
      "ID:  1\n",
      "Salary:  45000.0\n",
      "Designation:  DS\n",
      "Number of Years working:  6\n",
      "New Salary with 25% Increment:  56250.0\n"
     ]
    }
   ],
   "source": [
    "class Employee:\n",
    "    def __init__(self,name, id_num):\n",
    "        self.name = name\n",
    "        self.id = id_num\n",
    "        \n",
    "class details(Employee):\n",
    "    def __init__(self, name, id_num, salary, post, num_yrs):\n",
    "        self.salary = salary\n",
    "        self.post =post\n",
    "        self.num_yrs = num_yrs\n",
    "        Employee.__init__(self, name, id_num)\n",
    "            \n",
    "            \n",
    "    def printing(self):\n",
    "        print(\"Name: \", self.name)\n",
    "        print(\"ID: \",self.id)\n",
    "        print(\"Salary: \", self.salary)\n",
    "        print(\"Designation: \", self.post)\n",
    "        print(\"Number of Years working: \", self.num_yrs)\n",
    "            \n",
    "        if self.num_yrs > 5:\n",
    "            new_salary = self.salary + (self.salary * 0.25)\n",
    "            print(\"New Salary with 25% Increment: \", new_salary)\n",
    "        else:\n",
    "            new_salary = self.salary + (self.salary * 0.15)\n",
    "            print(\"New Salary with 15% Increment: \", new_salary)\n",
    "\n",
    "#Driver Code\n",
    "n = str(input(\"Enter your Name: \"))\n",
    "id1 = int(input(\"Enter ID Number: \"))\n",
    "s = float(input(\"Enter Your Salary: \"))\n",
    "d = str(input(\"Enter your Designation: \"))\n",
    "exp = int(input(\"Enter Number of year experience: \"))\n",
    "\n",
    "det= details(n,id1,s,d,exp)\n",
    "det.printing()"
   ]
  },
  {
   "cell_type": "code",
   "execution_count": 17,
   "metadata": {},
   "outputs": [
    {
     "data": {
      "text/plain": [
       "56250.0"
      ]
     },
     "execution_count": 17,
     "metadata": {},
     "output_type": "execute_result"
    }
   ],
   "source": [
    "45000 + (45000 * 0.25)"
   ]
  },
  {
   "cell_type": "code",
   "execution_count": null,
   "metadata": {},
   "outputs": [],
   "source": [
    "#plot price\n",
    "# length\n",
    "# width\n",
    "# unit_price\n",
    "# perimeter\n",
    "# area\n",
    "# Total cost"
   ]
  }
 ],
 "metadata": {
  "kernelspec": {
   "display_name": "Python 3",
   "language": "python",
   "name": "python3"
  },
  "language_info": {
   "codemirror_mode": {
    "name": "ipython",
    "version": 3
   },
   "file_extension": ".py",
   "mimetype": "text/x-python",
   "name": "python",
   "nbconvert_exporter": "python",
   "pygments_lexer": "ipython3",
   "version": "3.8.3"
  }
 },
 "nbformat": 4,
 "nbformat_minor": 4
}
